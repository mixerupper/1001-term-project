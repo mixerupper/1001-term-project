{
 "cells": [
  {
   "cell_type": "code",
   "execution_count": 1,
   "metadata": {},
   "outputs": [],
   "source": [
    "import pandas as pd"
   ]
  },
  {
   "cell_type": "code",
   "execution_count": 3,
   "metadata": {},
   "outputs": [],
   "source": [
    "def clean_sec_data(num_data_name, sub_data_name):\n",
    "    num_data = pd.read_csv(num_data_name, '\\t')\n",
    "    sub_data = pd.read_csv(sub_data_name, '\\t')\n",
    "    df_merge_column  = pd.merge(num_data[['adsh', 'tag', 'ddate', 'uom', 'value']], sub_data[['adsh','name', 'fp', 'filed']], on = 'adsh')\n",
    "    return df_merge_column\n",
    "    "
   ]
  },
  {
   "cell_type": "code",
   "execution_count": 6,
   "metadata": {},
   "outputs": [],
   "source": [
    "merged_data = clean_sec_data('/Users/Alec/Documents/DSGA_1001_Homework/DSGA_1001_Final_Project/1001-term-project/data/01-raw/2019q3/num.txt',\n",
    "              '/Users/Alec/Documents/DSGA_1001_Homework/DSGA_1001_Final_Project/1001-term-project/data/01-raw/2019q3/sub.txt')"
   ]
  },
  {
   "cell_type": "code",
   "execution_count": 8,
   "metadata": {},
   "outputs": [],
   "source": [
    "merged_data.to_csv('/Users/Alec/Documents/DSGA_1001_Homework/DSGA_1001_Final_Project/1001-term-project/data/02-build/2019q3merged.csv')"
   ]
  },
  {
   "cell_type": "code",
   "execution_count": null,
   "metadata": {},
   "outputs": [],
   "source": []
  }
 ],
 "metadata": {
  "kernelspec": {
   "display_name": "Python 3",
   "language": "python",
   "name": "python3"
  },
  "language_info": {
   "codemirror_mode": {
    "name": "ipython",
    "version": 3
   },
   "file_extension": ".py",
   "mimetype": "text/x-python",
   "name": "python",
   "nbconvert_exporter": "python",
   "pygments_lexer": "ipython3",
   "version": "3.7.3"
  }
 },
 "nbformat": 4,
 "nbformat_minor": 4
}
