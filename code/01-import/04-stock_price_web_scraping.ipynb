{
 "cells": [
  {
   "cell_type": "markdown",
   "metadata": {},
   "source": [
    "This is a preliminary draft. There might be some changes later.\n",
    "\n",
    "Input information needed:\n",
    "1.ticker\n",
    "2.date(any format would be fine)\n",
    "\n"
   ]
  },
  {
   "cell_type": "markdown",
   "metadata": {},
   "source": [
    "**0. Read file**"
   ]
  },
  {
   "cell_type": "code",
   "execution_count": 5,
   "metadata": {},
   "outputs": [],
   "source": [
    "import pandas as pd\n",
    "import pandas_datareader as web\n",
    "import datetime"
   ]
  },
  {
   "cell_type": "code",
   "execution_count": 12,
   "metadata": {},
   "outputs": [],
   "source": [
    "data=pd.read_csv('test.csv') # Please change file name and its path"
   ]
  },
  {
   "cell_type": "code",
   "execution_count": 13,
   "metadata": {},
   "outputs": [
    {
     "name": "stdout",
     "output_type": "stream",
     "text": [
      "   Unnamed: 0 ticker     ddate\n",
      "0           0    tif  20190801\n",
      "1           1   mdco  20190701\n",
      "2           2    tup  20190715\n",
      "3           3    nio  20190720\n"
     ]
    }
   ],
   "source": [
    "print(data) #test file. (Time format may be different. Don't worry, any time format can be converted into standard time format)"
   ]
  },
  {
   "cell_type": "markdown",
   "metadata": {},
   "source": [
    "**1. Get Stock Price**"
   ]
  },
  {
   "cell_type": "code",
   "execution_count": 57,
   "metadata": {},
   "outputs": [],
   "source": [
    "def getday(y,m,d,n):\n",
    "    the_date = datetime.datetime(y,m,d)\n",
    "    result_date = the_date + datetime.timedelta(days=n)\n",
    "    d = result_date.strftime('%Y-%m-%d')\n",
    "    \n",
    "    return result_date\n",
    "\n"
   ]
  },
  {
   "cell_type": "code",
   "execution_count": 58,
   "metadata": {},
   "outputs": [],
   "source": [
    "def getStockPrice(ticker, dateStart, dateEnd):\n",
    "    df = web.DataReader(ticker, 'yahoo', dateStart, dateEnd)\n",
    "    df.to_csv(ticker+'.csv')"
   ]
  },
  {
   "cell_type": "code",
   "execution_count": 69,
   "metadata": {},
   "outputs": [],
   "source": [
    "for i in range(len(data)):\n",
    "    \n",
    "    #find start/end date\n",
    "    time=str(data['ddate'][i])\n",
    "    year=int(time[:4])\n",
    "    if time[4]=='0':\n",
    "        month=int(time[5])\n",
    "    else:\n",
    "        month=int(time[4:6])\n",
    "    if time[6]=='0':\n",
    "        date=int(time[7])\n",
    "    else:\n",
    "        date=int(time[6:])\n",
    "        \n",
    "    start=getday(year,month,date,-7)\n",
    "    end=getday(year,month,date,6)\n",
    "    \n",
    "    #get stock price\n",
    "    getStockPrice(data['ticker'][i], start, end)\n",
    "    #print(start,end,data['ticker'][i],data['ddate'][i])\n",
    "    \n",
    "    \n",
    "    "
   ]
  },
  {
   "cell_type": "markdown",
   "metadata": {},
   "source": [
    "**2. Calculate avg stock price**\n",
    "\n",
    "2.1 Copy and paste the original one quarter stock price files to another folder for calculation."
   ]
  },
  {
   "cell_type": "code",
   "execution_count": 71,
   "metadata": {},
   "outputs": [
    {
     "name": "stdout",
     "output_type": "stream",
     "text": [
      "C:\\Users\\c\\Documents\\dsga1001\\1001-term-project\\web_scrapping\n"
     ]
    }
   ],
   "source": [
    "import os\n",
    "cwd = os.getcwd()\n",
    "#print(cwd)\n",
    "read_path='csv-raw'"
   ]
  },
  {
   "cell_type": "code",
   "execution_count": 72,
   "metadata": {},
   "outputs": [],
   "source": [
    "os.chdir(read_path) #Change path to read_path (Please change file name and its path)\n",
    "csv_name_list = os.listdir() #Get file name "
   ]
  },
  {
   "cell_type": "markdown",
   "metadata": {},
   "source": [
    "2.2 Calculate avg Aadj Close. (other attributes can also be added to the calculation result file)"
   ]
  },
  {
   "cell_type": "code",
   "execution_count": 82,
   "metadata": {},
   "outputs": [],
   "source": [
    "for i in range(len(csv_name_list)):\n",
    "    df = pd.read_csv( csv_name_list[i] )\n",
    "    data={'ticker':csv_name_list[i][:-4],'7_before':df['Adj Close'][:5].mean(),'7_after':df['Adj Close'][5:10].mean()}\n",
    "    df_new=pd.DataFrame(data,index=[0])\n",
    "    df_new.to_csv(csv_name_list[i])"
   ]
  },
  {
   "cell_type": "markdown",
   "metadata": {},
   "source": [
    "**3. Merge file**\n",
    "\n",
    "3.1 Please create another folder to store merged file"
   ]
  },
  {
   "cell_type": "code",
   "execution_count": 83,
   "metadata": {},
   "outputs": [],
   "source": [
    "save_path='csv-out'\n",
    "save_name='merged.csv'"
   ]
  },
  {
   "cell_type": "code",
   "execution_count": 84,
   "metadata": {},
   "outputs": [],
   "source": [
    "for i in range(len(csv_name_list)):\n",
    "    df = pd.read_csv( csv_name_list[i] )\n",
    "    if i ==0:\n",
    "        df.to_csv( cwd + '\\\\' + save_path + '\\\\'+ save_name , encoding=\"utf_8\",index=False, mode='a+') #Please change your path here\n",
    "    else:                                                                                             #windows and macos may have a slight differences here\n",
    "        df.to_csv( cwd + '\\\\' + save_path + '\\\\'+ save_name , encoding=\"utf_8\",index=False, header=False, mode='a+')"
   ]
  },
  {
   "cell_type": "code",
   "execution_count": null,
   "metadata": {},
   "outputs": [],
   "source": []
  }
 ],
 "metadata": {
  "kernelspec": {
   "display_name": "Python 3",
   "language": "python",
   "name": "python3"
  },
  "language_info": {
   "codemirror_mode": {
    "name": "ipython",
    "version": 3
   },
   "file_extension": ".py",
   "mimetype": "text/x-python",
   "name": "python",
   "nbconvert_exporter": "python",
   "pygments_lexer": "ipython3",
   "version": "3.7.0"
  }
 },
 "nbformat": 4,
 "nbformat_minor": 2
}
