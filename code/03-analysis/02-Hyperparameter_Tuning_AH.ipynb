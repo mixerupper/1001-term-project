{
 "cells": [
  {
   "cell_type": "code",
   "execution_count": 37,
   "metadata": {},
   "outputs": [],
   "source": [
    "import pandas as pd\n",
    "import numpy as np\n",
    "import os\n",
    "import sys\n",
    "nb_dir = os.path.split(os.getcwd())[0]\n",
    "if nb_dir not in sys.path:\n",
    "    sys.path.append(nb_dir)\n",
    "from header import *"
   ]
  },
  {
   "cell_type": "code",
   "execution_count": 38,
   "metadata": {},
   "outputs": [],
   "source": [
    "data_root = initialize_data_root(\"AH\")"
   ]
  },
  {
   "cell_type": "code",
   "execution_count": 39,
   "metadata": {},
   "outputs": [],
   "source": [
    "from sklearn.linear_model import LinearRegression\n",
    "from sklearn.linear_model import LogisticRegression\n",
    "from sklearn.svm import SVC\n",
    "from sklearn import preprocessing\n",
    "from sklearn.model_selection import GridSearchCV\n",
    "from sklearn.ensemble import RandomForestClassifier\n",
    "from sklearn.tree import DecisionTreeClassifier\n",
    "\n",
    "from sklearn.model_selection import train_test_split\n",
    "from sklearn.model_selection import KFold\n",
    "\n",
    "from sklearn.metrics import roc_curve, auc\n",
    "\n",
    "import matplotlib.pyplot as plt"
   ]
  },
  {
   "cell_type": "markdown",
   "metadata": {},
   "source": [
    "## Import"
   ]
  },
  {
   "cell_type": "code",
   "execution_count": 40,
   "metadata": {},
   "outputs": [],
   "source": [
    "q3mergeddata = pd.read_csv(data_root + '02-build/clean/2019q3/2019q3merged.csv')"
   ]
  },
  {
   "cell_type": "markdown",
   "metadata": {},
   "source": [
    "## Hyperparameter Tuning of Random Forest"
   ]
  },
  {
   "cell_type": "code",
   "execution_count": 41,
   "metadata": {},
   "outputs": [
    {
     "name": "stderr",
     "output_type": "stream",
     "text": [
      "/Applications/anaconda3/lib/python3.7/site-packages/sklearn/preprocessing/data.py:172: UserWarning: Numerical issues were encountered when centering the data and might not be solved. Dataset may contain too large values. You may need to prescale your features.\n",
      "  warnings.warn(\"Numerical issues were encountered \"\n"
     ]
    }
   ],
   "source": [
    "q3mergeddata['Clean_Number_of_Shares'] = q3mergeddata[['WeightedAverageNumberOfDilutedSharesOutstanding',\n",
    "       'WeightedAverageNumberOfSharesOutstandingBasic']].max(axis = 1)\n",
    "\n",
    "q3mergeddata['Clean_Number_of_Shares'] = q3mergeddata[['Clean_Number_of_Shares',\n",
    "                                                       'CommonStockSharesOutstanding']].max(axis = 1)\n",
    "\n",
    "q3mergeddata['Company_Value'] = q3mergeddata['Clean_Number_of_Shares'] * q3mergeddata['7_after']\n",
    "q3mergeddata = q3mergeddata.drop(q3mergeddata[q3mergeddata.Company_Value == 0].index)\n",
    "q3mergeddata = q3mergeddata.drop(['CommonStockSharesOutstanding','WeightedAverageNumberOfDilutedSharesOutstanding','WeightedAverageNumberOfSharesOutstandingBasic' ], axis = 1)\n",
    "q3mergeddata['Company_Size_1'] = np.where(q3mergeddata['Company_Value'] <= 2000000000, 1, 0)\n",
    "q3mergeddata['Company_Size_2'] = np.where(q3mergeddata['Company_Value'] >= 10000000000, 2, 1)\n",
    "q3mergeddata['Company_Size'] = q3mergeddata['Company_Size_2'] - q3mergeddata['Company_Size_1']\n",
    "\n",
    "q3mergeddata = q3mergeddata.drop(['Company_Size_1','Company_Size_2'], axis = 1)\n",
    "\n",
    "q3mergeddata_processed  = pd.DataFrame(preprocessing.scale(q3mergeddata[q3mergeddata.columns[10:len(q3mergeddata.columns) - 7]]), columns =q3mergeddata.columns[10:len(q3mergeddata.columns) - 7] )\n",
    "\n",
    "\n"
   ]
  },
  {
   "cell_type": "code",
   "execution_count": 51,
   "metadata": {},
   "outputs": [
    {
     "data": {
      "text/html": [
       "<div>\n",
       "<style scoped>\n",
       "    .dataframe tbody tr th:only-of-type {\n",
       "        vertical-align: middle;\n",
       "    }\n",
       "\n",
       "    .dataframe tbody tr th {\n",
       "        vertical-align: top;\n",
       "    }\n",
       "\n",
       "    .dataframe thead th {\n",
       "        text-align: right;\n",
       "    }\n",
       "</style>\n",
       "<table border=\"1\" class=\"dataframe\">\n",
       "  <thead>\n",
       "    <tr style=\"text-align: right;\">\n",
       "      <th></th>\n",
       "      <th>AccountsPayableCurrent</th>\n",
       "      <th>AccountsReceivableNetCurrent</th>\n",
       "      <th>AccruedLiabilitiesCurrent</th>\n",
       "      <th>AccumulatedDepreciationDepletionAndAmortizationPropertyPlantAndEquipment</th>\n",
       "      <th>AccumulatedOtherComprehensiveIncomeLoss</th>\n",
       "      <th>AdditionalPaidInCapital</th>\n",
       "      <th>AdjustmentsToAdditionalPaidInCapitalSharebasedCompensationRequisiteServicePeriodRecognitionValue</th>\n",
       "      <th>AllowanceForDoubtfulAccountsReceivableCurrent</th>\n",
       "      <th>AntidilutiveSecuritiesExcludedFromComputationOfEarningsPerShareAmount</th>\n",
       "      <th>Assets</th>\n",
       "      <th>...</th>\n",
       "      <th>Revenue</th>\n",
       "      <th>ShareBasedCompensation</th>\n",
       "      <th>Short Term Investments</th>\n",
       "      <th>StockIssuedDuringPeriodValue</th>\n",
       "      <th>StockholdersEquity</th>\n",
       "      <th>SubleaseIncome</th>\n",
       "      <th>TotalLiabilities</th>\n",
       "      <th>TreasuryStockShares</th>\n",
       "      <th>TreasuryStockValue</th>\n",
       "      <th>Company_Size</th>\n",
       "    </tr>\n",
       "  </thead>\n",
       "  <tbody>\n",
       "    <tr>\n",
       "      <th>0</th>\n",
       "      <td>1.169830e+08</td>\n",
       "      <td>7.449900e+07</td>\n",
       "      <td>0.0</td>\n",
       "      <td>9.764000e+07</td>\n",
       "      <td>0.000000e+00</td>\n",
       "      <td>1.249700e+07</td>\n",
       "      <td>0.0</td>\n",
       "      <td>117000.0</td>\n",
       "      <td>0.0</td>\n",
       "      <td>3.017640e+08</td>\n",
       "      <td>...</td>\n",
       "      <td>4.844330e+08</td>\n",
       "      <td>74000.0</td>\n",
       "      <td>0.0</td>\n",
       "      <td>0.0</td>\n",
       "      <td>1.501080e+08</td>\n",
       "      <td>0.0</td>\n",
       "      <td>1.516560e+08</td>\n",
       "      <td>0.0</td>\n",
       "      <td>0.000000e+00</td>\n",
       "      <td>0</td>\n",
       "    </tr>\n",
       "    <tr>\n",
       "      <th>1</th>\n",
       "      <td>8.280000e+08</td>\n",
       "      <td>1.333000e+09</td>\n",
       "      <td>727000000.0</td>\n",
       "      <td>7.450000e+08</td>\n",
       "      <td>0.000000e+00</td>\n",
       "      <td>9.325000e+09</td>\n",
       "      <td>0.0</td>\n",
       "      <td>0.0</td>\n",
       "      <td>0.0</td>\n",
       "      <td>5.102000e+09</td>\n",
       "      <td>...</td>\n",
       "      <td>1.531000e+09</td>\n",
       "      <td>45000000.0</td>\n",
       "      <td>0.0</td>\n",
       "      <td>0.0</td>\n",
       "      <td>1.901000e+09</td>\n",
       "      <td>0.0</td>\n",
       "      <td>0.000000e+00</td>\n",
       "      <td>5000000.0</td>\n",
       "      <td>5.000000e+07</td>\n",
       "      <td>2</td>\n",
       "    </tr>\n",
       "    <tr>\n",
       "      <th>2</th>\n",
       "      <td>1.543200e+09</td>\n",
       "      <td>1.340700e+09</td>\n",
       "      <td>0.0</td>\n",
       "      <td>1.199800e+10</td>\n",
       "      <td>-1.781400e+09</td>\n",
       "      <td>1.059900e+09</td>\n",
       "      <td>17300000.0</td>\n",
       "      <td>0.0</td>\n",
       "      <td>0.0</td>\n",
       "      <td>1.953190e+10</td>\n",
       "      <td>...</td>\n",
       "      <td>2.224000e+09</td>\n",
       "      <td>9800000.0</td>\n",
       "      <td>0.0</td>\n",
       "      <td>0.0</td>\n",
       "      <td>1.172660e+10</td>\n",
       "      <td>0.0</td>\n",
       "      <td>7.805300e+09</td>\n",
       "      <td>29100445.0</td>\n",
       "      <td>2.033700e+09</td>\n",
       "      <td>2</td>\n",
       "    </tr>\n",
       "    <tr>\n",
       "      <th>3</th>\n",
       "      <td>0.000000e+00</td>\n",
       "      <td>0.000000e+00</td>\n",
       "      <td>0.0</td>\n",
       "      <td>0.000000e+00</td>\n",
       "      <td>-9.500000e+04</td>\n",
       "      <td>3.236500e+07</td>\n",
       "      <td>0.0</td>\n",
       "      <td>0.0</td>\n",
       "      <td>0.0</td>\n",
       "      <td>1.276471e+09</td>\n",
       "      <td>...</td>\n",
       "      <td>5.593200e+07</td>\n",
       "      <td>0.0</td>\n",
       "      <td>0.0</td>\n",
       "      <td>0.0</td>\n",
       "      <td>2.686100e+08</td>\n",
       "      <td>0.0</td>\n",
       "      <td>1.007861e+09</td>\n",
       "      <td>66160.0</td>\n",
       "      <td>3.680000e+05</td>\n",
       "      <td>1</td>\n",
       "    </tr>\n",
       "    <tr>\n",
       "      <th>4</th>\n",
       "      <td>4.318000e+06</td>\n",
       "      <td>6.285000e+06</td>\n",
       "      <td>6097000.0</td>\n",
       "      <td>0.000000e+00</td>\n",
       "      <td>0.000000e+00</td>\n",
       "      <td>1.975600e+07</td>\n",
       "      <td>0.0</td>\n",
       "      <td>0.0</td>\n",
       "      <td>0.0</td>\n",
       "      <td>3.995190e+08</td>\n",
       "      <td>...</td>\n",
       "      <td>5.756500e+07</td>\n",
       "      <td>0.0</td>\n",
       "      <td>0.0</td>\n",
       "      <td>0.0</td>\n",
       "      <td>1.832830e+08</td>\n",
       "      <td>0.0</td>\n",
       "      <td>2.162360e+08</td>\n",
       "      <td>946114.0</td>\n",
       "      <td>3.220500e+07</td>\n",
       "      <td>0</td>\n",
       "    </tr>\n",
       "  </tbody>\n",
       "</table>\n",
       "<p>5 rows × 86 columns</p>\n",
       "</div>"
      ],
      "text/plain": [
       "   AccountsPayableCurrent  AccountsReceivableNetCurrent  \\\n",
       "0            1.169830e+08                  7.449900e+07   \n",
       "1            8.280000e+08                  1.333000e+09   \n",
       "2            1.543200e+09                  1.340700e+09   \n",
       "3            0.000000e+00                  0.000000e+00   \n",
       "4            4.318000e+06                  6.285000e+06   \n",
       "\n",
       "   AccruedLiabilitiesCurrent  \\\n",
       "0                        0.0   \n",
       "1                727000000.0   \n",
       "2                        0.0   \n",
       "3                        0.0   \n",
       "4                  6097000.0   \n",
       "\n",
       "   AccumulatedDepreciationDepletionAndAmortizationPropertyPlantAndEquipment  \\\n",
       "0                                       9.764000e+07                          \n",
       "1                                       7.450000e+08                          \n",
       "2                                       1.199800e+10                          \n",
       "3                                       0.000000e+00                          \n",
       "4                                       0.000000e+00                          \n",
       "\n",
       "   AccumulatedOtherComprehensiveIncomeLoss  AdditionalPaidInCapital  \\\n",
       "0                             0.000000e+00             1.249700e+07   \n",
       "1                             0.000000e+00             9.325000e+09   \n",
       "2                            -1.781400e+09             1.059900e+09   \n",
       "3                            -9.500000e+04             3.236500e+07   \n",
       "4                             0.000000e+00             1.975600e+07   \n",
       "\n",
       "   AdjustmentsToAdditionalPaidInCapitalSharebasedCompensationRequisiteServicePeriodRecognitionValue  \\\n",
       "0                                                0.0                                                  \n",
       "1                                                0.0                                                  \n",
       "2                                         17300000.0                                                  \n",
       "3                                                0.0                                                  \n",
       "4                                                0.0                                                  \n",
       "\n",
       "   AllowanceForDoubtfulAccountsReceivableCurrent  \\\n",
       "0                                       117000.0   \n",
       "1                                            0.0   \n",
       "2                                            0.0   \n",
       "3                                            0.0   \n",
       "4                                            0.0   \n",
       "\n",
       "   AntidilutiveSecuritiesExcludedFromComputationOfEarningsPerShareAmount  \\\n",
       "0                                                0.0                       \n",
       "1                                                0.0                       \n",
       "2                                                0.0                       \n",
       "3                                                0.0                       \n",
       "4                                                0.0                       \n",
       "\n",
       "         Assets  ...       Revenue  ShareBasedCompensation  \\\n",
       "0  3.017640e+08  ...  4.844330e+08                 74000.0   \n",
       "1  5.102000e+09  ...  1.531000e+09              45000000.0   \n",
       "2  1.953190e+10  ...  2.224000e+09               9800000.0   \n",
       "3  1.276471e+09  ...  5.593200e+07                     0.0   \n",
       "4  3.995190e+08  ...  5.756500e+07                     0.0   \n",
       "\n",
       "   Short Term Investments  StockIssuedDuringPeriodValue  StockholdersEquity  \\\n",
       "0                     0.0                           0.0        1.501080e+08   \n",
       "1                     0.0                           0.0        1.901000e+09   \n",
       "2                     0.0                           0.0        1.172660e+10   \n",
       "3                     0.0                           0.0        2.686100e+08   \n",
       "4                     0.0                           0.0        1.832830e+08   \n",
       "\n",
       "   SubleaseIncome  TotalLiabilities  TreasuryStockShares  TreasuryStockValue  \\\n",
       "0             0.0      1.516560e+08                  0.0        0.000000e+00   \n",
       "1             0.0      0.000000e+00            5000000.0        5.000000e+07   \n",
       "2             0.0      7.805300e+09           29100445.0        2.033700e+09   \n",
       "3             0.0      1.007861e+09              66160.0        3.680000e+05   \n",
       "4             0.0      2.162360e+08             946114.0        3.220500e+07   \n",
       "\n",
       "   Company_Size  \n",
       "0             0  \n",
       "1             2  \n",
       "2             2  \n",
       "3             1  \n",
       "4             0  \n",
       "\n",
       "[5 rows x 86 columns]"
      ]
     },
     "execution_count": 51,
     "metadata": {},
     "output_type": "execute_result"
    }
   ],
   "source": [
    "q3mergeddata.head()"
   ]
  },
  {
   "cell_type": "code",
   "execution_count": 50,
   "metadata": {},
   "outputs": [],
   "source": [
    "q3mergeddata = q3mergeddata.drop(['7_before', '7_after', 'difference', 'per', 'Clean_Number_of_Shares', 'Company_Value',\\\n",
    "                                 'Unnamed: 0', 'adsh', 'company_name', 'dyrqt', 'filed', 'cik', 'sic', 'ticker', 'country', 'period'], axis = 1)"
   ]
  },
  {
   "cell_type": "code",
   "execution_count": 84,
   "metadata": {
    "scrolled": true
   },
   "outputs": [
    {
     "data": {
      "text/plain": [
       "GridSearchCV(cv=10, error_score='raise-deprecating',\n",
       "             estimator=RandomForestClassifier(bootstrap=True, class_weight=None,\n",
       "                                              criterion='entropy',\n",
       "                                              max_depth=None,\n",
       "                                              max_features='auto',\n",
       "                                              max_leaf_nodes=None,\n",
       "                                              min_impurity_decrease=0.0,\n",
       "                                              min_impurity_split=None,\n",
       "                                              min_samples_leaf=1,\n",
       "                                              min_samples_split=2,\n",
       "                                              min_weight_fraction_leaf=0.0,\n",
       "                                              n_estimators='warn', n_jobs=None,\n",
       "                                              oob_score=True, random_state=None,\n",
       "                                              verbose=0, warm_start=False),\n",
       "             iid='warn', n_jobs=None,\n",
       "             param_grid={'min_samples_leaf': array([ 10,  25,  41,  56,  72,  87, 103, 118, 134, 150]),\n",
       "                         'min_samples_split': array([  5,  15,  26,  36,  47,  57,  68,  78,  89, 100]),\n",
       "                         'n_estimators': [75, 100, 125, 150]},\n",
       "             pre_dispatch='2*n_jobs', refit=True, return_train_score=False,\n",
       "             scoring=None, verbose=0)"
      ]
     },
     "execution_count": 84,
     "metadata": {},
     "output_type": "execute_result"
    }
   ],
   "source": [
    "X_dt = pd.DataFrame(q3mergeddata_processed.copy())\n",
    "Y_dt = pd.DataFrame(q3mergeddata['Company_Size'].copy())\n",
    "\n",
    "\n",
    "rand_forest = RandomForestClassifier(criterion = 'entropy', oob_score = True)\n",
    "\n",
    "parameters = {'n_estimators':[75,100,125,150], 'min_samples_split':np.linspace(5, 100, 10, dtype = int, endpoint = True), 'min_samples_leaf':np.linspace(10, 150, 10, dtype = int, endpoint = True)}\n",
    "\n",
    "\n",
    "model = GridSearchCV(rand_forest, parameters, cv = 10)\n",
    "model.fit(X_dt, np.ravel(Y_dt))\n",
    "\n"
   ]
  },
  {
   "cell_type": "code",
   "execution_count": 151,
   "metadata": {
    "scrolled": false
   },
   "outputs": [
    {
     "data": {
      "image/png": "[encoded data removed]",
      "text/plain": [
       "<Figure size 504x540 with 1 Axes>"
      ]
     },
     "metadata": {
      "needs_background": "light"
     },
     "output_type": "display_data"
    }
   ],
   "source": [
    "importance = model.best_estimator_.feature_importances_\n",
    "indices = np.argsort(importance)\n",
    "\n",
    "plt.figure(figsize=(7,7.5))\n",
    "plt.title(\"Random Forest Feature Importance\")\n",
    "plt.bar(X_dt.columns[indices][- 10:], importance[indices][- 10:], \n",
    "        color = 'b', align = 'center')\n",
    "plt.xticks(range(10), X_dt.columns[indices][-10:], rotation = 90)\n",
    "plt.xlim([-1, 10])\n",
    "\n",
    "plt.tight_layout()\n",
    "plt.savefig(data_root + 'Tuned_Random_Forest_Feature_Importance.png')"
   ]
  },
  {
   "cell_type": "code",
   "execution_count": 138,
   "metadata": {},
   "outputs": [
    {
     "data": {
      "text/plain": [
       "array([0.89874796, 0.78104575, 0.89737171])"
      ]
     },
     "execution_count": 138,
     "metadata": {},
     "output_type": "execute_result"
    }
   ],
   "source": [
    "from sklearn.metrics import precision_score\n",
    "from sklearn.metrics import recall_score\n",
    "from sklearn.model_selection import cross_val_score\n",
    "y_score = model.predict(X_dt)\n",
    "\n",
    "precision_score(np.ravel(Y_dt), y_score, average = None)"
   ]
  },
  {
   "cell_type": "code",
   "execution_count": 108,
   "metadata": {},
   "outputs": [
    {
     "data": {
      "text/plain": [
       "array([0.94127708, 0.75792812, 0.83957845])"
      ]
     },
     "execution_count": 108,
     "metadata": {},
     "output_type": "execute_result"
    }
   ],
   "source": [
    "recall_score(np.ravel(Y_dt), y_score, average = None)"
   ]
  },
  {
   "cell_type": "code",
   "execution_count": 126,
   "metadata": {},
   "outputs": [
    {
     "data": {
      "text/plain": [
       "GridSearchCV(cv=10, error_score='raise-deprecating',\n",
       "             estimator=DecisionTreeClassifier(class_weight=None,\n",
       "                                              criterion='entropy',\n",
       "                                              max_depth=None, max_features=None,\n",
       "                                              max_leaf_nodes=None,\n",
       "                                              min_impurity_decrease=0.0,\n",
       "                                              min_impurity_split=None,\n",
       "                                              min_samples_leaf=1,\n",
       "                                              min_samples_split=2,\n",
       "                                              min_weight_fraction_leaf=0.0,\n",
       "                                              presort=False, random_state=None,\n",
       "                                              splitter='best'),\n",
       "             iid='warn', n_jobs=None,\n",
       "             param_grid={'min_samples_leaf': [2, 5, 10, 25, 40, 50, 100],\n",
       "                         'min_samples_split': [2, 5, 10, 25, 40, 50, 100]},\n",
       "             pre_dispatch='2*n_jobs', refit=True, return_train_score=False,\n",
       "             scoring=None, verbose=0)"
      ]
     },
     "execution_count": 126,
     "metadata": {},
     "output_type": "execute_result"
    }
   ],
   "source": [
    "from sklearn.tree import DecisionTreeClassifier\n",
    "dt = DecisionTreeClassifier(criterion = 'entropy')\n",
    "parameters = {'min_samples_split' :[2,5,10,25,40,50,100], 'min_samples_leaf': [2,5,10,25,40,50,100]}\n",
    "model2 = GridSearchCV(dt, parameters, cv = 10)\n",
    "model2.fit(X_dt, np.ravel(Y_dt))\n"
   ]
  },
  {
   "cell_type": "code",
   "execution_count": 127,
   "metadata": {
    "scrolled": true
   },
   "outputs": [
    {
     "data": {
      "text/plain": [
       "DecisionTreeClassifier(class_weight=None, criterion='entropy', max_depth=None,\n",
       "                       max_features=None, max_leaf_nodes=None,\n",
       "                       min_impurity_decrease=0.0, min_impurity_split=None,\n",
       "                       min_samples_leaf=50, min_samples_split=2,\n",
       "                       min_weight_fraction_leaf=0.0, presort=False,\n",
       "                       random_state=None, splitter='best')"
      ]
     },
     "execution_count": 127,
     "metadata": {},
     "output_type": "execute_result"
    }
   ],
   "source": [
    "model2.best_estimator_"
   ]
  },
  {
   "cell_type": "code",
   "execution_count": null,
   "metadata": {},
   "outputs": [],
   "source": [
    "y_score2 = model2.predict(X_dt)\n",
    "\n",
    "precision2 = precision_score(np.ravel(Y_dt),y_score2, average = None)\n",
    "recall2 = recall_score(np.ravel(Y_dt),y_score2, average = None)\n",
    "cross_val_score(model2,X_dt, np.ravel(Y_dt),cv =10, scoring = 'precision')"
   ]
  },
  {
   "cell_type": "code",
   "execution_count": 132,
   "metadata": {},
   "outputs": [
    {
     "data": {
      "text/plain": [
       "array([0.84878587, 0.59056806, 0.77379481])"
      ]
     },
     "execution_count": 132,
     "metadata": {},
     "output_type": "execute_result"
    }
   ],
   "source": [
    "precision2"
   ]
  },
  {
   "cell_type": "code",
   "execution_count": 133,
   "metadata": {},
   "outputs": [
    {
     "data": {
      "text/plain": [
       "array([0.87685291, 0.58245243, 0.73302108])"
      ]
     },
     "execution_count": 133,
     "metadata": {},
     "output_type": "execute_result"
    }
   ],
   "source": [
    "recall2"
   ]
  },
  {
   "cell_type": "code",
   "execution_count": null,
   "metadata": {},
   "outputs": [],
   "source": []
  },
  {
   "cell_type": "markdown",
   "metadata": {},
   "source": [
    "OOB Score code but not very sure"
   ]
  },
  {
   "cell_type": "code",
   "execution_count": 83,
   "metadata": {},
   "outputs": [
    {
     "data": {
      "image/png": "[encoded data removed]",
      "text/plain": [
       "<Figure size 720x720 with 1 Axes>"
      ]
     },
     "metadata": {
      "needs_background": "light"
     },
     "output_type": "display_data"
    }
   ],
   "source": [
    "min_samp_split = [2,5,25,50,100,150,200,250,300, 350,500, 1000]\n",
    "\n",
    "oob_score = []\n",
    "temp = []\n",
    "kf = KFold(n_splits = 10)\n",
    "for train_index, test_index in kf.split(q3mergeddata):\n",
    "    cv_train, cv_validate = q3mergeddata.iloc[train_index], q3mergeddata.iloc[test_index]\n",
    "    temp3 = []   \n",
    "    for c in min_samp_split:    \n",
    "        rd = RandomForestClassifier(n_estimators = 100, criterion = 'entropy', oob_score = True)\n",
    "        rd.fit(cv_train.loc[: , cv_train.columns != 'Company_Size'], cv_train['Company_Size'])\n",
    "        temp3.append(rd.oob_score_)\n",
    "        \n",
    "    temp.append(temp3)\n",
    "\n",
    "for i in range(0, len(min_samp_split)):\n",
    "    temp2 = [] \n",
    "    for j in temp:\n",
    "        temp2.append(j[i])\n",
    "    oob_score.append(sum(temp2)/len(temp2))\n",
    "\n",
    "\n",
    "plt.figure(figsize = (10,10))\n",
    "plt.title('Mean Cross-Validated AUC by C')\n",
    "plt.plot(min_samp_split, oob_score,  Label = 'Mean - 2stderr')\n",
    "plt.legend(loc = 'lower right')\n",
    "plt.show()"
   ]
  },
  {
   "cell_type": "markdown",
   "metadata": {},
   "source": [
    "### Do pairwise logistic regression(small medium, small large, medium large)"
   ]
  },
  {
   "cell_type": "code",
   "execution_count": 28,
   "metadata": {},
   "outputs": [],
   "source": [
    "small_med = q3mergeddata.loc[q3mergeddata.Company_Size != 2]\n",
    "small_large = q3mergeddata.loc[q3mergeddata.Company_Size != 1]\n",
    "med_large = q3mergeddata.loc[q3mergeddata.Company_Size != 0]"
   ]
  },
  {
   "cell_type": "code",
   "execution_count": 29,
   "metadata": {},
   "outputs": [
    {
     "name": "stderr",
     "output_type": "stream",
     "text": [
      "/Applications/anaconda3/lib/python3.7/site-packages/sklearn/linear_model/logistic.py:432: FutureWarning: Default solver will be changed to 'lbfgs' in 0.22. Specify a solver to silence this warning.\n",
      "  FutureWarning)\n"
     ]
    }
   ],
   "source": [
    "labels = q3mergeddata.columns[10:len(q3mergeddata.columns) - 7]\n",
    "\n",
    "log_reg = LogisticRegression(max_iter = 1000)\n",
    "X = pd.DataFrame(small_med[labels].copy())\n",
    "Y = pd.DataFrame(small_med.Company_Size.copy())\n",
    "X_train, X_test, Y_train, Y_test = train_test_split(X,Y, test_size = 0.30)\n",
    "log_reg.fit(X_train, np.ravel(Y_train))\n",
    "\n",
    "logsm_decision = log_reg.decision_function(X_test)\n",
    "logsm_fpr, logsm_tpr, _  = roc_curve(Y_test, logsm_decision)\n",
    "\n",
    "logsm_auc = auc(logsm_fpr, logsm_tpr)    "
   ]
  },
  {
   "cell_type": "code",
   "execution_count": 30,
   "metadata": {},
   "outputs": [
    {
     "name": "stderr",
     "output_type": "stream",
     "text": [
      "/Applications/anaconda3/lib/python3.7/site-packages/sklearn/linear_model/logistic.py:432: FutureWarning: Default solver will be changed to 'lbfgs' in 0.22. Specify a solver to silence this warning.\n",
      "  FutureWarning)\n"
     ]
    }
   ],
   "source": [
    "log_reg = LogisticRegression(max_iter = 1000)\n",
    "X = pd.DataFrame(small_large[labels].copy())\n",
    "Y = pd.DataFrame(np.where(small_large.Company_Size.copy() == 0, 0, 1))\n",
    "\n",
    "X_train, X_test, Y_train, Y_test = train_test_split(X,Y, test_size = 0.30)\n",
    "log_reg.fit(X_train, np.ravel(Y_train))\n",
    "\n",
    "logsl_decision = log_reg.decision_function(X_test)\n",
    "logsl_fpr, logsl_tpr, _  = roc_curve(Y_test, logsl_decision)\n",
    "logsl_auc = auc(logsl_fpr, logsl_tpr)"
   ]
  },
  {
   "cell_type": "code",
   "execution_count": 31,
   "metadata": {},
   "outputs": [
    {
     "name": "stderr",
     "output_type": "stream",
     "text": [
      "/Applications/anaconda3/lib/python3.7/site-packages/sklearn/linear_model/logistic.py:432: FutureWarning: Default solver will be changed to 'lbfgs' in 0.22. Specify a solver to silence this warning.\n",
      "  FutureWarning)\n"
     ]
    }
   ],
   "source": [
    "labels = q3mergeddata.columns[10:len(q3mergeddata.columns) - 7]\n",
    "\n",
    "log_reg = LogisticRegression(max_iter = 1000)\n",
    "X = pd.DataFrame(med_large[labels].copy())\n",
    "Y = pd.DataFrame(np.where(med_large.Company_Size.copy() == 1, 0, 1))\n",
    "X_train, X_test, Y_train, Y_test = train_test_split(X,Y, test_size = 0.30)\n",
    "log_reg.fit(X_train, np.ravel(Y_train))\n",
    "\n",
    "logml_decision = log_reg.decision_function(X_test)\n",
    "logml_fpr, logml_tpr, _  = roc_curve(Y_test, logml_decision)\n",
    "\n",
    "logml_auc = auc(logml_fpr, logml_tpr)"
   ]
  },
  {
   "cell_type": "code",
   "execution_count": 32,
   "metadata": {
    "scrolled": false
   },
   "outputs": [
    {
     "data": {
      "image/png": "[encoded data removed]",
      "text/plain": [
       "<Figure size 504x504 with 1 Axes>"
      ]
     },
     "metadata": {
      "needs_background": "light"
     },
     "output_type": "display_data"
    }
   ],
   "source": [
    "plt.figure(figsize = (7,7))\n",
    "plt.plot(logsm_fpr, logsm_tpr, label = 'AUC of Small-Medium Company classification:'+\"{0:.4f}\".format(logsm_auc))\n",
    "plt.plot(logsl_fpr, logsl_tpr, label = 'AUC of Small-Large Company classification:'+\"{0:.4f}\".format(logsl_auc))\n",
    "plt.plot(logml_fpr, logml_tpr, label = 'AUC of Medium-Large Company classification:'+\"{0:.4f}\".format(logml_auc))\n",
    "plt.plot([0, 1], [0, 1], color='navy', linestyle='--')\n",
    "plt.xlim([0.0, 1.0])\n",
    "plt.ylim([0.0, 1.05])\n",
    "plt.xlabel('False Positive Rate')\n",
    "plt.ylabel('True Positive Rate')\n",
    "plt.title('ROC Curve of Logistic Pairwise Classification for Company Size')\n",
    "plt.legend(loc=\"lower right\")\n",
    "plt.savefig(data_root+'Pairwise_ComparisonROC.png')"
   ]
  },
  {
   "cell_type": "code",
   "execution_count": 33,
   "metadata": {},
   "outputs": [
    {
     "name": "stderr",
     "output_type": "stream",
     "text": [
      "/Applications/anaconda3/lib/python3.7/site-packages/sklearn/preprocessing/data.py:172: UserWarning: Numerical issues were encountered when centering the data and might not be solved. Dataset may contain too large values. You may need to prescale your features.\n",
      "  warnings.warn(\"Numerical issues were encountered \"\n"
     ]
    }
   ],
   "source": [
    "svc = SVC(kernel = 'linear')\n",
    "X = pd.DataFrame(preprocessing.scale(small_med[labels].copy()))\n",
    "Y = pd.DataFrame(small_med.Company_Size.copy())\n",
    "X_train, X_test, Y_train, Y_test = train_test_split(X,Y, test_size = 0.30)\n",
    "svc.fit(X_train, np.ravel(Y_train))\n",
    "\n",
    "svcsm_decision = svc.decision_function(X_test)\n",
    "svcsm_fpr, svcsm_tpr, _  = roc_curve(Y_test, svcsm_decision)\n",
    "\n",
    "svcsm_auc = auc(svcsm_fpr, svcsm_tpr)    "
   ]
  },
  {
   "cell_type": "code",
   "execution_count": 34,
   "metadata": {},
   "outputs": [
    {
     "name": "stderr",
     "output_type": "stream",
     "text": [
      "/Applications/anaconda3/lib/python3.7/site-packages/sklearn/preprocessing/data.py:172: UserWarning: Numerical issues were encountered when centering the data and might not be solved. Dataset may contain too large values. You may need to prescale your features.\n",
      "  warnings.warn(\"Numerical issues were encountered \"\n"
     ]
    }
   ],
   "source": [
    "svc = SVC(kernel = 'linear')\n",
    "X = pd.DataFrame(preprocessing.scale(small_large[labels].copy()))\n",
    "Y = pd.DataFrame(np.where(small_large.Company_Size.copy() == 0, 0, 1))\n",
    "\n",
    "X_train, X_test, Y_train, Y_test = train_test_split(X,Y, test_size = 0.30)\n",
    "svc.fit(X_train, np.ravel(Y_train))\n",
    "\n",
    "svcsl_decision = svc.decision_function(X_test)\n",
    "svcsl_fpr, svcsl_tpr, _  = roc_curve(Y_test, svcsl_decision)\n",
    "svcsl_auc = auc(svcsl_fpr, svcsl_tpr)"
   ]
  },
  {
   "cell_type": "code",
   "execution_count": 35,
   "metadata": {},
   "outputs": [
    {
     "name": "stderr",
     "output_type": "stream",
     "text": [
      "/Applications/anaconda3/lib/python3.7/site-packages/sklearn/preprocessing/data.py:172: UserWarning: Numerical issues were encountered when centering the data and might not be solved. Dataset may contain too large values. You may need to prescale your features.\n",
      "  warnings.warn(\"Numerical issues were encountered \"\n"
     ]
    }
   ],
   "source": [
    "svc = SVC(kernel = 'linear')\n",
    "X = pd.DataFrame(preprocessing.scale(med_large[labels].copy()))\n",
    "Y = pd.DataFrame(np.where(med_large.Company_Size.copy() == 1, 0, 1))\n",
    "X_train, X_test, Y_train, Y_test = train_test_split(X,Y, test_size = 0.30)\n",
    "svc.fit(X_train, np.ravel(Y_train))\n",
    "\n",
    "svcml_decision = svc.decision_function(X_test)\n",
    "svcml_fpr, svcml_tpr, _  = roc_curve(Y_test, svcml_decision)\n",
    "\n",
    "svcml_auc = auc(svcml_fpr, svcml_tpr)"
   ]
  },
  {
   "cell_type": "code",
   "execution_count": 36,
   "metadata": {},
   "outputs": [
    {
     "data": {
      "image/png": "[encoded data removed]",
      "text/plain": [
       "<Figure size 504x504 with 1 Axes>"
      ]
     },
     "metadata": {
      "needs_background": "light"
     },
     "output_type": "display_data"
    }
   ],
   "source": [
    "plt.figure(figsize = (7,7))\n",
    "plt.plot(svcsm_fpr, svcsm_tpr, label = 'AUC of Small-Medium Company classification:'+\"{0:.4f}\".format(svcsm_auc))\n",
    "plt.plot(svcsl_fpr, svcsl_tpr, label = 'AUC of Small-Large Company classification:'+\"{0:.4f}\".format(svcsl_auc))\n",
    "plt.plot(svcml_fpr, svcml_tpr, label = 'AUC of Medium-Large Company classification:'+\"{0:.4f}\".format(svcml_auc))\n",
    "plt.plot([0, 1], [0, 1], color='navy', linestyle='--')\n",
    "plt.xlim([0.0, 1.0])\n",
    "plt.ylim([0.0, 1.05])\n",
    "plt.xlabel('False Positive Rate')\n",
    "plt.ylabel('True Positive Rate')\n",
    "plt.title('ROC Curve of SVM Pairwise Classification for Company Size')\n",
    "plt.legend(loc=\"lower right\")\n",
    "plt.savefig(data_root+'SVMPairwise_ComparisonROC.png')"
   ]
  },
  {
   "cell_type": "code",
   "execution_count": null,
   "metadata": {},
   "outputs": [],
   "source": []
  },
  {
   "cell_type": "code",
   "execution_count": null,
   "metadata": {},
   "outputs": [],
   "source": []
  },
  {
   "cell_type": "markdown",
   "metadata": {},
   "source": [
    "### Tune Logistic Regression for binary case Rerun import"
   ]
  },
  {
   "cell_type": "code",
   "execution_count": 8,
   "metadata": {},
   "outputs": [
    {
     "name": "stderr",
     "output_type": "stream",
     "text": [
      "/Applications/anaconda3/lib/python3.7/site-packages/sklearn/preprocessing/data.py:172: UserWarning: Numerical issues were encountered when centering the data and might not be solved. Dataset may contain too large values. You may need to prescale your features.\n",
      "  warnings.warn(\"Numerical issues were encountered \"\n"
     ]
    }
   ],
   "source": [
    "q3mergeddata['Clean_Number_of_Shares'] = q3mergeddata[['WeightedAverageNumberOfDilutedSharesOutstanding',\n",
    "       'WeightedAverageNumberOfSharesOutstandingBasic']].max(axis = 1)\n",
    "\n",
    "q3mergeddata['Clean_Number_of_Shares'] = q3mergeddata[['Clean_Number_of_Shares',\n",
    "                                                       'CommonStockSharesOutstanding']].max(axis = 1)\n",
    "\n",
    "q3mergeddata['Company_Value'] = q3mergeddata['Clean_Number_of_Shares'] * q3mergeddata['7_after']\n",
    "q3mergeddata = q3mergeddata.drop(q3mergeddata[q3mergeddata.Company_Value == 0].index)\n",
    "q3mergeddata = q3mergeddata.drop(['CommonStockSharesOutstanding','WeightedAverageNumberOfDilutedSharesOutstanding','WeightedAverageNumberOfSharesOutstandingBasic' ], axis = 1)\n",
    "q3mergeddata['Company_Size'] = np.where(q3mergeddata['Company_Value'] > 5000000000, 1, 0)\n",
    "q3mergeddata_processed  = pd.DataFrame(preprocessing.scale(q3mergeddata[q3mergeddata.columns[10:len(q3mergeddata.columns) - 7]]), columns =q3mergeddata.columns[10:len(q3mergeddata.columns) - 7] )\n",
    "\n",
    "c = [1]  "
   ]
  },
  {
   "cell_type": "code",
   "execution_count": 9,
   "metadata": {
    "collapsed": true,
    "jupyter": {
     "outputs_hidden": true
    }
   },
   "outputs": [
    {
     "name": "stderr",
     "output_type": "stream",
     "text": [
      "/Applications/anaconda3/lib/python3.7/site-packages/sklearn/linear_model/logistic.py:432: FutureWarning: Default solver will be changed to 'lbfgs' in 0.22. Specify a solver to silence this warning.\n",
      "  FutureWarning)\n",
      "/Applications/anaconda3/lib/python3.7/site-packages/sklearn/svm/base.py:929: ConvergenceWarning: Liblinear failed to converge, increase the number of iterations.\n",
      "  \"the number of iterations.\", ConvergenceWarning)\n",
      "/Applications/anaconda3/lib/python3.7/site-packages/sklearn/linear_model/logistic.py:432: FutureWarning: Default solver will be changed to 'lbfgs' in 0.22. Specify a solver to silence this warning.\n",
      "  FutureWarning)\n",
      "/Applications/anaconda3/lib/python3.7/site-packages/sklearn/svm/base.py:929: ConvergenceWarning: Liblinear failed to converge, increase the number of iterations.\n",
      "  \"the number of iterations.\", ConvergenceWarning)\n",
      "/Applications/anaconda3/lib/python3.7/site-packages/sklearn/linear_model/logistic.py:432: FutureWarning: Default solver will be changed to 'lbfgs' in 0.22. Specify a solver to silence this warning.\n",
      "  FutureWarning)\n",
      "/Applications/anaconda3/lib/python3.7/site-packages/sklearn/linear_model/logistic.py:432: FutureWarning: Default solver will be changed to 'lbfgs' in 0.22. Specify a solver to silence this warning.\n",
      "  FutureWarning)\n",
      "/Applications/anaconda3/lib/python3.7/site-packages/sklearn/svm/base.py:929: ConvergenceWarning: Liblinear failed to converge, increase the number of iterations.\n",
      "  \"the number of iterations.\", ConvergenceWarning)\n",
      "/Applications/anaconda3/lib/python3.7/site-packages/sklearn/linear_model/logistic.py:432: FutureWarning: Default solver will be changed to 'lbfgs' in 0.22. Specify a solver to silence this warning.\n",
      "  FutureWarning)\n",
      "/Applications/anaconda3/lib/python3.7/site-packages/sklearn/linear_model/logistic.py:432: FutureWarning: Default solver will be changed to 'lbfgs' in 0.22. Specify a solver to silence this warning.\n",
      "  FutureWarning)\n",
      "/Applications/anaconda3/lib/python3.7/site-packages/sklearn/svm/base.py:929: ConvergenceWarning: Liblinear failed to converge, increase the number of iterations.\n",
      "  \"the number of iterations.\", ConvergenceWarning)\n",
      "/Applications/anaconda3/lib/python3.7/site-packages/sklearn/linear_model/logistic.py:432: FutureWarning: Default solver will be changed to 'lbfgs' in 0.22. Specify a solver to silence this warning.\n",
      "  FutureWarning)\n",
      "/Applications/anaconda3/lib/python3.7/site-packages/sklearn/linear_model/logistic.py:432: FutureWarning: Default solver will be changed to 'lbfgs' in 0.22. Specify a solver to silence this warning.\n",
      "  FutureWarning)\n",
      "/Applications/anaconda3/lib/python3.7/site-packages/sklearn/linear_model/logistic.py:432: FutureWarning: Default solver will be changed to 'lbfgs' in 0.22. Specify a solver to silence this warning.\n",
      "  FutureWarning)\n",
      "/Applications/anaconda3/lib/python3.7/site-packages/sklearn/svm/base.py:929: ConvergenceWarning: Liblinear failed to converge, increase the number of iterations.\n",
      "  \"the number of iterations.\", ConvergenceWarning)\n",
      "/Applications/anaconda3/lib/python3.7/site-packages/sklearn/linear_model/logistic.py:432: FutureWarning: Default solver will be changed to 'lbfgs' in 0.22. Specify a solver to silence this warning.\n",
      "  FutureWarning)\n",
      "/Applications/anaconda3/lib/python3.7/site-packages/sklearn/svm/base.py:929: ConvergenceWarning: Liblinear failed to converge, increase the number of iterations.\n",
      "  \"the number of iterations.\", ConvergenceWarning)\n",
      "/Applications/anaconda3/lib/python3.7/site-packages/sklearn/linear_model/logistic.py:432: FutureWarning: Default solver will be changed to 'lbfgs' in 0.22. Specify a solver to silence this warning.\n",
      "  FutureWarning)\n",
      "/Applications/anaconda3/lib/python3.7/site-packages/sklearn/linear_model/logistic.py:432: FutureWarning: Default solver will be changed to 'lbfgs' in 0.22. Specify a solver to silence this warning.\n",
      "  FutureWarning)\n",
      "/Applications/anaconda3/lib/python3.7/site-packages/sklearn/linear_model/logistic.py:432: FutureWarning: Default solver will be changed to 'lbfgs' in 0.22. Specify a solver to silence this warning.\n",
      "  FutureWarning)\n",
      "/Applications/anaconda3/lib/python3.7/site-packages/sklearn/linear_model/logistic.py:432: FutureWarning: Default solver will be changed to 'lbfgs' in 0.22. Specify a solver to silence this warning.\n",
      "  FutureWarning)\n",
      "/Applications/anaconda3/lib/python3.7/site-packages/sklearn/linear_model/logistic.py:432: FutureWarning: Default solver will be changed to 'lbfgs' in 0.22. Specify a solver to silence this warning.\n",
      "  FutureWarning)\n",
      "/Applications/anaconda3/lib/python3.7/site-packages/sklearn/linear_model/logistic.py:432: FutureWarning: Default solver will be changed to 'lbfgs' in 0.22. Specify a solver to silence this warning.\n",
      "  FutureWarning)\n",
      "/Applications/anaconda3/lib/python3.7/site-packages/sklearn/linear_model/logistic.py:432: FutureWarning: Default solver will be changed to 'lbfgs' in 0.22. Specify a solver to silence this warning.\n",
      "  FutureWarning)\n",
      "/Applications/anaconda3/lib/python3.7/site-packages/sklearn/linear_model/logistic.py:432: FutureWarning: Default solver will be changed to 'lbfgs' in 0.22. Specify a solver to silence this warning.\n",
      "  FutureWarning)\n",
      "/Applications/anaconda3/lib/python3.7/site-packages/sklearn/linear_model/logistic.py:432: FutureWarning: Default solver will be changed to 'lbfgs' in 0.22. Specify a solver to silence this warning.\n",
      "  FutureWarning)\n",
      "/Applications/anaconda3/lib/python3.7/site-packages/sklearn/linear_model/logistic.py:432: FutureWarning: Default solver will be changed to 'lbfgs' in 0.22. Specify a solver to silence this warning.\n",
      "  FutureWarning)\n",
      "/Applications/anaconda3/lib/python3.7/site-packages/sklearn/linear_model/logistic.py:432: FutureWarning: Default solver will be changed to 'lbfgs' in 0.22. Specify a solver to silence this warning.\n",
      "  FutureWarning)\n",
      "/Applications/anaconda3/lib/python3.7/site-packages/sklearn/svm/base.py:929: ConvergenceWarning: Liblinear failed to converge, increase the number of iterations.\n",
      "  \"the number of iterations.\", ConvergenceWarning)\n"
     ]
    },
    {
     "data": {
      "text/plain": [
       "GridSearchCV(cv=10, error_score='raise-deprecating',\n",
       "             estimator=LogisticRegression(C=1.0, class_weight=None, dual=False,\n",
       "                                          fit_intercept=True,\n",
       "                                          intercept_scaling=1, l1_ratio=None,\n",
       "                                          max_iter=100, multi_class='warn',\n",
       "                                          n_jobs=None, penalty='l2',\n",
       "                                          random_state=None, solver='warn',\n",
       "                                          tol=0.0001, verbose=0,\n",
       "                                          warm_start=False),\n",
       "             iid='warn', n_jobs=None,\n",
       "             param_grid={'C': [1], 'penalty': ('l1', 'l2')},\n",
       "             pre_dispatch='2*n_jobs', refit=True, return_train_score=False,\n",
       "             scoring=None, verbose=0)"
      ]
     },
     "execution_count": 9,
     "metadata": {},
     "output_type": "execute_result"
    }
   ],
   "source": [
    "X_dt = pd.DataFrame(q3mergeddata_processed.copy())\n",
    "Y_dt = pd.DataFrame(q3mergeddata['Company_Size'].copy())\n",
    "\n",
    "log_reg = LogisticRegression()\n",
    "parameters = {'penalty':('l1', 'l2'), 'C':c}\n",
    "\n",
    "model = GridSearchCV(log_reg, parameters, cv = 10)\n",
    "model.fit(X_dt, np.ravel(Y_dt))"
   ]
  },
  {
   "cell_type": "code",
   "execution_count": 10,
   "metadata": {},
   "outputs": [
    {
     "data": {
      "text/plain": [
       "LogisticRegression(C=1, class_weight=None, dual=False, fit_intercept=True,\n",
       "                   intercept_scaling=1, l1_ratio=None, max_iter=100,\n",
       "                   multi_class='warn', n_jobs=None, penalty='l1',\n",
       "                   random_state=None, solver='warn', tol=0.0001, verbose=0,\n",
       "                   warm_start=False)"
      ]
     },
     "execution_count": 10,
     "metadata": {},
     "output_type": "execute_result"
    }
   ],
   "source": [
    "model.best_estimator_"
   ]
  },
  {
   "cell_type": "code",
   "execution_count": 11,
   "metadata": {},
   "outputs": [],
   "source": [
    "X_train, X_test, Y_train, Y_test = train_test_split(X_dt,Y_dt, test_size = 0.30)\n",
    "\n",
    "log_decision = model.decision_function(X_test)\n",
    "log_fpr, log_tpr, _  = roc_curve(Y_test, log_decision)\n",
    "\n",
    "log_auc = auc(log_fpr, log_tpr)"
   ]
  },
  {
   "cell_type": "code",
   "execution_count": 12,
   "metadata": {},
   "outputs": [
    {
     "data": {
      "image/png": "[encoded data removed]",
      "text/plain": [
       "<Figure size 504x504 with 1 Axes>"
      ]
     },
     "metadata": {
      "needs_background": "light"
     },
     "output_type": "display_data"
    }
   ],
   "source": [
    "plt.figure(figsize = (7,7))\n",
    "plt.plot(log_fpr, log_tpr, label = 'AUC of Tuned Logistic:'+\"{0:.4f}\".format(log_auc))\n",
    "\n",
    "plt.plot([0, 1], [0, 1], color='navy', linestyle='--')\n",
    "plt.xlim([0.0, 1.0])\n",
    "plt.ylim([0.0, 1.05])\n",
    "plt.xlabel('False Positive Rate')\n",
    "plt.ylabel('True Positive Rate')\n",
    "plt.title('ROC Curve of Tuned Logistic Classification')\n",
    "plt.legend(loc=\"lower right\")\n",
    "plt.savefig(data_root+'TunedLogistic.png')"
   ]
  },
  {
   "cell_type": "markdown",
   "metadata": {},
   "source": [
    "Tune SVM"
   ]
  },
  {
   "cell_type": "code",
   "execution_count": 14,
   "metadata": {},
   "outputs": [
    {
     "name": "stderr",
     "output_type": "stream",
     "text": [
      "/Applications/anaconda3/lib/python3.7/site-packages/sklearn/preprocessing/data.py:172: UserWarning: Numerical issues were encountered when centering the data and might not be solved. Dataset may contain too large values. You may need to prescale your features.\n",
      "  warnings.warn(\"Numerical issues were encountered \"\n"
     ]
    }
   ],
   "source": [
    "q3mergeddata['Clean_Number_of_Shares'] = q3mergeddata[['WeightedAverageNumberOfDilutedSharesOutstanding',\n",
    "       'WeightedAverageNumberOfSharesOutstandingBasic']].max(axis = 1)\n",
    "\n",
    "q3mergeddata['Clean_Number_of_Shares'] = q3mergeddata[['Clean_Number_of_Shares',\n",
    "                                                       'CommonStockSharesOutstanding']].max(axis = 1)\n",
    "\n",
    "q3mergeddata['Company_Value'] = q3mergeddata['Clean_Number_of_Shares'] * q3mergeddata['7_after']\n",
    "q3mergeddata = q3mergeddata.drop(q3mergeddata[q3mergeddata.Company_Value == 0].index)\n",
    "q3mergeddata = q3mergeddata.drop(['CommonStockSharesOutstanding','WeightedAverageNumberOfDilutedSharesOutstanding','WeightedAverageNumberOfSharesOutstandingBasic' ], axis = 1)\n",
    "q3mergeddata['Company_Size'] = np.where(q3mergeddata['Company_Value'] > 5000000000, 1, 0)\n",
    "q3mergeddata_processed  = pd.DataFrame(preprocessing.scale(q3mergeddata[q3mergeddata.columns[10:len(q3mergeddata.columns) - 7]]), columns =q3mergeddata.columns[10:len(q3mergeddata.columns) - 7] )\n",
    "\n",
    "c = [10**i for i in range(-8, 2)]  "
   ]
  },
  {
   "cell_type": "code",
   "execution_count": 15,
   "metadata": {},
   "outputs": [
    {
     "data": {
      "text/plain": [
       "GridSearchCV(cv=10, error_score='raise-deprecating',\n",
       "             estimator=SVC(C=1.0, cache_size=200, class_weight=None, coef0=0.0,\n",
       "                           decision_function_shape='ovr', degree=3,\n",
       "                           gamma='auto_deprecated', kernel='linear',\n",
       "                           max_iter=-1, probability=False, random_state=None,\n",
       "                           shrinking=True, tol=0.001, verbose=False),\n",
       "             iid='warn', n_jobs=None,\n",
       "             param_grid={'C': [1e-08, 1e-07, 1e-06, 1e-05, 0.0001, 0.001, 0.01,\n",
       "                               0.1, 1, 10]},\n",
       "             pre_dispatch='2*n_jobs', refit=True, return_train_score=False,\n",
       "             scoring=None, verbose=0)"
      ]
     },
     "execution_count": 15,
     "metadata": {},
     "output_type": "execute_result"
    }
   ],
   "source": [
    "X_dt = pd.DataFrame(q3mergeddata_processed.copy())\n",
    "Y_dt = pd.DataFrame(q3mergeddata['Company_Size'].copy())\n",
    "\n",
    "svc = SVC(kernel = 'linear')\n",
    "parameters = {'C':c}\n",
    "\n",
    "model = GridSearchCV(svc, parameters, cv = 10)\n",
    "model.fit(X_dt, np.ravel(Y_dt))"
   ]
  },
  {
   "cell_type": "code",
   "execution_count": 16,
   "metadata": {},
   "outputs": [],
   "source": [
    "X_train, X_test, Y_train, Y_test = train_test_split(X_dt,Y_dt, test_size = 0.30)\n",
    "\n",
    "svm_decision = model.decision_function(X_test)\n",
    "svm_fpr, svm_tpr, _  = roc_curve(Y_test, svm_decision)\n",
    "\n",
    "svm_auc = auc(svm_fpr, svm_tpr)"
   ]
  },
  {
   "cell_type": "code",
   "execution_count": 18,
   "metadata": {},
   "outputs": [
    {
     "data": {
      "image/png": "[encoded data removed]",
      "text/plain": [
       "<Figure size 504x504 with 1 Axes>"
      ]
     },
     "metadata": {
      "needs_background": "light"
     },
     "output_type": "display_data"
    }
   ],
   "source": [
    "plt.figure(figsize = (7,7))\n",
    "plt.plot(log_fpr, log_tpr, label = 'AUC of Tuned Logistic Regression:'+\"{0:.4f}\".format(log_auc))\n",
    "plt.plot(svm_fpr, svm_tpr, label = 'AUC of Tuned SVM:'+\"{0:.4f}\".format(svm_auc))\n",
    "plt.plot([0, 1], [0, 1], color='navy', linestyle='--')\n",
    "plt.xlim([0.0, 1.0])\n",
    "plt.ylim([0.0, 1.05])\n",
    "plt.xlabel('False Positive Rate')\n",
    "plt.ylabel('True Positive Rate')\n",
    "plt.title('ROC Curve of Tuned SVM and Logistic')\n",
    "plt.legend(loc=\"lower right\")\n",
    "plt.savefig(data_root+'TunedSVMLogistic.png')"
   ]
  },
  {
   "cell_type": "code",
   "execution_count": null,
   "metadata": {},
   "outputs": [],
   "source": []
  },
  {
   "cell_type": "markdown",
   "metadata": {},
   "source": [
    "Optimize the tree"
   ]
  },
  {
   "cell_type": "code",
   "execution_count": 5,
   "metadata": {},
   "outputs": [
    {
     "name": "stderr",
     "output_type": "stream",
     "text": [
      "/Applications/anaconda3/lib/python3.7/site-packages/sklearn/preprocessing/data.py:172: UserWarning: Numerical issues were encountered when centering the data and might not be solved. Dataset may contain too large values. You may need to prescale your features.\n",
      "  warnings.warn(\"Numerical issues were encountered \"\n"
     ]
    }
   ],
   "source": [
    "q3mergeddata['Clean_Number_of_Shares'] = q3mergeddata[['WeightedAverageNumberOfDilutedSharesOutstanding',\n",
    "       'WeightedAverageNumberOfSharesOutstandingBasic']].max(axis = 1)\n",
    "\n",
    "q3mergeddata['Clean_Number_of_Shares'] = q3mergeddata[['Clean_Number_of_Shares',\n",
    "                                                       'CommonStockSharesOutstanding']].max(axis = 1)\n",
    "\n",
    "q3mergeddata['Company_Value'] = q3mergeddata['Clean_Number_of_Shares'] * q3mergeddata['7_after']\n",
    "q3mergeddata = q3mergeddata.drop(q3mergeddata[q3mergeddata.Company_Value == 0].index)\n",
    "q3mergeddata = q3mergeddata.drop(['CommonStockSharesOutstanding','WeightedAverageNumberOfDilutedSharesOutstanding','WeightedAverageNumberOfSharesOutstandingBasic' ], axis = 1)\n",
    "q3mergeddata['Company_Size'] = np.where(q3mergeddata['Company_Value'] > 5000000000, 1, 0)\n",
    "q3mergeddata_processed  = pd.DataFrame(preprocessing.scale(q3mergeddata[q3mergeddata.columns[10:len(q3mergeddata.columns) - 7]]), columns =q3mergeddata.columns[10:len(q3mergeddata.columns) - 7] )"
   ]
  },
  {
   "cell_type": "code",
   "execution_count": null,
   "metadata": {},
   "outputs": [],
   "source": [
    "X_dt = pd.DataFrame(q3mergeddata_processed.copy())\n",
    "Y_dt = pd.DataFrame(q3mergeddata['Company_Size'].copy())\n",
    "\n",
    "X_train, X_test, Y_train, Y_test = train_test_split(X_dt,Y_dt, test_size = 0.30)\n",
    "min_samp = [2,5,10,20,50]\n",
    "\n",
    "min_samp_leaf = [5,10,20,30,40]\n",
    "\n",
    "for i in range(5):\n",
    "    for j in range(5):\n",
    "        dt = DecisionTreeClassifier(criterion = 'entropy', min_samples_split = min_samp[i],min_samples_leaf = min_samp_leaf[j])\n",
    "        dt.fit(X_train, Y_train)\n",
    "        test_score = dt.score(X_test, Y_test)\n",
    "        print(str('{} {} testscore {}'.format(min_samp[i], min_samp_leaf[j], test_score)))\n",
    "\n",
    "\n",
    "\n",
    "\n"
   ]
  },
  {
   "cell_type": "code",
   "execution_count": 10,
   "metadata": {},
   "outputs": [
    {
     "data": {
      "text/plain": [
       "{'class_weight': None,\n",
       " 'criterion': 'entropy',\n",
       " 'max_depth': None,\n",
       " 'max_features': None,\n",
       " 'max_leaf_nodes': None,\n",
       " 'min_impurity_decrease': 0.0,\n",
       " 'min_impurity_split': None,\n",
       " 'min_samples_leaf': 1,\n",
       " 'min_samples_split': 2,\n",
       " 'min_weight_fraction_leaf': 0.0,\n",
       " 'presort': False,\n",
       " 'random_state': None,\n",
       " 'splitter': 'best'}"
      ]
     },
     "execution_count": 10,
     "metadata": {},
     "output_type": "execute_result"
    }
   ],
   "source": [
    "dt.get_params()"
   ]
  }
 ],
 "metadata": {
  "kernelspec": {
   "display_name": "Python 3",
   "language": "python",
   "name": "python3"
  },
  "language_info": {
   "codemirror_mode": {
    "name": "ipython",
    "version": 3
   },
   "file_extension": ".py",
   "mimetype": "text/x-python",
   "name": "python",
   "nbconvert_exporter": "python",
   "pygments_lexer": "ipython3",
   "version": "3.7.3"
  }
 },
 "nbformat": 4,
 "nbformat_minor": 4
}
