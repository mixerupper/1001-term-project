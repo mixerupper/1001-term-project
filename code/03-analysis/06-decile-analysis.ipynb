{
 "cells": [
  {
   "cell_type": "markdown",
   "metadata": {},
   "source": [
    "# Program Header"
   ]
  },
  {
   "cell_type": "code",
   "execution_count": 1,
   "metadata": {},
   "outputs": [],
   "source": [
    "import pandas as pd\n",
    "import numpy as np\n",
    "import os\n",
    "import sys\n",
    "nb_dir = os.path.split(os.getcwd())[0]\n",
    "if nb_dir not in sys.path:\n",
    "    sys.path.append(nb_dir)\n",
    "from header import *"
   ]
  },
  {
   "cell_type": "code",
   "execution_count": 2,
   "metadata": {},
   "outputs": [],
   "source": [
    "data_root = initialize_data_root(\"AY\")"
   ]
  },
  {
   "cell_type": "code",
   "execution_count": 3,
   "metadata": {},
   "outputs": [],
   "source": [
    "from sklearn import model_selection, metrics, ensemble, preprocessing, pipeline, impute, model_selection\n",
    "\n",
    "import seaborn as sn\n",
    "import matplotlib.pyplot as plt"
   ]
  },
  {
   "cell_type": "markdown",
   "metadata": {},
   "source": [
    "# Import"
   ]
  },
  {
   "cell_type": "code",
   "execution_count": 4,
   "metadata": {},
   "outputs": [],
   "source": [
    "raw_data = pd.read_csv(data_root + '02-build/clean/2019q3/2019q3merged.csv')"
   ]
  },
  {
   "cell_type": "markdown",
   "metadata": {},
   "source": [
    "# Clean"
   ]
  },
  {
   "cell_type": "code",
   "execution_count": 5,
   "metadata": {},
   "outputs": [],
   "source": [
    "data = raw_data.drop('Unnamed: 0', axis = 'columns')\\\n",
    "    .assign(clean_shares = raw_data[['WeightedAverageNumberOfDilutedSharesOutstanding',\n",
    "       'WeightedAverageNumberOfSharesOutstandingBasic']].max(axis = 'columns'))\\\n",
    "    .drop(['WeightedAverageNumberOfDilutedSharesOutstanding',\n",
    "       'WeightedAverageNumberOfSharesOutstandingBasic'], axis = 'columns')\n",
    "\n",
    "data['market_cap'] = data['7_after'] * data['clean_shares']\n",
    "data = data.loc[data['market_cap'] > 0,:]\n",
    "data['market_cap_deciles'] = pd.qcut(data['market_cap'], q = 10, labels = range(10))"
   ]
  },
  {
   "cell_type": "code",
   "execution_count": 6,
   "metadata": {},
   "outputs": [
    {
     "name": "stdout",
     "output_type": "stream",
     "text": [
      "       market_cap\n",
      "count         0.0\n",
      "mean       7548.0\n",
      "std       38861.0\n",
      "min           0.0\n",
      "25%         119.0\n",
      "50%         721.0\n",
      "75%        3320.0\n",
      "max     1067083.0\n",
      "\n",
      "Figures in millions\n"
     ]
    }
   ],
   "source": [
    "print((pd.DataFrame(data.market_cap.describe())/1000000).round())\n",
    "print()\n",
    "print(\"Figures in millions\")"
   ]
  },
  {
   "cell_type": "code",
   "execution_count": 9,
   "metadata": {},
   "outputs": [],
   "source": [
    "X = data.loc[:,'AccountsPayableCurrent':'TreasuryStockValue']\\\n",
    "    .replace(0, np.nan)\n",
    "Y_price_deciles = data['market_cap_deciles']\n",
    "Y_price_change = data['per']"
   ]
  },
  {
   "cell_type": "markdown",
   "metadata": {},
   "source": [
    "# Base Model"
   ]
  },
  {
   "cell_type": "markdown",
   "metadata": {},
   "source": [
    "### Split into training and test sets"
   ]
  },
  {
   "cell_type": "code",
   "execution_count": 12,
   "metadata": {},
   "outputs": [],
   "source": [
    "X_zeros = X.fillna(0)"
   ]
  },
  {
   "cell_type": "code",
   "execution_count": 15,
   "metadata": {},
   "outputs": [],
   "source": [
    "X_train, X_test, Y_train, Y_test = model_selection.train_test_split(X_zeros,Y_price_deciles, test_size = 0.30)"
   ]
  },
  {
   "cell_type": "markdown",
   "metadata": {},
   "source": [
    "### Random Forest Classifier"
   ]
  },
  {
   "cell_type": "code",
   "execution_count": 16,
   "metadata": {},
   "outputs": [
    {
     "data": {
      "text/plain": [
       "RandomForestClassifier(bootstrap=True, class_weight=None, criterion='entropy',\n",
       "                       max_depth=None, max_features='auto', max_leaf_nodes=None,\n",
       "                       min_impurity_decrease=0.0, min_impurity_split=None,\n",
       "                       min_samples_leaf=1, min_samples_split=2,\n",
       "                       min_weight_fraction_leaf=0.0, n_estimators=100,\n",
       "                       n_jobs=None, oob_score=True, random_state=None,\n",
       "                       verbose=0, warm_start=False)"
      ]
     },
     "execution_count": 16,
     "metadata": {},
     "output_type": "execute_result"
    }
   ],
   "source": [
    "rf = ensemble.RandomForestClassifier(n_estimators = 100, criterion = 'entropy', oob_score = True)\n",
    "rf.fit(X_train, Y_train)"
   ]
  },
  {
   "cell_type": "code",
   "execution_count": 17,
   "metadata": {},
   "outputs": [],
   "source": [
    "Y_pred = rf.predict(X_test)"
   ]
  },
  {
   "cell_type": "markdown",
   "metadata": {},
   "source": [
    "### Evaluation"
   ]
  },
  {
   "cell_type": "markdown",
   "metadata": {},
   "source": [
    "We use three evaluation metrics:\n",
    "1. Accuracy\n",
    "2. Absolute mean-squared difference in classification\n",
    "3. Visual check on confusion matrix"
   ]
  },
  {
   "cell_type": "code",
   "execution_count": 46,
   "metadata": {},
   "outputs": [],
   "source": [
    "def evaluation_metrics(Y_pred, Y_test):\n",
    "    # Accuracy\n",
    "    accuracy = np.round(sum(Y_pred == Y_test)/len(Y_test), 3) * 100\n",
    "    # Absolute mean error\n",
    "    abs_mean_error = np.round(np.mean(np.abs(np.subtract(Y_pred, np.array(Y_test)))), 3)\n",
    "    \n",
    "    # Heatmap of confusion matrix\n",
    "    heatmap = sn.heatmap(metrics.confusion_matrix(Y_test, Y_pred), annot=True, linewidths=.5)\n",
    "    # fix for mpl bug that cuts off top/bottom of seaborn viz using code from quora\n",
    "    b, t = plt.ylim() # discover the values for bottom and top\n",
    "    b += 0.5 # Add 0.5 to the bottom\n",
    "    t -= 0.5 # Subtract 0.5 from the top\n",
    "    plt.ylim(b, t) # update the ylim(bottom, top) values\n",
    "    plt.xlabel(\"Actual\")\n",
    "    plt.ylabel(\"Predicted\")\n",
    "    plt.show()\n",
    "    print(\"Accuracy: %.2f%%\" %accuracy)\n",
    "    print(\"Absolute Mean Error: %.2f\" %abs_mean_error)"
   ]
  },
  {
   "cell_type": "code",
   "execution_count": 19,
   "metadata": {
    "scrolled": true
   },
   "outputs": [
    {
     "data": {
      "image/png": "[encoded data removed]",
      "text/plain": [
       "<Figure size 432x288 with 2 Axes>"
      ]
     },
     "metadata": {
      "needs_background": "light"
     },
     "output_type": "display_data"
    },
    {
     "name": "stdout",
     "output_type": "stream",
     "text": [
      "Accuracy: 46.30%\n",
      "Absolute Mean Error: 0.81\n"
     ]
    }
   ],
   "source": [
    "evaluation_metrics(Y_pred, Y_test)"
   ]
  },
  {
   "cell_type": "markdown",
   "metadata": {},
   "source": [
    "# Hypertuning with Pipeline"
   ]
  },
  {
   "cell_type": "code",
   "execution_count": 34,
   "metadata": {},
   "outputs": [],
   "source": [
    "steps = [('imputer', impute.SimpleImputer()),\n",
    "         ('scaler', preprocessing.StandardScaler()),\n",
    "         ('rf', ensemble.RandomForestClassifier())]\n",
    "\n",
    "pipeline_rf = pipeline.Pipeline(steps)\n",
    "\n",
    "parameters_scaler = dict(imputer__strategy = ['mean', 'constant'],\n",
    "                         imputer__add_indicator = [True, False],\n",
    "                         rf__n_estimators = [10,100,200,1000],\n",
    "                         rf__max_depth = [100,1000,10**10])\n",
    "\n",
    "kfolds = model_selection.KFold(n_splits = 4)"
   ]
  },
  {
   "cell_type": "code",
   "execution_count": 35,
   "metadata": {},
   "outputs": [],
   "source": [
    "grid_search = model_selection.GridSearchCV(pipeline_rf, \n",
    "                                           param_grid = parameters_scaler, \n",
    "                                           cv = kfolds, \n",
    "                                           scoring = 'accuracy')"
   ]
  },
  {
   "cell_type": "code",
   "execution_count": 40,
   "metadata": {},
   "outputs": [
    {
     "data": {
      "text/plain": [
       "GridSearchCV(cv=KFold(n_splits=4, random_state=None, shuffle=False),\n",
       "             error_score='raise-deprecating',\n",
       "             estimator=Pipeline(memory=None,\n",
       "                                steps=[('imputer',\n",
       "                                        SimpleImputer(add_indicator=False,\n",
       "                                                      copy=True,\n",
       "                                                      fill_value=None,\n",
       "                                                      missing_values=nan,\n",
       "                                                      strategy='mean',\n",
       "                                                      verbose=0)),\n",
       "                                       ('scaler',\n",
       "                                        StandardScaler(copy=True,\n",
       "                                                       with_mean=True,\n",
       "                                                       with_std=True)),\n",
       "                                       ('rf',\n",
       "                                        RandomForestClassifier(b...\n",
       "                                                               oob_score=False,\n",
       "                                                               random_state=None,\n",
       "                                                               verbose=0,\n",
       "                                                               warm_start=False))],\n",
       "                                verbose=False),\n",
       "             iid='warn', n_jobs=None,\n",
       "             param_grid={'imputer__add_indicator': [True, False],\n",
       "                         'imputer__strategy': ['mean', 'constant'],\n",
       "                         'rf__max_depth': [100, 1000, 10000000000],\n",
       "                         'rf__n_estimators': [10, 100, 200, 1000]},\n",
       "             pre_dispatch='2*n_jobs', refit=True, return_train_score=False,\n",
       "             scoring='accuracy', verbose=0)"
      ]
     },
     "execution_count": 40,
     "metadata": {},
     "output_type": "execute_result"
    }
   ],
   "source": [
    "grid_search.fit(X_train, Y_train)"
   ]
  },
  {
   "cell_type": "code",
   "execution_count": 41,
   "metadata": {},
   "outputs": [
    {
     "name": "stdout",
     "output_type": "stream",
     "text": [
      "0.4826418289585097\n"
     ]
    }
   ],
   "source": [
    "best_1 = grid_search.best_score_\n",
    "print(best_1)"
   ]
  },
  {
   "cell_type": "code",
   "execution_count": 42,
   "metadata": {},
   "outputs": [
    {
     "data": {
      "text/plain": [
       "Pipeline(memory=None,\n",
       "         steps=[('imputer',\n",
       "                 SimpleImputer(add_indicator=False, copy=True, fill_value=None,\n",
       "                               missing_values=nan, strategy='mean',\n",
       "                               verbose=0)),\n",
       "                ('scaler',\n",
       "                 StandardScaler(copy=True, with_mean=True, with_std=True)),\n",
       "                ('rf',\n",
       "                 RandomForestClassifier(bootstrap=True, class_weight=None,\n",
       "                                        criterion='gini', max_depth=1000,\n",
       "                                        max_features='auto',\n",
       "                                        max_leaf_nodes=None,\n",
       "                                        min_impurity_decrease=0.0,\n",
       "                                        min_impurity_split=None,\n",
       "                                        min_samples_leaf=1, min_samples_split=2,\n",
       "                                        min_weight_fraction_leaf=0.0,\n",
       "                                        n_estimators=1000, n_jobs=None,\n",
       "                                        oob_score=False, random_state=None,\n",
       "                                        verbose=0, warm_start=False))],\n",
       "         verbose=False)"
      ]
     },
     "execution_count": 42,
     "metadata": {},
     "output_type": "execute_result"
    }
   ],
   "source": [
    "# Check if best estimator on the bounary of any of the pipeline parameters.\n",
    "# If yes, extend parameter range.\n",
    "grid_search.best_estimator_"
   ]
  },
  {
   "cell_type": "code",
   "execution_count": 47,
   "metadata": {},
   "outputs": [
    {
     "data": {
      "image/png": "[encoded data removed]",
      "text/plain": [
       "<Figure size 432x288 with 2 Axes>"
      ]
     },
     "metadata": {
      "needs_background": "light"
     },
     "output_type": "display_data"
    },
    {
     "name": "stdout",
     "output_type": "stream",
     "text": [
      "Accuracy: 45.00%\n",
      "Absolute Mean Error: 0.82\n"
     ]
    }
   ],
   "source": [
    "Y_pred = grid_search.predict(X_test)\n",
    "evaluation_metrics(Y_pred, Y_test)"
   ]
  },
  {
   "cell_type": "markdown",
   "metadata": {},
   "source": [
    "In fact, our hypertuned parameters have a lower test-accuracy than the baseline random forest, meaning that we're on the wrong end of the bias-variance tradeoff."
   ]
  }
 ],
 "metadata": {
  "kernelspec": {
   "display_name": "Python 3",
   "language": "python",
   "name": "python3"
  },
  "language_info": {
   "codemirror_mode": {
    "name": "ipython",
    "version": 3
   },
   "file_extension": ".py",
   "mimetype": "text/x-python",
   "name": "python",
   "nbconvert_exporter": "python",
   "pygments_lexer": "ipython3",
   "version": "3.7.3"
  }
 },
 "nbformat": 4,
 "nbformat_minor": 4
}
