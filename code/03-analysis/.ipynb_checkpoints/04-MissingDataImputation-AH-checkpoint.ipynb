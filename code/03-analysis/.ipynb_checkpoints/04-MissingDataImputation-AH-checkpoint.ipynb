{
 "cells": [
  {
   "cell_type": "code",
   "execution_count": 2,
   "metadata": {},
   "outputs": [],
   "source": [
    "import pandas as pd\n",
    "import numpy as np\n",
    "import os\n",
    "import sys\n",
    "nb_dir = os.path.split(os.getcwd())[0]\n",
    "if nb_dir not in sys.path:\n",
    "    sys.path.append(nb_dir)\n",
    "from header import *"
   ]
  },
  {
   "cell_type": "code",
   "execution_count": 3,
   "metadata": {},
   "outputs": [],
   "source": [
    "data_root = initialize_data_root(\"AH\")"
   ]
  },
  {
   "cell_type": "code",
   "execution_count": 4,
   "metadata": {},
   "outputs": [],
   "source": [
    "from sklearn.linear_model import LinearRegression\n",
    "from sklearn.linear_model import LogisticRegression\n",
    "from sklearn.svm import SVC\n",
    "from sklearn import preprocessing\n",
    "from sklearn.model_selection import GridSearchCV\n",
    "from sklearn.ensemble import RandomForestClassifier\n",
    "from sklearn.tree import DecisionTreeClassifier\n",
    "\n",
    "from sklearn.model_selection import train_test_split\n",
    "from sklearn.model_selection import KFold\n",
    "\n",
    "from sklearn.metrics import roc_curve, auc\n",
    "\n",
    "import matplotlib.pyplot as plt"
   ]
  },
  {
   "cell_type": "code",
   "execution_count": 5,
   "metadata": {},
   "outputs": [],
   "source": [
    "pd.options.mode.chained_assignment = None "
   ]
  },
  {
   "cell_type": "markdown",
   "metadata": {},
   "source": [
    "### Import"
   ]
  },
  {
   "cell_type": "code",
   "execution_count": 6,
   "metadata": {},
   "outputs": [],
   "source": [
    "q3mergeddata = pd.read_csv(data_root + '02-build/clean/2019q3/2019q3_dummy.csv')"
   ]
  },
  {
   "cell_type": "code",
   "execution_count": null,
   "metadata": {},
   "outputs": [],
   "source": []
  },
  {
   "cell_type": "code",
   "execution_count": 7,
   "metadata": {},
   "outputs": [],
   "source": [
    "label_list = list(q3mergeddata.columns[11:len(q3mergeddata.columns) - 13])"
   ]
  },
  {
   "cell_type": "code",
   "execution_count": 8,
   "metadata": {},
   "outputs": [],
   "source": [
    "label_list.remove('StockholdersEquity')"
   ]
  },
  {
   "cell_type": "code",
   "execution_count": 22,
   "metadata": {},
   "outputs": [
    {
     "data": {
      "text/plain": [
       "162062"
      ]
     },
     "execution_count": 22,
     "metadata": {},
     "output_type": "execute_result"
    }
   ],
   "source": [
    "total_missing = 0\n",
    "\n",
    "for i in label_list:\n",
    "    total_missing += sum(q3mergeddata[i] == 0)  \n",
    "    \n",
    "total_missing"
   ]
  },
  {
   "cell_type": "code",
   "execution_count": 23,
   "metadata": {},
   "outputs": [
    {
     "data": {
      "text/plain": [
       "0.5097924491503564"
      ]
     },
     "execution_count": 23,
     "metadata": {},
     "output_type": "execute_result"
    }
   ],
   "source": [
    "total_missing/(q3mergeddata[label_list].shape[0]* q3mergeddata[label_list].shape[1])"
   ]
  },
  {
   "cell_type": "code",
   "execution_count": 80,
   "metadata": {},
   "outputs": [],
   "source": [
    "score = []\n",
    "for i in label_list:\n",
    "    temp = q3mergeddata.loc[q3mergeddata[i] != 0]\n",
    "    temp = temp.loc[temp.StockholdersEquity != 0] \n",
    "    lr = LinearRegression()\n",
    "    X = temp[['StockholdersEquity','Agriculture, Forestry, And Fishing', 'Construction',\\\n",
    "       'Finance, Insurance, And Real Estate', 'Manufacturing', 'Mining',\\\n",
    "       'Retail Trade', 'Services',\\\n",
    "       'Transportation, Communications, Electric, Gas, And Sanitary Services',\\\n",
    "       'Wholesale Trade']]\n",
    "    Y = temp['AccountsPayableCurrent']\n",
    "    lr.fit(X,Y)\n",
    "    score.append(lr.score(X,Y))\n",
    "    for index, row in q3mergeddata.iterrows():\n",
    "        if q3mergeddata[i][index] == 0:\n",
    "            q3mergeddata[i].iloc[index] = lr.predict(np.array([[row['StockholdersEquity'],\\\n",
    "                                                                row['Agriculture, Forestry, And Fishing'],\\\n",
    "                                                                row['Construction'],\\\n",
    "                                                                row['Finance, Insurance, And Real Estate'],\\\n",
    "                                                                row['Manufacturing'],\\\n",
    "                                                                row['Mining'],\\\n",
    "                                                                row['Retail Trade'],\\\n",
    "                                                                row['Services'],\\\n",
    "                                                                row['Transportation, Communications, Electric, Gas, And Sanitary Services'],\\\n",
    "                                                                row['Wholesale Trade']]]))"
   ]
  },
  {
   "cell_type": "code",
   "execution_count": 82,
   "metadata": {},
   "outputs": [
    {
     "data": {
      "text/plain": [
       "[0.4866171708481223,\n",
       " 0.45264400769086743,\n",
       " 0.3291314427762556,\n",
       " 0.47768875469619504,\n",
       " 0.5443135812574966,\n",
       " 0.48430738690666875,\n",
       " 0.4326239510871736,\n",
       " 0.6012304878386234,\n",
       " 0.4212705950531468,\n",
       " 0.5413522407721161,\n",
       " 0.4894826039428564,\n",
       " 0.5413778435280339,\n",
       " 0.5452125954946512,\n",
       " 0.511395840093027,\n",
       " 0.5632237676242666,\n",
       " 0.5901741349397662,\n",
       " 0.5868170762973042,\n",
       " 0.5534357679482109,\n",
       " 0.5619646340811528,\n",
       " 0.5143941486273855,\n",
       " 0.2718004949066779,\n",
       " 0.4262299016071202,\n",
       " 0.46733592379784267,\n",
       " 0.15184668167685045,\n",
       " 0.29110117893619836,\n",
       " 0.5427835664679743,\n",
       " 0.5664091059312124,\n",
       " 0.9820682185855022,\n",
       " 0.5476171991555014,\n",
       " 0.553616643435766,\n",
       " 0.20767491036986696,\n",
       " 0.4046928198069961,\n",
       " 0.39338128708518705,\n",
       " 0.5242675652333686,\n",
       " 0.44845156813106213,\n",
       " 0.5241935223545705,\n",
       " 0.5333412465947833,\n",
       " 0.46502576948754587,\n",
       " 0.24283707152035341,\n",
       " 0.698866910026588,\n",
       " 0.5388363884115268,\n",
       " 0.4432262104007296,\n",
       " 0.3737303541170071,\n",
       " 0.6957628996907959,\n",
       " 0.5366822130218509,\n",
       " 0.3483864573525799,\n",
       " 0.450405072373424,\n",
       " 0.5413570404652077,\n",
       " 0.48954427195758266,\n",
       " 0.8005710107561683,\n",
       " 0.5099623180402584,\n",
       " 0.4613228809145248,\n",
       " 0.5906994667218592,\n",
       " 0.5413901505928036,\n",
       " 0.6172380381637262,\n",
       " 0.5155427770886263,\n",
       " 0.57608005715005,\n",
       " 0.5500520136525118,\n",
       " 0.5097850496896885,\n",
       " 0.5153174434217471,\n",
       " 0.5039919022249902,\n",
       " 0.6329728597366533,\n",
       " 0.5404038174622451,\n",
       " 0.6014149854669448,\n",
       " 0.6727881757275097,\n",
       " 0.5248618350183978,\n",
       " 0.5690044696531267,\n",
       " 0.48265508118952366,\n",
       " 0.34651714032701075,\n",
       " 0.8405100398920202,\n",
       " 0.574348684656203,\n",
       " 0.45218677345996683,\n",
       " 0.3769054620558815,\n",
       " 0.5416722575830748,\n",
       " 0.5328681377766191,\n",
       " 0.30696129206120826,\n",
       " 0.5421674988044114,\n",
       " 0.5374420661679559,\n",
       " 0.38709284657709464,\n",
       " 0.7577879330027962,\n",
       " 0.4715165396679428,\n",
       " 0.3217592459995108,\n",
       " 0.6814825484367657,\n",
       " 0.6462745681186741,\n",
       " 0.600699814453044,\n",
       " 0.5034826320735408,\n",
       " 0.552218860450763]"
      ]
     },
     "execution_count": 82,
     "metadata": {},
     "output_type": "execute_result"
    }
   ],
   "source": [
    "score"
   ]
  },
  {
   "cell_type": "code",
   "execution_count": 85,
   "metadata": {},
   "outputs": [],
   "source": [
    "q3mergeddata.to_csv(data_root+'q32019imputeddata.csv', index = False)"
   ]
  },
  {
   "cell_type": "code",
   "execution_count": null,
   "metadata": {},
   "outputs": [],
   "source": []
  }
 ],
 "metadata": {
  "kernelspec": {
   "display_name": "Python 3",
   "language": "python",
   "name": "python3"
  },
  "language_info": {
   "codemirror_mode": {
    "name": "ipython",
    "version": 3
   },
   "file_extension": ".py",
   "mimetype": "text/x-python",
   "name": "python",
   "nbconvert_exporter": "python",
   "pygments_lexer": "ipython3",
   "version": "3.7.3"
  }
 },
 "nbformat": 4,
 "nbformat_minor": 4
}
