{
 "cells": [
  {
   "cell_type": "markdown",
   "metadata": {},
   "source": [
    "# Program Header"
   ]
  },
  {
   "cell_type": "code",
   "execution_count": 1,
   "metadata": {},
   "outputs": [],
   "source": [
    "import pandas as pd\n",
    "import numpy as np\n",
    "import os\n",
    "import sys\n",
    "nb_dir = os.path.split(os.getcwd())[0]\n",
    "if nb_dir not in sys.path:\n",
    "    sys.path.append(nb_dir)\n",
    "from header import *"
   ]
  },
  {
   "cell_type": "code",
   "execution_count": 2,
   "metadata": {},
   "outputs": [],
   "source": [
    "data_root = initialize_data_root(\"AH\")"
   ]
  },
  {
   "cell_type": "code",
   "execution_count": 3,
   "metadata": {},
   "outputs": [],
   "source": [
    "from sklearn.linear_model import LinearRegression\n",
    "from sklearn.metrics import mean_squared_error, r2_score\n",
    "\n",
    "from sklearn.linear_model import LogisticRegression\n",
    "from sklearn.svm import SVC\n",
    "from sklearn import preprocessing\n",
    "from sklearn.ensemble import RandomForestClassifier\n",
    "from sklearn.tree import DecisionTreeClassifier\n",
    "\n",
    "from sklearn.model_selection import train_test_split\n",
    "from sklearn.model_selection import KFold\n",
    "\n",
    "from sklearn.metrics import roc_curve, auc\n",
    "\n",
    "import matplotlib.pyplot as plt"
   ]
  },
  {
   "cell_type": "markdown",
   "metadata": {},
   "source": [
    "# Import"
   ]
  },
  {
   "cell_type": "code",
   "execution_count": 13,
   "metadata": {},
   "outputs": [],
   "source": [
    "q3mergeddata = pd.read_csv(data_root + '02-build/clean/2019q3/2019q3merged.csv')"
   ]
  },
  {
   "cell_type": "code",
   "execution_count": 18,
   "metadata": {
    "collapsed": true,
    "jupyter": {
     "outputs_hidden": true
    }
   },
   "outputs": [
    {
     "data": {
      "text/html": [
       "<div>\n",
       "<style scoped>\n",
       "    .dataframe tbody tr th:only-of-type {\n",
       "        vertical-align: middle;\n",
       "    }\n",
       "\n",
       "    .dataframe tbody tr th {\n",
       "        vertical-align: top;\n",
       "    }\n",
       "\n",
       "    .dataframe thead th {\n",
       "        text-align: right;\n",
       "    }\n",
       "</style>\n",
       "<table border=\"1\" class=\"dataframe\">\n",
       "  <thead>\n",
       "    <tr style=\"text-align: right;\">\n",
       "      <th></th>\n",
       "      <th>Unnamed: 0</th>\n",
       "      <th>dyrqt</th>\n",
       "      <th>cik</th>\n",
       "      <th>sic</th>\n",
       "      <th>AccountsPayableCurrent</th>\n",
       "      <th>AccountsReceivableNetCurrent</th>\n",
       "      <th>AccruedLiabilitiesCurrent</th>\n",
       "      <th>AccumulatedDepreciationDepletionAndAmortizationPropertyPlantAndEquipment</th>\n",
       "      <th>AccumulatedOtherComprehensiveIncomeLoss</th>\n",
       "      <th>AdditionalPaidInCapital</th>\n",
       "      <th>...</th>\n",
       "      <th>SubleaseIncome</th>\n",
       "      <th>TotalLiabilities</th>\n",
       "      <th>TreasuryStockShares</th>\n",
       "      <th>TreasuryStockValue</th>\n",
       "      <th>WeightedAverageNumberOfDilutedSharesOutstanding</th>\n",
       "      <th>WeightedAverageNumberOfSharesOutstandingBasic</th>\n",
       "      <th>7_before</th>\n",
       "      <th>7_after</th>\n",
       "      <th>difference</th>\n",
       "      <th>per</th>\n",
       "    </tr>\n",
       "  </thead>\n",
       "  <tbody>\n",
       "    <tr>\n",
       "      <th>count</th>\n",
       "      <td>3654.00000</td>\n",
       "      <td>3654.000000</td>\n",
       "      <td>3.654000e+03</td>\n",
       "      <td>3654.000000</td>\n",
       "      <td>3.654000e+03</td>\n",
       "      <td>3.654000e+03</td>\n",
       "      <td>3.654000e+03</td>\n",
       "      <td>3.654000e+03</td>\n",
       "      <td>3.654000e+03</td>\n",
       "      <td>3.654000e+03</td>\n",
       "      <td>...</td>\n",
       "      <td>3.654000e+03</td>\n",
       "      <td>3.654000e+03</td>\n",
       "      <td>3.654000e+03</td>\n",
       "      <td>3.654000e+03</td>\n",
       "      <td>3.654000e+03</td>\n",
       "      <td>3.654000e+03</td>\n",
       "      <td>3654.000000</td>\n",
       "      <td>3654.000000</td>\n",
       "      <td>3654.000000</td>\n",
       "      <td>3654.000000</td>\n",
       "    </tr>\n",
       "    <tr>\n",
       "      <th>mean</th>\n",
       "      <td>1826.50000</td>\n",
       "      <td>201901.926929</td>\n",
       "      <td>1.080462e+06</td>\n",
       "      <td>4754.451560</td>\n",
       "      <td>3.422570e+08</td>\n",
       "      <td>2.472407e+08</td>\n",
       "      <td>1.281292e+08</td>\n",
       "      <td>7.657287e+08</td>\n",
       "      <td>-1.428868e+08</td>\n",
       "      <td>1.320539e+09</td>\n",
       "      <td>...</td>\n",
       "      <td>1.346614e+06</td>\n",
       "      <td>4.251613e+09</td>\n",
       "      <td>9.424437e+09</td>\n",
       "      <td>6.589057e+08</td>\n",
       "      <td>1.617906e+08</td>\n",
       "      <td>9.752382e+07</td>\n",
       "      <td>42.675712</td>\n",
       "      <td>42.236157</td>\n",
       "      <td>-0.439555</td>\n",
       "      <td>-0.013332</td>\n",
       "    </tr>\n",
       "    <tr>\n",
       "      <th>std</th>\n",
       "      <td>1054.96327</td>\n",
       "      <td>4.327906</td>\n",
       "      <td>5.026887e+05</td>\n",
       "      <td>1949.270141</td>\n",
       "      <td>2.014718e+09</td>\n",
       "      <td>1.121960e+09</td>\n",
       "      <td>8.929623e+08</td>\n",
       "      <td>5.474543e+09</td>\n",
       "      <td>1.109331e+09</td>\n",
       "      <td>4.746623e+09</td>\n",
       "      <td>...</td>\n",
       "      <td>1.638308e+07</td>\n",
       "      <td>3.471621e+10</td>\n",
       "      <td>5.687666e+11</td>\n",
       "      <td>5.653633e+09</td>\n",
       "      <td>1.947937e+09</td>\n",
       "      <td>3.395596e+08</td>\n",
       "      <td>117.501430</td>\n",
       "      <td>115.877852</td>\n",
       "      <td>6.494836</td>\n",
       "      <td>0.122079</td>\n",
       "    </tr>\n",
       "    <tr>\n",
       "      <th>min</th>\n",
       "      <td>0.00000</td>\n",
       "      <td>201704.000000</td>\n",
       "      <td>1.750000e+03</td>\n",
       "      <td>100.000000</td>\n",
       "      <td>0.000000e+00</td>\n",
       "      <td>0.000000e+00</td>\n",
       "      <td>0.000000e+00</td>\n",
       "      <td>0.000000e+00</td>\n",
       "      <td>-2.884100e+10</td>\n",
       "      <td>-8.903000e+08</td>\n",
       "      <td>...</td>\n",
       "      <td>-1.600000e+07</td>\n",
       "      <td>0.000000e+00</td>\n",
       "      <td>-3.000000e+01</td>\n",
       "      <td>-2.712552e+06</td>\n",
       "      <td>0.000000e+00</td>\n",
       "      <td>0.000000e+00</td>\n",
       "      <td>0.000100</td>\n",
       "      <td>0.000100</td>\n",
       "      <td>-198.360596</td>\n",
       "      <td>-0.735974</td>\n",
       "    </tr>\n",
       "    <tr>\n",
       "      <th>25%</th>\n",
       "      <td>913.25000</td>\n",
       "      <td>201902.000000</td>\n",
       "      <td>8.368838e+05</td>\n",
       "      <td>2851.000000</td>\n",
       "      <td>5.552500e+05</td>\n",
       "      <td>0.000000e+00</td>\n",
       "      <td>0.000000e+00</td>\n",
       "      <td>0.000000e+00</td>\n",
       "      <td>-1.733850e+07</td>\n",
       "      <td>5.036150e+07</td>\n",
       "      <td>...</td>\n",
       "      <td>0.000000e+00</td>\n",
       "      <td>5.992677e+06</td>\n",
       "      <td>0.000000e+00</td>\n",
       "      <td>0.000000e+00</td>\n",
       "      <td>1.286747e+07</td>\n",
       "      <td>0.000000e+00</td>\n",
       "      <td>5.952656</td>\n",
       "      <td>5.785000</td>\n",
       "      <td>-0.926235</td>\n",
       "      <td>-0.057550</td>\n",
       "    </tr>\n",
       "    <tr>\n",
       "      <th>50%</th>\n",
       "      <td>1826.50000</td>\n",
       "      <td>201902.000000</td>\n",
       "      <td>1.115025e+06</td>\n",
       "      <td>4813.000000</td>\n",
       "      <td>9.059500e+06</td>\n",
       "      <td>2.597068e+06</td>\n",
       "      <td>5.818775e+05</td>\n",
       "      <td>0.000000e+00</td>\n",
       "      <td>-1.000000e+03</td>\n",
       "      <td>2.605400e+08</td>\n",
       "      <td>...</td>\n",
       "      <td>0.000000e+00</td>\n",
       "      <td>2.081895e+08</td>\n",
       "      <td>0.000000e+00</td>\n",
       "      <td>0.000000e+00</td>\n",
       "      <td>3.734500e+07</td>\n",
       "      <td>2.152873e+07</td>\n",
       "      <td>18.685956</td>\n",
       "      <td>18.253000</td>\n",
       "      <td>-0.079570</td>\n",
       "      <td>-0.011142</td>\n",
       "    </tr>\n",
       "    <tr>\n",
       "      <th>75%</th>\n",
       "      <td>2739.75000</td>\n",
       "      <td>201902.000000</td>\n",
       "      <td>1.505036e+06</td>\n",
       "      <td>6331.000000</td>\n",
       "      <td>1.006935e+08</td>\n",
       "      <td>9.306000e+07</td>\n",
       "      <td>2.675975e+07</td>\n",
       "      <td>9.507925e+07</td>\n",
       "      <td>0.000000e+00</td>\n",
       "      <td>8.938802e+08</td>\n",
       "      <td>...</td>\n",
       "      <td>0.000000e+00</td>\n",
       "      <td>1.622725e+09</td>\n",
       "      <td>2.119002e+05</td>\n",
       "      <td>7.932020e+06</td>\n",
       "      <td>9.266450e+07</td>\n",
       "      <td>7.444650e+07</td>\n",
       "      <td>45.924282</td>\n",
       "      <td>45.254580</td>\n",
       "      <td>0.321500</td>\n",
       "      <td>0.024123</td>\n",
       "    </tr>\n",
       "    <tr>\n",
       "      <th>max</th>\n",
       "      <td>3653.00000</td>\n",
       "      <td>201903.000000</td>\n",
       "      <td>1.773383e+06</td>\n",
       "      <td>8744.000000</td>\n",
       "      <td>4.587100e+10</td>\n",
       "      <td>2.952400e+10</td>\n",
       "      <td>2.614000e+10</td>\n",
       "      <td>2.028420e+11</td>\n",
       "      <td>2.398200e+10</td>\n",
       "      <td>1.251090e+11</td>\n",
       "      <td>...</td>\n",
       "      <td>4.430000e+08</td>\n",
       "      <td>1.723351e+12</td>\n",
       "      <td>3.438100e+13</td>\n",
       "      <td>2.259700e+11</td>\n",
       "      <td>9.459960e+10</td>\n",
       "      <td>7.323000e+09</td>\n",
       "      <td>4082.174902</td>\n",
       "      <td>3883.814307</td>\n",
       "      <td>70.534009</td>\n",
       "      <td>2.311597</td>\n",
       "    </tr>\n",
       "  </tbody>\n",
       "</table>\n",
       "<p>8 rows × 96 columns</p>\n",
       "</div>"
      ],
      "text/plain": [
       "       Unnamed: 0          dyrqt           cik          sic  \\\n",
       "count  3654.00000    3654.000000  3.654000e+03  3654.000000   \n",
       "mean   1826.50000  201901.926929  1.080462e+06  4754.451560   \n",
       "std    1054.96327       4.327906  5.026887e+05  1949.270141   \n",
       "min       0.00000  201704.000000  1.750000e+03   100.000000   \n",
       "25%     913.25000  201902.000000  8.368838e+05  2851.000000   \n",
       "50%    1826.50000  201902.000000  1.115025e+06  4813.000000   \n",
       "75%    2739.75000  201902.000000  1.505036e+06  6331.000000   \n",
       "max    3653.00000  201903.000000  1.773383e+06  8744.000000   \n",
       "\n",
       "       AccountsPayableCurrent  AccountsReceivableNetCurrent  \\\n",
       "count            3.654000e+03                  3.654000e+03   \n",
       "mean             3.422570e+08                  2.472407e+08   \n",
       "std              2.014718e+09                  1.121960e+09   \n",
       "min              0.000000e+00                  0.000000e+00   \n",
       "25%              5.552500e+05                  0.000000e+00   \n",
       "50%              9.059500e+06                  2.597068e+06   \n",
       "75%              1.006935e+08                  9.306000e+07   \n",
       "max              4.587100e+10                  2.952400e+10   \n",
       "\n",
       "       AccruedLiabilitiesCurrent  \\\n",
       "count               3.654000e+03   \n",
       "mean                1.281292e+08   \n",
       "std                 8.929623e+08   \n",
       "min                 0.000000e+00   \n",
       "25%                 0.000000e+00   \n",
       "50%                 5.818775e+05   \n",
       "75%                 2.675975e+07   \n",
       "max                 2.614000e+10   \n",
       "\n",
       "       AccumulatedDepreciationDepletionAndAmortizationPropertyPlantAndEquipment  \\\n",
       "count                                       3.654000e+03                          \n",
       "mean                                        7.657287e+08                          \n",
       "std                                         5.474543e+09                          \n",
       "min                                         0.000000e+00                          \n",
       "25%                                         0.000000e+00                          \n",
       "50%                                         0.000000e+00                          \n",
       "75%                                         9.507925e+07                          \n",
       "max                                         2.028420e+11                          \n",
       "\n",
       "       AccumulatedOtherComprehensiveIncomeLoss  AdditionalPaidInCapital  ...  \\\n",
       "count                             3.654000e+03             3.654000e+03  ...   \n",
       "mean                             -1.428868e+08             1.320539e+09  ...   \n",
       "std                               1.109331e+09             4.746623e+09  ...   \n",
       "min                              -2.884100e+10            -8.903000e+08  ...   \n",
       "25%                              -1.733850e+07             5.036150e+07  ...   \n",
       "50%                              -1.000000e+03             2.605400e+08  ...   \n",
       "75%                               0.000000e+00             8.938802e+08  ...   \n",
       "max                               2.398200e+10             1.251090e+11  ...   \n",
       "\n",
       "       SubleaseIncome  TotalLiabilities  TreasuryStockShares  \\\n",
       "count    3.654000e+03      3.654000e+03         3.654000e+03   \n",
       "mean     1.346614e+06      4.251613e+09         9.424437e+09   \n",
       "std      1.638308e+07      3.471621e+10         5.687666e+11   \n",
       "min     -1.600000e+07      0.000000e+00        -3.000000e+01   \n",
       "25%      0.000000e+00      5.992677e+06         0.000000e+00   \n",
       "50%      0.000000e+00      2.081895e+08         0.000000e+00   \n",
       "75%      0.000000e+00      1.622725e+09         2.119002e+05   \n",
       "max      4.430000e+08      1.723351e+12         3.438100e+13   \n",
       "\n",
       "       TreasuryStockValue  WeightedAverageNumberOfDilutedSharesOutstanding  \\\n",
       "count        3.654000e+03                                     3.654000e+03   \n",
       "mean         6.589057e+08                                     1.617906e+08   \n",
       "std          5.653633e+09                                     1.947937e+09   \n",
       "min         -2.712552e+06                                     0.000000e+00   \n",
       "25%          0.000000e+00                                     1.286747e+07   \n",
       "50%          0.000000e+00                                     3.734500e+07   \n",
       "75%          7.932020e+06                                     9.266450e+07   \n",
       "max          2.259700e+11                                     9.459960e+10   \n",
       "\n",
       "       WeightedAverageNumberOfSharesOutstandingBasic     7_before  \\\n",
       "count                                   3.654000e+03  3654.000000   \n",
       "mean                                    9.752382e+07    42.675712   \n",
       "std                                     3.395596e+08   117.501430   \n",
       "min                                     0.000000e+00     0.000100   \n",
       "25%                                     0.000000e+00     5.952656   \n",
       "50%                                     2.152873e+07    18.685956   \n",
       "75%                                     7.444650e+07    45.924282   \n",
       "max                                     7.323000e+09  4082.174902   \n",
       "\n",
       "           7_after   difference          per  \n",
       "count  3654.000000  3654.000000  3654.000000  \n",
       "mean     42.236157    -0.439555    -0.013332  \n",
       "std     115.877852     6.494836     0.122079  \n",
       "min       0.000100  -198.360596    -0.735974  \n",
       "25%       5.785000    -0.926235    -0.057550  \n",
       "50%      18.253000    -0.079570    -0.011142  \n",
       "75%      45.254580     0.321500     0.024123  \n",
       "max    3883.814307    70.534009     2.311597  \n",
       "\n",
       "[8 rows x 96 columns]"
      ]
     },
     "execution_count": 18,
     "metadata": {},
     "output_type": "execute_result"
    }
   ],
   "source": [
    "q3mergeddata.describe()"
   ]
  },
  {
   "cell_type": "code",
   "execution_count": 19,
   "metadata": {
    "jupyter": {
     "source_hidden": true
    }
   },
   "outputs": [
    {
     "data": {
      "text/plain": [
       "(3654, 102)"
      ]
     },
     "execution_count": 19,
     "metadata": {},
     "output_type": "execute_result"
    }
   ],
   "source": [
    "q3mergeddata.shape"
   ]
  },
  {
   "cell_type": "markdown",
   "metadata": {},
   "source": [
    "### Logistic Regression for stock price prediction, nothing done with data"
   ]
  },
  {
   "cell_type": "code",
   "execution_count": 19,
   "metadata": {},
   "outputs": [],
   "source": [
    "labels = list(q3mergeddata.columns[10:99])"
   ]
  },
  {
   "cell_type": "code",
   "execution_count": 20,
   "metadata": {},
   "outputs": [
    {
     "name": "stderr",
     "output_type": "stream",
     "text": [
      "/Applications/anaconda3/lib/python3.7/site-packages/sklearn/preprocessing/data.py:172: UserWarning: Numerical issues were encountered when centering the data and might not be solved. Dataset may contain too large values. You may need to prescale your features.\n",
      "  warnings.warn(\"Numerical issues were encountered \"\n"
     ]
    }
   ],
   "source": [
    "q3mergeddata['movement'] = np.where(q3mergeddata['difference'] >= 0 , int(1.00), int(0.00))\n",
    "q3mergeddata_processed  = pd.DataFrame(preprocessing.scale(q3mergeddata[q3mergeddata.columns[10:len(q3mergeddata.columns) - 4]]), columns =q3mergeddata.columns[10:len(q3mergeddata.columns) - 4] )\n"
   ]
  },
  {
   "cell_type": "code",
   "execution_count": 21,
   "metadata": {},
   "outputs": [],
   "source": [
    "X = pd.DataFrame(q3mergeddata[labels].copy())\n",
    "Y = pd.DataFrame(q3mergeddata['movement'].copy())\n",
    "\n",
    "X_train, X_test, Y_train, Y_test = train_test_split(X,Y, test_size = 0.30)"
   ]
  },
  {
   "cell_type": "code",
   "execution_count": 22,
   "metadata": {},
   "outputs": [
    {
     "name": "stderr",
     "output_type": "stream",
     "text": [
      "/Applications/anaconda3/lib/python3.7/site-packages/sklearn/linear_model/logistic.py:432: FutureWarning: Default solver will be changed to 'lbfgs' in 0.22. Specify a solver to silence this warning.\n",
      "  FutureWarning)\n"
     ]
    },
    {
     "data": {
      "image/png": "[encoded data removed]",
      "text/plain": [
       "<Figure size 432x288 with 1 Axes>"
      ]
     },
     "metadata": {
      "needs_background": "light"
     },
     "output_type": "display_data"
    }
   ],
   "source": [
    "logreg = LogisticRegression()\n",
    "logreg.fit(X_train, np.ravel(Y_train))\n",
    "\n",
    "log_decision = logreg.decision_function(X_test)\n",
    "log_fpr, log_tpr, _  = roc_curve(Y_test, log_decision)\n",
    "\n",
    "log_auc = auc(log_fpr, log_tpr)\n",
    "\n",
    "plt.figure()\n",
    "plt.plot(log_fpr, log_tpr, label = 'AUC for Logistic:'+\"{0:.4f}\".format(log_auc))\n",
    "plt.plot([0, 1], [0, 1], color='navy', linestyle='--')\n",
    "plt.xlim([0.0, 1.0])\n",
    "plt.ylim([0.0, 1.05])\n",
    "plt.xlabel('False Positive Rate')\n",
    "plt.ylabel('True Positive Rate')\n",
    "plt.title('ROC Curve for Stock Price Movement a Week after Filing')\n",
    "plt.legend(loc=\"lower right\")\n",
    "plt.savefig(data_root + 'ROC for Stock Movement a Week after Filing.png')\n"
   ]
  },
  {
   "cell_type": "code",
   "execution_count": 23,
   "metadata": {},
   "outputs": [],
   "source": [
    "sum_stats = q3mergeddata.describe()\n",
    "\n",
    "for i in labels:\n",
    "    if(sum_stats[i].loc['50%'] == 0):\n",
    "        q3mergeddata = q3mergeddata.drop(i, axis = 1)"
   ]
  },
  {
   "cell_type": "code",
   "execution_count": 24,
   "metadata": {},
   "outputs": [],
   "source": [
    "labels = q3mergeddata.columns[10:len(q3mergeddata.columns) - 5]\n",
    "\n",
    "X = pd.DataFrame(q3mergeddata[labels].copy())\n",
    "Y = pd.DataFrame(q3mergeddata['movement'].copy())\n",
    "\n",
    "X_train, X_test, Y_train, Y_test = train_test_split(X,Y, test_size = 0.30)"
   ]
  },
  {
   "cell_type": "code",
   "execution_count": 25,
   "metadata": {},
   "outputs": [
    {
     "name": "stderr",
     "output_type": "stream",
     "text": [
      "/Applications/anaconda3/lib/python3.7/site-packages/sklearn/linear_model/logistic.py:432: FutureWarning: Default solver will be changed to 'lbfgs' in 0.22. Specify a solver to silence this warning.\n",
      "  FutureWarning)\n"
     ]
    },
    {
     "data": {
      "image/png": "[encoded data removed]",
      "text/plain": [
       "<Figure size 432x288 with 1 Axes>"
      ]
     },
     "metadata": {
      "needs_background": "light"
     },
     "output_type": "display_data"
    }
   ],
   "source": [
    "logreg = LogisticRegression()\n",
    "logreg.fit(X_train, np.ravel(Y_train))\n",
    "\n",
    "log_decision = logreg.decision_function(X_test)\n",
    "log_fpr, log_tpr, _  = roc_curve(Y_test, log_decision)\n",
    "\n",
    "log_auc = auc(log_fpr, log_tpr)\n",
    "\n",
    "plt.figure()\n",
    "plt.plot(log_fpr, log_tpr, label = 'AUC for Logistic:'+\"{0:.4f}\".format(log_auc))\n",
    "plt.plot([0, 1], [0, 1], color='navy', linestyle='--')\n",
    "plt.xlim([0.0, 1.0])\n",
    "plt.ylim([0.0, 1.05])\n",
    "plt.xlabel('False Positive Rate')\n",
    "plt.ylabel('True Positive Rate')\n",
    "plt.title('ROC Curve for Stock Price Movement a Week after Filing')\n",
    "plt.legend(loc=\"lower right\")\n",
    "plt.savefig(data_root + 'ROC for Stock Movement a Week after Filing.png')\n"
   ]
  },
  {
   "cell_type": "code",
   "execution_count": 26,
   "metadata": {},
   "outputs": [
    {
     "data": {
      "text/plain": [
       "DecisionTreeClassifier(class_weight=None, criterion='entropy', max_depth=None,\n",
       "                       max_features=None, max_leaf_nodes=None,\n",
       "                       min_impurity_decrease=0.0, min_impurity_split=None,\n",
       "                       min_samples_leaf=1, min_samples_split=2,\n",
       "                       min_weight_fraction_leaf=0.0, presort=False,\n",
       "                       random_state=None, splitter='best')"
      ]
     },
     "execution_count": 26,
     "metadata": {},
     "output_type": "execute_result"
    }
   ],
   "source": [
    "dt = DecisionTreeClassifier(criterion = 'entropy')\n",
    "dt.fit(X_train, Y_train)"
   ]
  },
  {
   "cell_type": "code",
   "execution_count": 27,
   "metadata": {},
   "outputs": [
    {
     "data": {
      "image/png": "[encoded data removed]",
      "text/plain": [
       "<Figure size 720x360 with 1 Axes>"
      ]
     },
     "metadata": {
      "needs_background": "light"
     },
     "output_type": "display_data"
    }
   ],
   "source": [
    "importance = dt.feature_importances_\n",
    "indices = np.argsort(importance)\n",
    "\n",
    "plt.figure(figsize=(10,5))\n",
    "plt.title(\"Feature Importance\")\n",
    "plt.bar(X_train.columns[indices], importance[indices], \n",
    "        color = 'b', align = 'center')\n",
    "plt.xticks(range(X.shape[1]), X.columns[indices])\n",
    "plt.xlim([-1, X.shape[1]])\n",
    "plt.show()"
   ]
  },
  {
   "cell_type": "code",
   "execution_count": 15,
   "metadata": {},
   "outputs": [],
   "source": [
    "for i in range(len(importance[indices])):\n",
    "    if importance[indices][i] == 0:\n",
    "        q3mergeddata = q3mergeddata.drop(X_train.columns[indices][i], axis = 1)"
   ]
  },
  {
   "cell_type": "code",
   "execution_count": 16,
   "metadata": {},
   "outputs": [],
   "source": [
    "labels = q3mergeddata.columns[10:len(q3mergeddata.columns) - 5]\n",
    "\n",
    "X = pd.DataFrame(q3mergeddata[labels].copy())\n",
    "Y = pd.DataFrame(q3mergeddata['movement'].copy())\n",
    "\n",
    "X_train, X_test, Y_train, Y_test = train_test_split(X,Y, test_size = 0.30)"
   ]
  },
  {
   "cell_type": "code",
   "execution_count": 17,
   "metadata": {},
   "outputs": [
    {
     "name": "stderr",
     "output_type": "stream",
     "text": [
      "/Applications/anaconda3/lib/python3.7/site-packages/sklearn/linear_model/logistic.py:432: FutureWarning: Default solver will be changed to 'lbfgs' in 0.22. Specify a solver to silence this warning.\n",
      "  FutureWarning)\n"
     ]
    },
    {
     "data": {
      "image/png": "[encoded data removed]",
      "text/plain": [
       "<Figure size 432x288 with 1 Axes>"
      ]
     },
     "metadata": {
      "needs_background": "light"
     },
     "output_type": "display_data"
    }
   ],
   "source": [
    "logreg = LogisticRegression()\n",
    "logreg.fit(X_train, np.ravel(Y_train))\n",
    "\n",
    "log_decision = logreg.decision_function(X_test)\n",
    "log_fpr, log_tpr, _  = roc_curve(Y_test, log_decision)\n",
    "\n",
    "log_auc = auc(log_fpr, log_tpr)\n",
    "\n",
    "plt.figure()\n",
    "plt.plot(log_fpr, log_tpr, label = 'AUC for Logistic:'+\"{0:.4f}\".format(log_auc))\n",
    "plt.plot([0, 1], [0, 1], color='navy', linestyle='--')\n",
    "plt.xlim([0.0, 1.0])\n",
    "plt.ylim([0.0, 1.05])\n",
    "plt.xlabel('False Positive Rate')\n",
    "plt.ylabel('True Positive Rate')\n",
    "plt.title('ROC Curve for Stock Price Movement a Week after Filing')\n",
    "plt.legend(loc=\"lower right\")\n",
    "plt.savefig(data_root + 'ROC for Stock Movement a Week after Filing.png')"
   ]
  },
  {
   "cell_type": "markdown",
   "metadata": {},
   "source": [
    "Another attempt where dummy variable for missing variables was imputed, and the mean of each variable was replaced for 0 values. Restart the kernel and import data and go straight to this if want to try."
   ]
  },
  {
   "cell_type": "code",
   "execution_count": 26,
   "metadata": {},
   "outputs": [],
   "source": [
    "for i in labels:\n",
    "    q3mergeddata[i+'_mv'] = np.where(q3mergeddata[i] == 0 , 1, 0)\n",
    "    q3mergeddata[i] = q3mergeddata[i].replace(0, q3mergeddata[i].mean(skipna = True))"
   ]
  },
  {
   "cell_type": "code",
   "execution_count": 27,
   "metadata": {},
   "outputs": [],
   "source": [
    "x = len(labels)\n",
    "for i in range(x):\n",
    "    labels.append(labels[i]+'_mv')"
   ]
  },
  {
   "cell_type": "code",
   "execution_count": 28,
   "metadata": {},
   "outputs": [],
   "source": [
    "X = pd.DataFrame(q3mergeddata[labels].copy())\n",
    "Y = pd.DataFrame(q3mergeddata['movement'].copy())\n",
    "\n",
    "X_train, X_test, Y_train, Y_test = train_test_split(X,Y, test_size = 0.30)"
   ]
  },
  {
   "cell_type": "code",
   "execution_count": 29,
   "metadata": {},
   "outputs": [
    {
     "name": "stderr",
     "output_type": "stream",
     "text": [
      "/Applications/anaconda3/lib/python3.7/site-packages/sklearn/linear_model/logistic.py:432: FutureWarning: Default solver will be changed to 'lbfgs' in 0.22. Specify a solver to silence this warning.\n",
      "  FutureWarning)\n"
     ]
    },
    {
     "data": {
      "image/png": "[encoded data removed]",
      "text/plain": [
       "<Figure size 432x288 with 1 Axes>"
      ]
     },
     "metadata": {
      "needs_background": "light"
     },
     "output_type": "display_data"
    }
   ],
   "source": [
    "logreg = LogisticRegression()\n",
    "logreg.fit(X_train, np.ravel(Y_train))\n",
    "\n",
    "log_decision = logreg.decision_function(X_test)\n",
    "log_fpr, log_tpr, _  = roc_curve(Y_test, log_decision)\n",
    "\n",
    "log_auc = auc(log_fpr, log_tpr)\n",
    "\n",
    "plt.figure()\n",
    "plt.plot(log_fpr, log_tpr, label = 'auc:'+str(log_auc))\n",
    "plt.plot([0, 1], [0, 1], color='navy', linestyle='--')\n",
    "plt.xlim([0.0, 1.0])\n",
    "plt.ylim([0.0, 1.05])\n",
    "plt.xlabel('False Positive Rate')\n",
    "plt.ylabel('True Positive Rate')\n",
    "plt.title('Receiver operating characteristic example')\n",
    "plt.legend(loc=\"lower right\")\n",
    "plt.show()\n"
   ]
  },
  {
   "cell_type": "markdown",
   "metadata": {},
   "source": [
    "### Predict Company Size, Rerun import before doing this!\n",
    "\n",
    "Predict Company Size Import Data"
   ]
  },
  {
   "cell_type": "code",
   "execution_count": null,
   "metadata": {},
   "outputs": [],
   "source": [
    "q3mergeddata['Clean_Number_of_Shares'] = q3mergeddata[['WeightedAverageNumberOfDilutedSharesOutstanding',\n",
    "       'WeightedAverageNumberOfSharesOutstandingBasic']].max(axis = 1)\n",
    "\n",
    "q3mergeddata['Clean_Number_of_Shares'] = q3mergeddata[['Clean_Number_of_Shares',\n",
    "                                                       'CommonStockSharesOutstanding']].max(axis = 1)\n",
    "\n",
    "q3mergeddata['Company_Value'] = q3mergeddata['Clean_Number_of_Shares'] * q3mergeddata['7_after']\n",
    "q3mergeddata = q3mergeddata.drop(q3mergeddata[q3mergeddata.Company_Value == 0].index)\n",
    "q3mergeddata = q3mergeddata.drop(['CommonStockSharesOutstanding','WeightedAverageNumberOfDilutedSharesOutstanding','WeightedAverageNumberOfSharesOutstandingBasic' ], axis = 1)\n",
    "q3mergeddata['Company_Size'] = np.where(q3mergeddata['Company_Value'] > 5000000000, 1, 0)"
   ]
  },
  {
   "cell_type": "code",
   "execution_count": 6,
   "metadata": {},
   "outputs": [
    {
     "name": "stderr",
     "output_type": "stream",
     "text": [
      "/Applications/anaconda3/lib/python3.7/site-packages/sklearn/preprocessing/data.py:172: UserWarning: Numerical issues were encountered when centering the data and might not be solved. Dataset may contain too large values. You may need to prescale your features.\n",
      "  warnings.warn(\"Numerical issues were encountered \"\n"
     ]
    }
   ],
   "source": [
    "q3mergeddata_processed  = pd.DataFrame(preprocessing.scale(q3mergeddata[q3mergeddata.columns[10:len(q3mergeddata.columns) - 7]]), columns =q3mergeddata.columns[10:len(q3mergeddata.columns) - 7] )"
   ]
  },
  {
   "cell_type": "code",
   "execution_count": 7,
   "metadata": {},
   "outputs": [],
   "source": [
    "X = pd.DataFrame(q3mergeddata_processed.copy())\n",
    "Y = pd.DataFrame(q3mergeddata['Company_Size'].copy())\n",
    "\n",
    "X_train, X_test, Y_train, Y_test = train_test_split(X,Y, test_size = 0.30)"
   ]
  },
  {
   "cell_type": "code",
   "execution_count": 8,
   "metadata": {
    "scrolled": true
   },
   "outputs": [
    {
     "name": "stderr",
     "output_type": "stream",
     "text": [
      "/Applications/anaconda3/lib/python3.7/site-packages/sklearn/linear_model/logistic.py:432: FutureWarning: Default solver will be changed to 'lbfgs' in 0.22. Specify a solver to silence this warning.\n",
      "  FutureWarning)\n"
     ]
    }
   ],
   "source": [
    "logreg = LogisticRegression()\n",
    "logreg.fit(X_train, np.ravel(Y_train))\n",
    "\n",
    "log_decision = logreg.decision_function(X_test)\n",
    "log_fpr, log_tpr, _  = roc_curve(Y_test, log_decision)\n",
    "\n",
    "log_auc = auc(log_fpr, log_tpr)\n",
    "\n",
    "lin_svm = SVC(kernel = 'linear')\n",
    "lin_svm.fit(X_train, np.ravel(Y_train))\n",
    "\n",
    "svm_decision = lin_svm.decision_function(X_test)\n",
    "svm_fpr, svm_tpr, _  = roc_curve(Y_test, svm_decision)\n",
    "\n",
    "svm_auc = auc(svm_fpr, svm_tpr)"
   ]
  },
  {
   "cell_type": "code",
   "execution_count": 12,
   "metadata": {},
   "outputs": [
    {
     "data": {
      "image/png": "[encoded data removed]",
      "text/plain": [
       "<Figure size 504x504 with 1 Axes>"
      ]
     },
     "metadata": {
      "needs_background": "light"
     },
     "output_type": "display_data"
    }
   ],
   "source": [
    "plt.figure(figsize = (7, 7))\n",
    "plt.plot(log_fpr, log_tpr, label = 'Logistic AUC:'+\"{0:.4f}\".format(log_auc))\n",
    "plt.plot(svm_fpr, svm_tpr, label = 'SVM AUC:'+\"{0:.4f}\".format(svm_auc))\n",
    "plt.plot([0, 1], [0, 1], color='navy', linestyle='--')\n",
    "plt.xlim([0.0, 1.0])\n",
    "plt.ylim([0.0, 1.05])\n",
    "plt.xlabel('False Positive Rate')\n",
    "plt.ylabel('True Positive Rate')\n",
    "plt.title('Receiver Operating Characteristic for Nonimputed Data Set')\n",
    "plt.legend(loc=\"lower right\")\n",
    "plt.savefig(data_root+'NonImputed Data Logistic SVM ROC.png')"
   ]
  },
  {
   "cell_type": "code",
   "execution_count": 15,
   "metadata": {},
   "outputs": [
    {
     "data": {
      "image/png": "[encoded data removed]",
      "text/plain": [
       "<Figure size 504x504 with 1 Axes>"
      ]
     },
     "metadata": {
      "needs_background": "light"
     },
     "output_type": "display_data"
    }
   ],
   "source": [
    "labels = q3mergeddata.columns[10:len(q3mergeddata.columns) - 7]\n",
    "\n",
    "X_dt = pd.DataFrame(q3mergeddata_processed.copy())\n",
    "Y_dt = pd.DataFrame(q3mergeddata['Company_Size'].copy())\n",
    "\n",
    "X_train, X_test, Y_train, Y_test = train_test_split(X_dt,Y_dt, test_size = 0.30)\n",
    "\n",
    "dt = DecisionTreeClassifier(criterion = 'entropy')\n",
    "dt.fit(X_train, Y_train)\n",
    "\n",
    "importance = dt.feature_importances_\n",
    "indices = np.argsort(importance)\n",
    "\n",
    "plt.figure(figsize=(7,7))\n",
    "plt.title(\"Feature Importance\")\n",
    "plt.bar(X_train.columns[indices][- 10:], importance[indices][- 10:], \n",
    "        color = 'b', align = 'center')\n",
    "plt.xticks(range(10), X.columns[indices][-10:], rotation = 90)\n",
    "plt.xlim([-1, 10])\n",
    "plt.tight_layout()\n",
    "plt.savefig(data_root+'NonImputed Data Feature Importance.png')"
   ]
  },
  {
   "cell_type": "code",
   "execution_count": 49,
   "metadata": {},
   "outputs": [
    {
     "data": {
      "text/plain": [
       "0.8050609184629803"
      ]
     },
     "execution_count": 49,
     "metadata": {},
     "output_type": "execute_result"
    }
   ],
   "source": [
    "dt.score(X_test, Y_test)"
   ]
  },
  {
   "cell_type": "code",
   "execution_count": 53,
   "metadata": {},
   "outputs": [
    {
     "name": "stderr",
     "output_type": "stream",
     "text": [
      "/Applications/anaconda3/lib/python3.7/site-packages/sklearn/preprocessing/data.py:172: UserWarning: Numerical issues were encountered when centering the data and might not be solved. Dataset may contain too large values. You may need to prescale your features.\n",
      "  warnings.warn(\"Numerical issues were encountered \"\n"
     ]
    }
   ],
   "source": [
    "X = pd.DataFrame(q3mergeddata_processed.copy())\n",
    "Y = pd.DataFrame(preprocessing.scale(q3mergeddata['Company_Value'].copy()))\n",
    "\n",
    "X_train, X_test, Y_train, Y_test = train_test_split(X,Y, test_size = 0.30)\n",
    "\n",
    "lin_reg = LinearRegression()\n",
    "lin_reg.fit(X_train, Y_train)\n",
    "\n",
    "y_pred = lin_reg.predict(X_test)"
   ]
  },
  {
   "cell_type": "code",
   "execution_count": 54,
   "metadata": {},
   "outputs": [
    {
     "data": {
      "text/plain": [
       "3.1790722098950384"
      ]
     },
     "execution_count": 54,
     "metadata": {},
     "output_type": "execute_result"
    }
   ],
   "source": [
    "mean_squared_error(Y_test, y_pred)"
   ]
  },
  {
   "cell_type": "code",
   "execution_count": 55,
   "metadata": {},
   "outputs": [
    {
     "data": {
      "text/plain": [
       "0.04493613519566564"
      ]
     },
     "execution_count": 55,
     "metadata": {},
     "output_type": "execute_result"
    }
   ],
   "source": [
    "r2_score(Y_test, y_pred)"
   ]
  },
  {
   "cell_type": "markdown",
   "metadata": {},
   "source": [
    "penalties on logistic regression"
   ]
  },
  {
   "cell_type": "code",
   "execution_count": 59,
   "metadata": {},
   "outputs": [
    {
     "name": "stderr",
     "output_type": "stream",
     "text": [
      "/Applications/anaconda3/lib/python3.7/site-packages/sklearn/linear_model/logistic.py:432: FutureWarning: Default solver will be changed to 'lbfgs' in 0.22. Specify a solver to silence this warning.\n",
      "  FutureWarning)\n",
      "/Applications/anaconda3/lib/python3.7/site-packages/sklearn/linear_model/logistic.py:432: FutureWarning: Default solver will be changed to 'lbfgs' in 0.22. Specify a solver to silence this warning.\n",
      "  FutureWarning)\n"
     ]
    }
   ],
   "source": [
    "X = pd.DataFrame(q3mergeddata_processed.copy())\n",
    "Y = pd.DataFrame(q3mergeddata['Company_Size'].copy())\n",
    "\n",
    "X_train, X_test, Y_train, Y_test = train_test_split(X,Y, test_size = 0.30)\n",
    "\n",
    "logreg_1 = LogisticRegression(penalty = 'l1')\n",
    "logreg_1.fit(X_train, np.ravel(Y_train))\n",
    "\n",
    "log_1_decision = logreg.decision_function(X_test)\n",
    "log_1_fpr, log_1_tpr, _  = roc_curve(Y_test, log_1_decision)\n",
    "\n",
    "log_1_auc = auc(log_1_fpr, log_1_tpr)\n",
    "\n",
    "logreg_2 = LogisticRegression(penalty = 'l2')\n",
    "logreg_2.fit(X_train, np.ravel(Y_train))\n",
    "\n",
    "log_2_decision = logreg.decision_function(X_test)\n",
    "log_2_fpr, log_2_tpr, _  = roc_curve(Y_test, log_2_decision)\n",
    "\n",
    "log_2_auc = auc(log_2_fpr, log_2_tpr)"
   ]
  },
  {
   "cell_type": "code",
   "execution_count": 60,
   "metadata": {},
   "outputs": [
    {
     "data": {
      "image/png": "[encoded data removed]",
      "text/plain": [
       "<Figure size 720x720 with 1 Axes>"
      ]
     },
     "metadata": {
      "needs_background": "light"
     },
     "output_type": "display_data"
    }
   ],
   "source": [
    "plt.figure(figsize = (10, 10))\n",
    "plt.plot(log_1_fpr, log_1_tpr, label = 'Logistic ridge AUC:'+str(log_1_auc), lw = 3)\n",
    "plt.plot(log_2_fpr, log_2_tpr, label = 'Logistic lasso AUC:'+str(log_2_auc))\n",
    "plt.plot([0, 1], [0, 1], color='navy', linestyle='--')\n",
    "plt.xlim([0.0, 1.0])\n",
    "plt.ylim([0.0, 1.05])\n",
    "plt.xlabel('False Positive Rate')\n",
    "plt.ylabel('True Positive Rate')\n",
    "plt.title('Receiver Operating Characteristic')\n",
    "plt.legend(loc=\"lower right\")\n",
    "plt.show()"
   ]
  },
  {
   "cell_type": "markdown",
   "metadata": {},
   "source": [
    "### Nonbinary classification\n"
   ]
  },
  {
   "cell_type": "code",
   "execution_count": 14,
   "metadata": {},
   "outputs": [
    {
     "name": "stderr",
     "output_type": "stream",
     "text": [
      "/Applications/anaconda3/lib/python3.7/site-packages/sklearn/preprocessing/data.py:172: UserWarning: Numerical issues were encountered when centering the data and might not be solved. Dataset may contain too large values. You may need to prescale your features.\n",
      "  warnings.warn(\"Numerical issues were encountered \"\n"
     ]
    }
   ],
   "source": [
    "q3mergeddata['Clean_Number_of_Shares'] = q3mergeddata[['WeightedAverageNumberOfDilutedSharesOutstanding',\n",
    "       'WeightedAverageNumberOfSharesOutstandingBasic']].max(axis = 1)\n",
    "\n",
    "q3mergeddata['Clean_Number_of_Shares'] = q3mergeddata[['Clean_Number_of_Shares',\n",
    "                                                       'CommonStockSharesOutstanding']].max(axis = 1)\n",
    "\n",
    "q3mergeddata['Company_Value'] = q3mergeddata['Clean_Number_of_Shares'] * q3mergeddata['7_after']\n",
    "q3mergeddata = q3mergeddata.drop(q3mergeddata[q3mergeddata.Company_Value == 0].index)\n",
    "q3mergeddata = q3mergeddata.drop(['CommonStockSharesOutstanding','WeightedAverageNumberOfDilutedSharesOutstanding','WeightedAverageNumberOfSharesOutstandingBasic' ], axis = 1)\n",
    "\n",
    "\n",
    "\n",
    "q3mergeddata['Company_Size_1'] = np.where(q3mergeddata['Company_Value'] <= 2000000000, 1, 0)\n",
    "q3mergeddata['Company_Size_2'] = np.where(q3mergeddata['Company_Value'] >= 10000000000, 2, 1)\n",
    "q3mergeddata['Company_Size'] = q3mergeddata['Company_Size_2'] - q3mergeddata['Company_Size_1']\n",
    "\n",
    "q3mergeddata = q3mergeddata.drop(['Company_Size_1','Company_Size_2'], axis = 1)\n",
    "\n",
    "q3mergeddata_processed  = pd.DataFrame(preprocessing.scale(q3mergeddata[q3mergeddata.columns[10:len(q3mergeddata.columns) - 7]]), columns =q3mergeddata.columns[10:len(q3mergeddata.columns) - 7] )\n",
    "\n"
   ]
  },
  {
   "cell_type": "code",
   "execution_count": 15,
   "metadata": {},
   "outputs": [
    {
     "data": {
      "image/png": "[encoded data removed]",
      "text/plain": [
       "<Figure size 720x360 with 1 Axes>"
      ]
     },
     "metadata": {
      "needs_background": "light"
     },
     "output_type": "display_data"
    }
   ],
   "source": [
    "X_dt = pd.DataFrame(q3mergeddata_processed.copy())\n",
    "Y_dt = pd.DataFrame(q3mergeddata['Company_Size'].copy())\n",
    "\n",
    "X_train, X_test, Y_train, Y_test = train_test_split(X_dt,Y_dt, test_size = 0.30)\n",
    "\n",
    "dt = DecisionTreeClassifier(criterion = 'entropy')\n",
    "dt.fit(X_train, Y_train)\n",
    "\n",
    "importance = dt.feature_importances_\n",
    "indices = np.argsort(importance)\n",
    "\n",
    "plt.figure(figsize=(10,5))\n",
    "plt.title(\"Feature Importance\")\n",
    "plt.bar(X_train.columns[indices][- 10:], importance[indices][- 10:], \n",
    "        color = 'b', align = 'center')\n",
    "plt.xticks(range(10), q3mergeddata_processed.columns[indices][-10:], rotation = 90)\n",
    "plt.xlim([-1, 10])\n",
    "plt.show()"
   ]
  },
  {
   "cell_type": "code",
   "execution_count": 17,
   "metadata": {},
   "outputs": [],
   "source": [
    "y_score = dt.predict(X_test)"
   ]
  },
  {
   "cell_type": "code",
   "execution_count": 23,
   "metadata": {},
   "outputs": [],
   "source": [
    "from sklearn.metrics import precision_score\n",
    "from sklearn.metrics import recall_score\n",
    "\n",
    "precision = precision_score(np.ravel(Y_test), y_score, average = None)\n",
    "recall = recall_score(np.ravel(Y_test), y_score, average = None)"
   ]
  },
  {
   "cell_type": "code",
   "execution_count": 9,
   "metadata": {},
   "outputs": [
    {
     "data": {
      "text/plain": [
       "0.6654170571696345"
      ]
     },
     "execution_count": 9,
     "metadata": {},
     "output_type": "execute_result"
    }
   ],
   "source": [
    "dt.score(X_test, Y_test)"
   ]
  },
  {
   "cell_type": "code",
   "execution_count": 21,
   "metadata": {},
   "outputs": [
    {
     "data": {
      "text/plain": [
       "array([0.77798861, 0.46402878, 0.67938931])"
      ]
     },
     "execution_count": 21,
     "metadata": {},
     "output_type": "execute_result"
    }
   ],
   "source": [
    "precision"
   ]
  },
  {
   "cell_type": "code",
   "execution_count": 24,
   "metadata": {},
   "outputs": [
    {
     "data": {
      "text/plain": [
       "array([0.77651515, 0.45422535, 0.69803922])"
      ]
     },
     "execution_count": 24,
     "metadata": {},
     "output_type": "execute_result"
    }
   ],
   "source": [
    "recall"
   ]
  },
  {
   "cell_type": "markdown",
   "metadata": {},
   "source": [
    "### 'Tertiary' Random Forest"
   ]
  },
  {
   "cell_type": "code",
   "execution_count": 25,
   "metadata": {},
   "outputs": [
    {
     "data": {
      "text/plain": [
       "RandomForestClassifier(bootstrap=True, class_weight=None, criterion='entropy',\n",
       "                       max_depth=None, max_features='auto', max_leaf_nodes=None,\n",
       "                       min_impurity_decrease=0.0, min_impurity_split=None,\n",
       "                       min_samples_leaf=1, min_samples_split=2,\n",
       "                       min_weight_fraction_leaf=0.0, n_estimators=100,\n",
       "                       n_jobs=None, oob_score=True, random_state=None,\n",
       "                       verbose=0, warm_start=False)"
      ]
     },
     "execution_count": 25,
     "metadata": {},
     "output_type": "execute_result"
    }
   ],
   "source": [
    "from sklearn.ensemble import RandomForestClassifier\n",
    "\n",
    "clf = RandomForestClassifier(n_estimators = 100, criterion = 'entropy', oob_score = True)\n",
    "clf.fit(X_train, np.ravel(Y_train))"
   ]
  },
  {
   "cell_type": "code",
   "execution_count": 26,
   "metadata": {},
   "outputs": [
    {
     "data": {
      "text/plain": [
       "0.7503015681544029"
      ]
     },
     "execution_count": 26,
     "metadata": {},
     "output_type": "execute_result"
    }
   ],
   "source": [
    "clf.oob_score_"
   ]
  },
  {
   "cell_type": "code",
   "execution_count": 27,
   "metadata": {},
   "outputs": [
    {
     "ename": "NameError",
     "evalue": "name 'X' is not defined",
     "output_type": "error",
     "traceback": [
      "\u001b[0;31m---------------------------------------------------------------------------\u001b[0m",
      "\u001b[0;31mNameError\u001b[0m                                 Traceback (most recent call last)",
      "\u001b[0;32m<ipython-input-27-d8309aa541f5>\u001b[0m in \u001b[0;36m<module>\u001b[0;34m\u001b[0m\n\u001b[1;32m      6\u001b[0m plt.bar(X_train.columns[indices][- 10:], importance[indices][- 10:], \n\u001b[1;32m      7\u001b[0m         color = 'b', align = 'center')\n\u001b[0;32m----> 8\u001b[0;31m \u001b[0mplt\u001b[0m\u001b[0;34m.\u001b[0m\u001b[0mxticks\u001b[0m\u001b[0;34m(\u001b[0m\u001b[0mrange\u001b[0m\u001b[0;34m(\u001b[0m\u001b[0;36m10\u001b[0m\u001b[0;34m)\u001b[0m\u001b[0;34m,\u001b[0m \u001b[0mX\u001b[0m\u001b[0;34m.\u001b[0m\u001b[0mcolumns\u001b[0m\u001b[0;34m[\u001b[0m\u001b[0mindices\u001b[0m\u001b[0;34m]\u001b[0m\u001b[0;34m[\u001b[0m\u001b[0;34m-\u001b[0m\u001b[0;36m10\u001b[0m\u001b[0;34m:\u001b[0m\u001b[0;34m]\u001b[0m\u001b[0;34m,\u001b[0m \u001b[0mrotation\u001b[0m \u001b[0;34m=\u001b[0m \u001b[0;36m90\u001b[0m\u001b[0;34m)\u001b[0m\u001b[0;34m\u001b[0m\u001b[0;34m\u001b[0m\u001b[0m\n\u001b[0m\u001b[1;32m      9\u001b[0m \u001b[0mplt\u001b[0m\u001b[0;34m.\u001b[0m\u001b[0mxlim\u001b[0m\u001b[0;34m(\u001b[0m\u001b[0;34m[\u001b[0m\u001b[0;34m-\u001b[0m\u001b[0;36m1\u001b[0m\u001b[0;34m,\u001b[0m \u001b[0;36m10\u001b[0m\u001b[0;34m]\u001b[0m\u001b[0;34m)\u001b[0m\u001b[0;34m\u001b[0m\u001b[0;34m\u001b[0m\u001b[0m\n\u001b[1;32m     10\u001b[0m \u001b[0mplt\u001b[0m\u001b[0;34m.\u001b[0m\u001b[0mshow\u001b[0m\u001b[0;34m(\u001b[0m\u001b[0;34m)\u001b[0m\u001b[0;34m\u001b[0m\u001b[0;34m\u001b[0m\u001b[0m\n",
      "\u001b[0;31mNameError\u001b[0m: name 'X' is not defined"
     ]
    },
    {
     "data": {
      "image/png": "[encoded data removed]",
      "text/plain": [
       "<Figure size 720x360 with 1 Axes>"
      ]
     },
     "metadata": {
      "needs_background": "light"
     },
     "output_type": "display_data"
    }
   ],
   "source": [
    "importance = clf.feature_importances_\n",
    "indices = np.argsort(importance)\n",
    "\n",
    "plt.figure(figsize=(10,5))\n",
    "plt.title(\"Feature Importance\")\n",
    "plt.bar(X_train.columns[indices][- 10:], importance[indices][- 10:], \n",
    "        color = 'b', align = 'center')\n",
    "plt.xticks(range(10), X.columns[indices][-10:], rotation = 90)\n",
    "plt.xlim([-1, 10])\n",
    "plt.show()"
   ]
  },
  {
   "cell_type": "code",
   "execution_count": 28,
   "metadata": {},
   "outputs": [
    {
     "data": {
      "text/plain": [
       "0.7591377694470478"
      ]
     },
     "execution_count": 28,
     "metadata": {},
     "output_type": "execute_result"
    }
   ],
   "source": [
    "clf.score(X_test, Y_test)"
   ]
  },
  {
   "cell_type": "code",
   "execution_count": 29,
   "metadata": {},
   "outputs": [],
   "source": [
    "y_pred = clf.predict(X_test)"
   ]
  },
  {
   "cell_type": "code",
   "execution_count": 31,
   "metadata": {},
   "outputs": [],
   "source": [
    "precision2 = precision_score(np.ravel(Y_test),y_pred, average = None)"
   ]
  },
  {
   "cell_type": "code",
   "execution_count": 32,
   "metadata": {},
   "outputs": [],
   "source": [
    "recall2 = recall_score(np.ravel(Y_test),y_pred, average = None)"
   ]
  },
  {
   "cell_type": "code",
   "execution_count": 33,
   "metadata": {},
   "outputs": [
    {
     "data": {
      "text/plain": [
       "array([0.83633094, 0.58974359, 0.77310924])"
      ]
     },
     "execution_count": 33,
     "metadata": {},
     "output_type": "execute_result"
    }
   ],
   "source": [
    "precision2"
   ]
  },
  {
   "cell_type": "code",
   "execution_count": 34,
   "metadata": {},
   "outputs": [
    {
     "data": {
      "text/plain": [
       "array([0.88068182, 0.56690141, 0.72156863])"
      ]
     },
     "execution_count": 34,
     "metadata": {},
     "output_type": "execute_result"
    }
   ],
   "source": [
    "recall2"
   ]
  },
  {
   "cell_type": "code",
   "execution_count": null,
   "metadata": {},
   "outputs": [],
   "source": []
  }
 ],
 "metadata": {
  "kernelspec": {
   "display_name": "Python 3",
   "language": "python",
   "name": "python3"
  },
  "language_info": {
   "codemirror_mode": {
    "name": "ipython",
    "version": 3
   },
   "file_extension": ".py",
   "mimetype": "text/x-python",
   "name": "python",
   "nbconvert_exporter": "python",
   "pygments_lexer": "ipython3",
   "version": "3.7.3"
  }
 },
 "nbformat": 4,
 "nbformat_minor": 4
}
