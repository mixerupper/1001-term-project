{
 "cells": [
  {
   "cell_type": "markdown",
   "metadata": {},
   "source": [
    "# Program Header"
   ]
  },
  {
   "cell_type": "code",
   "execution_count": 53,
   "metadata": {},
   "outputs": [],
   "source": [
    "import pandas as pd\n",
    "import numpy as np\n",
    "import autoreload\n",
    "import os\n",
    "import sys\n",
    "import jellyfish\n",
    "from IPython.core.interactiveshell import InteractiveShell\n",
    "InteractiveShell.ast_node_interactivity = \"all\"\n",
    "nb_dir = os.path.split(os.getcwd())[0]\n",
    "if nb_dir not in sys.path:\n",
    "    sys.path.append(nb_dir)\n",
    "from header import *"
   ]
  },
  {
   "cell_type": "code",
   "execution_count": 71,
   "metadata": {},
   "outputs": [],
   "source": [
    "data_root = initialize_data_root(\"AY\")"
   ]
  },
  {
   "cell_type": "markdown",
   "metadata": {},
   "source": [
    "# Table of contents\n",
    "1. [Import](#Import)\n",
    "2. [Merge](#Merge)\n",
    "3. [Clean](#Clean)\n",
    "4. [Reshape](#Reshape)\n",
    "5. [Save](#Save)"
   ]
  },
  {
   "cell_type": "markdown",
   "metadata": {},
   "source": [
    "## Import <a name=\"Import\"></a>"
   ]
  },
  {
   "cell_type": "code",
   "execution_count": 72,
   "metadata": {},
   "outputs": [],
   "source": [
    "raw_sec_data = pd.read_csv(data_root+'02-build/clean/2019q3/sec_data_long.csv')\n",
    "raw_tag_map = pd.read_csv(data_root+'02-build/clean/2019q3/tag_map.csv')\n",
    "raw_cik_ticker_map = pd.read_csv(data_root+'02-build/clean/cik_ticker_map.csv')"
   ]
  },
  {
   "cell_type": "code",
   "execution_count": 73,
   "metadata": {},
   "outputs": [
    {
     "data": {
      "text/plain": [
       "Index(['adsh', 'tag', 'version', 'coreg', 'ddate', 'qtrs', 'uom', 'value',\n",
       "       'no_coreg', 'no_value', 'cik', 'company_name', 'sic', 'country',\n",
       "       'period', 'form', 'fye', 'filed', 'accepted', 'instance', 'doc',\n",
       "       'dyrqt', 'pyrqt'],\n",
       "      dtype='object')"
      ]
     },
     "execution_count": 73,
     "metadata": {},
     "output_type": "execute_result"
    }
   ],
   "source": [
    "raw_sec_data.columns"
   ]
  },
  {
   "cell_type": "code",
   "execution_count": 74,
   "metadata": {},
   "outputs": [
    {
     "data": {
      "text/plain": [
       "Index(['tag', 'clean_tag'], dtype='object')"
      ]
     },
     "execution_count": 74,
     "metadata": {},
     "output_type": "execute_result"
    }
   ],
   "source": [
    "raw_tag_map.columns"
   ]
  },
  {
   "cell_type": "code",
   "execution_count": 75,
   "metadata": {},
   "outputs": [
    {
     "data": {
      "text/plain": [
       "Index(['ticker', 'cik'], dtype='object')"
      ]
     },
     "execution_count": 75,
     "metadata": {},
     "output_type": "execute_result"
    }
   ],
   "source": [
    "raw_cik_ticker_map.columns"
   ]
  },
  {
   "cell_type": "markdown",
   "metadata": {},
   "source": [
    "## Merge <a name=\"Merge\"></a>"
   ]
  },
  {
   "cell_type": "code",
   "execution_count": 76,
   "metadata": {},
   "outputs": [],
   "source": [
    "sec_data = raw_sec_data.merge(raw_tag_map, on = ['tag'])\\\n",
    "    .merge(raw_cik_ticker_map, on = ['cik'])"
   ]
  },
  {
   "cell_type": "markdown",
   "metadata": {},
   "source": [
    "The goal is to get our data to the `adsh`, `dyrqt` level and use the `clean_tag`'s as columns, so we can't have duplicate values for the same `adsh-clean_tag-dyrqt`. In case of duplicates, let's keep the maximum value. The idea behind keeping the max is that smaller versions may be older (over 3 months instead of over 4 months) or the smaller groups may be categories of the larger one."
   ]
  },
  {
   "cell_type": "code",
   "execution_count": 77,
   "metadata": {},
   "outputs": [],
   "source": [
    "sec_data = sec_data.groupby(['adsh', 'clean_tag', 'filed',\n",
    "                             'dyrqt', 'company_name', 'ticker',\n",
    "                             'cik', 'sic', 'country', 'period', 'form'], as_index = False)['value']\\\n",
    "    .max()"
   ]
  },
  {
   "cell_type": "markdown",
   "metadata": {},
   "source": [
    "## Clean <a name=\"Clean\"></a>"
   ]
  },
  {
   "cell_type": "markdown",
   "metadata": {},
   "source": [
    "Check that we're unique on the `adsh-dyrqt-cleantag` level"
   ]
  },
  {
   "cell_type": "code",
   "execution_count": 78,
   "metadata": {},
   "outputs": [
    {
     "data": {
      "text/html": [
       "<div>\n",
       "<style scoped>\n",
       "    .dataframe tbody tr th:only-of-type {\n",
       "        vertical-align: middle;\n",
       "    }\n",
       "\n",
       "    .dataframe tbody tr th {\n",
       "        vertical-align: top;\n",
       "    }\n",
       "\n",
       "    .dataframe thead th {\n",
       "        text-align: right;\n",
       "    }\n",
       "</style>\n",
       "<table border=\"1\" class=\"dataframe\">\n",
       "  <thead>\n",
       "    <tr style=\"text-align: right;\">\n",
       "      <th></th>\n",
       "      <th></th>\n",
       "      <th></th>\n",
       "      <th>adsh</th>\n",
       "      <th>clean_tag</th>\n",
       "      <th>filed</th>\n",
       "      <th>dyrqt</th>\n",
       "      <th>company_name</th>\n",
       "      <th>ticker</th>\n",
       "      <th>cik</th>\n",
       "      <th>sic</th>\n",
       "      <th>country</th>\n",
       "      <th>period</th>\n",
       "      <th>form</th>\n",
       "      <th>value</th>\n",
       "    </tr>\n",
       "    <tr>\n",
       "      <th>adsh</th>\n",
       "      <th>dyrqt</th>\n",
       "      <th>clean_tag</th>\n",
       "      <th></th>\n",
       "      <th></th>\n",
       "      <th></th>\n",
       "      <th></th>\n",
       "      <th></th>\n",
       "      <th></th>\n",
       "      <th></th>\n",
       "      <th></th>\n",
       "      <th></th>\n",
       "      <th></th>\n",
       "      <th></th>\n",
       "      <th></th>\n",
       "    </tr>\n",
       "  </thead>\n",
       "  <tbody>\n",
       "  </tbody>\n",
       "</table>\n",
       "</div>"
      ],
      "text/plain": [
       "Empty DataFrame\n",
       "Columns: [adsh, clean_tag, filed, dyrqt, company_name, ticker, cik, sic, country, period, form, value]\n",
       "Index: []"
      ]
     },
     "execution_count": 78,
     "metadata": {},
     "output_type": "execute_result"
    }
   ],
   "source": [
    "sec_data.groupby(['adsh', 'dyrqt', 'clean_tag'])\\\n",
    "    .nunique()\\\n",
    "    .sort_values('value', ascending = False)\\\n",
    "    .query(\"value > 1\")"
   ]
  },
  {
   "cell_type": "markdown",
   "metadata": {},
   "source": [
    "## Reshape <a name=\"Reshape\"></a>"
   ]
  },
  {
   "cell_type": "code",
   "execution_count": 79,
   "metadata": {},
   "outputs": [
    {
     "data": {
      "text/html": [
       "<div>\n",
       "<style scoped>\n",
       "    .dataframe tbody tr th:only-of-type {\n",
       "        vertical-align: middle;\n",
       "    }\n",
       "\n",
       "    .dataframe tbody tr th {\n",
       "        vertical-align: top;\n",
       "    }\n",
       "\n",
       "    .dataframe thead th {\n",
       "        text-align: right;\n",
       "    }\n",
       "</style>\n",
       "<table border=\"1\" class=\"dataframe\">\n",
       "  <thead>\n",
       "    <tr style=\"text-align: right;\">\n",
       "      <th></th>\n",
       "      <th>adsh</th>\n",
       "      <th>clean_tag</th>\n",
       "      <th>filed</th>\n",
       "      <th>dyrqt</th>\n",
       "      <th>company_name</th>\n",
       "      <th>ticker</th>\n",
       "      <th>cik</th>\n",
       "      <th>sic</th>\n",
       "      <th>country</th>\n",
       "      <th>period</th>\n",
       "      <th>form</th>\n",
       "      <th>value</th>\n",
       "    </tr>\n",
       "  </thead>\n",
       "  <tbody>\n",
       "    <tr>\n",
       "      <th>0</th>\n",
       "      <td>0000002178-19-000086</td>\n",
       "      <td>AccountsPayableCurrent</td>\n",
       "      <td>2019-08-07 00:00:00</td>\n",
       "      <td>201902</td>\n",
       "      <td>ADAMS RESOURCES &amp; ENERGY, INC.</td>\n",
       "      <td>ae</td>\n",
       "      <td>2178</td>\n",
       "      <td>5172.0</td>\n",
       "      <td>US</td>\n",
       "      <td>2019-06-30</td>\n",
       "      <td>10-Q</td>\n",
       "      <td>116983000.0</td>\n",
       "    </tr>\n",
       "    <tr>\n",
       "      <th>1</th>\n",
       "      <td>0000002178-19-000086</td>\n",
       "      <td>AccountsReceivableNetCurrent</td>\n",
       "      <td>2019-08-07 00:00:00</td>\n",
       "      <td>201902</td>\n",
       "      <td>ADAMS RESOURCES &amp; ENERGY, INC.</td>\n",
       "      <td>ae</td>\n",
       "      <td>2178</td>\n",
       "      <td>5172.0</td>\n",
       "      <td>US</td>\n",
       "      <td>2019-06-30</td>\n",
       "      <td>10-Q</td>\n",
       "      <td>74499000.0</td>\n",
       "    </tr>\n",
       "    <tr>\n",
       "      <th>2</th>\n",
       "      <td>0000002178-19-000086</td>\n",
       "      <td>AccumulatedDepreciationDepletionAndAmortizatio...</td>\n",
       "      <td>2019-08-07 00:00:00</td>\n",
       "      <td>201902</td>\n",
       "      <td>ADAMS RESOURCES &amp; ENERGY, INC.</td>\n",
       "      <td>ae</td>\n",
       "      <td>2178</td>\n",
       "      <td>5172.0</td>\n",
       "      <td>US</td>\n",
       "      <td>2019-06-30</td>\n",
       "      <td>10-Q</td>\n",
       "      <td>97640000.0</td>\n",
       "    </tr>\n",
       "    <tr>\n",
       "      <th>3</th>\n",
       "      <td>0000002178-19-000086</td>\n",
       "      <td>AdditionalPaidInCapital</td>\n",
       "      <td>2019-08-07 00:00:00</td>\n",
       "      <td>201902</td>\n",
       "      <td>ADAMS RESOURCES &amp; ENERGY, INC.</td>\n",
       "      <td>ae</td>\n",
       "      <td>2178</td>\n",
       "      <td>5172.0</td>\n",
       "      <td>US</td>\n",
       "      <td>2019-06-30</td>\n",
       "      <td>10-Q</td>\n",
       "      <td>12497000.0</td>\n",
       "    </tr>\n",
       "    <tr>\n",
       "      <th>4</th>\n",
       "      <td>0000002178-19-000086</td>\n",
       "      <td>AllowanceForDoubtfulAccountsReceivableCurrent</td>\n",
       "      <td>2019-08-07 00:00:00</td>\n",
       "      <td>201902</td>\n",
       "      <td>ADAMS RESOURCES &amp; ENERGY, INC.</td>\n",
       "      <td>ae</td>\n",
       "      <td>2178</td>\n",
       "      <td>5172.0</td>\n",
       "      <td>US</td>\n",
       "      <td>2019-06-30</td>\n",
       "      <td>10-Q</td>\n",
       "      <td>117000.0</td>\n",
       "    </tr>\n",
       "  </tbody>\n",
       "</table>\n",
       "</div>"
      ],
      "text/plain": [
       "                   adsh                                          clean_tag  \\\n",
       "0  0000002178-19-000086                             AccountsPayableCurrent   \n",
       "1  0000002178-19-000086                       AccountsReceivableNetCurrent   \n",
       "2  0000002178-19-000086  AccumulatedDepreciationDepletionAndAmortizatio...   \n",
       "3  0000002178-19-000086                            AdditionalPaidInCapital   \n",
       "4  0000002178-19-000086      AllowanceForDoubtfulAccountsReceivableCurrent   \n",
       "\n",
       "                 filed   dyrqt                    company_name ticker   cik  \\\n",
       "0  2019-08-07 00:00:00  201902  ADAMS RESOURCES & ENERGY, INC.     ae  2178   \n",
       "1  2019-08-07 00:00:00  201902  ADAMS RESOURCES & ENERGY, INC.     ae  2178   \n",
       "2  2019-08-07 00:00:00  201902  ADAMS RESOURCES & ENERGY, INC.     ae  2178   \n",
       "3  2019-08-07 00:00:00  201902  ADAMS RESOURCES & ENERGY, INC.     ae  2178   \n",
       "4  2019-08-07 00:00:00  201902  ADAMS RESOURCES & ENERGY, INC.     ae  2178   \n",
       "\n",
       "      sic country      period  form        value  \n",
       "0  5172.0      US  2019-06-30  10-Q  116983000.0  \n",
       "1  5172.0      US  2019-06-30  10-Q   74499000.0  \n",
       "2  5172.0      US  2019-06-30  10-Q   97640000.0  \n",
       "3  5172.0      US  2019-06-30  10-Q   12497000.0  \n",
       "4  5172.0      US  2019-06-30  10-Q     117000.0  "
      ]
     },
     "execution_count": 79,
     "metadata": {},
     "output_type": "execute_result"
    }
   ],
   "source": [
    "sec_data.head()"
   ]
  },
  {
   "cell_type": "code",
   "execution_count": 80,
   "metadata": {},
   "outputs": [],
   "source": [
    "sec_data_wide = sec_data.pivot_table(values = 'value',\n",
    "                                     index = ['adsh', 'company_name', 'dyrqt', 'filed',\n",
    "                                              'cik', 'sic', 'ticker', 'country', 'period'],\n",
    "                                    columns = 'clean_tag')\\\n",
    "    .reset_index()"
   ]
  },
  {
   "cell_type": "code",
   "execution_count": 81,
   "metadata": {},
   "outputs": [],
   "source": [
    "percent_missing = sec_data_wide.isnull().sum() * 100 / len(sec_data_wide)\n",
    "missing_value_df = pd.DataFrame({'column_name': sec_data_wide.columns,\n",
    "                                 'percent_missing': percent_missing}).sort_values('percent_missing', ascending = True)"
   ]
  },
  {
   "cell_type": "code",
   "execution_count": 82,
   "metadata": {},
   "outputs": [],
   "source": [
    "percent_missing_by_company = sec_data_wide.groupby('adsh').apply(lambda x: x.notnull().mean())"
   ]
  },
  {
   "cell_type": "code",
   "execution_count": 83,
   "metadata": {},
   "outputs": [
    {
     "data": {
      "text/plain": [
       "clean_tag\n",
       "adsh                                                0.000000\n",
       "company_name                                        0.000000\n",
       "dyrqt                                               0.000000\n",
       "filed                                               0.000000\n",
       "cik                                                 0.000000\n",
       "sic                                                 0.000000\n",
       "ticker                                              0.000000\n",
       "country                                             0.000000\n",
       "period                                              0.000000\n",
       "AdditionalPaidInCapital                            10.241747\n",
       "Assets                                              0.363920\n",
       "CashAndCashEquivalents                              1.507668\n",
       "CommonStockSharesOutstanding                       12.737198\n",
       "EarningsPerShareDiluted                             9.513907\n",
       "LiabilitiesAndStockholdersEquity                    0.363920\n",
       "NetIncomeLoss                                       3.405251\n",
       "OperatingIncomeLoss                                 7.434364\n",
       "PropertyPlantAndEquipmentNet                       10.553678\n",
       "RetainedEarningsAccumulatedDeficit                  5.380816\n",
       "StockholdersEquity                                  2.027554\n",
       "WeightedAverageNumberOfDilutedSharesOutstanding    10.579672\n",
       "dtype: float64"
      ]
     },
     "execution_count": 83,
     "metadata": {},
     "output_type": "execute_result"
    }
   ],
   "source": [
    "percent_missing.loc[percent_missing < 15]"
   ]
  },
  {
   "cell_type": "code",
   "execution_count": 84,
   "metadata": {},
   "outputs": [],
   "source": [
    "sec_data_wide.fillna(value = 0, inplace = True)"
   ]
  },
  {
   "cell_type": "code",
   "execution_count": 85,
   "metadata": {},
   "outputs": [
    {
     "data": {
      "text/html": [
       "<div>\n",
       "<style scoped>\n",
       "    .dataframe tbody tr th:only-of-type {\n",
       "        vertical-align: middle;\n",
       "    }\n",
       "\n",
       "    .dataframe tbody tr th {\n",
       "        vertical-align: top;\n",
       "    }\n",
       "\n",
       "    .dataframe thead th {\n",
       "        text-align: right;\n",
       "    }\n",
       "</style>\n",
       "<table border=\"1\" class=\"dataframe\">\n",
       "  <thead>\n",
       "    <tr style=\"text-align: right;\">\n",
       "      <th>clean_tag</th>\n",
       "      <th>adsh</th>\n",
       "      <th>company_name</th>\n",
       "      <th>dyrqt</th>\n",
       "      <th>filed</th>\n",
       "      <th>cik</th>\n",
       "      <th>sic</th>\n",
       "      <th>ticker</th>\n",
       "      <th>country</th>\n",
       "      <th>period</th>\n",
       "      <th>AccountsPayableCurrent</th>\n",
       "      <th>...</th>\n",
       "      <th>ShareBasedCompensation</th>\n",
       "      <th>Short Term Investments</th>\n",
       "      <th>StockIssuedDuringPeriodValue</th>\n",
       "      <th>StockholdersEquity</th>\n",
       "      <th>SubleaseIncome</th>\n",
       "      <th>TotalLiabilities</th>\n",
       "      <th>TreasuryStockShares</th>\n",
       "      <th>TreasuryStockValue</th>\n",
       "      <th>WeightedAverageNumberOfDilutedSharesOutstanding</th>\n",
       "      <th>WeightedAverageNumberOfSharesOutstandingBasic</th>\n",
       "    </tr>\n",
       "  </thead>\n",
       "  <tbody>\n",
       "    <tr>\n",
       "      <th>3616</th>\n",
       "      <td>0001654954-19-007941</td>\n",
       "      <td>INFINITE GROUP INC</td>\n",
       "      <td>201704</td>\n",
       "      <td>2019-07-03 00:00:00</td>\n",
       "      <td>884650</td>\n",
       "      <td>7370.0</td>\n",
       "      <td>imci</td>\n",
       "      <td>US</td>\n",
       "      <td>2017-12-31</td>\n",
       "      <td>864931.0</td>\n",
       "      <td>...</td>\n",
       "      <td>0.0</td>\n",
       "      <td>0.0</td>\n",
       "      <td>0.0</td>\n",
       "      <td>-4038564.0</td>\n",
       "      <td>0.0</td>\n",
       "      <td>4620933.0</td>\n",
       "      <td>0.0</td>\n",
       "      <td>0.0</td>\n",
       "      <td>0.0</td>\n",
       "      <td>0.0</td>\n",
       "    </tr>\n",
       "    <tr>\n",
       "      <th>3617</th>\n",
       "      <td>0001654954-19-007942</td>\n",
       "      <td>INFINITE GROUP INC</td>\n",
       "      <td>201801</td>\n",
       "      <td>2019-07-03 00:00:00</td>\n",
       "      <td>884650</td>\n",
       "      <td>7370.0</td>\n",
       "      <td>imci</td>\n",
       "      <td>US</td>\n",
       "      <td>2018-03-31</td>\n",
       "      <td>508354.0</td>\n",
       "      <td>...</td>\n",
       "      <td>0.0</td>\n",
       "      <td>0.0</td>\n",
       "      <td>0.0</td>\n",
       "      <td>-4125564.0</td>\n",
       "      <td>0.0</td>\n",
       "      <td>4446753.0</td>\n",
       "      <td>0.0</td>\n",
       "      <td>0.0</td>\n",
       "      <td>29061883.0</td>\n",
       "      <td>0.0</td>\n",
       "    </tr>\n",
       "    <tr>\n",
       "      <th>3618</th>\n",
       "      <td>0001654954-19-007943</td>\n",
       "      <td>INFINITE GROUP INC</td>\n",
       "      <td>201802</td>\n",
       "      <td>2019-07-03 00:00:00</td>\n",
       "      <td>884650</td>\n",
       "      <td>7370.0</td>\n",
       "      <td>imci</td>\n",
       "      <td>US</td>\n",
       "      <td>2018-06-30</td>\n",
       "      <td>458249.0</td>\n",
       "      <td>...</td>\n",
       "      <td>0.0</td>\n",
       "      <td>0.0</td>\n",
       "      <td>0.0</td>\n",
       "      <td>-4168564.0</td>\n",
       "      <td>0.0</td>\n",
       "      <td>4337538.0</td>\n",
       "      <td>0.0</td>\n",
       "      <td>0.0</td>\n",
       "      <td>29061883.0</td>\n",
       "      <td>0.0</td>\n",
       "    </tr>\n",
       "    <tr>\n",
       "      <th>3619</th>\n",
       "      <td>0001654954-19-007944</td>\n",
       "      <td>INFINITE GROUP INC</td>\n",
       "      <td>201803</td>\n",
       "      <td>2019-07-03 00:00:00</td>\n",
       "      <td>884650</td>\n",
       "      <td>7370.0</td>\n",
       "      <td>imci</td>\n",
       "      <td>US</td>\n",
       "      <td>2018-09-30</td>\n",
       "      <td>352554.0</td>\n",
       "      <td>...</td>\n",
       "      <td>0.0</td>\n",
       "      <td>0.0</td>\n",
       "      <td>0.0</td>\n",
       "      <td>-4152564.0</td>\n",
       "      <td>0.0</td>\n",
       "      <td>4458037.0</td>\n",
       "      <td>0.0</td>\n",
       "      <td>0.0</td>\n",
       "      <td>29061883.0</td>\n",
       "      <td>0.0</td>\n",
       "    </tr>\n",
       "    <tr>\n",
       "      <th>3620</th>\n",
       "      <td>0001654954-19-007945</td>\n",
       "      <td>INFINITE GROUP INC</td>\n",
       "      <td>201804</td>\n",
       "      <td>2019-07-03 00:00:00</td>\n",
       "      <td>884650</td>\n",
       "      <td>7370.0</td>\n",
       "      <td>imci</td>\n",
       "      <td>US</td>\n",
       "      <td>2018-12-31</td>\n",
       "      <td>367536.0</td>\n",
       "      <td>...</td>\n",
       "      <td>0.0</td>\n",
       "      <td>0.0</td>\n",
       "      <td>0.0</td>\n",
       "      <td>-4000094.0</td>\n",
       "      <td>0.0</td>\n",
       "      <td>4334197.0</td>\n",
       "      <td>0.0</td>\n",
       "      <td>0.0</td>\n",
       "      <td>0.0</td>\n",
       "      <td>0.0</td>\n",
       "    </tr>\n",
       "    <tr>\n",
       "      <th>3621</th>\n",
       "      <td>0001654954-19-007946</td>\n",
       "      <td>INFINITE GROUP INC</td>\n",
       "      <td>201901</td>\n",
       "      <td>2019-07-03 00:00:00</td>\n",
       "      <td>884650</td>\n",
       "      <td>7370.0</td>\n",
       "      <td>imci</td>\n",
       "      <td>US</td>\n",
       "      <td>2019-03-31</td>\n",
       "      <td>286529.0</td>\n",
       "      <td>...</td>\n",
       "      <td>260.0</td>\n",
       "      <td>0.0</td>\n",
       "      <td>0.0</td>\n",
       "      <td>-3964798.0</td>\n",
       "      <td>0.0</td>\n",
       "      <td>4642532.0</td>\n",
       "      <td>0.0</td>\n",
       "      <td>0.0</td>\n",
       "      <td>29061883.0</td>\n",
       "      <td>0.0</td>\n",
       "    </tr>\n",
       "  </tbody>\n",
       "</table>\n",
       "<p>6 rows × 98 columns</p>\n",
       "</div>"
      ],
      "text/plain": [
       "clean_tag                  adsh        company_name   dyrqt  \\\n",
       "3616       0001654954-19-007941  INFINITE GROUP INC  201704   \n",
       "3617       0001654954-19-007942  INFINITE GROUP INC  201801   \n",
       "3618       0001654954-19-007943  INFINITE GROUP INC  201802   \n",
       "3619       0001654954-19-007944  INFINITE GROUP INC  201803   \n",
       "3620       0001654954-19-007945  INFINITE GROUP INC  201804   \n",
       "3621       0001654954-19-007946  INFINITE GROUP INC  201901   \n",
       "\n",
       "clean_tag                filed     cik     sic ticker country      period  \\\n",
       "3616       2019-07-03 00:00:00  884650  7370.0   imci      US  2017-12-31   \n",
       "3617       2019-07-03 00:00:00  884650  7370.0   imci      US  2018-03-31   \n",
       "3618       2019-07-03 00:00:00  884650  7370.0   imci      US  2018-06-30   \n",
       "3619       2019-07-03 00:00:00  884650  7370.0   imci      US  2018-09-30   \n",
       "3620       2019-07-03 00:00:00  884650  7370.0   imci      US  2018-12-31   \n",
       "3621       2019-07-03 00:00:00  884650  7370.0   imci      US  2019-03-31   \n",
       "\n",
       "clean_tag  AccountsPayableCurrent  ...  ShareBasedCompensation  \\\n",
       "3616                     864931.0  ...                     0.0   \n",
       "3617                     508354.0  ...                     0.0   \n",
       "3618                     458249.0  ...                     0.0   \n",
       "3619                     352554.0  ...                     0.0   \n",
       "3620                     367536.0  ...                     0.0   \n",
       "3621                     286529.0  ...                   260.0   \n",
       "\n",
       "clean_tag  Short Term Investments  StockIssuedDuringPeriodValue  \\\n",
       "3616                          0.0                           0.0   \n",
       "3617                          0.0                           0.0   \n",
       "3618                          0.0                           0.0   \n",
       "3619                          0.0                           0.0   \n",
       "3620                          0.0                           0.0   \n",
       "3621                          0.0                           0.0   \n",
       "\n",
       "clean_tag  StockholdersEquity  SubleaseIncome  TotalLiabilities  \\\n",
       "3616               -4038564.0             0.0         4620933.0   \n",
       "3617               -4125564.0             0.0         4446753.0   \n",
       "3618               -4168564.0             0.0         4337538.0   \n",
       "3619               -4152564.0             0.0         4458037.0   \n",
       "3620               -4000094.0             0.0         4334197.0   \n",
       "3621               -3964798.0             0.0         4642532.0   \n",
       "\n",
       "clean_tag  TreasuryStockShares  TreasuryStockValue  \\\n",
       "3616                       0.0                 0.0   \n",
       "3617                       0.0                 0.0   \n",
       "3618                       0.0                 0.0   \n",
       "3619                       0.0                 0.0   \n",
       "3620                       0.0                 0.0   \n",
       "3621                       0.0                 0.0   \n",
       "\n",
       "clean_tag  WeightedAverageNumberOfDilutedSharesOutstanding  \\\n",
       "3616                                                   0.0   \n",
       "3617                                            29061883.0   \n",
       "3618                                            29061883.0   \n",
       "3619                                            29061883.0   \n",
       "3620                                                   0.0   \n",
       "3621                                            29061883.0   \n",
       "\n",
       "clean_tag  WeightedAverageNumberOfSharesOutstandingBasic  \n",
       "3616                                                 0.0  \n",
       "3617                                                 0.0  \n",
       "3618                                                 0.0  \n",
       "3619                                                 0.0  \n",
       "3620                                                 0.0  \n",
       "3621                                                 0.0  \n",
       "\n",
       "[6 rows x 98 columns]"
      ]
     },
     "execution_count": 85,
     "metadata": {},
     "output_type": "execute_result"
    }
   ],
   "source": [
    "sec_data_wide.loc[sec_data_wide.ticker == 'imci']"
   ]
  },
  {
   "cell_type": "code",
   "execution_count": 92,
   "metadata": {},
   "outputs": [],
   "source": [
    "most_updated_pyrqt = sec_data_wide.groupby('cik', as_index = False)['dyrqt'].max()\n",
    "sec_data_wide = sec_data_wide.merge(most_updated_pyrqt, on = ['cik', 'dyrqt'])"
   ]
  },
  {
   "cell_type": "code",
   "execution_count": 94,
   "metadata": {
    "scrolled": true
   },
   "outputs": [
    {
     "data": {
      "text/html": [
       "<div>\n",
       "<style scoped>\n",
       "    .dataframe tbody tr th:only-of-type {\n",
       "        vertical-align: middle;\n",
       "    }\n",
       "\n",
       "    .dataframe tbody tr th {\n",
       "        vertical-align: top;\n",
       "    }\n",
       "\n",
       "    .dataframe thead th {\n",
       "        text-align: right;\n",
       "    }\n",
       "</style>\n",
       "<table border=\"1\" class=\"dataframe\">\n",
       "  <thead>\n",
       "    <tr style=\"text-align: right;\">\n",
       "      <th>clean_tag</th>\n",
       "      <th>adsh</th>\n",
       "      <th>company_name</th>\n",
       "      <th>dyrqt</th>\n",
       "      <th>filed</th>\n",
       "      <th>cik</th>\n",
       "      <th>sic</th>\n",
       "      <th>ticker</th>\n",
       "      <th>country</th>\n",
       "      <th>period</th>\n",
       "      <th>AccountsPayableCurrent</th>\n",
       "      <th>...</th>\n",
       "      <th>ShareBasedCompensation</th>\n",
       "      <th>Short Term Investments</th>\n",
       "      <th>StockIssuedDuringPeriodValue</th>\n",
       "      <th>StockholdersEquity</th>\n",
       "      <th>SubleaseIncome</th>\n",
       "      <th>TotalLiabilities</th>\n",
       "      <th>TreasuryStockShares</th>\n",
       "      <th>TreasuryStockValue</th>\n",
       "      <th>WeightedAverageNumberOfDilutedSharesOutstanding</th>\n",
       "      <th>WeightedAverageNumberOfSharesOutstandingBasic</th>\n",
       "    </tr>\n",
       "  </thead>\n",
       "  <tbody>\n",
       "    <tr>\n",
       "      <th>3560</th>\n",
       "      <td>0001654954-19-007946</td>\n",
       "      <td>INFINITE GROUP INC</td>\n",
       "      <td>201901</td>\n",
       "      <td>2019-07-03 00:00:00</td>\n",
       "      <td>884650</td>\n",
       "      <td>7370.0</td>\n",
       "      <td>imci</td>\n",
       "      <td>US</td>\n",
       "      <td>2019-03-31</td>\n",
       "      <td>286529.0</td>\n",
       "      <td>...</td>\n",
       "      <td>260.0</td>\n",
       "      <td>0.0</td>\n",
       "      <td>0.0</td>\n",
       "      <td>-3964798.0</td>\n",
       "      <td>0.0</td>\n",
       "      <td>4642532.0</td>\n",
       "      <td>0.0</td>\n",
       "      <td>0.0</td>\n",
       "      <td>29061883.0</td>\n",
       "      <td>0.0</td>\n",
       "    </tr>\n",
       "  </tbody>\n",
       "</table>\n",
       "<p>1 rows × 98 columns</p>\n",
       "</div>"
      ],
      "text/plain": [
       "clean_tag                  adsh        company_name   dyrqt  \\\n",
       "3560       0001654954-19-007946  INFINITE GROUP INC  201901   \n",
       "\n",
       "clean_tag                filed     cik     sic ticker country      period  \\\n",
       "3560       2019-07-03 00:00:00  884650  7370.0   imci      US  2019-03-31   \n",
       "\n",
       "clean_tag  AccountsPayableCurrent  ...  ShareBasedCompensation  \\\n",
       "3560                     286529.0  ...                   260.0   \n",
       "\n",
       "clean_tag  Short Term Investments  StockIssuedDuringPeriodValue  \\\n",
       "3560                          0.0                           0.0   \n",
       "\n",
       "clean_tag  StockholdersEquity  SubleaseIncome  TotalLiabilities  \\\n",
       "3560               -3964798.0             0.0         4642532.0   \n",
       "\n",
       "clean_tag  TreasuryStockShares  TreasuryStockValue  \\\n",
       "3560                       0.0                 0.0   \n",
       "\n",
       "clean_tag  WeightedAverageNumberOfDilutedSharesOutstanding  \\\n",
       "3560                                            29061883.0   \n",
       "\n",
       "clean_tag  WeightedAverageNumberOfSharesOutstandingBasic  \n",
       "3560                                                 0.0  \n",
       "\n",
       "[1 rows x 98 columns]"
      ]
     },
     "execution_count": 94,
     "metadata": {},
     "output_type": "execute_result"
    }
   ],
   "source": [
    "sec_data_wide.loc[sec_data_wide.ticker == 'imci']"
   ]
  },
  {
   "cell_type": "markdown",
   "metadata": {},
   "source": [
    "## Save <a name=\"Save\"></a>\n",
    "Create CSV versions in build/raw"
   ]
  },
  {
   "cell_type": "code",
   "execution_count": 95,
   "metadata": {},
   "outputs": [],
   "source": [
    "sec_data_wide.to_csv(data_root+'02-build/clean/2019q3/sec_data_wide.csv')"
   ]
  }
 ],
 "metadata": {
  "kernelspec": {
   "display_name": "Python 3",
   "language": "python",
   "name": "python3"
  },
  "language_info": {
   "codemirror_mode": {
    "name": "ipython",
    "version": 3
   },
   "file_extension": ".py",
   "mimetype": "text/x-python",
   "name": "python",
   "nbconvert_exporter": "python",
   "pygments_lexer": "ipython3",
   "version": "3.7.3"
  }
 },
 "nbformat": 4,
 "nbformat_minor": 4
}
