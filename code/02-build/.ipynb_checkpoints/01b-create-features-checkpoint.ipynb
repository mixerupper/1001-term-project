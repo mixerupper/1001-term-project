{
 "cells": [
  {
   "cell_type": "markdown",
   "metadata": {},
   "source": [
    "# Program Header"
   ]
  },
  {
   "cell_type": "code",
   "execution_count": 1,
   "metadata": {},
   "outputs": [],
   "source": [
    "import pandas as pd\n",
    "import numpy as np\n",
    "import os\n",
    "import sys\n",
    "nb_dir = os.path.split(os.getcwd())[0]\n",
    "if nb_dir not in sys.path:\n",
    "    sys.path.append(nb_dir)\n",
    "from header import *"
   ]
  },
  {
   "cell_type": "code",
   "execution_count": 2,
   "metadata": {
    "scrolled": false
   },
   "outputs": [],
   "source": [
    "data_root = initialize_data_root(\"AY\")"
   ]
  },
  {
   "cell_type": "code",
   "execution_count": 5,
   "metadata": {},
   "outputs": [],
   "source": [
    "import difflib\n",
    "import jellyfish"
   ]
  },
  {
   "cell_type": "markdown",
   "metadata": {},
   "source": [
    "# Table of contents\n",
    "1. [Import](#Import)\n",
    "2. [Data Understanding](#DataUnderstanding)\n",
    "2. [Clean](#Clean)\n",
    "3. [Merge](#Merge)\n",
    "4. [Create Features](#CreateFeatures)\n",
    "5. [Save](#Save)"
   ]
  },
  {
   "cell_type": "markdown",
   "metadata": {},
   "source": [
    "## Import <a name=\"Import\"></a>"
   ]
  },
  {
   "cell_type": "code",
   "execution_count": 4,
   "metadata": {},
   "outputs": [],
   "source": [
    "raw_sec_data = pd.read_csv(data_root+'02-build/clean/2019q3/sec_data_long.csv')"
   ]
  },
  {
   "cell_type": "markdown",
   "metadata": {},
   "source": [
    "## Clean <a name=\"Clean\"></a>"
   ]
  },
  {
   "cell_type": "code",
   "execution_count": 8,
   "metadata": {},
   "outputs": [],
   "source": [
    "sec_data = raw_sec_data\n",
    "sec_data['test'] = 'hello'"
   ]
  },
  {
   "cell_type": "code",
   "execution_count": null,
   "metadata": {},
   "outputs": [],
   "source": [
    "raw_sec_da"
   ]
  },
  {
   "cell_type": "code",
   "execution_count": 6,
   "metadata": {},
   "outputs": [
    {
     "ename": "NameError",
     "evalue": "name 'sec_data' is not defined",
     "output_type": "error",
     "traceback": [
      "\u001b[1;31m---------------------------------------------------------------------------\u001b[0m",
      "\u001b[1;31mNameError\u001b[0m                                 Traceback (most recent call last)",
      "\u001b[1;32m<ipython-input-6-c8f82f03254d>\u001b[0m in \u001b[0;36m<module>\u001b[1;34m\u001b[0m\n\u001b[0;32m      1\u001b[0m \u001b[0mdifflib\u001b[0m\u001b[1;33m.\u001b[0m\u001b[0mget_close_matches\u001b[0m\u001b[1;33m(\u001b[0m\u001b[1;34m'hello'\u001b[0m\u001b[1;33m,\u001b[0m \u001b[1;33m[\u001b[0m\u001b[1;34m'blah'\u001b[0m\u001b[1;33m,\u001b[0m \u001b[1;34m'bye'\u001b[0m\u001b[1;33m,\u001b[0m \u001b[1;34m'weee'\u001b[0m\u001b[1;33m]\u001b[0m\u001b[1;33m)\u001b[0m\u001b[1;33m\u001b[0m\u001b[1;33m\u001b[0m\u001b[0m\n\u001b[1;32m----> 2\u001b[1;33m \u001b[0mtest_tags\u001b[0m \u001b[1;33m=\u001b[0m \u001b[0msec_data\u001b[0m\u001b[1;33m.\u001b[0m\u001b[0mtag\u001b[0m\u001b[1;33m.\u001b[0m\u001b[0munique\u001b[0m\u001b[1;33m(\u001b[0m\u001b[1;33m)\u001b[0m\u001b[1;33m\u001b[0m\u001b[1;33m\u001b[0m\u001b[0m\n\u001b[0m",
      "\u001b[1;31mNameError\u001b[0m: name 'sec_data' is not defined"
     ]
    }
   ],
   "source": [
    "difflib.get_close_matches('hello', ['blah', 'bye', 'weee'])\n",
    "test_tags = sec_data.tag.unique()"
   ]
  },
  {
   "cell_type": "code",
   "execution_count": null,
   "metadata": {},
   "outputs": [],
   "source": [
    "# Levenshtein distance algorithm\n",
    "tag_map = {}\n",
    "\n",
    "for raw_tag in test_tags:\n",
    "    added = 0\n",
    "    \n",
    "    tag_buckets = list(tag_map.keys())\n",
    "    if len(tag_buckets) == 0:\n",
    "        tag_map[raw_tag] = [raw_tag]\n",
    "        print(\"Initialized tag map\")\n",
    "    else:\n",
    "        for clean_tag in tag_buckets:\n",
    "            if jellyfish.levenshtein_distance(clean_tag, raw_tag) < 10:\n",
    "                tag_map[clean_tag].append(raw_tag)\n",
    "                print(\"Added \"+raw_tag+\" to \"+clean_tag+\".\")\n",
    "                added = 1\n",
    "    \n",
    "    if added == 0:\n",
    "        tag_map[raw_tag] = [raw_tag]\n",
    "        print(\"Created new clean tag: \"+raw_tag)\n",
    "    else:\n",
    "        added = 0"
   ]
  },
  {
   "cell_type": "code",
   "execution_count": null,
   "metadata": {},
   "outputs": [],
   "source": [
    "tag_map = {}\n",
    "\n",
    "import difflib\n",
    "\n",
    "for raw_tag in test_tags:\n",
    "    added = 0\n",
    "    \n",
    "    tag_buckets = list(tag_map.keys())\n",
    "    if len(tag_buckets) == 0:\n",
    "        tag_map[raw_tag] = [raw_tag]\n",
    "        print(\"Initialized tag map\")\n",
    "    else:\n",
    "        matches = difflib.get_close_matches(raw_tag, tag_buckets)\n",
    "        if len(matches) == 0:\n",
    "            tag_map[raw_tag] = [raw_tag]\n",
    "            print(\"Created new clean tag: \"+raw_tag)\n",
    "        else:\n",
    "            clean_tag = matches[0]\n",
    "            tag_map[clean_tag].append(raw_tag)\n",
    "            print(\"Added \"+raw_tag+\" to \"+clean_tag+\".\")"
   ]
  },
  {
   "cell_type": "markdown",
   "metadata": {},
   "source": [
    "## Save <a name=\"Save\"></a>\n",
    "Create CSV versions in build/raw"
   ]
  },
  {
   "cell_type": "code",
   "execution_count": 88,
   "metadata": {},
   "outputs": [],
   "source": [
    "sec_data.to_csv(data_root+'02-build/clean/2019q3/sec_data_long.csv')"
   ]
  },
  {
   "cell_type": "code",
   "execution_count": 89,
   "metadata": {},
   "outputs": [],
   "source": [
    "sec_data_wide.to_csv(data_root+'02-build/clean/2019q3/sec_data_wide.csv')"
   ]
  }
 ],
 "metadata": {
  "kernelspec": {
   "display_name": "Python 3",
   "language": "python",
   "name": "python3"
  },
  "language_info": {
   "codemirror_mode": {
    "name": "ipython",
    "version": 3
   },
   "file_extension": ".py",
   "mimetype": "text/x-python",
   "name": "python",
   "nbconvert_exporter": "python",
   "pygments_lexer": "ipython3",
   "version": "3.7.3"
  }
 },
 "nbformat": 4,
 "nbformat_minor": 4
}
