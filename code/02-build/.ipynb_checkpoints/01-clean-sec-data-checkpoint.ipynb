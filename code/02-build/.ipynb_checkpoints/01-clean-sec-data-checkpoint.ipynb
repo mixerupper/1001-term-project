{
 "cells": [
  {
   "cell_type": "code",
   "execution_count": 4,
   "metadata": {},
   "outputs": [
    {
     "data": {
      "text/plain": [
       "'Initialized data root'"
      ]
     },
     "execution_count": 4,
     "metadata": {},
     "output_type": "execute_result"
    }
   ],
   "source": [
    "import pandas as pd\n",
    "import os\n",
    "import sys\n",
    "nb_dir = os.path.split(os.getcwd())[0]\n",
    "if nb_dir not in sys.path:\n",
    "    sys.path.append(nb_dir)\n",
    "from header import *\n",
    "initialize_data_root(\"AY\")"
   ]
  },
  {
   "cell_type": "code",
   "execution_count": 5,
   "metadata": {},
   "outputs": [],
   "source": [
    "raw_sec_data = pd.read_csv(data_root+\"/02-build/2019q3merged.csv\")"
   ]
  },
  {
   "cell_type": "code",
   "execution_count": null,
   "metadata": {},
   "outputs": [],
   "source": [
    "tag_filter = pd.DataFrame(df_merge_column.groupby('tag').count()['adsh'].sort_values(ascending = False))\n",
    "    wanted_tags =  list(tag_filter.index.values)[0:100]\n",
    "    df_merge_data_cleaned = df_merge_column[df_merge_column['tag'].isin(wanted_tags)]\n",
    "    df_merge_data_cleaned = df_merge_data_cleaned[['adsh', 'name', 'fp', 'filed', 'tag', 'ddate', 'uom', 'value']].sort_values('name')"
   ]
  }
 ],
 "metadata": {
  "kernelspec": {
   "display_name": "Python 3",
   "language": "python",
   "name": "python3"
  },
  "language_info": {
   "codemirror_mode": {
    "name": "ipython",
    "version": 3
   },
   "file_extension": ".py",
   "mimetype": "text/x-python",
   "name": "python",
   "nbconvert_exporter": "python",
   "pygments_lexer": "ipython3",
   "version": "3.7.3"
  }
 },
 "nbformat": 4,
 "nbformat_minor": 4
}
