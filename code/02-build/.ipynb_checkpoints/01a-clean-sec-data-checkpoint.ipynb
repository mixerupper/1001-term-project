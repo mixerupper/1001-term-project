{
 "cells": [
  {
   "cell_type": "markdown",
   "metadata": {},
   "source": [
    "# Program Header"
   ]
  },
  {
   "cell_type": "code",
   "execution_count": 55,
   "metadata": {},
   "outputs": [],
   "source": [
    "import pandas as pd\n",
    "import numpy as np\n",
    "import autoreload\n",
    "import os\n",
    "import sys\n",
    "from IPython.core.interactiveshell import InteractiveShell\n",
    "InteractiveShell.ast_node_interactivity = \"all\"\n",
    "nb_dir = os.path.split(os.getcwd())[0]\n",
    "if nb_dir not in sys.path:\n",
    "    sys.path.append(nb_dir)\n",
    "from header import *"
   ]
  },
  {
   "cell_type": "code",
   "execution_count": 56,
   "metadata": {},
   "outputs": [],
   "source": [
    "data_root = initialize_data_root(\"AY\")"
   ]
  },
  {
   "cell_type": "code",
   "execution_count": 57,
   "metadata": {},
   "outputs": [],
   "source": [
    "import math"
   ]
  },
  {
   "cell_type": "markdown",
   "metadata": {},
   "source": [
    "# Table of contents\n",
    "1. [Import](#Import)\n",
    "2. [Data Understanding](#DataUnderstanding)\n",
    "3. [Clean](#Clean)\n",
    "4. [Merge](#Merge)\n",
    "5. [Post-Merge Cleaning](#FurtherCleaning)\n",
    "6. [Save](#Save)"
   ]
  },
  {
   "cell_type": "markdown",
   "metadata": {},
   "source": [
    "## Import <a name=\"Import\"></a>"
   ]
  },
  {
   "cell_type": "code",
   "execution_count": 58,
   "metadata": {},
   "outputs": [],
   "source": [
    "raw_num_data = pd.read_csv(data_root+'02-build/raw/2019q3/num.csv')\n",
    "raw_pre_data = pd.read_csv(data_root+'02-build/raw/2019q3/pre.csv')\n",
    "raw_sub_data = pd.read_csv(data_root+'02-build/raw/2019q3/sub.csv')\n",
    "raw_tag_data = pd.read_csv(data_root+'02-build/raw/2019q3/tag.csv')"
   ]
  },
  {
   "cell_type": "markdown",
   "metadata": {},
   "source": [
    "## Data Understanding <a name=\"DataUnderstanding\"></a>"
   ]
  },
  {
   "cell_type": "markdown",
   "metadata": {},
   "source": [
    "Useful columns based on reading the readme.txt:\n",
    "* **num**: Numeric data and actual values associated to `adsh-ddate-tag-etc`. All columns are relevant\n",
    "* **pre**: Location of tags and a preferred label (`plabel`). `plabel` (and joining columns) seems relevant\n",
    "* **sub**: Summary information about submission. Business-specific information including industry and company name are relevant\n",
    "* **tag**: Tag-level dataset. `doc` seems to be a more descriptive `plabel` from **pre** dataset"
   ]
  },
  {
   "cell_type": "markdown",
   "metadata": {},
   "source": [
    "## Clean <a name=\"Clean\"></a>\n",
    "Clean the individual datasets to prepare for the merge"
   ]
  },
  {
   "cell_type": "code",
   "execution_count": 59,
   "metadata": {},
   "outputs": [
    {
     "data": {
      "text/html": [
       "<div>\n",
       "<style scoped>\n",
       "    .dataframe tbody tr th:only-of-type {\n",
       "        vertical-align: middle;\n",
       "    }\n",
       "\n",
       "    .dataframe tbody tr th {\n",
       "        vertical-align: top;\n",
       "    }\n",
       "\n",
       "    .dataframe thead th {\n",
       "        text-align: right;\n",
       "    }\n",
       "</style>\n",
       "<table border=\"1\" class=\"dataframe\">\n",
       "  <thead>\n",
       "    <tr style=\"text-align: right;\">\n",
       "      <th></th>\n",
       "      <th>adsh</th>\n",
       "      <th>tag</th>\n",
       "      <th>version</th>\n",
       "      <th>coreg</th>\n",
       "      <th>ddate</th>\n",
       "      <th>qtrs</th>\n",
       "      <th>uom</th>\n",
       "      <th>value</th>\n",
       "      <th>footnote</th>\n",
       "    </tr>\n",
       "  </thead>\n",
       "  <tbody>\n",
       "    <tr>\n",
       "      <th>0</th>\n",
       "      <td>0001625376-19-000017</td>\n",
       "      <td>EntityPublicFloat</td>\n",
       "      <td>dei/2014</td>\n",
       "      <td>NaN</td>\n",
       "      <td>20180430</td>\n",
       "      <td>0</td>\n",
       "      <td>USD</td>\n",
       "      <td>0.0</td>\n",
       "      <td>NaN</td>\n",
       "    </tr>\n",
       "    <tr>\n",
       "      <th>1</th>\n",
       "      <td>0000034563-19-000064</td>\n",
       "      <td>DerivativeNonmonetaryNotionalAmount</td>\n",
       "      <td>invest/2013</td>\n",
       "      <td>NaN</td>\n",
       "      <td>20190630</td>\n",
       "      <td>0</td>\n",
       "      <td>lb</td>\n",
       "      <td>48183000.0</td>\n",
       "      <td>NaN</td>\n",
       "    </tr>\n",
       "    <tr>\n",
       "      <th>2</th>\n",
       "      <td>0000034563-19-000064</td>\n",
       "      <td>DerivativeNonmonetaryNotionalAmount</td>\n",
       "      <td>invest/2013</td>\n",
       "      <td>NaN</td>\n",
       "      <td>20180630</td>\n",
       "      <td>0</td>\n",
       "      <td>lb</td>\n",
       "      <td>43459000.0</td>\n",
       "      <td>NaN</td>\n",
       "    </tr>\n",
       "    <tr>\n",
       "      <th>3</th>\n",
       "      <td>0001370946-19-000033</td>\n",
       "      <td>DerivativeNonmonetaryNotionalAmount</td>\n",
       "      <td>invest/2013</td>\n",
       "      <td>NaN</td>\n",
       "      <td>20190630</td>\n",
       "      <td>0</td>\n",
       "      <td>MMBTU</td>\n",
       "      <td>2.0</td>\n",
       "      <td>NaN</td>\n",
       "    </tr>\n",
       "    <tr>\n",
       "      <th>4</th>\n",
       "      <td>0000225648-19-000108</td>\n",
       "      <td>DerivativeNonmonetaryNotionalAmount</td>\n",
       "      <td>invest/2013</td>\n",
       "      <td>NaN</td>\n",
       "      <td>20190630</td>\n",
       "      <td>0</td>\n",
       "      <td>MW</td>\n",
       "      <td>4300000.0</td>\n",
       "      <td>NaN</td>\n",
       "    </tr>\n",
       "  </tbody>\n",
       "</table>\n",
       "</div>"
      ],
      "text/plain": [
       "                   adsh                                  tag      version  \\\n",
       "0  0001625376-19-000017                    EntityPublicFloat     dei/2014   \n",
       "1  0000034563-19-000064  DerivativeNonmonetaryNotionalAmount  invest/2013   \n",
       "2  0000034563-19-000064  DerivativeNonmonetaryNotionalAmount  invest/2013   \n",
       "3  0001370946-19-000033  DerivativeNonmonetaryNotionalAmount  invest/2013   \n",
       "4  0000225648-19-000108  DerivativeNonmonetaryNotionalAmount  invest/2013   \n",
       "\n",
       "  coreg     ddate  qtrs    uom       value footnote  \n",
       "0   NaN  20180430     0    USD         0.0      NaN  \n",
       "1   NaN  20190630     0     lb  48183000.0      NaN  \n",
       "2   NaN  20180630     0     lb  43459000.0      NaN  \n",
       "3   NaN  20190630     0  MMBTU         2.0      NaN  \n",
       "4   NaN  20190630     0     MW   4300000.0      NaN  "
      ]
     },
     "execution_count": 59,
     "metadata": {},
     "output_type": "execute_result"
    }
   ],
   "source": [
    "raw_num_data.head()"
   ]
  },
  {
   "cell_type": "code",
   "execution_count": 60,
   "metadata": {},
   "outputs": [
    {
     "data": {
      "text/html": [
       "<div>\n",
       "<style scoped>\n",
       "    .dataframe tbody tr th:only-of-type {\n",
       "        vertical-align: middle;\n",
       "    }\n",
       "\n",
       "    .dataframe tbody tr th {\n",
       "        vertical-align: top;\n",
       "    }\n",
       "\n",
       "    .dataframe thead th {\n",
       "        text-align: right;\n",
       "    }\n",
       "</style>\n",
       "<table border=\"1\" class=\"dataframe\">\n",
       "  <thead>\n",
       "    <tr style=\"text-align: right;\">\n",
       "      <th></th>\n",
       "      <th>adsh</th>\n",
       "      <th>report</th>\n",
       "      <th>line</th>\n",
       "      <th>stmt</th>\n",
       "      <th>inpth</th>\n",
       "      <th>rfile</th>\n",
       "      <th>tag</th>\n",
       "      <th>version</th>\n",
       "      <th>plabel</th>\n",
       "      <th>negating</th>\n",
       "    </tr>\n",
       "  </thead>\n",
       "  <tbody>\n",
       "    <tr>\n",
       "      <th>0</th>\n",
       "      <td>0001625376-19-000017</td>\n",
       "      <td>1</td>\n",
       "      <td>9</td>\n",
       "      <td>CP</td>\n",
       "      <td>0</td>\n",
       "      <td>H</td>\n",
       "      <td>EntityPublicFloat</td>\n",
       "      <td>dei/2014</td>\n",
       "      <td>Entity Public Float</td>\n",
       "      <td>0</td>\n",
       "    </tr>\n",
       "    <tr>\n",
       "      <th>1</th>\n",
       "      <td>0001625376-19-000017</td>\n",
       "      <td>1</td>\n",
       "      <td>14</td>\n",
       "      <td>CP</td>\n",
       "      <td>0</td>\n",
       "      <td>H</td>\n",
       "      <td>DocumentFiscalYearFocus</td>\n",
       "      <td>dei/2014</td>\n",
       "      <td>Document Fiscal Year Focus</td>\n",
       "      <td>0</td>\n",
       "    </tr>\n",
       "    <tr>\n",
       "      <th>2</th>\n",
       "      <td>0001625376-19-000019</td>\n",
       "      <td>1</td>\n",
       "      <td>11</td>\n",
       "      <td>CP</td>\n",
       "      <td>0</td>\n",
       "      <td>H</td>\n",
       "      <td>DocumentFiscalYearFocus</td>\n",
       "      <td>dei/2014</td>\n",
       "      <td>Document Fiscal Year Focus</td>\n",
       "      <td>0</td>\n",
       "    </tr>\n",
       "    <tr>\n",
       "      <th>3</th>\n",
       "      <td>0001766016-19-000005</td>\n",
       "      <td>1</td>\n",
       "      <td>10</td>\n",
       "      <td>CP</td>\n",
       "      <td>0</td>\n",
       "      <td>H</td>\n",
       "      <td>DocumentFiscalYearFocus</td>\n",
       "      <td>dei/2014</td>\n",
       "      <td>Document Fiscal Year Focus</td>\n",
       "      <td>0</td>\n",
       "    </tr>\n",
       "    <tr>\n",
       "      <th>4</th>\n",
       "      <td>0001047469-19-004442</td>\n",
       "      <td>1</td>\n",
       "      <td>6</td>\n",
       "      <td>CP</td>\n",
       "      <td>0</td>\n",
       "      <td>H</td>\n",
       "      <td>DocumentFiscalYearFocus</td>\n",
       "      <td>dei/2014</td>\n",
       "      <td>Document Fiscal Year Focus</td>\n",
       "      <td>0</td>\n",
       "    </tr>\n",
       "  </tbody>\n",
       "</table>\n",
       "</div>"
      ],
      "text/plain": [
       "                   adsh  report  line stmt  inpth rfile  \\\n",
       "0  0001625376-19-000017       1     9   CP      0     H   \n",
       "1  0001625376-19-000017       1    14   CP      0     H   \n",
       "2  0001625376-19-000019       1    11   CP      0     H   \n",
       "3  0001766016-19-000005       1    10   CP      0     H   \n",
       "4  0001047469-19-004442       1     6   CP      0     H   \n",
       "\n",
       "                       tag   version                      plabel  negating  \n",
       "0        EntityPublicFloat  dei/2014         Entity Public Float         0  \n",
       "1  DocumentFiscalYearFocus  dei/2014  Document Fiscal Year Focus         0  \n",
       "2  DocumentFiscalYearFocus  dei/2014  Document Fiscal Year Focus         0  \n",
       "3  DocumentFiscalYearFocus  dei/2014  Document Fiscal Year Focus         0  \n",
       "4  DocumentFiscalYearFocus  dei/2014  Document Fiscal Year Focus         0  "
      ]
     },
     "execution_count": 60,
     "metadata": {},
     "output_type": "execute_result"
    }
   ],
   "source": [
    "raw_pre_data.head()"
   ]
  },
  {
   "cell_type": "code",
   "execution_count": 61,
   "metadata": {},
   "outputs": [
    {
     "data": {
      "text/html": [
       "<div>\n",
       "<style scoped>\n",
       "    .dataframe tbody tr th:only-of-type {\n",
       "        vertical-align: middle;\n",
       "    }\n",
       "\n",
       "    .dataframe tbody tr th {\n",
       "        vertical-align: top;\n",
       "    }\n",
       "\n",
       "    .dataframe thead th {\n",
       "        text-align: right;\n",
       "    }\n",
       "</style>\n",
       "<table border=\"1\" class=\"dataframe\">\n",
       "  <thead>\n",
       "    <tr style=\"text-align: right;\">\n",
       "      <th></th>\n",
       "      <th>adsh</th>\n",
       "      <th>cik</th>\n",
       "      <th>name</th>\n",
       "      <th>sic</th>\n",
       "      <th>countryba</th>\n",
       "      <th>stprba</th>\n",
       "      <th>cityba</th>\n",
       "      <th>zipba</th>\n",
       "      <th>bas1</th>\n",
       "      <th>bas2</th>\n",
       "      <th>...</th>\n",
       "      <th>period</th>\n",
       "      <th>fy</th>\n",
       "      <th>fp</th>\n",
       "      <th>filed</th>\n",
       "      <th>accepted</th>\n",
       "      <th>prevrpt</th>\n",
       "      <th>detail</th>\n",
       "      <th>instance</th>\n",
       "      <th>nciks</th>\n",
       "      <th>aciks</th>\n",
       "    </tr>\n",
       "  </thead>\n",
       "  <tbody>\n",
       "    <tr>\n",
       "      <th>0</th>\n",
       "      <td>0000002178-19-000086</td>\n",
       "      <td>2178</td>\n",
       "      <td>ADAMS RESOURCES &amp; ENERGY, INC.</td>\n",
       "      <td>5172.0</td>\n",
       "      <td>US</td>\n",
       "      <td>TX</td>\n",
       "      <td>HOUSTON</td>\n",
       "      <td>77027</td>\n",
       "      <td>17 S. BRIAR HOLLOW LN.</td>\n",
       "      <td>NaN</td>\n",
       "      <td>...</td>\n",
       "      <td>20190630</td>\n",
       "      <td>2019.0</td>\n",
       "      <td>Q2</td>\n",
       "      <td>20190807</td>\n",
       "      <td>2019-08-07 17:21:00.0</td>\n",
       "      <td>0</td>\n",
       "      <td>1</td>\n",
       "      <td>ae-20190630_htm.xml</td>\n",
       "      <td>1</td>\n",
       "      <td>NaN</td>\n",
       "    </tr>\n",
       "    <tr>\n",
       "      <th>1</th>\n",
       "      <td>0000002488-19-000104</td>\n",
       "      <td>2488</td>\n",
       "      <td>ADVANCED MICRO DEVICES INC</td>\n",
       "      <td>3674.0</td>\n",
       "      <td>US</td>\n",
       "      <td>CA</td>\n",
       "      <td>SANTA CLARA</td>\n",
       "      <td>95054</td>\n",
       "      <td>2485 AUGUSTINE DRIVE</td>\n",
       "      <td>NaN</td>\n",
       "      <td>...</td>\n",
       "      <td>20190630</td>\n",
       "      <td>2019.0</td>\n",
       "      <td>Q2</td>\n",
       "      <td>20190731</td>\n",
       "      <td>2019-07-31 16:27:00.0</td>\n",
       "      <td>0</td>\n",
       "      <td>1</td>\n",
       "      <td>amd0629201910q_htm.xml</td>\n",
       "      <td>1</td>\n",
       "      <td>NaN</td>\n",
       "    </tr>\n",
       "    <tr>\n",
       "      <th>2</th>\n",
       "      <td>0000002488-19-000113</td>\n",
       "      <td>2488</td>\n",
       "      <td>ADVANCED MICRO DEVICES INC</td>\n",
       "      <td>3674.0</td>\n",
       "      <td>US</td>\n",
       "      <td>CA</td>\n",
       "      <td>SANTA CLARA</td>\n",
       "      <td>95054</td>\n",
       "      <td>2485 AUGUSTINE DRIVE</td>\n",
       "      <td>NaN</td>\n",
       "      <td>...</td>\n",
       "      <td>20190731</td>\n",
       "      <td>2019.0</td>\n",
       "      <td>Q3</td>\n",
       "      <td>20190808</td>\n",
       "      <td>2019-08-08 16:10:00.0</td>\n",
       "      <td>0</td>\n",
       "      <td>0</td>\n",
       "      <td>amdform8k08082019_htm.xml</td>\n",
       "      <td>1</td>\n",
       "      <td>NaN</td>\n",
       "    </tr>\n",
       "    <tr>\n",
       "      <th>3</th>\n",
       "      <td>0000002488-19-000144</td>\n",
       "      <td>2488</td>\n",
       "      <td>ADVANCED MICRO DEVICES INC</td>\n",
       "      <td>3674.0</td>\n",
       "      <td>US</td>\n",
       "      <td>CA</td>\n",
       "      <td>SANTA CLARA</td>\n",
       "      <td>95054</td>\n",
       "      <td>2485 AUGUSTINE DRIVE</td>\n",
       "      <td>NaN</td>\n",
       "      <td>...</td>\n",
       "      <td>20190831</td>\n",
       "      <td>2019.0</td>\n",
       "      <td>Q3</td>\n",
       "      <td>20190906</td>\n",
       "      <td>2019-09-06 16:11:00.0</td>\n",
       "      <td>0</td>\n",
       "      <td>0</td>\n",
       "      <td>amdform8kequitysalesse_htm.xml</td>\n",
       "      <td>1</td>\n",
       "      <td>NaN</td>\n",
       "    </tr>\n",
       "    <tr>\n",
       "      <th>4</th>\n",
       "      <td>0000002969-19-000042</td>\n",
       "      <td>2969</td>\n",
       "      <td>AIR PRODUCTS &amp; CHEMICALS INC /DE/</td>\n",
       "      <td>2810.0</td>\n",
       "      <td>US</td>\n",
       "      <td>PA</td>\n",
       "      <td>ALLENTOWN</td>\n",
       "      <td>18195-1501</td>\n",
       "      <td>7201 HAMILTON BLVD</td>\n",
       "      <td>NaN</td>\n",
       "      <td>...</td>\n",
       "      <td>20190630</td>\n",
       "      <td>2019.0</td>\n",
       "      <td>Q3</td>\n",
       "      <td>20190725</td>\n",
       "      <td>2019-07-25 13:02:00.0</td>\n",
       "      <td>0</td>\n",
       "      <td>1</td>\n",
       "      <td>apd-10qx30jun2019_htm.xml</td>\n",
       "      <td>1</td>\n",
       "      <td>NaN</td>\n",
       "    </tr>\n",
       "  </tbody>\n",
       "</table>\n",
       "<p>5 rows × 36 columns</p>\n",
       "</div>"
      ],
      "text/plain": [
       "                   adsh   cik                               name     sic  \\\n",
       "0  0000002178-19-000086  2178     ADAMS RESOURCES & ENERGY, INC.  5172.0   \n",
       "1  0000002488-19-000104  2488         ADVANCED MICRO DEVICES INC  3674.0   \n",
       "2  0000002488-19-000113  2488         ADVANCED MICRO DEVICES INC  3674.0   \n",
       "3  0000002488-19-000144  2488         ADVANCED MICRO DEVICES INC  3674.0   \n",
       "4  0000002969-19-000042  2969  AIR PRODUCTS & CHEMICALS INC /DE/  2810.0   \n",
       "\n",
       "  countryba stprba       cityba       zipba                    bas1 bas2  ...  \\\n",
       "0        US     TX      HOUSTON       77027  17 S. BRIAR HOLLOW LN.  NaN  ...   \n",
       "1        US     CA  SANTA CLARA       95054    2485 AUGUSTINE DRIVE  NaN  ...   \n",
       "2        US     CA  SANTA CLARA       95054    2485 AUGUSTINE DRIVE  NaN  ...   \n",
       "3        US     CA  SANTA CLARA       95054    2485 AUGUSTINE DRIVE  NaN  ...   \n",
       "4        US     PA    ALLENTOWN  18195-1501      7201 HAMILTON BLVD  NaN  ...   \n",
       "\n",
       "     period      fy  fp     filed               accepted prevrpt detail  \\\n",
       "0  20190630  2019.0  Q2  20190807  2019-08-07 17:21:00.0       0      1   \n",
       "1  20190630  2019.0  Q2  20190731  2019-07-31 16:27:00.0       0      1   \n",
       "2  20190731  2019.0  Q3  20190808  2019-08-08 16:10:00.0       0      0   \n",
       "3  20190831  2019.0  Q3  20190906  2019-09-06 16:11:00.0       0      0   \n",
       "4  20190630  2019.0  Q3  20190725  2019-07-25 13:02:00.0       0      1   \n",
       "\n",
       "                         instance nciks  aciks  \n",
       "0             ae-20190630_htm.xml     1    NaN  \n",
       "1          amd0629201910q_htm.xml     1    NaN  \n",
       "2       amdform8k08082019_htm.xml     1    NaN  \n",
       "3  amdform8kequitysalesse_htm.xml     1    NaN  \n",
       "4       apd-10qx30jun2019_htm.xml     1    NaN  \n",
       "\n",
       "[5 rows x 36 columns]"
      ]
     },
     "execution_count": 61,
     "metadata": {},
     "output_type": "execute_result"
    }
   ],
   "source": [
    "raw_sub_data.head()"
   ]
  },
  {
   "cell_type": "code",
   "execution_count": 62,
   "metadata": {},
   "outputs": [
    {
     "data": {
      "text/html": [
       "<div>\n",
       "<style scoped>\n",
       "    .dataframe tbody tr th:only-of-type {\n",
       "        vertical-align: middle;\n",
       "    }\n",
       "\n",
       "    .dataframe tbody tr th {\n",
       "        vertical-align: top;\n",
       "    }\n",
       "\n",
       "    .dataframe thead th {\n",
       "        text-align: right;\n",
       "    }\n",
       "</style>\n",
       "<table border=\"1\" class=\"dataframe\">\n",
       "  <thead>\n",
       "    <tr style=\"text-align: right;\">\n",
       "      <th></th>\n",
       "      <th>tag</th>\n",
       "      <th>version</th>\n",
       "      <th>custom</th>\n",
       "      <th>abstract</th>\n",
       "      <th>datatype</th>\n",
       "      <th>iord</th>\n",
       "      <th>crdr</th>\n",
       "      <th>tlabel</th>\n",
       "      <th>doc</th>\n",
       "    </tr>\n",
       "  </thead>\n",
       "  <tbody>\n",
       "    <tr>\n",
       "      <th>0</th>\n",
       "      <td>EntityPublicFloat</td>\n",
       "      <td>dei/2014</td>\n",
       "      <td>0</td>\n",
       "      <td>0</td>\n",
       "      <td>monetary</td>\n",
       "      <td>I</td>\n",
       "      <td>C</td>\n",
       "      <td>Entity Public Float</td>\n",
       "      <td>State aggregate market value of voting and non...</td>\n",
       "    </tr>\n",
       "    <tr>\n",
       "      <th>1</th>\n",
       "      <td>DocumentFiscalYearFocus</td>\n",
       "      <td>dei/2014</td>\n",
       "      <td>0</td>\n",
       "      <td>0</td>\n",
       "      <td>gYear</td>\n",
       "      <td>D</td>\n",
       "      <td>NaN</td>\n",
       "      <td>Document Fiscal Year Focus</td>\n",
       "      <td>This is focus fiscal year of the document repo...</td>\n",
       "    </tr>\n",
       "    <tr>\n",
       "      <th>2</th>\n",
       "      <td>DocumentPeriodEndDate</td>\n",
       "      <td>dei/2014</td>\n",
       "      <td>0</td>\n",
       "      <td>0</td>\n",
       "      <td>date</td>\n",
       "      <td>D</td>\n",
       "      <td>NaN</td>\n",
       "      <td>Document Period End Date</td>\n",
       "      <td>The end date of the period reflected on the co...</td>\n",
       "    </tr>\n",
       "    <tr>\n",
       "      <th>3</th>\n",
       "      <td>CurrentFiscalYearEndDate</td>\n",
       "      <td>dei/2014</td>\n",
       "      <td>0</td>\n",
       "      <td>0</td>\n",
       "      <td>gMonthDay</td>\n",
       "      <td>D</td>\n",
       "      <td>NaN</td>\n",
       "      <td>Current Fiscal Year End Date</td>\n",
       "      <td>End date of current fiscal year in the format ...</td>\n",
       "    </tr>\n",
       "    <tr>\n",
       "      <th>4</th>\n",
       "      <td>InvestmentAxis</td>\n",
       "      <td>invest/2013</td>\n",
       "      <td>0</td>\n",
       "      <td>1</td>\n",
       "      <td>axis</td>\n",
       "      <td>NaN</td>\n",
       "      <td>NaN</td>\n",
       "      <td>Investment [Axis]</td>\n",
       "      <td>A categorization of investments (securities, d...</td>\n",
       "    </tr>\n",
       "  </tbody>\n",
       "</table>\n",
       "</div>"
      ],
      "text/plain": [
       "                        tag      version  custom  abstract   datatype iord  \\\n",
       "0         EntityPublicFloat     dei/2014       0         0   monetary    I   \n",
       "1   DocumentFiscalYearFocus     dei/2014       0         0      gYear    D   \n",
       "2     DocumentPeriodEndDate     dei/2014       0         0       date    D   \n",
       "3  CurrentFiscalYearEndDate     dei/2014       0         0  gMonthDay    D   \n",
       "4            InvestmentAxis  invest/2013       0         1       axis  NaN   \n",
       "\n",
       "  crdr                        tlabel  \\\n",
       "0    C           Entity Public Float   \n",
       "1  NaN    Document Fiscal Year Focus   \n",
       "2  NaN      Document Period End Date   \n",
       "3  NaN  Current Fiscal Year End Date   \n",
       "4  NaN             Investment [Axis]   \n",
       "\n",
       "                                                 doc  \n",
       "0  State aggregate market value of voting and non...  \n",
       "1  This is focus fiscal year of the document repo...  \n",
       "2  The end date of the period reflected on the co...  \n",
       "3  End date of current fiscal year in the format ...  \n",
       "4  A categorization of investments (securities, d...  "
      ]
     },
     "execution_count": 62,
     "metadata": {},
     "output_type": "execute_result"
    }
   ],
   "source": [
    "raw_tag_data.head()"
   ]
  },
  {
   "cell_type": "markdown",
   "metadata": {},
   "source": [
    "## Clean <a name=\"Clean\"></a>"
   ]
  },
  {
   "cell_type": "code",
   "execution_count": 63,
   "metadata": {},
   "outputs": [],
   "source": [
    "pre_data = raw_num_data\\\n",
    "    .filter(['adsh', 'tag', 'version', 'plabel'], axis = 'columns')\\\n",
    "    .drop_duplicates()"
   ]
  },
  {
   "cell_type": "code",
   "execution_count": 64,
   "metadata": {},
   "outputs": [],
   "source": [
    "sub_data = raw_sub_data\\\n",
    "    .filter(['adsh', 'cik', 'name', 'sic', 'countryba', 'period', 'form', 'fye', 'filed', 'accepted', 'instance'], axis = 'columns')\\\n",
    "    .rename(mapper = {'name':'company_name', 'countryba':'country'}, axis = 'columns')\\\n",
    "    .assign(period = pd.to_datetime(raw_sub_data['period'], format='%Y%m%d', errors = 'coerce'))\\\n",
    "    .assign(filed = pd.to_datetime(raw_sub_data['filed'], format='%Y%m%d', errors = 'coerce'))\\\n",
    "    .assign(accepted = pd.to_datetime(raw_sub_data['accepted'], format='%Y-%m-%d', errors = 'coerce'))\\\n",
    "    .query(\"form in ['10-Q', '10-K']\") # Keep only the quarterly and annual filings"
   ]
  },
  {
   "cell_type": "code",
   "execution_count": 65,
   "metadata": {},
   "outputs": [],
   "source": [
    "tag_data = raw_tag_data\\\n",
    "    .filter(['tag', 'version', 'doc'])\\\n",
    "    .drop_duplicates()"
   ]
  },
  {
   "cell_type": "code",
   "execution_count": 66,
   "metadata": {},
   "outputs": [
    {
     "data": {
      "text/plain": [
       "\"State aggregate market value of voting and non-voting common equity held by non-affiliates computed by reference to price at which the common equity was last sold, or average bid and asked price of such common equity, as of the last business day of registrant's most recently completed second fiscal quarter. The public float should be reported on the cover page of the registrants form 10K.\""
      ]
     },
     "execution_count": 66,
     "metadata": {},
     "output_type": "execute_result"
    }
   ],
   "source": [
    "tag_data['doc'][0]"
   ]
  },
  {
   "cell_type": "code",
   "execution_count": 67,
   "metadata": {},
   "outputs": [],
   "source": [
    "# Get rid of coregister/parent company\n",
    "# Keep only the balance sheet and single quarter flows\n",
    "\n",
    "num_data = raw_num_data\\\n",
    "    .drop('footnote', axis = 'columns')\\\n",
    "    .assign(no_coreg = pd.isna(raw_num_data['coreg']))\\\n",
    "    .assign(no_value = pd.isna(raw_num_data['value']))\\\n",
    "    .assign(dyear = raw_num_data['ddate'].map(lambda x: math.floor(x/10000)))\\\n",
    "    .assign(dqt = raw_num_data['ddate'].map(lambda x: math.ceil((x%100)/3)))\\\n",
    "    .assign(ddate = pd.to_datetime(raw_num_data['ddate'], format = '%Y%m%d', errors = 'coerce'))\\\n",
    "    .query(\"(no_coreg == True) & (no_value == False)\")\\\n",
    "    .query(\"(qtrs in (0,1))\")\\\n",
    "    .query(\"uom in ('USD', 'shares', 'pure')\")"
   ]
  },
  {
   "cell_type": "code",
   "execution_count": 68,
   "metadata": {},
   "outputs": [
    {
     "data": {
      "text/plain": [
       "(1319936, 12)"
      ]
     },
     "execution_count": 68,
     "metadata": {},
     "output_type": "execute_result"
    }
   ],
   "source": [
    "num_data.shape"
   ]
  },
  {
   "cell_type": "markdown",
   "metadata": {},
   "source": [
    "## Merge <a name=\"Merge\"></a>"
   ]
  },
  {
   "cell_type": "code",
   "execution_count": 69,
   "metadata": {},
   "outputs": [
    {
     "data": {
      "text/plain": [
       "Index(['adsh', 'tag', 'version', 'coreg', 'ddate', 'qtrs', 'uom', 'value',\n",
       "       'no_coreg', 'no_value', 'dyear', 'dqt'],\n",
       "      dtype='object')"
      ]
     },
     "execution_count": 69,
     "metadata": {},
     "output_type": "execute_result"
    }
   ],
   "source": [
    "num_data.columns"
   ]
  },
  {
   "cell_type": "code",
   "execution_count": 70,
   "metadata": {},
   "outputs": [],
   "source": [
    "sec_data = num_data.merge(pre_data, on = ['adsh', 'tag', 'version'])\\\n",
    "    .merge(sub_data, on = ['adsh'])\\\n",
    "    .merge(tag_data, on = ['tag', 'version'])\\\n",
    "    .reset_index(drop = True)"
   ]
  },
  {
   "cell_type": "code",
   "execution_count": 71,
   "metadata": {},
   "outputs": [
    {
     "data": {
      "text/plain": [
       "Index(['adsh', 'tag', 'version', 'coreg', 'ddate', 'qtrs', 'uom', 'value',\n",
       "       'no_coreg', 'no_value', 'dyear', 'dqt', 'cik', 'company_name', 'sic',\n",
       "       'country', 'period', 'form', 'fye', 'filed', 'accepted', 'instance',\n",
       "       'doc'],\n",
       "      dtype='object')"
      ]
     },
     "execution_count": 71,
     "metadata": {},
     "output_type": "execute_result"
    }
   ],
   "source": [
    "sec_data.columns"
   ]
  },
  {
   "cell_type": "markdown",
   "metadata": {},
   "source": [
    "## Post-Merge Cleaning  <a name=\"FurtherCleaning\"></a>"
   ]
  },
  {
   "cell_type": "markdown",
   "metadata": {},
   "source": [
    "At first glance, `period` and `ddate` are very similar. However, `period` is the reported period for the information while `ddate` is the specific date the value corresponds to."
   ]
  },
  {
   "cell_type": "markdown",
   "metadata": {},
   "source": [
    "As can we seen, we almost have **sec_data** observations at the `adsh, tag, period` level"
   ]
  },
  {
   "cell_type": "code",
   "execution_count": 72,
   "metadata": {},
   "outputs": [],
   "source": [
    "multiple_matches = sec_data.groupby(['adsh', 'tag', 'period'], as_index = False)\\\n",
    "    .count()\\\n",
    "    .sort_values('value', ascending = False)\\\n",
    "    .query(\"value > 1\")"
   ]
  },
  {
   "cell_type": "code",
   "execution_count": 73,
   "metadata": {},
   "outputs": [
    {
     "data": {
      "text/html": [
       "<div>\n",
       "<style scoped>\n",
       "    .dataframe tbody tr th:only-of-type {\n",
       "        vertical-align: middle;\n",
       "    }\n",
       "\n",
       "    .dataframe tbody tr th {\n",
       "        vertical-align: top;\n",
       "    }\n",
       "\n",
       "    .dataframe thead th {\n",
       "        text-align: right;\n",
       "    }\n",
       "</style>\n",
       "<table border=\"1\" class=\"dataframe\">\n",
       "  <thead>\n",
       "    <tr style=\"text-align: right;\">\n",
       "      <th></th>\n",
       "      <th>adsh</th>\n",
       "      <th>tag</th>\n",
       "      <th>period</th>\n",
       "      <th>version</th>\n",
       "      <th>coreg</th>\n",
       "      <th>ddate</th>\n",
       "      <th>qtrs</th>\n",
       "      <th>uom</th>\n",
       "      <th>value</th>\n",
       "      <th>no_coreg</th>\n",
       "      <th>...</th>\n",
       "      <th>cik</th>\n",
       "      <th>company_name</th>\n",
       "      <th>sic</th>\n",
       "      <th>country</th>\n",
       "      <th>form</th>\n",
       "      <th>fye</th>\n",
       "      <th>filed</th>\n",
       "      <th>accepted</th>\n",
       "      <th>instance</th>\n",
       "      <th>doc</th>\n",
       "    </tr>\n",
       "  </thead>\n",
       "  <tbody>\n",
       "    <tr>\n",
       "      <th>76227</th>\n",
       "      <td>0000890163-19-000036</td>\n",
       "      <td>Cash</td>\n",
       "      <td>2019-06-30</td>\n",
       "      <td>25</td>\n",
       "      <td>0</td>\n",
       "      <td>25</td>\n",
       "      <td>25</td>\n",
       "      <td>25</td>\n",
       "      <td>25</td>\n",
       "      <td>25</td>\n",
       "      <td>...</td>\n",
       "      <td>25</td>\n",
       "      <td>25</td>\n",
       "      <td>25</td>\n",
       "      <td>25</td>\n",
       "      <td>25</td>\n",
       "      <td>25</td>\n",
       "      <td>25</td>\n",
       "      <td>25</td>\n",
       "      <td>25</td>\n",
       "      <td>25</td>\n",
       "    </tr>\n",
       "    <tr>\n",
       "      <th>203980</th>\n",
       "      <td>0001213900-19-019346</td>\n",
       "      <td>SaleOfStockPricePerShare</td>\n",
       "      <td>2019-06-30</td>\n",
       "      <td>15</td>\n",
       "      <td>0</td>\n",
       "      <td>15</td>\n",
       "      <td>15</td>\n",
       "      <td>15</td>\n",
       "      <td>15</td>\n",
       "      <td>15</td>\n",
       "      <td>...</td>\n",
       "      <td>15</td>\n",
       "      <td>15</td>\n",
       "      <td>15</td>\n",
       "      <td>15</td>\n",
       "      <td>15</td>\n",
       "      <td>15</td>\n",
       "      <td>15</td>\n",
       "      <td>15</td>\n",
       "      <td>15</td>\n",
       "      <td>15</td>\n",
       "    </tr>\n",
       "    <tr>\n",
       "      <th>101825</th>\n",
       "      <td>0001024305-19-000097</td>\n",
       "      <td>DividendsPayableCurrentAndNoncurrent</td>\n",
       "      <td>2019-06-30</td>\n",
       "      <td>15</td>\n",
       "      <td>0</td>\n",
       "      <td>15</td>\n",
       "      <td>15</td>\n",
       "      <td>15</td>\n",
       "      <td>15</td>\n",
       "      <td>15</td>\n",
       "      <td>...</td>\n",
       "      <td>15</td>\n",
       "      <td>15</td>\n",
       "      <td>15</td>\n",
       "      <td>15</td>\n",
       "      <td>15</td>\n",
       "      <td>15</td>\n",
       "      <td>15</td>\n",
       "      <td>15</td>\n",
       "      <td>15</td>\n",
       "      <td>15</td>\n",
       "    </tr>\n",
       "    <tr>\n",
       "      <th>305373</th>\n",
       "      <td>0001498068-19-000060</td>\n",
       "      <td>Goodwill</td>\n",
       "      <td>2018-12-31</td>\n",
       "      <td>13</td>\n",
       "      <td>0</td>\n",
       "      <td>13</td>\n",
       "      <td>13</td>\n",
       "      <td>13</td>\n",
       "      <td>13</td>\n",
       "      <td>13</td>\n",
       "      <td>...</td>\n",
       "      <td>13</td>\n",
       "      <td>13</td>\n",
       "      <td>13</td>\n",
       "      <td>13</td>\n",
       "      <td>13</td>\n",
       "      <td>13</td>\n",
       "      <td>13</td>\n",
       "      <td>13</td>\n",
       "      <td>13</td>\n",
       "      <td>13</td>\n",
       "    </tr>\n",
       "    <tr>\n",
       "      <th>305332</th>\n",
       "      <td>0001498068-19-000060</td>\n",
       "      <td>CashCashEquivalentsRestrictedCashAndRestricted...</td>\n",
       "      <td>2018-12-31</td>\n",
       "      <td>13</td>\n",
       "      <td>0</td>\n",
       "      <td>13</td>\n",
       "      <td>13</td>\n",
       "      <td>13</td>\n",
       "      <td>13</td>\n",
       "      <td>13</td>\n",
       "      <td>...</td>\n",
       "      <td>13</td>\n",
       "      <td>13</td>\n",
       "      <td>13</td>\n",
       "      <td>13</td>\n",
       "      <td>13</td>\n",
       "      <td>13</td>\n",
       "      <td>13</td>\n",
       "      <td>13</td>\n",
       "      <td>13</td>\n",
       "      <td>13</td>\n",
       "    </tr>\n",
       "  </tbody>\n",
       "</table>\n",
       "<p>5 rows × 23 columns</p>\n",
       "</div>"
      ],
      "text/plain": [
       "                        adsh  \\\n",
       "76227   0000890163-19-000036   \n",
       "203980  0001213900-19-019346   \n",
       "101825  0001024305-19-000097   \n",
       "305373  0001498068-19-000060   \n",
       "305332  0001498068-19-000060   \n",
       "\n",
       "                                                      tag     period  version  \\\n",
       "76227                                                Cash 2019-06-30       25   \n",
       "203980                           SaleOfStockPricePerShare 2019-06-30       15   \n",
       "101825               DividendsPayableCurrentAndNoncurrent 2019-06-30       15   \n",
       "305373                                           Goodwill 2018-12-31       13   \n",
       "305332  CashCashEquivalentsRestrictedCashAndRestricted... 2018-12-31       13   \n",
       "\n",
       "        coreg  ddate  qtrs  uom  value  no_coreg  ...  cik  company_name  sic  \\\n",
       "76227       0     25    25   25     25        25  ...   25            25   25   \n",
       "203980      0     15    15   15     15        15  ...   15            15   15   \n",
       "101825      0     15    15   15     15        15  ...   15            15   15   \n",
       "305373      0     13    13   13     13        13  ...   13            13   13   \n",
       "305332      0     13    13   13     13        13  ...   13            13   13   \n",
       "\n",
       "        country  form  fye  filed  accepted  instance  doc  \n",
       "76227        25    25   25     25        25        25   25  \n",
       "203980       15    15   15     15        15        15   15  \n",
       "101825       15    15   15     15        15        15   15  \n",
       "305373       13    13   13     13        13        13   13  \n",
       "305332       13    13   13     13        13        13   13  \n",
       "\n",
       "[5 rows x 23 columns]"
      ]
     },
     "execution_count": 73,
     "metadata": {},
     "output_type": "execute_result"
    }
   ],
   "source": [
    "multiple_matches.head()"
   ]
  },
  {
   "cell_type": "markdown",
   "metadata": {},
   "source": [
    "This seems to happen when the same tag is sometimes reported on monthly levels and there is a \"cumulative also recorded under the same tag."
   ]
  },
  {
   "cell_type": "code",
   "execution_count": 74,
   "metadata": {},
   "outputs": [],
   "source": [
    "#sec_data.loc[(sec_data.adsh == \"0001476045-19-000069\") & (sec_data.tag == \"CommonStockDividendsPerShareDeclared\")]"
   ]
  },
  {
   "cell_type": "markdown",
   "metadata": {},
   "source": [
    "We'll limit `ddate` the following ways:\n",
    "1. Before the `period` date to focus on historical financials, not management projections.\n",
    "2. The maximum `ddate` within each `adsh`, `tag`, `period` so that we see a snapshot and are not confused on which date to focus on"
   ]
  },
  {
   "cell_type": "markdown",
   "metadata": {},
   "source": [
    "We'll keep only the max `ddate` within each `adsh, tag, period`."
   ]
  },
  {
   "cell_type": "code",
   "execution_count": null,
   "metadata": {},
   "outputs": [],
   "source": [
    "sec_data = sec_data.loc[sec_data.groupby(['adsh', 'tag', 'period'], as_index = False)['ddate'].idxmax()]"
   ]
  },
  {
   "cell_type": "code",
   "execution_count": null,
   "metadata": {},
   "outputs": [],
   "source": [
    "old_rows = raw_num_data.shape[0]\n",
    "new_rows = sec_data.shape[0]\n",
    "\n",
    "print(\"We've gone from \", old_rows, \" to \", new_rows, \" observations.\")\n",
    "print(\"That is a \",math.floor((1-new_rows/old_rows)*100),\"% decrease.\", sep = \"\")"
   ]
  },
  {
   "cell_type": "markdown",
   "metadata": {},
   "source": [
    "Let's create a `dyrqt` and focus on that over `ddate`, so that each company has only a single `dyrqtr`."
   ]
  },
  {
   "cell_type": "code",
   "execution_count": null,
   "metadata": {},
   "outputs": [],
   "source": []
  },
  {
   "cell_type": "markdown",
   "metadata": {},
   "source": [
    "The issue we will tackle in the next part will be that there are too many tags to reshape the data easily:"
   ]
  },
  {
   "cell_type": "code",
   "execution_count": 24,
   "metadata": {},
   "outputs": [
    {
     "name": "stdout",
     "output_type": "stream",
     "text": [
      "Raw version tags: 120892\n",
      "Cleaned version tags: 19300\n"
     ]
    }
   ],
   "source": [
    "print(\"Raw version tags:\",len(raw_num_data.tag.unique()))\n",
    "print(\"Cleaned version tags:\",len(sec_data.tag.unique()))"
   ]
  },
  {
   "cell_type": "markdown",
   "metadata": {},
   "source": [
    "## Save <a name=\"Save\"></a>\n",
    "Create CSV versions in build/raw"
   ]
  },
  {
   "cell_type": "code",
   "execution_count": 25,
   "metadata": {},
   "outputs": [
    {
     "data": {
      "text/plain": [
       "Index(['adsh', 'tag', 'version', 'coreg', 'ddate', 'qtrs', 'uom', 'value',\n",
       "       'no_coreg', 'no_value', 'cik', 'company_name', 'sic', 'country',\n",
       "       'period', 'form', 'fye', 'accepted', 'instance', 'dyear', 'doc'],\n",
       "      dtype='object')"
      ]
     },
     "execution_count": 25,
     "metadata": {},
     "output_type": "execute_result"
    }
   ],
   "source": [
    "sec_data.columns"
   ]
  },
  {
   "cell_type": "code",
   "execution_count": 28,
   "metadata": {},
   "outputs": [],
   "source": [
    "sec_data.to_csv(data_root+'02-build/clean/2019q3/sec_data_long.csv', index = False)"
   ]
  }
 ],
 "metadata": {
  "kernelspec": {
   "display_name": "Python 3",
   "language": "python",
   "name": "python3"
  },
  "language_info": {
   "codemirror_mode": {
    "name": "ipython",
    "version": 3
   },
   "file_extension": ".py",
   "mimetype": "text/x-python",
   "name": "python",
   "nbconvert_exporter": "python",
   "pygments_lexer": "ipython3",
   "version": "3.7.3"
  }
 },
 "nbformat": 4,
 "nbformat_minor": 4
}
