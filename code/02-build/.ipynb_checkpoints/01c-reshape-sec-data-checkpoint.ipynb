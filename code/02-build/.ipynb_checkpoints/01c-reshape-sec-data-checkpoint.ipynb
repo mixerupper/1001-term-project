{
 "cells": [
  {
   "cell_type": "markdown",
   "metadata": {},
   "source": [
    "# Program Header"
   ]
  },
  {
   "cell_type": "code",
   "execution_count": 60,
   "metadata": {},
   "outputs": [],
   "source": [
    "import pandas as pd\n",
    "import numpy as np\n",
    "import autoreload\n",
    "import os\n",
    "import sys\n",
    "import jellyfish\n",
    "from IPython.core.interactiveshell import InteractiveShell\n",
    "InteractiveShell.ast_node_interactivity = \"all\"\n",
    "nb_dir = os.path.split(os.getcwd())[0]\n",
    "if nb_dir not in sys.path:\n",
    "    sys.path.append(nb_dir)\n",
    "from header import *"
   ]
  },
  {
   "cell_type": "code",
   "execution_count": 23,
   "metadata": {},
   "outputs": [],
   "source": [
    "data_root = initialize_data_root(\"AY\")"
   ]
  },
  {
   "cell_type": "markdown",
   "metadata": {},
   "source": [
    "# Table of contents\n",
    "1. [Import](#Import)\n",
    "2. [Data Understanding](#DataUnderstanding)\n",
    "2. [Clean](#Clean)\n",
    "3. [Merge](#Merge)\n",
    "4. [Create Features](#CreateFeatures)\n",
    "5. [Save](#Save)"
   ]
  },
  {
   "cell_type": "markdown",
   "metadata": {},
   "source": [
    "## Import <a name=\"Import\"></a>"
   ]
  },
  {
   "cell_type": "code",
   "execution_count": 24,
   "metadata": {},
   "outputs": [],
   "source": [
    "raw_sec_data = pd.read_csv(data_root+'02-build/clean/2019q3/sec_data_long.csv')\n",
    "raw_tag_map = pd.read_csv(data_root+'02-build/clean/2019q3/tag_map.csv')"
   ]
  },
  {
   "cell_type": "markdown",
   "metadata": {},
   "source": [
    "## Clean <a name=\"Clean\"></a>"
   ]
  },
  {
   "cell_type": "code",
   "execution_count": null,
   "metadata": {},
   "outputs": [],
   "source": [
    "sec_data = raw_sec_data.copy()\n",
    "tag_map = raw_tag_map.copy()"
   ]
  },
  {
   "cell_type": "markdown",
   "metadata": {},
   "source": [
    "## Clean <a name=\"Clean\"></a>"
   ]
  },
  {
   "cell_type": "code",
   "execution_count": 29,
   "metadata": {},
   "outputs": [],
   "source": [
    "pre_data = raw_num_data\\\n",
    "    .filter(['adsh', 'tag', 'version', 'plabel'], axis = 'columns')\\\n",
    "    .drop_duplicates()"
   ]
  },
  {
   "cell_type": "code",
   "execution_count": 30,
   "metadata": {},
   "outputs": [],
   "source": [
    "sub_data = raw_sub_data\\\n",
    "    .filter(['adsh', 'cik', 'name', 'sic', 'countryba', 'period', 'form', 'fye', 'accepted', 'instance'], axis = 'columns')\\\n",
    "    .rename(mapper = {'name':'company_name', 'countryba':'country'}, axis = 'columns')\\\n",
    "    .query(\"form in ['10-Q', '10-K']\") # Keep only the quarterly and annual filings"
   ]
  },
  {
   "cell_type": "code",
   "execution_count": 31,
   "metadata": {},
   "outputs": [],
   "source": [
    "tag_data = raw_tag_data\\\n",
    "    .filter(['tag', 'version', 'doc'])\\\n",
    "    .drop_duplicates()"
   ]
  },
  {
   "cell_type": "code",
   "execution_count": 32,
   "metadata": {},
   "outputs": [
    {
     "data": {
      "text/plain": [
       "\"State aggregate market value of voting and non-voting common equity held by non-affiliates computed by reference to price at which the common equity was last sold, or average bid and asked price of such common equity, as of the last business day of registrant's most recently completed second fiscal quarter. The public float should be reported on the cover page of the registrants form 10K.\""
      ]
     },
     "execution_count": 32,
     "metadata": {},
     "output_type": "execute_result"
    }
   ],
   "source": [
    "tag_data['doc'][0]"
   ]
  },
  {
   "cell_type": "code",
   "execution_count": 33,
   "metadata": {},
   "outputs": [],
   "source": [
    "# Get rid of coregister/parent company\n",
    "# Keep only the balance sheet and single quarter flows\n",
    "\n",
    "num_data = raw_num_data\\\n",
    "    .drop('footnote', axis = 'columns')\\\n",
    "    .assign(no_coreg = pd.isna(raw_num_data['coreg']))\\\n",
    "    .assign(no_value = pd.isna(raw_num_data['value']))\\\n",
    "    .assign(ddate = pd.to_datetime(raw_num_data['ddate'], format='%Y%m%d', errors = 'coerce'))\\\n",
    "    .query(\"(no_coreg == True) & (no_value == False) & (qtrs in (0,1)) & (ddate > '2018-01-01')\")"
   ]
  },
  {
   "cell_type": "code",
   "execution_count": 34,
   "metadata": {},
   "outputs": [
    {
     "data": {
      "text/plain": [
       "(1300874, 10)"
      ]
     },
     "execution_count": 34,
     "metadata": {},
     "output_type": "execute_result"
    }
   ],
   "source": [
    "num_data.shape"
   ]
  },
  {
   "cell_type": "markdown",
   "metadata": {},
   "source": [
    "See if we have **num_data** observations at the `adsh, tag, ddate` level"
   ]
  },
  {
   "cell_type": "code",
   "execution_count": 35,
   "metadata": {},
   "outputs": [],
   "source": [
    "multiple_matches = num_data.groupby(['adsh', 'tag', 'ddate'], as_index = False)\\\n",
    "    .count()\\\n",
    "    .sort_values('value', ascending = False)\\\n",
    "    .query(\"value > 1\")\n",
    "duplicate_causing_tags = multiple_matches.tag.unique()"
   ]
  },
  {
   "cell_type": "code",
   "execution_count": 36,
   "metadata": {},
   "outputs": [
    {
     "name": "stdout",
     "output_type": "stream",
     "text": [
      "1.07% tags create duplicates\n"
     ]
    }
   ],
   "source": [
    "print(\"%.2f%% tags create duplicates\"% round(len(duplicate_causing_tags)/len(num_data.tag.unique())*100,2))"
   ]
  },
  {
   "cell_type": "markdown",
   "metadata": {},
   "source": [
    "Since only a small percent of tags are trouble, we'll just remove them for now."
   ]
  },
  {
   "cell_type": "code",
   "execution_count": 37,
   "metadata": {},
   "outputs": [],
   "source": [
    "num_data = num_data.query(\"tag not in @duplicate_causing_tags\")"
   ]
  },
  {
   "cell_type": "markdown",
   "metadata": {},
   "source": [
    "Note for checking: These tags may just be variations of other important tags. Investigate if we're dropping anything important. Needs further investigation during checking process."
   ]
  },
  {
   "cell_type": "markdown",
   "metadata": {},
   "source": [
    "Now, we have unique rows for each `adsh, tag, ddate`."
   ]
  },
  {
   "cell_type": "code",
   "execution_count": 38,
   "metadata": {},
   "outputs": [
    {
     "data": {
      "text/html": [
       "<div>\n",
       "<style scoped>\n",
       "    .dataframe tbody tr th:only-of-type {\n",
       "        vertical-align: middle;\n",
       "    }\n",
       "\n",
       "    .dataframe tbody tr th {\n",
       "        vertical-align: top;\n",
       "    }\n",
       "\n",
       "    .dataframe thead th {\n",
       "        text-align: right;\n",
       "    }\n",
       "</style>\n",
       "<table border=\"1\" class=\"dataframe\">\n",
       "  <thead>\n",
       "    <tr style=\"text-align: right;\">\n",
       "      <th></th>\n",
       "      <th>adsh</th>\n",
       "      <th>tag</th>\n",
       "      <th>ddate</th>\n",
       "      <th>version</th>\n",
       "      <th>coreg</th>\n",
       "      <th>qtrs</th>\n",
       "      <th>uom</th>\n",
       "      <th>value</th>\n",
       "      <th>no_coreg</th>\n",
       "      <th>no_value</th>\n",
       "    </tr>\n",
       "  </thead>\n",
       "  <tbody>\n",
       "  </tbody>\n",
       "</table>\n",
       "</div>"
      ],
      "text/plain": [
       "Empty DataFrame\n",
       "Columns: [adsh, tag, ddate, version, coreg, qtrs, uom, value, no_coreg, no_value]\n",
       "Index: []"
      ]
     },
     "execution_count": 38,
     "metadata": {},
     "output_type": "execute_result"
    }
   ],
   "source": [
    "multiple_matches = num_data.groupby(['adsh', 'tag', 'ddate'], as_index = False)\\\n",
    "    .count()\\\n",
    "    .sort_values('value', ascending = False)\\\n",
    "    .query(\"value > 1\")\n",
    "multiple_matches"
   ]
  },
  {
   "cell_type": "markdown",
   "metadata": {},
   "source": [
    "## Merge <a name=\"Merge\"></a>"
   ]
  },
  {
   "cell_type": "code",
   "execution_count": 39,
   "metadata": {},
   "outputs": [
    {
     "data": {
      "text/plain": [
       "Index(['adsh', 'tag', 'version', 'coreg', 'ddate', 'qtrs', 'uom', 'value',\n",
       "       'no_coreg', 'no_value'],\n",
       "      dtype='object')"
      ]
     },
     "execution_count": 39,
     "metadata": {},
     "output_type": "execute_result"
    }
   ],
   "source": [
    "num_data.columns"
   ]
  },
  {
   "cell_type": "code",
   "execution_count": 40,
   "metadata": {},
   "outputs": [],
   "source": [
    "sec_data = num_data.merge(pre_data, on = ['adsh', 'tag', 'version'])\\\n",
    "    .merge(sub_data, on = ['adsh'])\\\n",
    "    .merge(tag_data, on = ['tag', 'version'])"
   ]
  },
  {
   "cell_type": "code",
   "execution_count": 41,
   "metadata": {},
   "outputs": [
    {
     "data": {
      "text/plain": [
       "Index(['adsh', 'tag', 'version', 'coreg', 'ddate', 'qtrs', 'uom', 'value',\n",
       "       'no_coreg', 'no_value', 'cik', 'company_name', 'sic', 'country',\n",
       "       'period', 'form', 'fye', 'accepted', 'instance', 'doc'],\n",
       "      dtype='object')"
      ]
     },
     "execution_count": 41,
     "metadata": {},
     "output_type": "execute_result"
    }
   ],
   "source": [
    "sec_data.columns"
   ]
  },
  {
   "cell_type": "code",
   "execution_count": null,
   "metadata": {},
   "outputs": [],
   "source": [
    "test = sec_data.copy()\n",
    "test['clean_tag'] = np.where((test['tag'].str.match('revenue', case = False))&\n",
    "                             (test['qtrs'] == 1)&\n",
    "                             (test['uom'] == 'USD'), \n",
    "                             'Revenue', test['tag'])\n",
    "\n",
    "test_group = test.groupby(['adsh', 'ddate', 'clean_tag']).apply(lambda g: g[g['value'] == g['value'].max()]).reset_index()"
   ]
  },
  {
   "cell_type": "markdown",
   "metadata": {},
   "source": [
    "## Reshape <a name=\"Reshape\"></a>"
   ]
  },
  {
   "cell_type": "markdown",
   "metadata": {},
   "source": [
    "Check again that we're unique on the `adsh-ddate-tag` level"
   ]
  },
  {
   "cell_type": "code",
   "execution_count": 128,
   "metadata": {},
   "outputs": [
    {
     "data": {
      "text/html": [
       "<div>\n",
       "<style scoped>\n",
       "    .dataframe tbody tr th:only-of-type {\n",
       "        vertical-align: middle;\n",
       "    }\n",
       "\n",
       "    .dataframe tbody tr th {\n",
       "        vertical-align: top;\n",
       "    }\n",
       "\n",
       "    .dataframe thead th {\n",
       "        text-align: right;\n",
       "    }\n",
       "</style>\n",
       "<table border=\"1\" class=\"dataframe\">\n",
       "  <thead>\n",
       "    <tr style=\"text-align: right;\">\n",
       "      <th></th>\n",
       "      <th>adsh</th>\n",
       "      <th>tag</th>\n",
       "      <th>ddate</th>\n",
       "      <th>version</th>\n",
       "      <th>coreg</th>\n",
       "      <th>qtrs</th>\n",
       "      <th>uom</th>\n",
       "      <th>value</th>\n",
       "      <th>no_coreg</th>\n",
       "      <th>no_value</th>\n",
       "      <th>cik</th>\n",
       "      <th>company_name</th>\n",
       "      <th>sic</th>\n",
       "      <th>country</th>\n",
       "      <th>period</th>\n",
       "      <th>form</th>\n",
       "      <th>fye</th>\n",
       "      <th>accepted</th>\n",
       "      <th>instance</th>\n",
       "      <th>doc</th>\n",
       "    </tr>\n",
       "  </thead>\n",
       "  <tbody>\n",
       "  </tbody>\n",
       "</table>\n",
       "</div>"
      ],
      "text/plain": [
       "Empty DataFrame\n",
       "Columns: [adsh, tag, ddate, version, coreg, qtrs, uom, value, no_coreg, no_value, cik, company_name, sic, country, period, form, fye, accepted, instance, doc]\n",
       "Index: []"
      ]
     },
     "execution_count": 128,
     "metadata": {},
     "output_type": "execute_result"
    }
   ],
   "source": [
    "sec_data.groupby(['adsh', 'tag', 'ddate'], as_index = False)\\\n",
    "    .count()\\\n",
    "    .sort_values('value', ascending = False)\\\n",
    "    .query(\"value > 1\")"
   ]
  },
  {
   "cell_type": "code",
   "execution_count": 85,
   "metadata": {},
   "outputs": [],
   "source": [
    "sec_data_wide = sec_data.pivot_table(values = 'value',\n",
    "                                     index = ['adsh', 'company_name', 'ddate', 'qtrs', \n",
    "                                                        'uom', 'cik', 'sic', 'country', 'period'],\n",
    "                                    columns = 'tag')"
   ]
  },
  {
   "cell_type": "code",
   "execution_count": null,
   "metadata": {},
   "outputs": [],
   "source": [
    "sec_data_wide.reset_index()"
   ]
  },
  {
   "cell_type": "code",
   "execution_count": 129,
   "metadata": {},
   "outputs": [
    {
     "data": {
      "text/html": [
       "<div>\n",
       "<style scoped>\n",
       "    .dataframe tbody tr th:only-of-type {\n",
       "        vertical-align: middle;\n",
       "    }\n",
       "\n",
       "    .dataframe tbody tr th {\n",
       "        vertical-align: top;\n",
       "    }\n",
       "\n",
       "    .dataframe thead th {\n",
       "        text-align: right;\n",
       "    }\n",
       "</style>\n",
       "<table border=\"1\" class=\"dataframe\">\n",
       "  <thead>\n",
       "    <tr style=\"text-align: right;\">\n",
       "      <th></th>\n",
       "      <th></th>\n",
       "      <th></th>\n",
       "      <th></th>\n",
       "      <th></th>\n",
       "      <th></th>\n",
       "      <th></th>\n",
       "      <th></th>\n",
       "      <th>tag</th>\n",
       "      <th>ACAIndustryFeeExpense</th>\n",
       "      <th>AMPSImpactonStockholdersEquity</th>\n",
       "      <th>AOCIImpactofNEPDeconsolidation</th>\n",
       "      <th>AOCIreclassedtoRetainedEarningsincometax</th>\n",
       "      <th>APICEquityBasedPaymentArrangementIncreaseForCostRecognition</th>\n",
       "      <th>APICSharebasedPaymentArrangementESOPIncreaseforCostRecognition</th>\n",
       "      <th>APICSharebasedPaymentArrangementIncreaseforCostRecognitionServicesRendered</th>\n",
       "      <th>APICSharebasedPaymentArrangementReclassificationfromLiabilitytoEquity</th>\n",
       "      <th>APICSharebasedPaymentArrangementReversalOfCostRecognition</th>\n",
       "      <th>ATMAndCheckCardExpense</th>\n",
       "      <th>...</th>\n",
       "      <th>WriteoffOfCreditFacilityAmendmentFees</th>\n",
       "      <th>WriteoffOfDeferredOfferingCosts</th>\n",
       "      <th>WriteoffOfFullyDepreciatedAsset</th>\n",
       "      <th>WriteoffOfInsuranceReceivable</th>\n",
       "      <th>WriteoffofNetDiscountandDebtIssuanceCosts</th>\n",
       "      <th>WrittenOptionsAtFairValue</th>\n",
       "      <th>WrittendownValue</th>\n",
       "      <th>WrittendownValueFixedAssets</th>\n",
       "      <th>WrittendownValueOtherAssets</th>\n",
       "      <th>property</th>\n",
       "    </tr>\n",
       "    <tr>\n",
       "      <th>adsh</th>\n",
       "      <th>company_name</th>\n",
       "      <th>ddate</th>\n",
       "      <th>qtrs</th>\n",
       "      <th>uom</th>\n",
       "      <th>cik</th>\n",
       "      <th>sic</th>\n",
       "      <th>country</th>\n",
       "      <th>period</th>\n",
       "      <th></th>\n",
       "      <th></th>\n",
       "      <th></th>\n",
       "      <th></th>\n",
       "      <th></th>\n",
       "      <th></th>\n",
       "      <th></th>\n",
       "      <th></th>\n",
       "      <th></th>\n",
       "      <th></th>\n",
       "      <th></th>\n",
       "      <th></th>\n",
       "      <th></th>\n",
       "      <th></th>\n",
       "      <th></th>\n",
       "      <th></th>\n",
       "      <th></th>\n",
       "      <th></th>\n",
       "      <th></th>\n",
       "      <th></th>\n",
       "      <th></th>\n",
       "    </tr>\n",
       "  </thead>\n",
       "  <tbody>\n",
       "    <tr>\n",
       "      <th rowspan=\"5\" valign=\"top\">0000002178-19-000086</th>\n",
       "      <th rowspan=\"5\" valign=\"top\">ADAMS RESOURCES &amp; ENERGY, INC.</th>\n",
       "      <th>20180630</th>\n",
       "      <th>1</th>\n",
       "      <th>USD</th>\n",
       "      <th>2178</th>\n",
       "      <th>5172.0</th>\n",
       "      <th>US</th>\n",
       "      <th>20190630</th>\n",
       "      <td>NaN</td>\n",
       "      <td>NaN</td>\n",
       "      <td>NaN</td>\n",
       "      <td>NaN</td>\n",
       "      <td>NaN</td>\n",
       "      <td>NaN</td>\n",
       "      <td>NaN</td>\n",
       "      <td>NaN</td>\n",
       "      <td>NaN</td>\n",
       "      <td>NaN</td>\n",
       "      <td>...</td>\n",
       "      <td>NaN</td>\n",
       "      <td>NaN</td>\n",
       "      <td>NaN</td>\n",
       "      <td>NaN</td>\n",
       "      <td>NaN</td>\n",
       "      <td>NaN</td>\n",
       "      <td>NaN</td>\n",
       "      <td>NaN</td>\n",
       "      <td>NaN</td>\n",
       "      <td>NaN</td>\n",
       "    </tr>\n",
       "    <tr>\n",
       "      <th rowspan=\"2\" valign=\"top\">20181231</th>\n",
       "      <th rowspan=\"2\" valign=\"top\">0</th>\n",
       "      <th>USD</th>\n",
       "      <th>2178</th>\n",
       "      <th>5172.0</th>\n",
       "      <th>US</th>\n",
       "      <th>20190630</th>\n",
       "      <td>NaN</td>\n",
       "      <td>NaN</td>\n",
       "      <td>NaN</td>\n",
       "      <td>NaN</td>\n",
       "      <td>NaN</td>\n",
       "      <td>NaN</td>\n",
       "      <td>NaN</td>\n",
       "      <td>NaN</td>\n",
       "      <td>NaN</td>\n",
       "      <td>NaN</td>\n",
       "      <td>...</td>\n",
       "      <td>NaN</td>\n",
       "      <td>NaN</td>\n",
       "      <td>NaN</td>\n",
       "      <td>NaN</td>\n",
       "      <td>NaN</td>\n",
       "      <td>NaN</td>\n",
       "      <td>NaN</td>\n",
       "      <td>NaN</td>\n",
       "      <td>NaN</td>\n",
       "      <td>NaN</td>\n",
       "    </tr>\n",
       "    <tr>\n",
       "      <th>shares</th>\n",
       "      <th>2178</th>\n",
       "      <th>5172.0</th>\n",
       "      <th>US</th>\n",
       "      <th>20190630</th>\n",
       "      <td>NaN</td>\n",
       "      <td>NaN</td>\n",
       "      <td>NaN</td>\n",
       "      <td>NaN</td>\n",
       "      <td>NaN</td>\n",
       "      <td>NaN</td>\n",
       "      <td>NaN</td>\n",
       "      <td>NaN</td>\n",
       "      <td>NaN</td>\n",
       "      <td>NaN</td>\n",
       "      <td>...</td>\n",
       "      <td>NaN</td>\n",
       "      <td>NaN</td>\n",
       "      <td>NaN</td>\n",
       "      <td>NaN</td>\n",
       "      <td>NaN</td>\n",
       "      <td>NaN</td>\n",
       "      <td>NaN</td>\n",
       "      <td>NaN</td>\n",
       "      <td>NaN</td>\n",
       "      <td>NaN</td>\n",
       "    </tr>\n",
       "    <tr>\n",
       "      <th rowspan=\"2\" valign=\"top\">20190331</th>\n",
       "      <th>0</th>\n",
       "      <th>shares</th>\n",
       "      <th>2178</th>\n",
       "      <th>5172.0</th>\n",
       "      <th>US</th>\n",
       "      <th>20190630</th>\n",
       "      <td>NaN</td>\n",
       "      <td>NaN</td>\n",
       "      <td>NaN</td>\n",
       "      <td>NaN</td>\n",
       "      <td>NaN</td>\n",
       "      <td>NaN</td>\n",
       "      <td>NaN</td>\n",
       "      <td>NaN</td>\n",
       "      <td>NaN</td>\n",
       "      <td>NaN</td>\n",
       "      <td>...</td>\n",
       "      <td>NaN</td>\n",
       "      <td>NaN</td>\n",
       "      <td>NaN</td>\n",
       "      <td>NaN</td>\n",
       "      <td>NaN</td>\n",
       "      <td>NaN</td>\n",
       "      <td>NaN</td>\n",
       "      <td>NaN</td>\n",
       "      <td>NaN</td>\n",
       "      <td>NaN</td>\n",
       "    </tr>\n",
       "    <tr>\n",
       "      <th>1</th>\n",
       "      <th>USD</th>\n",
       "      <th>2178</th>\n",
       "      <th>5172.0</th>\n",
       "      <th>US</th>\n",
       "      <th>20190630</th>\n",
       "      <td>NaN</td>\n",
       "      <td>NaN</td>\n",
       "      <td>NaN</td>\n",
       "      <td>NaN</td>\n",
       "      <td>NaN</td>\n",
       "      <td>NaN</td>\n",
       "      <td>NaN</td>\n",
       "      <td>NaN</td>\n",
       "      <td>NaN</td>\n",
       "      <td>NaN</td>\n",
       "      <td>...</td>\n",
       "      <td>NaN</td>\n",
       "      <td>NaN</td>\n",
       "      <td>NaN</td>\n",
       "      <td>NaN</td>\n",
       "      <td>NaN</td>\n",
       "      <td>NaN</td>\n",
       "      <td>NaN</td>\n",
       "      <td>NaN</td>\n",
       "      <td>NaN</td>\n",
       "      <td>NaN</td>\n",
       "    </tr>\n",
       "  </tbody>\n",
       "</table>\n",
       "<p>5 rows × 21068 columns</p>\n",
       "</div>"
      ],
      "text/plain": [
       "tag                                                                                                    ACAIndustryFeeExpense  \\\n",
       "adsh                 company_name                   ddate    qtrs uom    cik  sic    country period                            \n",
       "0000002178-19-000086 ADAMS RESOURCES & ENERGY, INC. 20180630 1    USD    2178 5172.0 US      20190630                    NaN   \n",
       "                                                    20181231 0    USD    2178 5172.0 US      20190630                    NaN   \n",
       "                                                                  shares 2178 5172.0 US      20190630                    NaN   \n",
       "                                                    20190331 0    shares 2178 5172.0 US      20190630                    NaN   \n",
       "                                                             1    USD    2178 5172.0 US      20190630                    NaN   \n",
       "\n",
       "tag                                                                                                    AMPSImpactonStockholdersEquity  \\\n",
       "adsh                 company_name                   ddate    qtrs uom    cik  sic    country period                                     \n",
       "0000002178-19-000086 ADAMS RESOURCES & ENERGY, INC. 20180630 1    USD    2178 5172.0 US      20190630                             NaN   \n",
       "                                                    20181231 0    USD    2178 5172.0 US      20190630                             NaN   \n",
       "                                                                  shares 2178 5172.0 US      20190630                             NaN   \n",
       "                                                    20190331 0    shares 2178 5172.0 US      20190630                             NaN   \n",
       "                                                             1    USD    2178 5172.0 US      20190630                             NaN   \n",
       "\n",
       "tag                                                                                                    AOCIImpactofNEPDeconsolidation  \\\n",
       "adsh                 company_name                   ddate    qtrs uom    cik  sic    country period                                     \n",
       "0000002178-19-000086 ADAMS RESOURCES & ENERGY, INC. 20180630 1    USD    2178 5172.0 US      20190630                             NaN   \n",
       "                                                    20181231 0    USD    2178 5172.0 US      20190630                             NaN   \n",
       "                                                                  shares 2178 5172.0 US      20190630                             NaN   \n",
       "                                                    20190331 0    shares 2178 5172.0 US      20190630                             NaN   \n",
       "                                                             1    USD    2178 5172.0 US      20190630                             NaN   \n",
       "\n",
       "tag                                                                                                    AOCIreclassedtoRetainedEarningsincometax  \\\n",
       "adsh                 company_name                   ddate    qtrs uom    cik  sic    country period                                               \n",
       "0000002178-19-000086 ADAMS RESOURCES & ENERGY, INC. 20180630 1    USD    2178 5172.0 US      20190630                                       NaN   \n",
       "                                                    20181231 0    USD    2178 5172.0 US      20190630                                       NaN   \n",
       "                                                                  shares 2178 5172.0 US      20190630                                       NaN   \n",
       "                                                    20190331 0    shares 2178 5172.0 US      20190630                                       NaN   \n",
       "                                                             1    USD    2178 5172.0 US      20190630                                       NaN   \n",
       "\n",
       "tag                                                                                                    APICEquityBasedPaymentArrangementIncreaseForCostRecognition  \\\n",
       "adsh                 company_name                   ddate    qtrs uom    cik  sic    country period                                                                  \n",
       "0000002178-19-000086 ADAMS RESOURCES & ENERGY, INC. 20180630 1    USD    2178 5172.0 US      20190630                                                NaN             \n",
       "                                                    20181231 0    USD    2178 5172.0 US      20190630                                                NaN             \n",
       "                                                                  shares 2178 5172.0 US      20190630                                                NaN             \n",
       "                                                    20190331 0    shares 2178 5172.0 US      20190630                                                NaN             \n",
       "                                                             1    USD    2178 5172.0 US      20190630                                                NaN             \n",
       "\n",
       "tag                                                                                                    APICSharebasedPaymentArrangementESOPIncreaseforCostRecognition  \\\n",
       "adsh                 company_name                   ddate    qtrs uom    cik  sic    country period                                                                     \n",
       "0000002178-19-000086 ADAMS RESOURCES & ENERGY, INC. 20180630 1    USD    2178 5172.0 US      20190630                                                NaN                \n",
       "                                                    20181231 0    USD    2178 5172.0 US      20190630                                                NaN                \n",
       "                                                                  shares 2178 5172.0 US      20190630                                                NaN                \n",
       "                                                    20190331 0    shares 2178 5172.0 US      20190630                                                NaN                \n",
       "                                                             1    USD    2178 5172.0 US      20190630                                                NaN                \n",
       "\n",
       "tag                                                                                                    APICSharebasedPaymentArrangementIncreaseforCostRecognitionServicesRendered  \\\n",
       "adsh                 company_name                   ddate    qtrs uom    cik  sic    country period                                                                                 \n",
       "0000002178-19-000086 ADAMS RESOURCES & ENERGY, INC. 20180630 1    USD    2178 5172.0 US      20190630                                                NaN                            \n",
       "                                                    20181231 0    USD    2178 5172.0 US      20190630                                                NaN                            \n",
       "                                                                  shares 2178 5172.0 US      20190630                                                NaN                            \n",
       "                                                    20190331 0    shares 2178 5172.0 US      20190630                                                NaN                            \n",
       "                                                             1    USD    2178 5172.0 US      20190630                                                NaN                            \n",
       "\n",
       "tag                                                                                                    APICSharebasedPaymentArrangementReclassificationfromLiabilitytoEquity  \\\n",
       "adsh                 company_name                   ddate    qtrs uom    cik  sic    country period                                                                            \n",
       "0000002178-19-000086 ADAMS RESOURCES & ENERGY, INC. 20180630 1    USD    2178 5172.0 US      20190630                                                NaN                       \n",
       "                                                    20181231 0    USD    2178 5172.0 US      20190630                                                NaN                       \n",
       "                                                                  shares 2178 5172.0 US      20190630                                                NaN                       \n",
       "                                                    20190331 0    shares 2178 5172.0 US      20190630                                                NaN                       \n",
       "                                                             1    USD    2178 5172.0 US      20190630                                                NaN                       \n",
       "\n",
       "tag                                                                                                    APICSharebasedPaymentArrangementReversalOfCostRecognition  \\\n",
       "adsh                 company_name                   ddate    qtrs uom    cik  sic    country period                                                                \n",
       "0000002178-19-000086 ADAMS RESOURCES & ENERGY, INC. 20180630 1    USD    2178 5172.0 US      20190630                                                NaN           \n",
       "                                                    20181231 0    USD    2178 5172.0 US      20190630                                                NaN           \n",
       "                                                                  shares 2178 5172.0 US      20190630                                                NaN           \n",
       "                                                    20190331 0    shares 2178 5172.0 US      20190630                                                NaN           \n",
       "                                                             1    USD    2178 5172.0 US      20190630                                                NaN           \n",
       "\n",
       "tag                                                                                                    ATMAndCheckCardExpense  \\\n",
       "adsh                 company_name                   ddate    qtrs uom    cik  sic    country period                             \n",
       "0000002178-19-000086 ADAMS RESOURCES & ENERGY, INC. 20180630 1    USD    2178 5172.0 US      20190630                     NaN   \n",
       "                                                    20181231 0    USD    2178 5172.0 US      20190630                     NaN   \n",
       "                                                                  shares 2178 5172.0 US      20190630                     NaN   \n",
       "                                                    20190331 0    shares 2178 5172.0 US      20190630                     NaN   \n",
       "                                                             1    USD    2178 5172.0 US      20190630                     NaN   \n",
       "\n",
       "tag                                                                                                    ...  \\\n",
       "adsh                 company_name                   ddate    qtrs uom    cik  sic    country period    ...   \n",
       "0000002178-19-000086 ADAMS RESOURCES & ENERGY, INC. 20180630 1    USD    2178 5172.0 US      20190630  ...   \n",
       "                                                    20181231 0    USD    2178 5172.0 US      20190630  ...   \n",
       "                                                                  shares 2178 5172.0 US      20190630  ...   \n",
       "                                                    20190331 0    shares 2178 5172.0 US      20190630  ...   \n",
       "                                                             1    USD    2178 5172.0 US      20190630  ...   \n",
       "\n",
       "tag                                                                                                    WriteoffOfCreditFacilityAmendmentFees  \\\n",
       "adsh                 company_name                   ddate    qtrs uom    cik  sic    country period                                            \n",
       "0000002178-19-000086 ADAMS RESOURCES & ENERGY, INC. 20180630 1    USD    2178 5172.0 US      20190630                                    NaN   \n",
       "                                                    20181231 0    USD    2178 5172.0 US      20190630                                    NaN   \n",
       "                                                                  shares 2178 5172.0 US      20190630                                    NaN   \n",
       "                                                    20190331 0    shares 2178 5172.0 US      20190630                                    NaN   \n",
       "                                                             1    USD    2178 5172.0 US      20190630                                    NaN   \n",
       "\n",
       "tag                                                                                                    WriteoffOfDeferredOfferingCosts  \\\n",
       "adsh                 company_name                   ddate    qtrs uom    cik  sic    country period                                      \n",
       "0000002178-19-000086 ADAMS RESOURCES & ENERGY, INC. 20180630 1    USD    2178 5172.0 US      20190630                              NaN   \n",
       "                                                    20181231 0    USD    2178 5172.0 US      20190630                              NaN   \n",
       "                                                                  shares 2178 5172.0 US      20190630                              NaN   \n",
       "                                                    20190331 0    shares 2178 5172.0 US      20190630                              NaN   \n",
       "                                                             1    USD    2178 5172.0 US      20190630                              NaN   \n",
       "\n",
       "tag                                                                                                    WriteoffOfFullyDepreciatedAsset  \\\n",
       "adsh                 company_name                   ddate    qtrs uom    cik  sic    country period                                      \n",
       "0000002178-19-000086 ADAMS RESOURCES & ENERGY, INC. 20180630 1    USD    2178 5172.0 US      20190630                              NaN   \n",
       "                                                    20181231 0    USD    2178 5172.0 US      20190630                              NaN   \n",
       "                                                                  shares 2178 5172.0 US      20190630                              NaN   \n",
       "                                                    20190331 0    shares 2178 5172.0 US      20190630                              NaN   \n",
       "                                                             1    USD    2178 5172.0 US      20190630                              NaN   \n",
       "\n",
       "tag                                                                                                    WriteoffOfInsuranceReceivable  \\\n",
       "adsh                 company_name                   ddate    qtrs uom    cik  sic    country period                                    \n",
       "0000002178-19-000086 ADAMS RESOURCES & ENERGY, INC. 20180630 1    USD    2178 5172.0 US      20190630                            NaN   \n",
       "                                                    20181231 0    USD    2178 5172.0 US      20190630                            NaN   \n",
       "                                                                  shares 2178 5172.0 US      20190630                            NaN   \n",
       "                                                    20190331 0    shares 2178 5172.0 US      20190630                            NaN   \n",
       "                                                             1    USD    2178 5172.0 US      20190630                            NaN   \n",
       "\n",
       "tag                                                                                                    WriteoffofNetDiscountandDebtIssuanceCosts  \\\n",
       "adsh                 company_name                   ddate    qtrs uom    cik  sic    country period                                                \n",
       "0000002178-19-000086 ADAMS RESOURCES & ENERGY, INC. 20180630 1    USD    2178 5172.0 US      20190630                                        NaN   \n",
       "                                                    20181231 0    USD    2178 5172.0 US      20190630                                        NaN   \n",
       "                                                                  shares 2178 5172.0 US      20190630                                        NaN   \n",
       "                                                    20190331 0    shares 2178 5172.0 US      20190630                                        NaN   \n",
       "                                                             1    USD    2178 5172.0 US      20190630                                        NaN   \n",
       "\n",
       "tag                                                                                                    WrittenOptionsAtFairValue  \\\n",
       "adsh                 company_name                   ddate    qtrs uom    cik  sic    country period                                \n",
       "0000002178-19-000086 ADAMS RESOURCES & ENERGY, INC. 20180630 1    USD    2178 5172.0 US      20190630                        NaN   \n",
       "                                                    20181231 0    USD    2178 5172.0 US      20190630                        NaN   \n",
       "                                                                  shares 2178 5172.0 US      20190630                        NaN   \n",
       "                                                    20190331 0    shares 2178 5172.0 US      20190630                        NaN   \n",
       "                                                             1    USD    2178 5172.0 US      20190630                        NaN   \n",
       "\n",
       "tag                                                                                                    WrittendownValue  \\\n",
       "adsh                 company_name                   ddate    qtrs uom    cik  sic    country period                       \n",
       "0000002178-19-000086 ADAMS RESOURCES & ENERGY, INC. 20180630 1    USD    2178 5172.0 US      20190630               NaN   \n",
       "                                                    20181231 0    USD    2178 5172.0 US      20190630               NaN   \n",
       "                                                                  shares 2178 5172.0 US      20190630               NaN   \n",
       "                                                    20190331 0    shares 2178 5172.0 US      20190630               NaN   \n",
       "                                                             1    USD    2178 5172.0 US      20190630               NaN   \n",
       "\n",
       "tag                                                                                                    WrittendownValueFixedAssets  \\\n",
       "adsh                 company_name                   ddate    qtrs uom    cik  sic    country period                                  \n",
       "0000002178-19-000086 ADAMS RESOURCES & ENERGY, INC. 20180630 1    USD    2178 5172.0 US      20190630                          NaN   \n",
       "                                                    20181231 0    USD    2178 5172.0 US      20190630                          NaN   \n",
       "                                                                  shares 2178 5172.0 US      20190630                          NaN   \n",
       "                                                    20190331 0    shares 2178 5172.0 US      20190630                          NaN   \n",
       "                                                             1    USD    2178 5172.0 US      20190630                          NaN   \n",
       "\n",
       "tag                                                                                                    WrittendownValueOtherAssets  \\\n",
       "adsh                 company_name                   ddate    qtrs uom    cik  sic    country period                                  \n",
       "0000002178-19-000086 ADAMS RESOURCES & ENERGY, INC. 20180630 1    USD    2178 5172.0 US      20190630                          NaN   \n",
       "                                                    20181231 0    USD    2178 5172.0 US      20190630                          NaN   \n",
       "                                                                  shares 2178 5172.0 US      20190630                          NaN   \n",
       "                                                    20190331 0    shares 2178 5172.0 US      20190630                          NaN   \n",
       "                                                             1    USD    2178 5172.0 US      20190630                          NaN   \n",
       "\n",
       "tag                                                                                                    property  \n",
       "adsh                 company_name                   ddate    qtrs uom    cik  sic    country period              \n",
       "0000002178-19-000086 ADAMS RESOURCES & ENERGY, INC. 20180630 1    USD    2178 5172.0 US      20190630       NaN  \n",
       "                                                    20181231 0    USD    2178 5172.0 US      20190630       NaN  \n",
       "                                                                  shares 2178 5172.0 US      20190630       NaN  \n",
       "                                                    20190331 0    shares 2178 5172.0 US      20190630       NaN  \n",
       "                                                             1    USD    2178 5172.0 US      20190630       NaN  \n",
       "\n",
       "[5 rows x 21068 columns]"
      ]
     },
     "execution_count": 129,
     "metadata": {},
     "output_type": "execute_result"
    }
   ],
   "source": [
    "sec_data_wide.head()"
   ]
  },
  {
   "cell_type": "code",
   "execution_count": 93,
   "metadata": {},
   "outputs": [],
   "source": [
    "percent_missing = sec_data_wide.isnull().sum() * 100 / len(sec_data_wide)\n",
    "missing_value_df = pd.DataFrame({'column_name': sec_data_wide.columns,\n",
    "                                 'percent_missing': percent_missing}).sort_values('percent_missing', ascending = True)"
   ]
  },
  {
   "cell_type": "code",
   "execution_count": 130,
   "metadata": {},
   "outputs": [
    {
     "data": {
      "text/html": [
       "<div>\n",
       "<style scoped>\n",
       "    .dataframe tbody tr th:only-of-type {\n",
       "        vertical-align: middle;\n",
       "    }\n",
       "\n",
       "    .dataframe tbody tr th {\n",
       "        vertical-align: top;\n",
       "    }\n",
       "\n",
       "    .dataframe thead th {\n",
       "        text-align: right;\n",
       "    }\n",
       "</style>\n",
       "<table border=\"1\" class=\"dataframe\">\n",
       "  <thead>\n",
       "    <tr style=\"text-align: right;\">\n",
       "      <th></th>\n",
       "      <th>column_name</th>\n",
       "      <th>percent_missing</th>\n",
       "    </tr>\n",
       "    <tr>\n",
       "      <th>tag</th>\n",
       "      <th></th>\n",
       "      <th></th>\n",
       "    </tr>\n",
       "  </thead>\n",
       "  <tbody>\n",
       "    <tr>\n",
       "      <th>CommonStockSharesAuthorized</th>\n",
       "      <td>CommonStockSharesAuthorized</td>\n",
       "      <td>83.811840</td>\n",
       "    </tr>\n",
       "    <tr>\n",
       "      <th>CommonStockSharesIssued</th>\n",
       "      <td>CommonStockSharesIssued</td>\n",
       "      <td>84.298172</td>\n",
       "    </tr>\n",
       "    <tr>\n",
       "      <th>CommonStockSharesOutstanding</th>\n",
       "      <td>CommonStockSharesOutstanding</td>\n",
       "      <td>85.140030</td>\n",
       "    </tr>\n",
       "    <tr>\n",
       "      <th>PreferredStockSharesAuthorized</th>\n",
       "      <td>PreferredStockSharesAuthorized</td>\n",
       "      <td>89.458326</td>\n",
       "    </tr>\n",
       "    <tr>\n",
       "      <th>InterestExpense</th>\n",
       "      <td>InterestExpense</td>\n",
       "      <td>89.560624</td>\n",
       "    </tr>\n",
       "  </tbody>\n",
       "</table>\n",
       "</div>"
      ],
      "text/plain": [
       "                                                   column_name  \\\n",
       "tag                                                              \n",
       "CommonStockSharesAuthorized        CommonStockSharesAuthorized   \n",
       "CommonStockSharesIssued                CommonStockSharesIssued   \n",
       "CommonStockSharesOutstanding      CommonStockSharesOutstanding   \n",
       "PreferredStockSharesAuthorized  PreferredStockSharesAuthorized   \n",
       "InterestExpense                                InterestExpense   \n",
       "\n",
       "                                percent_missing  \n",
       "tag                                              \n",
       "CommonStockSharesAuthorized           83.811840  \n",
       "CommonStockSharesIssued               84.298172  \n",
       "CommonStockSharesOutstanding          85.140030  \n",
       "PreferredStockSharesAuthorized        89.458326  \n",
       "InterestExpense                       89.560624  "
      ]
     },
     "execution_count": 130,
     "metadata": {},
     "output_type": "execute_result"
    }
   ],
   "source": [
    "missing_value_df.head()"
   ]
  },
  {
   "cell_type": "markdown",
   "metadata": {},
   "source": [
    "## Save <a name=\"Save\"></a>\n",
    "Create CSV versions in build/raw"
   ]
  },
  {
   "cell_type": "code",
   "execution_count": 88,
   "metadata": {},
   "outputs": [],
   "source": [
    "sec_data.to_csv(data_root+'02-build/clean/2019q3/sec_data_long.csv')"
   ]
  },
  {
   "cell_type": "code",
   "execution_count": 89,
   "metadata": {},
   "outputs": [],
   "source": [
    "sec_data_wide.to_csv(data_root+'02-build/clean/2019q3/sec_data_wide.csv')"
   ]
  }
 ],
 "metadata": {
  "kernelspec": {
   "display_name": "Python 3",
   "language": "python",
   "name": "python3"
  },
  "language_info": {
   "codemirror_mode": {
    "name": "ipython",
    "version": 3
   },
   "file_extension": ".py",
   "mimetype": "text/x-python",
   "name": "python",
   "nbconvert_exporter": "python",
   "pygments_lexer": "ipython3",
   "version": "3.7.3"
  }
 },
 "nbformat": 4,
 "nbformat_minor": 4
}
