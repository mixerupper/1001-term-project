{
 "cells": [
  {
   "cell_type": "markdown",
   "metadata": {},
   "source": [
    "# Program Header"
   ]
  },
  {
   "cell_type": "code",
   "execution_count": 6,
   "metadata": {},
   "outputs": [],
   "source": [
    "import pandas as pd\n",
    "import numpy as np\n",
    "import os\n",
    "import sys\n",
    "nb_dir = os.path.split(os.getcwd())[0]\n",
    "if nb_dir not in sys.path:\n",
    "    sys.path.append(nb_dir)\n",
    "from header import *"
   ]
  },
  {
   "cell_type": "code",
   "execution_count": 7,
   "metadata": {
    "scrolled": false
   },
   "outputs": [],
   "source": [
    "data_root = initialize_data_root(\"AY\")"
   ]
  },
  {
   "cell_type": "code",
   "execution_count": 8,
   "metadata": {},
   "outputs": [],
   "source": [
    "import difflib\n",
    "import jellyfish\n",
    "import fuzzywuzzy\n",
    "from fuzzywuzzy import process"
   ]
  },
  {
   "cell_type": "markdown",
   "metadata": {},
   "source": [
    "# Table of contents\n",
    "1. [Import](#Import)\n",
    "2. [Create Tag Map](#CreateTagMap)\n",
    "5. [Save](#Save)"
   ]
  },
  {
   "cell_type": "markdown",
   "metadata": {},
   "source": [
    "## Import <a name=\"Import\"></a>"
   ]
  },
  {
   "cell_type": "code",
   "execution_count": 9,
   "metadata": {},
   "outputs": [],
   "source": [
    "raw_sec_data = pd.read_csv(data_root+'02-build/clean/2019q3/sec_data_long.csv')"
   ]
  },
  {
   "cell_type": "markdown",
   "metadata": {},
   "source": [
    "## Create Tag Map <a name=\"CreateTagMap\"></a>"
   ]
  },
  {
   "cell_type": "code",
   "execution_count": 10,
   "metadata": {},
   "outputs": [],
   "source": [
    "sec_data = raw_sec_data.copy()"
   ]
  },
  {
   "cell_type": "markdown",
   "metadata": {},
   "source": [
    "Let's split the tags into groups that definitely don't belong together using `qtrs`, `uom`."
   ]
  },
  {
   "cell_type": "code",
   "execution_count": 11,
   "metadata": {},
   "outputs": [],
   "source": [
    "tag_counts = sec_data.groupby(['qtrs', 'uom'])['tag'].count()"
   ]
  },
  {
   "cell_type": "code",
   "execution_count": 12,
   "metadata": {
    "scrolled": true
   },
   "outputs": [
    {
     "data": {
      "text/plain": [
       "qtrs  uom   \n",
       "0     USD       249963\n",
       "      pure         431\n",
       "      shares     25490\n",
       "1     USD       171873\n",
       "      pure        1194\n",
       "      shares     13455\n",
       "Name: tag, dtype: int64"
      ]
     },
     "execution_count": 12,
     "metadata": {},
     "output_type": "execute_result"
    }
   ],
   "source": [
    "tag_counts"
   ]
  },
  {
   "cell_type": "code",
   "execution_count": 13,
   "metadata": {},
   "outputs": [],
   "source": [
    "raw_tags = sec_data['tag'].unique()"
   ]
  },
  {
   "cell_type": "markdown",
   "metadata": {},
   "source": [
    "A good tag has strong reach (at least 90%) and isn't so general as to have too many duplicates. To generate a strong tag, we use fuzzywuzzy to find similar tags and then find the longest substring between them. Then, we evaluate how good of a tag it is. Once a group of tags have been formed, they are removed from the raw tag group, making future operations faster and faster."
   ]
  },
  {
   "cell_type": "code",
   "execution_count": 35,
   "metadata": {},
   "outputs": [],
   "source": [
    "def test_tag_reach(list_of_tags):\n",
    "    search_pattern = '|'.join(list_of_tags)\n",
    "    total = sec_data['tag'].str.contains(search_pattern)\n",
    "    return(sum(total)/len(sec_data.adsh.unique()))"
   ]
  },
  {
   "cell_type": "code",
   "execution_count": 48,
   "metadata": {},
   "outputs": [],
   "source": [
    "def odd_one_out(list_of_tags):\n",
    "    mean_values = sec_data.loc[sec_data.tag.isin(list_of_tags)].groupby('tag')['value'].mean()\n",
    "    return(mean_values)"
   ]
  },
  {
   "cell_type": "code",
   "execution_count": 2,
   "metadata": {},
   "outputs": [],
   "source": [
    "def matching_tags(test_tag):\n",
    "    matching_tags = sec_data['tag'].str.contains(test_tag)\n",
    "    return(sec_data['tag'].loc[matching_tags].unique())"
   ]
  },
  {
   "cell_type": "code",
   "execution_count": 51,
   "metadata": {},
   "outputs": [],
   "source": [
    "def view_all_tags(adsh):\n",
    "    tags = sec_data.loc[sec_data.adsh == adsh].tag.unique()\n",
    "    return(tags)"
   ]
  },
  {
   "cell_type": "code",
   "execution_count": 19,
   "metadata": {},
   "outputs": [
    {
     "data": {
      "text/plain": [
       "9504"
      ]
     },
     "execution_count": 19,
     "metadata": {},
     "output_type": "execute_result"
    }
   ],
   "source": [
    "test_tag_reach(['Revenue'])"
   ]
  },
  {
   "cell_type": "code",
   "execution_count": 89,
   "metadata": {},
   "outputs": [
    {
     "data": {
      "text/plain": [
       "8014"
      ]
     },
     "execution_count": 89,
     "metadata": {},
     "output_type": "execute_result"
    }
   ],
   "source": [
    "test_tag_reach('Inventory')"
   ]
  },
  {
   "cell_type": "code",
   "execution_count": 21,
   "metadata": {},
   "outputs": [
    {
     "data": {
      "text/plain": [
       "[('Revenues', 93),\n",
       " ('RevenueFromContractWithCustomerIncludingAssessedTax', 90),\n",
       " ('ContractWithCustomerLiabilityRevenueRecognized', 90),\n",
       " ('RevenueFromContractWithCustomerExcludingAssessedTax', 90),\n",
       " ('RevenueFromRelatedParties', 90)]"
      ]
     },
     "execution_count": 21,
     "metadata": {},
     "output_type": "execute_result"
    }
   ],
   "source": [
    "process.extract('Revenue', sec_data['tag'].unique())"
   ]
  },
  {
   "cell_type": "code",
   "execution_count": 22,
   "metadata": {},
   "outputs": [],
   "source": [
    "list_of_necessary_tags = ['Revenue', 'Net Income', 'Assets', 'Liabilities', 'Shareholder Equity', 'Operating Cash Flow', 'Depreciation']"
   ]
  },
  {
   "cell_type": "code",
   "execution_count": 56,
   "metadata": {},
   "outputs": [],
   "source": [
    "test = process.extract('WeightedAverageNumberOfSharesOutstandingBasic', sec_data['tag'].unique())"
   ]
  },
  {
   "cell_type": "code",
   "execution_count": 57,
   "metadata": {},
   "outputs": [
    {
     "data": {
      "text/plain": [
       "[('WeightedAverageNumberOfSharesOutstandingBasic', 100),\n",
       " ('SharesOutstanding', 90),\n",
       " ('WeightedAverageNumberOfSharesOutstandingBasicAndDilutedFounderShares', 90),\n",
       " ('WeightedAverageNumberOfSharesOutstandingBasicIncludingLimitedPartnershipUnits',\n",
       "  90),\n",
       " ('WeightedAverageNumberOfShareOutstandingBasicAndDiluted', 89)]"
      ]
     },
     "execution_count": 57,
     "metadata": {},
     "output_type": "execute_result"
    }
   ],
   "source": [
    "test"
   ]
  },
  {
   "cell_type": "code",
   "execution_count": 58,
   "metadata": {},
   "outputs": [
    {
     "data": {
      "text/plain": [
       "2.8088311688311687"
      ]
     },
     "execution_count": 58,
     "metadata": {},
     "output_type": "execute_result"
    }
   ],
   "source": [
    "test_tag_reach([i[0] for i in test])"
   ]
  },
  {
   "cell_type": "code",
   "execution_count": 55,
   "metadata": {},
   "outputs": [
    {
     "data": {
      "text/plain": [
       "tag\n",
       "ComprehensiveIncomeNetOfTax                                                        1.204429e+08\n",
       "ComprehensiveIncomeNetOfTaxAttributableToNoncontrollingInterest                    9.120837e+06\n",
       "ComprehensiveIncomeNetOfTaxAvailableToCommonStockholdersBasic                     -2.553000e+09\n",
       "ComprehensiveIncomeNetOfTaxIncludingPortionAttributableToNoncontrollingInterest    2.007223e+08\n",
       "StockholdersEquityBeforeAccumulatedOtherComprehensiveIncomeNetOfTaxes              3.926950e+08\n",
       "Name: value, dtype: float64"
      ]
     },
     "execution_count": 55,
     "metadata": {},
     "output_type": "execute_result"
    }
   ],
   "source": [
    "odd_one_out([i[0] for i in test])"
   ]
  },
  {
   "cell_type": "code",
   "execution_count": 53,
   "metadata": {},
   "outputs": [],
   "source": [
    "from statistics import stdev"
   ]
  },
  {
   "cell_type": "markdown",
   "metadata": {},
   "source": [
    "We'll convert these dictionary tag maps to a data-frame to easily use SQL-style joins."
   ]
  },
  {
   "cell_type": "code",
   "execution_count": 15,
   "metadata": {},
   "outputs": [
    {
     "data": {
      "text/html": [
       "<div>\n",
       "<style scoped>\n",
       "    .dataframe tbody tr th:only-of-type {\n",
       "        vertical-align: middle;\n",
       "    }\n",
       "\n",
       "    .dataframe tbody tr th {\n",
       "        vertical-align: top;\n",
       "    }\n",
       "\n",
       "    .dataframe thead th {\n",
       "        text-align: right;\n",
       "    }\n",
       "</style>\n",
       "<table border=\"1\" class=\"dataframe\">\n",
       "  <thead>\n",
       "    <tr style=\"text-align: right;\">\n",
       "      <th></th>\n",
       "      <th>clean_tag</th>\n",
       "      <th>tag</th>\n",
       "      <th>uom</th>\n",
       "      <th>qtrs</th>\n",
       "    </tr>\n",
       "  </thead>\n",
       "  <tbody>\n",
       "  </tbody>\n",
       "</table>\n",
       "</div>"
      ],
      "text/plain": [
       "Empty DataFrame\n",
       "Columns: [clean_tag, tag, uom, qtrs]\n",
       "Index: []"
      ]
     },
     "execution_count": 15,
     "metadata": {},
     "output_type": "execute_result"
    }
   ],
   "source": [
    "tag_map_df = pd.DataFrame(columns = ['clean_tag', 'tag', 'uom', 'qtrs'])\n",
    "tag_map_df"
   ]
  },
  {
   "cell_type": "code",
   "execution_count": 16,
   "metadata": {},
   "outputs": [],
   "source": [
    "i = 0\n",
    "\n",
    "for qtr in unique_qtr:\n",
    "    for uom in unique_uom:\n",
    "        map_df = pd.DataFrame(dict([(k,pd.Series(v)) for k,v in list_of_maps[i].items()]))\\\n",
    "            .melt()\\\n",
    "            .dropna()\\\n",
    "            .rename({'variable':'clean_tag', 'value':'tag'}, axis = 'columns')\n",
    "        map_df['uom'] = uom\n",
    "        map_df['qtrs'] = qtr\n",
    "        tag_map_df = tag_map_df.append(map_df, ignore_index = True)\n",
    "        \n",
    "        i += 1"
   ]
  },
  {
   "cell_type": "code",
   "execution_count": 17,
   "metadata": {},
   "outputs": [
    {
     "name": "stdout",
     "output_type": "stream",
     "text": [
      "Consolidated 78.11% of tags\n"
     ]
    }
   ],
   "source": [
    "print(\"Consolidated \",round((1-len(tag_map_df.clean_tag.unique())/len(tag_map_df.tag.unique()))*100,2),\"% of tags\", sep = \"\")"
   ]
  },
  {
   "cell_type": "markdown",
   "metadata": {},
   "source": [
    "In addition to the algorithm, we use domain knowledge to add in exceptions."
   ]
  },
  {
   "cell_type": "markdown",
   "metadata": {},
   "source": [
    "## Save <a name=\"Save\"></a>\n",
    "Save tag map to build/clean"
   ]
  },
  {
   "cell_type": "code",
   "execution_count": 20,
   "metadata": {},
   "outputs": [],
   "source": [
    "# Save\n",
    "tag_map_df.to_csv(data_root+'02-build/clean/2019q3/tag_map.csv', index = False)"
   ]
  }
 ],
 "metadata": {
  "kernelspec": {
   "display_name": "Python 3",
   "language": "python",
   "name": "python3"
  },
  "language_info": {
   "codemirror_mode": {
    "name": "ipython",
    "version": 3
   },
   "file_extension": ".py",
   "mimetype": "text/x-python",
   "name": "python",
   "nbconvert_exporter": "python",
   "pygments_lexer": "ipython3",
   "version": "3.7.3"
  }
 },
 "nbformat": 4,
 "nbformat_minor": 4
}
