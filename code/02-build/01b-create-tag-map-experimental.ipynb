{
 "cells": [
  {
   "cell_type": "markdown",
   "metadata": {},
   "source": [
    "# Program Header"
   ]
  },
  {
   "cell_type": "code",
   "execution_count": 171,
   "metadata": {},
   "outputs": [],
   "source": [
    "import pandas as pd\n",
    "import numpy as np\n",
    "import os\n",
    "import sys\n",
    "nb_dir = os.path.split(os.getcwd())[0]\n",
    "if nb_dir not in sys.path:\n",
    "    sys.path.append(nb_dir)\n",
    "from header import *"
   ]
  },
  {
   "cell_type": "code",
   "execution_count": 172,
   "metadata": {
    "scrolled": false
   },
   "outputs": [],
   "source": [
    "data_root = initialize_data_root(\"AY\")"
   ]
  },
  {
   "cell_type": "code",
   "execution_count": 173,
   "metadata": {},
   "outputs": [],
   "source": [
    "import difflib\n",
    "import jellyfish\n",
    "import fuzzywuzzy\n",
    "from fuzzywuzzy import process"
   ]
  },
  {
   "cell_type": "markdown",
   "metadata": {},
   "source": [
    "# Table of contents\n",
    "1. [Import](#Import)\n",
    "2. [Create Tag Map](#CreateTagMap)\n",
    "5. [Save](#Save)"
   ]
  },
  {
   "cell_type": "markdown",
   "metadata": {},
   "source": [
    "## Import <a name=\"Import\"></a>"
   ]
  },
  {
   "cell_type": "code",
   "execution_count": 302,
   "metadata": {},
   "outputs": [],
   "source": [
    "raw_sec_data = pd.read_csv(data_root+'02-build/clean/2019q3/sec_data_long.csv')\n",
    "raw_custom_tag_map = pd.read_csv(data_root+'02-build/clean/2019q3/custom_tag_map.csv')"
   ]
  },
  {
   "cell_type": "code",
   "execution_count": 175,
   "metadata": {},
   "outputs": [],
   "source": [
    "sec_data = raw_sec_data.copy()"
   ]
  },
  {
   "cell_type": "code",
   "execution_count": 307,
   "metadata": {},
   "outputs": [],
   "source": [
    "custom_tag_map = raw_custom_tag_map.rename({'raw_tag':'tag'}, axis = 'columns')"
   ]
  },
  {
   "cell_type": "markdown",
   "metadata": {},
   "source": [
    "## Create Tag Map <a name=\"CreateTagMap\"></a>"
   ]
  },
  {
   "cell_type": "markdown",
   "metadata": {},
   "source": [
    "Let's define a tag's reach as the percent of companies seen that include the tag. The name of creating a tag map and consolidating raw tags is to improve the average reach."
   ]
  },
  {
   "cell_type": "code",
   "execution_count": 208,
   "metadata": {},
   "outputs": [],
   "source": [
    "def get_tag_reach(tag):\n",
    "    total = sec_data.['tag'].isin([tag])\n",
    "    return(sum(total)/len(sec_data.adsh.unique()))"
   ]
  },
  {
   "cell_type": "code",
   "execution_count": 284,
   "metadata": {},
   "outputs": [],
   "source": [
    "all_tags = sec_data.tag.unique()"
   ]
  },
  {
   "cell_type": "code",
   "execution_count": 291,
   "metadata": {},
   "outputs": [],
   "source": [
    "tag_view = sec_data.groupby('tag').nunique()['adsh'].sort_values()/len(sec_data.adsh.unique())"
   ]
  },
  {
   "cell_type": "code",
   "execution_count": 293,
   "metadata": {},
   "outputs": [
    {
     "data": {
      "text/plain": [
       "<matplotlib.axes._subplots.AxesSubplot at 0x1d88c17d160>"
      ]
     },
     "execution_count": 293,
     "metadata": {},
     "output_type": "execute_result"
    },
    {
     "data": {
      "image/png": "[encoded data removed]",
      "text/plain": [
       "<Figure size 432x288 with 1 Axes>"
      ]
     },
     "metadata": {
      "needs_background": "light"
     },
     "output_type": "display_data"
    }
   ],
   "source": [
    "tag_view.hist()"
   ]
  },
  {
   "cell_type": "markdown",
   "metadata": {},
   "source": [
    "Let's define a `common tag` as a tag with reach of at least 10%. We've already gone through all 149 common tags and consolidated them."
   ]
  },
  {
   "cell_type": "code",
   "execution_count": 294,
   "metadata": {},
   "outputs": [],
   "source": [
    "common_tags = tag_view.loc[tag_view >= 0.1]"
   ]
  },
  {
   "cell_type": "code",
   "execution_count": 295,
   "metadata": {},
   "outputs": [
    {
     "data": {
      "text/plain": [
       "<matplotlib.axes._subplots.AxesSubplot at 0x1d881fca320>"
      ]
     },
     "execution_count": 295,
     "metadata": {},
     "output_type": "execute_result"
    },
    {
     "data": {
      "image/png": "[encoded data removed]",
      "text/plain": [
       "<Figure size 432x288 with 1 Axes>"
      ]
     },
     "metadata": {
      "needs_background": "light"
     },
     "output_type": "display_data"
    }
   ],
   "source": [
    "common_tags.hist()"
   ]
  },
  {
   "cell_type": "code",
   "execution_count": 314,
   "metadata": {},
   "outputs": [],
   "source": [
    "cleaned_sec = sec_data.merge(custom_tag_map, on = ['tag'])\n",
    "clean_tag_view = cleaned_sec.groupby('clean_tag').nunique()['adsh'].sort_values()/len(cleaned_sec.adsh.unique())"
   ]
  },
  {
   "cell_type": "code",
   "execution_count": 315,
   "metadata": {},
   "outputs": [
    {
     "data": {
      "text/plain": [
       "<matplotlib.axes._subplots.AxesSubplot at 0x1d88406a048>"
      ]
     },
     "execution_count": 315,
     "metadata": {},
     "output_type": "execute_result"
    },
    {
     "data": {
      "image/png": "[encoded data removed]",
      "text/plain": [
       "<Figure size 432x288 with 1 Axes>"
      ]
     },
     "metadata": {
      "needs_background": "light"
     },
     "output_type": "display_data"
    }
   ],
   "source": [
    "clean_tag_view.hist()"
   ]
  },
  {
   "cell_type": "markdown",
   "metadata": {},
   "source": [
    "So we see that our manual matching process has dramatically improved coverage among the common tags. Now, let's use fuzzywuzzy to classify less column tags as part of the common tags:"
   ]
  },
  {
   "cell_type": "code",
   "execution_count": 177,
   "metadata": {},
   "outputs": [],
   "source": [
    "def find_contain_matches(tag, tag_list):\n",
    "    matching_tags = sec_data['tag'].str.contains(tag)\n",
    "    return(sec_data['tag'].loc[matching_tags].unique())"
   ]
  },
  {
   "cell_type": "code",
   "execution_count": 227,
   "metadata": {},
   "outputs": [],
   "source": [
    "def view_all_tags_for_company(adsh = \"\"):\n",
    "    if adsh == \"\":\n",
    "        adsh = sec_data.adsh.sample(1).values[0]\n",
    "    company_name = sec_data.loc[sec_data.adsh == adsh].company_name.unique()\n",
    "    tags = sec_data.loc[sec_data.adsh == adsh].tag.unique()\n",
    "    return((company_name,tags))"
   ]
  },
  {
   "cell_type": "code",
   "execution_count": 317,
   "metadata": {},
   "outputs": [],
   "source": [
    "def find_fuzzy_matches(tag):\n",
    "    fuzzy_matches = process.extract(tag, sec_data['tag'].unique())\n",
    "    matches = [[i[0] for i in list] for list in fuzzy_matches]\n",
    "    return(matches)"
   ]
  },
  {
   "cell_type": "markdown",
   "metadata": {},
   "source": [
    "Let's create dictionaries of tags starting from the most common:"
   ]
  },
  {
   "cell_type": "code",
   "execution_count": 277,
   "metadata": {},
   "outputs": [],
   "source": [
    "tag_occurence = sec_data.tag.value_counts()/len(sec_data.adsh.unique())\n",
    "tag_occurence = tag_occurence.loc[tag_occurence > 0.10]"
   ]
  },
  {
   "cell_type": "code",
   "execution_count": 278,
   "metadata": {},
   "outputs": [
    {
     "data": {
      "text/plain": [
       "148"
      ]
     },
     "execution_count": 278,
     "metadata": {},
     "output_type": "execute_result"
    }
   ],
   "source": [
    "len(tag_occurence)"
   ]
  },
  {
   "cell_type": "code",
   "execution_count": 280,
   "metadata": {},
   "outputs": [
    {
     "name": "stderr",
     "output_type": "stream",
     "text": [
      "C:\\Users\\Andrew\\Anaconda3\\lib\\site-packages\\ipykernel_launcher.py:1: FutureWarning: The signature of `Series.to_csv` was aligned to that of `DataFrame.to_csv`, and argument 'header' will change its default value from False to True: please pass an explicit value to suppress this warning.\n",
      "  \"\"\"Entry point for launching an IPython kernel.\n"
     ]
    }
   ],
   "source": [
    "tag_occurence.to_csv(data_root+\"02-build/raw/common_tags.csv\")"
   ]
  },
  {
   "cell_type": "code",
   "execution_count": 273,
   "metadata": {},
   "outputs": [
    {
     "data": {
      "text/plain": [
       "array(['MarketingAndAdvertisingExpense', 'SellingAndMarketingExpense',\n",
       "       'AccruedMarketingCostsCurrent', 'MarketingExpense',\n",
       "       'BusinessDevelopmentAndMarketingExpense',\n",
       "       'SellingGeneralAdministrativeExpenseAsPercentNetSales',\n",
       "       'GeneralAdministrativeAndOtherExpenses',\n",
       "       'GeneralAdministrativeAndOtherExpense',\n",
       "       'GeneralAdministrativeAndOccupancy',\n",
       "       'GeneralAndAdministrativeExpense'], dtype='<U52')"
      ]
     },
     "execution_count": 273,
     "metadata": {},
     "output_type": "execute_result"
    }
   ],
   "source": [
    "matches = find_fuzzy_matches(['Marketing','GeneralAdministrative'])\n",
    "matches"
   ]
  },
  {
   "cell_type": "code",
   "execution_count": 272,
   "metadata": {},
   "outputs": [
    {
     "data": {
      "text/plain": [
       "0.6370562770562771"
      ]
     },
     "execution_count": 272,
     "metadata": {},
     "output_type": "execute_result"
    }
   ],
   "source": [
    "get_tag_reach(matches)"
   ]
  },
  {
   "cell_type": "code",
   "execution_count": 243,
   "metadata": {},
   "outputs": [
    {
     "data": {
      "text/plain": [
       "0.30787878787878786"
      ]
     },
     "execution_count": 243,
     "metadata": {},
     "output_type": "execute_result"
    }
   ],
   "source": [
    "get_tag_reacheach(matches)"
   ]
  },
  {
   "cell_type": "code",
   "execution_count": 233,
   "metadata": {},
   "outputs": [
    {
     "data": {
      "text/plain": [
       "(array(['GENERAL MILLS INC'], dtype=object), array(['AccountsPayableCurrent',\n",
       "        'AccumulatedOtherComprehensiveIncomeLossCumulativeChangesInNetGainLossFromCashFlowHedgesEffectNetOfTax',\n",
       "        'AccumulatedOtherComprehensiveIncomeLossForeignCurrencyTranslationAdjustmentNetOfTax',\n",
       "        'AccumulatedOtherComprehensiveIncomeLossNetOfTax',\n",
       "        'AdditionalPaidInCapitalCommonStock',\n",
       "        'AdjustmentsToAdditionalPaidInCapitalSharebasedCompensationRequisiteServicePeriodRecognitionValue',\n",
       "        'AntidilutiveSecuritiesExcludedFromComputationOfEarningsPerShareAmount',\n",
       "        'Assets', 'AssetsCurrent', 'CashAndCashEquivalentsAtCarryingValue',\n",
       "        'CashAndCashEquivalentsPeriodIncreaseDecrease',\n",
       "        'CommonStockDividendsPerShareCashPaid',\n",
       "        'CommonStockDividendsPerShareDeclared',\n",
       "        'CommonStockParOrStatedValuePerShare',\n",
       "        'CommonStockSharesAuthorized', 'CommonStockSharesIssued',\n",
       "        'CommonStockValue', 'ComprehensiveIncomeNetOfTax',\n",
       "        'ComprehensiveIncomeNetOfTaxIncludingPortionAttributableToNoncontrollingInterest',\n",
       "        'ComprehensiveIncomeNetOfTaxIncludingPortionsAttributableToNoncontrollingAndRedeemableInterest',\n",
       "        'ComprehensiveIncomeNetOfTaxPortionsAttributableToNoncontrollingAndRedeemableInterest',\n",
       "        'CostOfGoodsAndServicesSold', 'DeferredIncomeTaxExpenseBenefit',\n",
       "        'DeferredOtherTaxExpenseBenefit',\n",
       "        'DeferredTaxLiabilitiesNoncurrent',\n",
       "        'DepreciationDepletionAndAmortization',\n",
       "        'DistributionsToNoncontrollingAndRedeemableInterestHolders',\n",
       "        'DividendsCommonStockCash', 'EarningsPerShareBasic',\n",
       "        'EarningsPerShareDiluted',\n",
       "        'EffectOfExchangeRateOnCashAndCashEquivalents',\n",
       "        'EmployeeServiceShareBasedCompensationNonvestedAwardsTotalCompensationCostNotYetRecognized',\n",
       "        'EmployeeServiceShareBasedCompensationTaxBenefitFromExerciseOfStockOptions',\n",
       "        'EntityCommonStockSharesOutstanding',\n",
       "        'EquityMethodInvestmentDividendsOrDistributions',\n",
       "        'FiniteLivedIntangibleAssetsAccumulatedAmortization',\n",
       "        'FiniteLivedIntangibleAssetsGross',\n",
       "        'FiniteLivedIntangibleAssetsNet', 'Goodwill',\n",
       "        'GoodwillForeignCurrencyTranslationGainLoss',\n",
       "        'IncomeLossFromContinuingOperationsBeforeIncomeTaxesMinorityInterestAndIncomeLossFromEquityMethodInvestments',\n",
       "        'IncomeLossFromEquityMethodInvestments', 'IncomeTaxExpenseBenefit',\n",
       "        'IncomeTaxesPaidNet', 'IncreaseDecreaseInAccountsPayableTrade',\n",
       "        'IncreaseDecreaseInAccountsReceivable',\n",
       "        'IncreaseDecreaseInInventories',\n",
       "        'IncreaseDecreaseInOperatingCapital',\n",
       "        'IncreaseDecreaseInOtherCurrentLiabilities',\n",
       "        'IncreaseDecreaseInPrepaidDeferredExpenseAndOtherAssets',\n",
       "        'IndefiniteLivedTradeNames',\n",
       "        'IntangibleAssetsNetExcludingGoodwill',\n",
       "        'IntangibleAssetsNetIncludingGoodwill', 'InterestExpense',\n",
       "        'InterestPaidNet', 'InventoryFinishedGoodsAndWorkInProcess',\n",
       "        'InventoryLIFOReserve', 'InventoryNet',\n",
       "        'InventoryRawMaterialsAndSupplies', 'Liabilities',\n",
       "        'LiabilitiesAndStockholdersEquity', 'LiabilitiesCurrent',\n",
       "        'LineOfCredit', 'LineOfCreditFacilityMaximumBorrowingCapacity',\n",
       "        'LongTermDebtAndCapitalLeaseObligationsIncludingCurrentMaturities',\n",
       "        'LongTermDebtCurrent', 'LongTermDebtNoncurrent',\n",
       "        'MinorityInterest', 'MinorityInterestChangeInRedemptionValue',\n",
       "        'MinorityInterestDecreaseFromDistributionsToNoncontrollingAndRedeemableInterestHolders',\n",
       "        'NetCashProvidedByUsedInFinancingActivities',\n",
       "        'NetCashProvidedByUsedInInvestingActivities',\n",
       "        'NetCashProvidedByUsedInOperatingActivities', 'NetIncomeLoss',\n",
       "        'NetIncomeLossAttributableToNoncontrollingInterest',\n",
       "        'NetPeriodicDefinedBenefitsExpenseReversalOfExpenseExcludingServiceCostComponent',\n",
       "        'NetRepaymentsFromAdvancesToJointVentures', 'OperatingIncomeLoss',\n",
       "        'OperatingLeaseCost', 'OperatingLeaseLiability',\n",
       "        'OperatingLeaseLiabilityCurrent',\n",
       "        'OperatingLeaseLiabilityNoncurrent', 'OperatingLeasePayments',\n",
       "        'OperatingLeaseRightOfUseAsset', 'OtherAssetsNoncurrent',\n",
       "        'OtherComprehensiveIncomeForeignCurrencyTransactionAndTranslationGainLossArisingDuringPeriodNetOfTax',\n",
       "        'OtherComprehensiveIncomeLossAmortizationAdjustmentFromAOCIPensionAndOtherPostretirementBenefitPlansForNetPriorServiceCostCreditNetOfTax',\n",
       "        'OtherComprehensiveIncomeLossNetOfTaxPeriodIncreaseDecreaseIncludingPortionAttributableToNoncontrollingAndRedeemableInterests',\n",
       "        'OtherComprehensiveIncomeLossReclassificationAdjustmentFromAOCIForSaleOfSecuritiesNetOfTax',\n",
       "        'OtherComprehensiveIncomeLossReclassificationAdjustmentFromAOCIOnDerivativesNetOfTax',\n",
       "        'OtherComprehensiveIncomeUnrealizedGainLossOnDerivativesArisingDuringPeriodNetOfTax',\n",
       "        'OtherInventoryPurchasedGoods', 'OtherLiabilitiesCurrent',\n",
       "        'OtherLiabilitiesNoncurrent',\n",
       "        'OtherOperatingActivitiesCashFlowStatement',\n",
       "        'PaymentsForProceedsFromOtherInvestingActivities',\n",
       "        'PaymentsForRepurchaseOfCommonStock', 'PaymentsOfDividends',\n",
       "        'PaymentsToAcquirePropertyPlantAndEquipment',\n",
       "        'PensionAndOtherPostretirementBenefitContributions',\n",
       "        'PensionAndOtherPostretirementBenefitExpense',\n",
       "        'PrepaidExpenseAndOtherAssetsCurrent',\n",
       "        'ProceedsFromPaymentsForOtherFinancingActivities',\n",
       "        'ProceedsFromRepaymentsOfShortTermDebt',\n",
       "        'ProceedsFromSaleOfPropertyPlantAndEquipment',\n",
       "        'ProceedsFromStockOptionsExercised', 'ProfitLoss',\n",
       "        'PropertyPlantAndEquipmentNet', 'ReceivablesNetCurrent',\n",
       "        'RedeemableNoncontrollingInterestEquityOtherFairValue',\n",
       "        'RepaymentsOfLongTermDebt',\n",
       "        'RestructuringCostsAndAssetImpairmentCharges',\n",
       "        'RestructuringReserveAccrualAdjustment1',\n",
       "        'RestructuringSettlementAndImpairmentProvisions',\n",
       "        'RetainedEarningsAccumulatedDeficit',\n",
       "        'RevenueFromContractWithCustomerExcludingAssessedTax',\n",
       "        'RightOfUseAssetObtainedInExchangeForOperatingLeaseLiability',\n",
       "        'SellingGeneralAndAdministrativeExpense', 'ShareBasedCompensation',\n",
       "        'ShareBasedCompensationArrangementByShareBasedPaymentAwardEquityInstrumentsOtherThanOptionsVestedInPeriodTotalFairValue',\n",
       "        'ShortTermBorrowings',\n",
       "        'StockIssuedDuringPeriodValueRestrictedStockAwardNetOfForfeitures',\n",
       "        'StockIssuedDuringPeriodValueTreasuryStockReissued',\n",
       "        'StockholdersEquity',\n",
       "        'StockholdersEquityIncludingPortionAttributableToNoncontrollingInterest',\n",
       "        'TreasuryStockShares', 'TreasuryStockValue',\n",
       "        'WeightedAverageNumberOfDilutedSharesOutstanding',\n",
       "        'WeightedAverageNumberOfSharesOutstandingBasic'], dtype=object))"
      ]
     },
     "execution_count": 233,
     "metadata": {},
     "output_type": "execute_result"
    }
   ],
   "source": [
    "view_all_tags_for_company()"
   ]
  },
  {
   "cell_type": "code",
   "execution_count": 74,
   "metadata": {},
   "outputs": [
    {
     "data": {
      "text/plain": [
       "<matplotlib.axes._subplots.AxesSubplot at 0x1d88bdccd30>"
      ]
     },
     "execution_count": 74,
     "metadata": {},
     "output_type": "execute_result"
    },
    {
     "data": {
      "image/png": "[encoded data removed]",
      "text/plain": [
       "<Figure size 432x288 with 1 Axes>"
      ]
     },
     "metadata": {
      "needs_background": "light"
     },
     "output_type": "display_data"
    }
   ],
   "source": [
    "common_tags.hist()"
   ]
  },
  {
   "cell_type": "markdown",
   "metadata": {},
   "source": [
    "Since the cutoff seems to be at 0.2, let's set the common tags to be above that:"
   ]
  },
  {
   "cell_type": "code",
   "execution_count": 114,
   "metadata": {},
   "outputs": [],
   "source": [
    "medium_tags = tag_occurence.loc[(tag_occurence > 0.2)&(tag_occurence < 0.7)].index"
   ]
  },
  {
   "cell_type": "markdown",
   "metadata": {},
   "source": [
    "Let's make dictionaries of tags now:"
   ]
  },
  {
   "cell_type": "code",
   "execution_count": 125,
   "metadata": {},
   "outputs": [],
   "source": [
    "tag_map = {}"
   ]
  },
  {
   "cell_type": "code",
   "execution_count": 126,
   "metadata": {},
   "outputs": [],
   "source": [
    "for i in medium_tags:\n",
    "    matches = find_fuzzy_matches(i)\n",
    "    tag_map[i] = matches"
   ]
  },
  {
   "cell_type": "markdown",
   "metadata": {},
   "source": [
    "We'll convert these dictionary tag maps to a data-frame to easily use SQL-style joins."
   ]
  },
  {
   "cell_type": "code",
   "execution_count": 127,
   "metadata": {},
   "outputs": [
    {
     "data": {
      "text/html": [
       "<div>\n",
       "<style scoped>\n",
       "    .dataframe tbody tr th:only-of-type {\n",
       "        vertical-align: middle;\n",
       "    }\n",
       "\n",
       "    .dataframe tbody tr th {\n",
       "        vertical-align: top;\n",
       "    }\n",
       "\n",
       "    .dataframe thead th {\n",
       "        text-align: right;\n",
       "    }\n",
       "</style>\n",
       "<table border=\"1\" class=\"dataframe\">\n",
       "  <thead>\n",
       "    <tr style=\"text-align: right;\">\n",
       "      <th></th>\n",
       "      <th>clean_tag</th>\n",
       "      <th>tag</th>\n",
       "    </tr>\n",
       "  </thead>\n",
       "  <tbody>\n",
       "  </tbody>\n",
       "</table>\n",
       "</div>"
      ],
      "text/plain": [
       "Empty DataFrame\n",
       "Columns: [clean_tag, tag]\n",
       "Index: []"
      ]
     },
     "execution_count": 127,
     "metadata": {},
     "output_type": "execute_result"
    }
   ],
   "source": [
    "tag_map_df = pd.DataFrame(columns = ['clean_tag', 'tag'])\n",
    "tag_map_df"
   ]
  },
  {
   "cell_type": "code",
   "execution_count": 128,
   "metadata": {},
   "outputs": [],
   "source": [
    "map_df = pd.DataFrame(dict([(k,pd.Series(v)) for k,v in tag_map.items()]))\\\n",
    "            .melt()\\\n",
    "            .dropna()\\\n",
    "            .rename({'variable':'clean_tag', 'value':'tag'}, axis = 'columns')"
   ]
  },
  {
   "cell_type": "code",
   "execution_count": 129,
   "metadata": {
    "collapsed": true
   },
   "outputs": [
    {
     "data": {
      "text/html": [
       "<div>\n",
       "<style scoped>\n",
       "    .dataframe tbody tr th:only-of-type {\n",
       "        vertical-align: middle;\n",
       "    }\n",
       "\n",
       "    .dataframe tbody tr th {\n",
       "        vertical-align: top;\n",
       "    }\n",
       "\n",
       "    .dataframe thead th {\n",
       "        text-align: right;\n",
       "    }\n",
       "</style>\n",
       "<table border=\"1\" class=\"dataframe\">\n",
       "  <thead>\n",
       "    <tr style=\"text-align: right;\">\n",
       "      <th></th>\n",
       "      <th>clean_tag</th>\n",
       "      <th>tag</th>\n",
       "    </tr>\n",
       "  </thead>\n",
       "  <tbody>\n",
       "    <tr>\n",
       "      <th>0</th>\n",
       "      <td>IncomeTaxExpenseBenefit</td>\n",
       "      <td>IncomeTaxExpenseBenefit</td>\n",
       "    </tr>\n",
       "    <tr>\n",
       "      <th>1</th>\n",
       "      <td>IncomeTaxExpenseBenefit</td>\n",
       "      <td>IncomeTaxExpenseBenefitCity</td>\n",
       "    </tr>\n",
       "    <tr>\n",
       "      <th>2</th>\n",
       "      <td>IncomeTaxExpenseBenefit</td>\n",
       "      <td>TaxCutsAndJobsActOf2017IncomeTaxExpenseBenefit</td>\n",
       "    </tr>\n",
       "    <tr>\n",
       "      <th>3</th>\n",
       "      <td>IncomeTaxExpenseBenefit</td>\n",
       "      <td>StateAndLocalIncomeTaxExpenseBenefitContinuing...</td>\n",
       "    </tr>\n",
       "    <tr>\n",
       "      <th>4</th>\n",
       "      <td>IncomeTaxExpenseBenefit</td>\n",
       "      <td>DeferredFederalIncomeTaxExpenseBenefit</td>\n",
       "    </tr>\n",
       "    <tr>\n",
       "      <th>5</th>\n",
       "      <td>AccumulatedOtherComprehensiveIncomeLossNetOfTax</td>\n",
       "      <td>AccumulatedOtherComprehensiveIncomeLossNetOfTax</td>\n",
       "    </tr>\n",
       "    <tr>\n",
       "      <th>6</th>\n",
       "      <td>AccumulatedOtherComprehensiveIncomeLossNetOfTax</td>\n",
       "      <td>AccumulatedOtherComprehensiveIncomeLossOtherNe...</td>\n",
       "    </tr>\n",
       "    <tr>\n",
       "      <th>7</th>\n",
       "      <td>AccumulatedOtherComprehensiveIncomeLossNetOfTax</td>\n",
       "      <td>AccumulatedOtherComprehensiveIncomeLossTax</td>\n",
       "    </tr>\n",
       "    <tr>\n",
       "      <th>8</th>\n",
       "      <td>AccumulatedOtherComprehensiveIncomeLossNetOfTax</td>\n",
       "      <td>AccumulatedOtherComprehensiveIncomeLossBeforeTax1</td>\n",
       "    </tr>\n",
       "    <tr>\n",
       "      <th>9</th>\n",
       "      <td>AccumulatedOtherComprehensiveIncomeLossNetOfTax</td>\n",
       "      <td>OtherComprehensiveIncomeLoss</td>\n",
       "    </tr>\n",
       "    <tr>\n",
       "      <th>10</th>\n",
       "      <td>OperatingLeaseRightOfUseAsset</td>\n",
       "      <td>OperatingLeaseRightOfUseAsset</td>\n",
       "    </tr>\n",
       "    <tr>\n",
       "      <th>11</th>\n",
       "      <td>OperatingLeaseRightOfUseAsset</td>\n",
       "      <td>OperatingLeaseRightOfUseAssets</td>\n",
       "    </tr>\n",
       "    <tr>\n",
       "      <th>12</th>\n",
       "      <td>OperatingLeaseRightOfUseAsset</td>\n",
       "      <td>OperatingLeaseRightOfUseAssetNet</td>\n",
       "    </tr>\n",
       "    <tr>\n",
       "      <th>13</th>\n",
       "      <td>OperatingLeaseRightOfUseAsset</td>\n",
       "      <td>OperatingLeaseRightofUseAssetNet</td>\n",
       "    </tr>\n",
       "    <tr>\n",
       "      <th>14</th>\n",
       "      <td>OperatingLeaseRightOfUseAsset</td>\n",
       "      <td>OperatingSubleaseRightOfUseAsset</td>\n",
       "    </tr>\n",
       "    <tr>\n",
       "      <th>15</th>\n",
       "      <td>OperatingLeaseLiability</td>\n",
       "      <td>OperatingLeaseLiability</td>\n",
       "    </tr>\n",
       "    <tr>\n",
       "      <th>16</th>\n",
       "      <td>OperatingLeaseLiability</td>\n",
       "      <td>OperatingLeaseLiability1</td>\n",
       "    </tr>\n",
       "    <tr>\n",
       "      <th>17</th>\n",
       "      <td>OperatingLeaseLiability</td>\n",
       "      <td>OpeartingLeaseLiability</td>\n",
       "    </tr>\n",
       "    <tr>\n",
       "      <th>18</th>\n",
       "      <td>OperatingLeaseLiability</td>\n",
       "      <td>OperatingLeaseLiabilities</td>\n",
       "    </tr>\n",
       "    <tr>\n",
       "      <th>19</th>\n",
       "      <td>OperatingLeaseLiability</td>\n",
       "      <td>LesseeOperatingLeaseLiabilityPaymentsDue</td>\n",
       "    </tr>\n",
       "    <tr>\n",
       "      <th>20</th>\n",
       "      <td>AccountsPayableCurrent</td>\n",
       "      <td>AccountsPayableCurrent</td>\n",
       "    </tr>\n",
       "    <tr>\n",
       "      <th>21</th>\n",
       "      <td>AccountsPayableCurrent</td>\n",
       "      <td>AccountsPayableTradeCurrent</td>\n",
       "    </tr>\n",
       "    <tr>\n",
       "      <th>22</th>\n",
       "      <td>AccountsPayableCurrent</td>\n",
       "      <td>AccountsPayableCurrentAndNoncurrent</td>\n",
       "    </tr>\n",
       "    <tr>\n",
       "      <th>23</th>\n",
       "      <td>AccountsPayableCurrent</td>\n",
       "      <td>AccountsPayableOtherCurrent</td>\n",
       "    </tr>\n",
       "    <tr>\n",
       "      <th>24</th>\n",
       "      <td>AccountsPayableCurrent</td>\n",
       "      <td>OtherAccountsPayableCurrent</td>\n",
       "    </tr>\n",
       "    <tr>\n",
       "      <th>25</th>\n",
       "      <td>ComprehensiveIncomeNetOfTax</td>\n",
       "      <td>ComprehensiveIncomeNetOfTax</td>\n",
       "    </tr>\n",
       "    <tr>\n",
       "      <th>26</th>\n",
       "      <td>ComprehensiveIncomeNetOfTax</td>\n",
       "      <td>ComprehensiveIncomeNetOfTaxIncludingPortionAtt...</td>\n",
       "    </tr>\n",
       "    <tr>\n",
       "      <th>27</th>\n",
       "      <td>ComprehensiveIncomeNetOfTax</td>\n",
       "      <td>ComprehensiveIncomeNetOfTaxAttributableToNonco...</td>\n",
       "    </tr>\n",
       "    <tr>\n",
       "      <th>28</th>\n",
       "      <td>ComprehensiveIncomeNetOfTax</td>\n",
       "      <td>StockholdersEquityBeforeAccumulatedOtherCompre...</td>\n",
       "    </tr>\n",
       "    <tr>\n",
       "      <th>29</th>\n",
       "      <td>ComprehensiveIncomeNetOfTax</td>\n",
       "      <td>ComprehensiveIncomeNetOfTaxAvailableToCommonSt...</td>\n",
       "    </tr>\n",
       "    <tr>\n",
       "      <th>...</th>\n",
       "      <td>...</td>\n",
       "      <td>...</td>\n",
       "    </tr>\n",
       "    <tr>\n",
       "      <th>335</th>\n",
       "      <td>ContractWithCustomerLiabilityCurrent</td>\n",
       "      <td>ContractWithCustomerLiabilityCurrent</td>\n",
       "    </tr>\n",
       "    <tr>\n",
       "      <th>336</th>\n",
       "      <td>ContractWithCustomerLiabilityCurrent</td>\n",
       "      <td>ContractWithCustomerLiabilityNoncurrent</td>\n",
       "    </tr>\n",
       "    <tr>\n",
       "      <th>337</th>\n",
       "      <td>ContractWithCustomerLiabilityCurrent</td>\n",
       "      <td>ContractWithCustomerRefundLiabilityCurrent</td>\n",
       "    </tr>\n",
       "    <tr>\n",
       "      <th>338</th>\n",
       "      <td>ContractWithCustomerLiabilityCurrent</td>\n",
       "      <td>IncreaseDecreaseinContractwithCustomerLiabilit...</td>\n",
       "    </tr>\n",
       "    <tr>\n",
       "      <th>339</th>\n",
       "      <td>ContractWithCustomerLiabilityCurrent</td>\n",
       "      <td>ContractWithCustomerLiabilityCurrentBillingInE...</td>\n",
       "    </tr>\n",
       "    <tr>\n",
       "      <th>340</th>\n",
       "      <td>FiniteLivedIntangibleAssetsGross</td>\n",
       "      <td>FiniteLivedIntangibleAssetsGross</td>\n",
       "    </tr>\n",
       "    <tr>\n",
       "      <th>341</th>\n",
       "      <td>FiniteLivedIntangibleAssetsGross</td>\n",
       "      <td>OtherFiniteLivedIntangibleAssetsGross</td>\n",
       "    </tr>\n",
       "    <tr>\n",
       "      <th>342</th>\n",
       "      <td>FiniteLivedIntangibleAssetsGross</td>\n",
       "      <td>Assets</td>\n",
       "    </tr>\n",
       "    <tr>\n",
       "      <th>343</th>\n",
       "      <td>FiniteLivedIntangibleAssetsGross</td>\n",
       "      <td>FiniteLivedIntangibleAssetsGrossExcludingRealE...</td>\n",
       "    </tr>\n",
       "    <tr>\n",
       "      <th>344</th>\n",
       "      <td>FiniteLivedIntangibleAssetsGross</td>\n",
       "      <td>FiniteLivedIntangibleAssetsNet</td>\n",
       "    </tr>\n",
       "    <tr>\n",
       "      <th>345</th>\n",
       "      <td>LongTermDebtCurrent</td>\n",
       "      <td>LongTermDebtCurrent</td>\n",
       "    </tr>\n",
       "    <tr>\n",
       "      <th>346</th>\n",
       "      <td>LongTermDebtCurrent</td>\n",
       "      <td>LongTermDebtCurrent1</td>\n",
       "    </tr>\n",
       "    <tr>\n",
       "      <th>347</th>\n",
       "      <td>LongTermDebtCurrent</td>\n",
       "      <td>LongTermDebtNoncurrent</td>\n",
       "    </tr>\n",
       "    <tr>\n",
       "      <th>348</th>\n",
       "      <td>LongTermDebtCurrent</td>\n",
       "      <td>DebtCurrent</td>\n",
       "    </tr>\n",
       "    <tr>\n",
       "      <th>349</th>\n",
       "      <td>LongTermDebtCurrent</td>\n",
       "      <td>LongTermDebt</td>\n",
       "    </tr>\n",
       "    <tr>\n",
       "      <th>350</th>\n",
       "      <td>OtherComprehensiveIncomeLossForeignCurrencyTra...</td>\n",
       "      <td>OtherComprehensiveIncomeLossForeignCurrencyTra...</td>\n",
       "    </tr>\n",
       "    <tr>\n",
       "      <th>351</th>\n",
       "      <td>OtherComprehensiveIncomeLossForeignCurrencyTra...</td>\n",
       "      <td>OtherComprehensiveIncomeLossForeignCurrencyTra...</td>\n",
       "    </tr>\n",
       "    <tr>\n",
       "      <th>352</th>\n",
       "      <td>OtherComprehensiveIncomeLossForeignCurrencyTra...</td>\n",
       "      <td>OtherComprehensiveIncomeLossForeignCurrencyTra...</td>\n",
       "    </tr>\n",
       "    <tr>\n",
       "      <th>353</th>\n",
       "      <td>OtherComprehensiveIncomeLossForeignCurrencyTra...</td>\n",
       "      <td>OtherComprehensiveIncomeLossForeignCurrencyTra...</td>\n",
       "    </tr>\n",
       "    <tr>\n",
       "      <th>354</th>\n",
       "      <td>OtherComprehensiveIncomeLossForeignCurrencyTra...</td>\n",
       "      <td>OtherComprehensiveIncomeLossForeignCurrencyTra...</td>\n",
       "    </tr>\n",
       "    <tr>\n",
       "      <th>355</th>\n",
       "      <td>NetIncomeLossAttributableToNoncontrollingInterest</td>\n",
       "      <td>NetIncomeLossAttributableToNoncontrollingInterest</td>\n",
       "    </tr>\n",
       "    <tr>\n",
       "      <th>356</th>\n",
       "      <td>NetIncomeLossAttributableToNoncontrollingInterest</td>\n",
       "      <td>IncomeLossAttributableToNoncontrollingInterest</td>\n",
       "    </tr>\n",
       "    <tr>\n",
       "      <th>357</th>\n",
       "      <td>NetIncomeLossAttributableToNoncontrollingInterest</td>\n",
       "      <td>NetIncomeLossAttributableToControllingInterest</td>\n",
       "    </tr>\n",
       "    <tr>\n",
       "      <th>358</th>\n",
       "      <td>NetIncomeLossAttributableToNoncontrollingInterest</td>\n",
       "      <td>NetIncomeLossAttributableToOtherNoncontrolling...</td>\n",
       "    </tr>\n",
       "    <tr>\n",
       "      <th>359</th>\n",
       "      <td>NetIncomeLossAttributableToNoncontrollingInterest</td>\n",
       "      <td>AmountOfNetIncomeLossAttributableToNoncontroll...</td>\n",
       "    </tr>\n",
       "    <tr>\n",
       "      <th>360</th>\n",
       "      <td>IncrementalCommonSharesAttributableToShareBase...</td>\n",
       "      <td>IncrementalCommonSharesAttributableToShareBase...</td>\n",
       "    </tr>\n",
       "    <tr>\n",
       "      <th>361</th>\n",
       "      <td>IncrementalCommonSharesAttributableToShareBase...</td>\n",
       "      <td>SharebasedPayments</td>\n",
       "    </tr>\n",
       "    <tr>\n",
       "      <th>362</th>\n",
       "      <td>IncrementalCommonSharesAttributableToShareBase...</td>\n",
       "      <td>IncrementalCommonSharesAttributableToCallOptio...</td>\n",
       "    </tr>\n",
       "    <tr>\n",
       "      <th>363</th>\n",
       "      <td>IncrementalCommonSharesAttributableToShareBase...</td>\n",
       "      <td>IncrementalCommonSharesAttributableToConversio...</td>\n",
       "    </tr>\n",
       "    <tr>\n",
       "      <th>364</th>\n",
       "      <td>IncrementalCommonSharesAttributableToShareBase...</td>\n",
       "      <td>IncrementalCommonSharesAttributableToConversio...</td>\n",
       "    </tr>\n",
       "  </tbody>\n",
       "</table>\n",
       "<p>365 rows × 2 columns</p>\n",
       "</div>"
      ],
      "text/plain": [
       "                                             clean_tag  \\\n",
       "0                              IncomeTaxExpenseBenefit   \n",
       "1                              IncomeTaxExpenseBenefit   \n",
       "2                              IncomeTaxExpenseBenefit   \n",
       "3                              IncomeTaxExpenseBenefit   \n",
       "4                              IncomeTaxExpenseBenefit   \n",
       "5      AccumulatedOtherComprehensiveIncomeLossNetOfTax   \n",
       "6      AccumulatedOtherComprehensiveIncomeLossNetOfTax   \n",
       "7      AccumulatedOtherComprehensiveIncomeLossNetOfTax   \n",
       "8      AccumulatedOtherComprehensiveIncomeLossNetOfTax   \n",
       "9      AccumulatedOtherComprehensiveIncomeLossNetOfTax   \n",
       "10                       OperatingLeaseRightOfUseAsset   \n",
       "11                       OperatingLeaseRightOfUseAsset   \n",
       "12                       OperatingLeaseRightOfUseAsset   \n",
       "13                       OperatingLeaseRightOfUseAsset   \n",
       "14                       OperatingLeaseRightOfUseAsset   \n",
       "15                             OperatingLeaseLiability   \n",
       "16                             OperatingLeaseLiability   \n",
       "17                             OperatingLeaseLiability   \n",
       "18                             OperatingLeaseLiability   \n",
       "19                             OperatingLeaseLiability   \n",
       "20                              AccountsPayableCurrent   \n",
       "21                              AccountsPayableCurrent   \n",
       "22                              AccountsPayableCurrent   \n",
       "23                              AccountsPayableCurrent   \n",
       "24                              AccountsPayableCurrent   \n",
       "25                         ComprehensiveIncomeNetOfTax   \n",
       "26                         ComprehensiveIncomeNetOfTax   \n",
       "27                         ComprehensiveIncomeNetOfTax   \n",
       "28                         ComprehensiveIncomeNetOfTax   \n",
       "29                         ComprehensiveIncomeNetOfTax   \n",
       "..                                                 ...   \n",
       "335               ContractWithCustomerLiabilityCurrent   \n",
       "336               ContractWithCustomerLiabilityCurrent   \n",
       "337               ContractWithCustomerLiabilityCurrent   \n",
       "338               ContractWithCustomerLiabilityCurrent   \n",
       "339               ContractWithCustomerLiabilityCurrent   \n",
       "340                   FiniteLivedIntangibleAssetsGross   \n",
       "341                   FiniteLivedIntangibleAssetsGross   \n",
       "342                   FiniteLivedIntangibleAssetsGross   \n",
       "343                   FiniteLivedIntangibleAssetsGross   \n",
       "344                   FiniteLivedIntangibleAssetsGross   \n",
       "345                                LongTermDebtCurrent   \n",
       "346                                LongTermDebtCurrent   \n",
       "347                                LongTermDebtCurrent   \n",
       "348                                LongTermDebtCurrent   \n",
       "349                                LongTermDebtCurrent   \n",
       "350  OtherComprehensiveIncomeLossForeignCurrencyTra...   \n",
       "351  OtherComprehensiveIncomeLossForeignCurrencyTra...   \n",
       "352  OtherComprehensiveIncomeLossForeignCurrencyTra...   \n",
       "353  OtherComprehensiveIncomeLossForeignCurrencyTra...   \n",
       "354  OtherComprehensiveIncomeLossForeignCurrencyTra...   \n",
       "355  NetIncomeLossAttributableToNoncontrollingInterest   \n",
       "356  NetIncomeLossAttributableToNoncontrollingInterest   \n",
       "357  NetIncomeLossAttributableToNoncontrollingInterest   \n",
       "358  NetIncomeLossAttributableToNoncontrollingInterest   \n",
       "359  NetIncomeLossAttributableToNoncontrollingInterest   \n",
       "360  IncrementalCommonSharesAttributableToShareBase...   \n",
       "361  IncrementalCommonSharesAttributableToShareBase...   \n",
       "362  IncrementalCommonSharesAttributableToShareBase...   \n",
       "363  IncrementalCommonSharesAttributableToShareBase...   \n",
       "364  IncrementalCommonSharesAttributableToShareBase...   \n",
       "\n",
       "                                                   tag  \n",
       "0                              IncomeTaxExpenseBenefit  \n",
       "1                          IncomeTaxExpenseBenefitCity  \n",
       "2       TaxCutsAndJobsActOf2017IncomeTaxExpenseBenefit  \n",
       "3    StateAndLocalIncomeTaxExpenseBenefitContinuing...  \n",
       "4               DeferredFederalIncomeTaxExpenseBenefit  \n",
       "5      AccumulatedOtherComprehensiveIncomeLossNetOfTax  \n",
       "6    AccumulatedOtherComprehensiveIncomeLossOtherNe...  \n",
       "7           AccumulatedOtherComprehensiveIncomeLossTax  \n",
       "8    AccumulatedOtherComprehensiveIncomeLossBeforeTax1  \n",
       "9                         OtherComprehensiveIncomeLoss  \n",
       "10                       OperatingLeaseRightOfUseAsset  \n",
       "11                      OperatingLeaseRightOfUseAssets  \n",
       "12                    OperatingLeaseRightOfUseAssetNet  \n",
       "13                    OperatingLeaseRightofUseAssetNet  \n",
       "14                    OperatingSubleaseRightOfUseAsset  \n",
       "15                             OperatingLeaseLiability  \n",
       "16                            OperatingLeaseLiability1  \n",
       "17                             OpeartingLeaseLiability  \n",
       "18                           OperatingLeaseLiabilities  \n",
       "19            LesseeOperatingLeaseLiabilityPaymentsDue  \n",
       "20                              AccountsPayableCurrent  \n",
       "21                         AccountsPayableTradeCurrent  \n",
       "22                 AccountsPayableCurrentAndNoncurrent  \n",
       "23                         AccountsPayableOtherCurrent  \n",
       "24                         OtherAccountsPayableCurrent  \n",
       "25                         ComprehensiveIncomeNetOfTax  \n",
       "26   ComprehensiveIncomeNetOfTaxIncludingPortionAtt...  \n",
       "27   ComprehensiveIncomeNetOfTaxAttributableToNonco...  \n",
       "28   StockholdersEquityBeforeAccumulatedOtherCompre...  \n",
       "29   ComprehensiveIncomeNetOfTaxAvailableToCommonSt...  \n",
       "..                                                 ...  \n",
       "335               ContractWithCustomerLiabilityCurrent  \n",
       "336            ContractWithCustomerLiabilityNoncurrent  \n",
       "337         ContractWithCustomerRefundLiabilityCurrent  \n",
       "338  IncreaseDecreaseinContractwithCustomerLiabilit...  \n",
       "339  ContractWithCustomerLiabilityCurrentBillingInE...  \n",
       "340                   FiniteLivedIntangibleAssetsGross  \n",
       "341              OtherFiniteLivedIntangibleAssetsGross  \n",
       "342                                             Assets  \n",
       "343  FiniteLivedIntangibleAssetsGrossExcludingRealE...  \n",
       "344                     FiniteLivedIntangibleAssetsNet  \n",
       "345                                LongTermDebtCurrent  \n",
       "346                               LongTermDebtCurrent1  \n",
       "347                             LongTermDebtNoncurrent  \n",
       "348                                        DebtCurrent  \n",
       "349                                       LongTermDebt  \n",
       "350  OtherComprehensiveIncomeLossForeignCurrencyTra...  \n",
       "351  OtherComprehensiveIncomeLossForeignCurrencyTra...  \n",
       "352  OtherComprehensiveIncomeLossForeignCurrencyTra...  \n",
       "353  OtherComprehensiveIncomeLossForeignCurrencyTra...  \n",
       "354  OtherComprehensiveIncomeLossForeignCurrencyTra...  \n",
       "355  NetIncomeLossAttributableToNoncontrollingInterest  \n",
       "356     IncomeLossAttributableToNoncontrollingInterest  \n",
       "357     NetIncomeLossAttributableToControllingInterest  \n",
       "358  NetIncomeLossAttributableToOtherNoncontrolling...  \n",
       "359  AmountOfNetIncomeLossAttributableToNoncontroll...  \n",
       "360  IncrementalCommonSharesAttributableToShareBase...  \n",
       "361                                 SharebasedPayments  \n",
       "362  IncrementalCommonSharesAttributableToCallOptio...  \n",
       "363  IncrementalCommonSharesAttributableToConversio...  \n",
       "364  IncrementalCommonSharesAttributableToConversio...  \n",
       "\n",
       "[365 rows x 2 columns]"
      ]
     },
     "execution_count": 129,
     "metadata": {},
     "output_type": "execute_result"
    }
   ],
   "source": [
    "map_df"
   ]
  },
  {
   "cell_type": "code",
   "execution_count": 154,
   "metadata": {
    "collapsed": true
   },
   "outputs": [
    {
     "name": "stdout",
     "output_type": "stream",
     "text": [
      "IncomeTaxExpenseBenefit 0.75 0.75\n",
      "AccumulatedOtherComprehensiveIncomeLossNetOfTax 0.60 2.71\n",
      "OperatingLeaseRightOfUseAsset 0.59 0.59\n",
      "OperatingLeaseLiability 1.94 1.94\n",
      "AccountsPayableCurrent 0.60 0.67\n",
      "ComprehensiveIncomeNetOfTax 0.90 0.90\n",
      "WeightedAverageNumberOfSharesOutstandingBasic 0.54 2.81\n",
      "PreferredStockSharesAuthorized 0.54 0.54\n",
      "InterestExpense 1.10 1.27\n",
      "WeightedAverageNumberOfDilutedSharesOutstanding 0.53 2.49\n",
      "EarningsPerShareBasic 0.87 0.87\n",
      "EarningsPerShareDiluted 0.51 0.51\n",
      "OtherAssetsNoncurrent 0.52 6.58\n",
      "AccountsReceivableNetCurrent 0.50 0.51\n",
      "AdditionalPaidInCapital 1.47 1.47\n",
      "PreferredStockParOrStatedValuePerShare 0.48 0.48\n",
      "Goodwill 1.10 1.10\n",
      "CashCashEquivalentsRestrictedCashAndRestrictedCashEquivalents 0.66 0.66\n",
      "OperatingLeaseLiabilityCurrent 0.46 0.92\n",
      "OperatingLeaseLiabilityNoncurrent 0.46 0.92\n",
      "IncomeLossFromContinuingOperationsBeforeIncomeTaxesExtraordinaryItemsNoncontrollingInterest 0.45 1.08\n",
      "OperatingExpenses 0.47 0.52\n",
      "AccumulatedDepreciationDepletionAndAmortizationPropertyPlantAndEquipment 0.44 1.12\n",
      "GeneralAndAdministrativeExpense 0.78 0.89\n",
      "InventoryNet 0.42 0.42\n",
      "OtherLiabilitiesNoncurrent 0.42 6.30\n",
      "PreferredStockSharesIssued 0.41 1.31\n",
      "PrepaidExpenseAndOtherAssetsCurrent 0.39 0.40\n",
      "Revenues 0.43 0.43\n",
      "AdditionalPaidInCapitalCommonStock 0.39 2.40\n",
      "OtherNonoperatingIncomeExpense 0.39 0.44\n",
      "AccruedLiabilitiesCurrent 0.94 0.96\n",
      "AdjustmentsToAdditionalPaidInCapitalSharebasedCompensationRequisiteServicePeriodRecognitionValue 0.38 0.38\n",
      "RevenueFromContractWithCustomerExcludingAssessedTax 0.37 0.49\n",
      "OperatingLeaseCost 0.37 5.68\n",
      "PreferredStockSharesOutstanding 0.36 0.36\n",
      "GrossProfit 0.35 0.35\n",
      "EarningsPerShareBasicAndDiluted 0.34 0.34\n",
      "PropertyPlantAndEquipmentGross 0.34 1.76\n",
      "IntangibleAssetsNetExcludingGoodwill 0.34 6.58\n",
      "WeightedAverageNumberOfShareOutstandingBasicAndDiluted 0.32 0.32\n",
      "StockholdersEquityIncludingPortionAttributableToNoncontrollingInterest 0.32 2.29\n",
      "NonoperatingIncomeExpense 0.71 0.71\n",
      "ProfitLoss 0.32 0.32\n",
      "FiniteLivedIntangibleAssetsAccumulatedAmortization 0.31 0.31\n",
      "LesseeOperatingLeaseLiabilityPaymentsDue 0.35 5.80\n",
      "FiniteLivedIntangibleAssetsNet 0.31 6.58\n",
      "SellingGeneralAndAdministrativeExpense 0.32 0.32\n",
      "EmployeeRelatedLiabilitiesCurrent 0.32 0.32\n",
      "LeaseCost 0.77 0.77\n",
      "PreferredStockValue 0.32 0.32\n",
      "CostOfGoodsAndServicesSold 0.32 0.32\n",
      "OtherComprehensiveIncomeLossNetOfTax 1.09 1.18\n",
      "LongTermDebtNoncurrent 0.30 1.18\n",
      "AllowanceForDoubtfulAccountsReceivableCurrent 0.28 0.39\n",
      "TreasuryStockValue 0.37 0.37\n",
      "LongTermDebt 1.15 1.15\n",
      "ResearchAndDevelopmentExpense 0.28 0.28\n",
      "AllocatedShareBasedCompensationExpense 0.29 1.08\n",
      "AmortizationOfIntangibleAssets 0.26 0.26\n",
      "IncomeLossFromContinuingOperationsBeforeIncomeTaxesMinorityInterestAndIncomeLossFromEquityMethodInvestments 0.25 0.51\n",
      "AntidilutiveSecuritiesExcludedFromComputationOfEarningsPerShareAmount 0.25 1.65\n",
      "NetIncomeLossAvailableToCommonStockholdersBasic 0.25 1.59\n",
      "OtherAccruedLiabilitiesCurrent 0.28 6.30\n",
      "OtherAssetsCurrent 0.63 6.58\n",
      "TreasuryStockShares 0.27 0.27\n",
      "MinorityInterest 0.61 0.61\n",
      "ContractWithCustomerLiabilityCurrent 0.22 0.34\n",
      "FiniteLivedIntangibleAssetsGross 0.23 6.58\n",
      "LongTermDebtCurrent 0.22 1.25\n",
      "OtherComprehensiveIncomeLossForeignCurrencyTransactionAndTranslationAdjustmentNetOfTax 0.21 0.24\n",
      "NetIncomeLossAttributableToNoncontrollingInterest 0.21 0.21\n",
      "IncrementalCommonSharesAttributableToShareBasedPaymentArrangements 0.20 0.24\n"
     ]
    }
   ],
   "source": [
    "for i,j in tag_map.items():\n",
    "    print(i,\"%.2f %.2f\"%(round(get_tag_reach([i]),2), round(get_tag_reach(j),2)))"
   ]
  },
  {
   "cell_type": "code",
   "execution_count": 17,
   "metadata": {},
   "outputs": [
    {
     "name": "stdout",
     "output_type": "stream",
     "text": [
      "Consolidated 78.11% of tags\n"
     ]
    }
   ],
   "source": [
    "print(\"Consolidated \",round((1-len(tag_map_df.clean_tag.unique())/len(tag_map_df.tag.unique()))*100,2),\"% of tags\", sep = \"\")"
   ]
  },
  {
   "cell_type": "markdown",
   "metadata": {},
   "source": [
    "In addition to the algorithm, we use domain knowledge to add in exceptions."
   ]
  },
  {
   "cell_type": "markdown",
   "metadata": {},
   "source": [
    "## Web Scraping Yahoo Finance"
   ]
  },
  {
   "cell_type": "code",
   "execution_count": 156,
   "metadata": {},
   "outputs": [],
   "source": [
    "def periodic_figure_values(soup, yahoo_figure):\n",
    "\n",
    "    values = []\n",
    "    pattern = re.compile(yahoo_figure)\n",
    "\n",
    "    title = soup.find(\"strong\", text=pattern)    # works for the figures printed in bold\n",
    "    if title:\n",
    "        row = title.parent.parent\n",
    "    else:\n",
    "        title = soup.find(\"td\", text=pattern)    # works for any other available figure\n",
    "        if title:\n",
    "            row = title.parent\n",
    "        else:\n",
    "            sys.exit(\"Invalid figure '\" + yahoo_figure + \"' passed.\")\n",
    "\n",
    "    cells = row.find_all(\"td\")[1:]    # exclude the <td> with figure name\n",
    "    for cell in cells:\n",
    "        if cell.text.strip() != yahoo_figure:    # needed because some figures are indented\n",
    "            str_value = cell.text.strip().replace(\",\", \"\").replace(\"(\", \"-\").replace(\")\", \"\")\n",
    "            if str_value == \"-\":\n",
    "                str_value = 0\n",
    "            value = int(str_value) * 1000\n",
    "            values.append(value)\n",
    "\n",
    "    return values\n",
    "\n",
    "def financials_soup(ticker_symbol, statement=\"is\", quarterly=False):\n",
    "\n",
    "    if statement == \"is\" or statement == \"bs\" or statement == \"cf\":\n",
    "        url = \"https://finance.yahoo.com/q/\" + statement + \"?s=\" + ticker_symbol\n",
    "        if not quarterly:\n",
    "            url += \"&annual\"\n",
    "        return BeautifulSoup(requests.get(url).text, \"html.parser\")\n",
    "\n",
    "    return sys.exit(\"Invalid financial statement code '\" + statement + \"' passed.\")"
   ]
  },
  {
   "cell_type": "code",
   "execution_count": 167,
   "metadata": {},
   "outputs": [],
   "source": [
    "from bs4 import BeautifulSoup\n",
    "import requests\n",
    "\n",
    "myurl = \"https://finance.yahoo.com/q/is?s=AAPL&annual\"\n",
    "html = requests.get(myurl).content\n",
    "soup = BeautifulSoup(html)"
   ]
  },
  {
   "cell_type": "code",
   "execution_count": 168,
   "metadata": {},
   "outputs": [],
   "source": [
    "import re"
   ]
  },
  {
   "cell_type": "code",
   "execution_count": 170,
   "metadata": {},
   "outputs": [
    {
     "ename": "SystemExit",
     "evalue": "Invalid figure 'Revenue' passed.",
     "output_type": "error",
     "traceback": [
      "An exception has occurred, use %tb to see the full traceback.\n",
      "\u001b[1;31mSystemExit\u001b[0m\u001b[1;31m:\u001b[0m Invalid figure 'Revenue' passed.\n"
     ]
    }
   ],
   "source": [
    "print(periodic_figure_values(financials_soup(\"AAPL\", \"is\"), \"Revenue\"))"
   ]
  },
  {
   "cell_type": "markdown",
   "metadata": {},
   "source": [
    "## Save <a name=\"Save\"></a>\n",
    "Save tag map to build/clean"
   ]
  },
  {
   "cell_type": "code",
   "execution_count": 20,
   "metadata": {},
   "outputs": [],
   "source": [
    "# Save\n",
    "tag_map_df.to_csv(data_root+'02-build/clean/2019q3/tag_map.csv', index = False)"
   ]
  }
 ],
 "metadata": {
  "kernelspec": {
   "display_name": "Python 3",
   "language": "python",
   "name": "python3"
  },
  "language_info": {
   "codemirror_mode": {
    "name": "ipython",
    "version": 3
   },
   "file_extension": ".py",
   "mimetype": "text/x-python",
   "name": "python",
   "nbconvert_exporter": "python",
   "pygments_lexer": "ipython3",
   "version": "3.7.3"
  }
 },
 "nbformat": 4,
 "nbformat_minor": 4
}
