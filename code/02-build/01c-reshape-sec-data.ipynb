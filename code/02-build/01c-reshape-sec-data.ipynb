{
 "cells": [
  {
   "cell_type": "markdown",
   "metadata": {},
   "source": [
    "# Program Header"
   ]
  },
  {
   "cell_type": "code",
   "execution_count": 35,
   "metadata": {},
   "outputs": [],
   "source": [
    "import pandas as pd\n",
    "import numpy as np\n",
    "import autoreload\n",
    "import os\n",
    "import sys\n",
    "import jellyfish\n",
    "from IPython.core.interactiveshell import InteractiveShell\n",
    "InteractiveShell.ast_node_interactivity = \"all\"\n",
    "nb_dir = os.path.split(os.getcwd())[0]\n",
    "if nb_dir not in sys.path:\n",
    "    sys.path.append(nb_dir)\n",
    "from header import *"
   ]
  },
  {
   "cell_type": "code",
   "execution_count": 36,
   "metadata": {},
   "outputs": [],
   "source": [
    "data_root = initialize_data_root(\"AY\")"
   ]
  },
  {
   "cell_type": "markdown",
   "metadata": {},
   "source": [
    "# Table of contents\n",
    "1. [Import](#Import)\n",
    "2. [Merge](#Merge)\n",
    "3. [Clean](#Clean)\n",
    "4. [Reshape](#Reshape)\n",
    "5. [Save](#Save)"
   ]
  },
  {
   "cell_type": "markdown",
   "metadata": {},
   "source": [
    "## Import <a name=\"Import\"></a>"
   ]
  },
  {
   "cell_type": "code",
   "execution_count": 37,
   "metadata": {},
   "outputs": [],
   "source": [
    "raw_sec_data = pd.read_csv(data_root+'02-build/clean/2019q3/sec_data_long.csv')\n",
    "raw_tag_map = pd.read_csv(data_root+'02-build/clean/2019q3/tag_map.csv')\n",
    "raw_cik_ticker_map = pd.read_csv(data_root+'02-build/clean/cik_ticker_map.csv')"
   ]
  },
  {
   "cell_type": "code",
   "execution_count": 38,
   "metadata": {},
   "outputs": [
    {
     "data": {
      "text/plain": [
       "Index(['adsh', 'tag', 'version', 'coreg', 'ddate', 'qtrs', 'uom', 'value',\n",
       "       'no_coreg', 'no_value', 'cik', 'company_name', 'sic', 'country',\n",
       "       'period', 'form', 'fye', 'filed', 'accepted', 'instance', 'doc',\n",
       "       'dyrqt', 'pyrqt'],\n",
       "      dtype='object')"
      ]
     },
     "execution_count": 38,
     "metadata": {},
     "output_type": "execute_result"
    }
   ],
   "source": [
    "raw_sec_data.columns"
   ]
  },
  {
   "cell_type": "code",
   "execution_count": 39,
   "metadata": {},
   "outputs": [
    {
     "data": {
      "text/plain": [
       "Index(['clean_tag', 'tag', 'uom', 'qtrs'], dtype='object')"
      ]
     },
     "execution_count": 39,
     "metadata": {},
     "output_type": "execute_result"
    }
   ],
   "source": [
    "raw_tag_map.columns"
   ]
  },
  {
   "cell_type": "code",
   "execution_count": 40,
   "metadata": {},
   "outputs": [
    {
     "data": {
      "text/plain": [
       "Index(['cik', 'ticker'], dtype='object')"
      ]
     },
     "execution_count": 40,
     "metadata": {},
     "output_type": "execute_result"
    }
   ],
   "source": [
    "raw_cik_ticker_map.columns"
   ]
  },
  {
   "cell_type": "markdown",
   "metadata": {},
   "source": [
    "## Merge <a name=\"Merge\"></a>"
   ]
  },
  {
   "cell_type": "code",
   "execution_count": 41,
   "metadata": {},
   "outputs": [],
   "source": [
    "sec_data = raw_sec_data.merge(raw_tag_map, on = ['qtrs', 'uom', 'tag'])\\\n",
    "    .merge(raw_cik_ticker_map, on = ['cik'])"
   ]
  },
  {
   "cell_type": "markdown",
   "metadata": {},
   "source": [
    "The goal is to get our data to the `adsh`, `dyrqt` level and use the `clean_tag`'s as columns, so we can't have duplicate values for the same `adsh-clean_tag-dyrqt`. In case of duplicates, let's keep the maximum value. The idea behind keeping the max is that smaller versions may be older (over 3 months instead of over 4 months) or the smaller groups may be categories of the larger one."
   ]
  },
  {
   "cell_type": "code",
   "execution_count": 42,
   "metadata": {},
   "outputs": [],
   "source": [
    "sec_data = sec_data.groupby(['adsh', 'qtrs', 'uom', 'clean_tag', \n",
    "                             'dyrqt', 'company_name', 'ticker',\n",
    "                             'cik', 'sic', 'country', 'period', 'form'], as_index = False)['value']\\\n",
    "    .max()"
   ]
  },
  {
   "cell_type": "markdown",
   "metadata": {},
   "source": [
    "## Clean <a name=\"Clean\"></a>"
   ]
  },
  {
   "cell_type": "markdown",
   "metadata": {},
   "source": [
    "Check that we're unique on the `adsh-dyrqt-cleantag` level"
   ]
  },
  {
   "cell_type": "code",
   "execution_count": 45,
   "metadata": {},
   "outputs": [
    {
     "data": {
      "text/html": [
       "<div>\n",
       "<style scoped>\n",
       "    .dataframe tbody tr th:only-of-type {\n",
       "        vertical-align: middle;\n",
       "    }\n",
       "\n",
       "    .dataframe tbody tr th {\n",
       "        vertical-align: top;\n",
       "    }\n",
       "\n",
       "    .dataframe thead th {\n",
       "        text-align: right;\n",
       "    }\n",
       "</style>\n",
       "<table border=\"1\" class=\"dataframe\">\n",
       "  <thead>\n",
       "    <tr style=\"text-align: right;\">\n",
       "      <th></th>\n",
       "      <th></th>\n",
       "      <th></th>\n",
       "      <th>adsh</th>\n",
       "      <th>qtrs</th>\n",
       "      <th>uom</th>\n",
       "      <th>clean_tag</th>\n",
       "      <th>dyrqt</th>\n",
       "      <th>company_name</th>\n",
       "      <th>ticker</th>\n",
       "      <th>cik</th>\n",
       "      <th>sic</th>\n",
       "      <th>country</th>\n",
       "      <th>period</th>\n",
       "      <th>form</th>\n",
       "      <th>value</th>\n",
       "    </tr>\n",
       "    <tr>\n",
       "      <th>adsh</th>\n",
       "      <th>dyrqt</th>\n",
       "      <th>clean_tag</th>\n",
       "      <th></th>\n",
       "      <th></th>\n",
       "      <th></th>\n",
       "      <th></th>\n",
       "      <th></th>\n",
       "      <th></th>\n",
       "      <th></th>\n",
       "      <th></th>\n",
       "      <th></th>\n",
       "      <th></th>\n",
       "      <th></th>\n",
       "      <th></th>\n",
       "      <th></th>\n",
       "    </tr>\n",
       "  </thead>\n",
       "  <tbody>\n",
       "    <tr>\n",
       "      <th>0001428205-19-000214</th>\n",
       "      <th>201902</th>\n",
       "      <th>CommonStockDividendsPerShareDeclared</th>\n",
       "      <td>1</td>\n",
       "      <td>2</td>\n",
       "      <td>1</td>\n",
       "      <td>1</td>\n",
       "      <td>1</td>\n",
       "      <td>1</td>\n",
       "      <td>1</td>\n",
       "      <td>1</td>\n",
       "      <td>1</td>\n",
       "      <td>1</td>\n",
       "      <td>1</td>\n",
       "      <td>1</td>\n",
       "      <td>2</td>\n",
       "    </tr>\n",
       "    <tr>\n",
       "      <th>0001628280-19-010519</th>\n",
       "      <th>201902</th>\n",
       "      <th>GainsLossesOnExtinguishmentOfDebt</th>\n",
       "      <td>1</td>\n",
       "      <td>2</td>\n",
       "      <td>1</td>\n",
       "      <td>1</td>\n",
       "      <td>1</td>\n",
       "      <td>1</td>\n",
       "      <td>1</td>\n",
       "      <td>1</td>\n",
       "      <td>1</td>\n",
       "      <td>1</td>\n",
       "      <td>1</td>\n",
       "      <td>1</td>\n",
       "      <td>2</td>\n",
       "    </tr>\n",
       "    <tr>\n",
       "      <th>0001564590-19-030190</th>\n",
       "      <th>201902</th>\n",
       "      <th>CommonStockDividendsPerShareDeclared</th>\n",
       "      <td>1</td>\n",
       "      <td>2</td>\n",
       "      <td>1</td>\n",
       "      <td>1</td>\n",
       "      <td>1</td>\n",
       "      <td>1</td>\n",
       "      <td>1</td>\n",
       "      <td>1</td>\n",
       "      <td>1</td>\n",
       "      <td>1</td>\n",
       "      <td>1</td>\n",
       "      <td>1</td>\n",
       "      <td>2</td>\n",
       "    </tr>\n",
       "    <tr>\n",
       "      <th>0001748773-19-000004</th>\n",
       "      <th>201902</th>\n",
       "      <th>NetIncomeLoss</th>\n",
       "      <td>1</td>\n",
       "      <td>2</td>\n",
       "      <td>1</td>\n",
       "      <td>1</td>\n",
       "      <td>1</td>\n",
       "      <td>1</td>\n",
       "      <td>1</td>\n",
       "      <td>1</td>\n",
       "      <td>1</td>\n",
       "      <td>1</td>\n",
       "      <td>1</td>\n",
       "      <td>1</td>\n",
       "      <td>2</td>\n",
       "    </tr>\n",
       "    <tr>\n",
       "      <th>0001564590-19-030407</th>\n",
       "      <th>201902</th>\n",
       "      <th>CommonStockDividendsPerShareDeclared</th>\n",
       "      <td>1</td>\n",
       "      <td>2</td>\n",
       "      <td>1</td>\n",
       "      <td>1</td>\n",
       "      <td>1</td>\n",
       "      <td>1</td>\n",
       "      <td>1</td>\n",
       "      <td>1</td>\n",
       "      <td>1</td>\n",
       "      <td>1</td>\n",
       "      <td>1</td>\n",
       "      <td>1</td>\n",
       "      <td>2</td>\n",
       "    </tr>\n",
       "    <tr>\n",
       "      <th>0001691303-19-000036</th>\n",
       "      <th>201902</th>\n",
       "      <th>CommonStockDividendsPerShareDeclared</th>\n",
       "      <td>1</td>\n",
       "      <td>2</td>\n",
       "      <td>1</td>\n",
       "      <td>1</td>\n",
       "      <td>1</td>\n",
       "      <td>1</td>\n",
       "      <td>1</td>\n",
       "      <td>1</td>\n",
       "      <td>1</td>\n",
       "      <td>1</td>\n",
       "      <td>1</td>\n",
       "      <td>1</td>\n",
       "      <td>2</td>\n",
       "    </tr>\n",
       "    <tr>\n",
       "      <th>0001376139-19-000053</th>\n",
       "      <th>201902</th>\n",
       "      <th>CommonStockDividendsPerShareDeclared</th>\n",
       "      <td>1</td>\n",
       "      <td>2</td>\n",
       "      <td>1</td>\n",
       "      <td>1</td>\n",
       "      <td>1</td>\n",
       "      <td>1</td>\n",
       "      <td>1</td>\n",
       "      <td>1</td>\n",
       "      <td>1</td>\n",
       "      <td>1</td>\n",
       "      <td>1</td>\n",
       "      <td>1</td>\n",
       "      <td>2</td>\n",
       "    </tr>\n",
       "    <tr>\n",
       "      <th>0000896841-19-000165</th>\n",
       "      <th>201902</th>\n",
       "      <th>AdjustmentsToAdditionalPaidInCapitalStockIssuedIssuanceCosts</th>\n",
       "      <td>1</td>\n",
       "      <td>2</td>\n",
       "      <td>1</td>\n",
       "      <td>1</td>\n",
       "      <td>1</td>\n",
       "      <td>1</td>\n",
       "      <td>1</td>\n",
       "      <td>1</td>\n",
       "      <td>1</td>\n",
       "      <td>1</td>\n",
       "      <td>1</td>\n",
       "      <td>1</td>\n",
       "      <td>2</td>\n",
       "    </tr>\n",
       "    <tr>\n",
       "      <th>0001564590-19-031538</th>\n",
       "      <th>201902</th>\n",
       "      <th>AllocatedShareBasedCompensationExpense</th>\n",
       "      <td>1</td>\n",
       "      <td>2</td>\n",
       "      <td>1</td>\n",
       "      <td>1</td>\n",
       "      <td>1</td>\n",
       "      <td>1</td>\n",
       "      <td>1</td>\n",
       "      <td>1</td>\n",
       "      <td>1</td>\n",
       "      <td>1</td>\n",
       "      <td>1</td>\n",
       "      <td>1</td>\n",
       "      <td>2</td>\n",
       "    </tr>\n",
       "    <tr>\n",
       "      <th>0001697500-19-000050</th>\n",
       "      <th>201902</th>\n",
       "      <th>AllocatedShareBasedCompensationExpense</th>\n",
       "      <td>1</td>\n",
       "      <td>2</td>\n",
       "      <td>1</td>\n",
       "      <td>1</td>\n",
       "      <td>1</td>\n",
       "      <td>1</td>\n",
       "      <td>1</td>\n",
       "      <td>1</td>\n",
       "      <td>1</td>\n",
       "      <td>1</td>\n",
       "      <td>1</td>\n",
       "      <td>1</td>\n",
       "      <td>2</td>\n",
       "    </tr>\n",
       "  </tbody>\n",
       "</table>\n",
       "</div>"
      ],
      "text/plain": [
       "                                                                                adsh  \\\n",
       "adsh                 dyrqt  clean_tag                                                  \n",
       "0001428205-19-000214 201902 CommonStockDividendsPerShareDeclared                   1   \n",
       "0001628280-19-010519 201902 GainsLossesOnExtinguishmentOfDebt                      1   \n",
       "0001564590-19-030190 201902 CommonStockDividendsPerShareDeclared                   1   \n",
       "0001748773-19-000004 201902 NetIncomeLoss                                          1   \n",
       "0001564590-19-030407 201902 CommonStockDividendsPerShareDeclared                   1   \n",
       "0001691303-19-000036 201902 CommonStockDividendsPerShareDeclared                   1   \n",
       "0001376139-19-000053 201902 CommonStockDividendsPerShareDeclared                   1   \n",
       "0000896841-19-000165 201902 AdjustmentsToAdditionalPaidInCapitalStockIssued...     1   \n",
       "0001564590-19-031538 201902 AllocatedShareBasedCompensationExpense                 1   \n",
       "0001697500-19-000050 201902 AllocatedShareBasedCompensationExpense                 1   \n",
       "\n",
       "                                                                                qtrs  \\\n",
       "adsh                 dyrqt  clean_tag                                                  \n",
       "0001428205-19-000214 201902 CommonStockDividendsPerShareDeclared                   2   \n",
       "0001628280-19-010519 201902 GainsLossesOnExtinguishmentOfDebt                      2   \n",
       "0001564590-19-030190 201902 CommonStockDividendsPerShareDeclared                   2   \n",
       "0001748773-19-000004 201902 NetIncomeLoss                                          2   \n",
       "0001564590-19-030407 201902 CommonStockDividendsPerShareDeclared                   2   \n",
       "0001691303-19-000036 201902 CommonStockDividendsPerShareDeclared                   2   \n",
       "0001376139-19-000053 201902 CommonStockDividendsPerShareDeclared                   2   \n",
       "0000896841-19-000165 201902 AdjustmentsToAdditionalPaidInCapitalStockIssued...     2   \n",
       "0001564590-19-031538 201902 AllocatedShareBasedCompensationExpense                 2   \n",
       "0001697500-19-000050 201902 AllocatedShareBasedCompensationExpense                 2   \n",
       "\n",
       "                                                                                uom  \\\n",
       "adsh                 dyrqt  clean_tag                                                 \n",
       "0001428205-19-000214 201902 CommonStockDividendsPerShareDeclared                  1   \n",
       "0001628280-19-010519 201902 GainsLossesOnExtinguishmentOfDebt                     1   \n",
       "0001564590-19-030190 201902 CommonStockDividendsPerShareDeclared                  1   \n",
       "0001748773-19-000004 201902 NetIncomeLoss                                         1   \n",
       "0001564590-19-030407 201902 CommonStockDividendsPerShareDeclared                  1   \n",
       "0001691303-19-000036 201902 CommonStockDividendsPerShareDeclared                  1   \n",
       "0001376139-19-000053 201902 CommonStockDividendsPerShareDeclared                  1   \n",
       "0000896841-19-000165 201902 AdjustmentsToAdditionalPaidInCapitalStockIssued...    1   \n",
       "0001564590-19-031538 201902 AllocatedShareBasedCompensationExpense                1   \n",
       "0001697500-19-000050 201902 AllocatedShareBasedCompensationExpense                1   \n",
       "\n",
       "                                                                                clean_tag  \\\n",
       "adsh                 dyrqt  clean_tag                                                       \n",
       "0001428205-19-000214 201902 CommonStockDividendsPerShareDeclared                        1   \n",
       "0001628280-19-010519 201902 GainsLossesOnExtinguishmentOfDebt                           1   \n",
       "0001564590-19-030190 201902 CommonStockDividendsPerShareDeclared                        1   \n",
       "0001748773-19-000004 201902 NetIncomeLoss                                               1   \n",
       "0001564590-19-030407 201902 CommonStockDividendsPerShareDeclared                        1   \n",
       "0001691303-19-000036 201902 CommonStockDividendsPerShareDeclared                        1   \n",
       "0001376139-19-000053 201902 CommonStockDividendsPerShareDeclared                        1   \n",
       "0000896841-19-000165 201902 AdjustmentsToAdditionalPaidInCapitalStockIssued...          1   \n",
       "0001564590-19-031538 201902 AllocatedShareBasedCompensationExpense                      1   \n",
       "0001697500-19-000050 201902 AllocatedShareBasedCompensationExpense                      1   \n",
       "\n",
       "                                                                                dyrqt  \\\n",
       "adsh                 dyrqt  clean_tag                                                   \n",
       "0001428205-19-000214 201902 CommonStockDividendsPerShareDeclared                    1   \n",
       "0001628280-19-010519 201902 GainsLossesOnExtinguishmentOfDebt                       1   \n",
       "0001564590-19-030190 201902 CommonStockDividendsPerShareDeclared                    1   \n",
       "0001748773-19-000004 201902 NetIncomeLoss                                           1   \n",
       "0001564590-19-030407 201902 CommonStockDividendsPerShareDeclared                    1   \n",
       "0001691303-19-000036 201902 CommonStockDividendsPerShareDeclared                    1   \n",
       "0001376139-19-000053 201902 CommonStockDividendsPerShareDeclared                    1   \n",
       "0000896841-19-000165 201902 AdjustmentsToAdditionalPaidInCapitalStockIssued...      1   \n",
       "0001564590-19-031538 201902 AllocatedShareBasedCompensationExpense                  1   \n",
       "0001697500-19-000050 201902 AllocatedShareBasedCompensationExpense                  1   \n",
       "\n",
       "                                                                                company_name  \\\n",
       "adsh                 dyrqt  clean_tag                                                          \n",
       "0001428205-19-000214 201902 CommonStockDividendsPerShareDeclared                           1   \n",
       "0001628280-19-010519 201902 GainsLossesOnExtinguishmentOfDebt                              1   \n",
       "0001564590-19-030190 201902 CommonStockDividendsPerShareDeclared                           1   \n",
       "0001748773-19-000004 201902 NetIncomeLoss                                                  1   \n",
       "0001564590-19-030407 201902 CommonStockDividendsPerShareDeclared                           1   \n",
       "0001691303-19-000036 201902 CommonStockDividendsPerShareDeclared                           1   \n",
       "0001376139-19-000053 201902 CommonStockDividendsPerShareDeclared                           1   \n",
       "0000896841-19-000165 201902 AdjustmentsToAdditionalPaidInCapitalStockIssued...             1   \n",
       "0001564590-19-031538 201902 AllocatedShareBasedCompensationExpense                         1   \n",
       "0001697500-19-000050 201902 AllocatedShareBasedCompensationExpense                         1   \n",
       "\n",
       "                                                                                ticker  \\\n",
       "adsh                 dyrqt  clean_tag                                                    \n",
       "0001428205-19-000214 201902 CommonStockDividendsPerShareDeclared                     1   \n",
       "0001628280-19-010519 201902 GainsLossesOnExtinguishmentOfDebt                        1   \n",
       "0001564590-19-030190 201902 CommonStockDividendsPerShareDeclared                     1   \n",
       "0001748773-19-000004 201902 NetIncomeLoss                                            1   \n",
       "0001564590-19-030407 201902 CommonStockDividendsPerShareDeclared                     1   \n",
       "0001691303-19-000036 201902 CommonStockDividendsPerShareDeclared                     1   \n",
       "0001376139-19-000053 201902 CommonStockDividendsPerShareDeclared                     1   \n",
       "0000896841-19-000165 201902 AdjustmentsToAdditionalPaidInCapitalStockIssued...       1   \n",
       "0001564590-19-031538 201902 AllocatedShareBasedCompensationExpense                   1   \n",
       "0001697500-19-000050 201902 AllocatedShareBasedCompensationExpense                   1   \n",
       "\n",
       "                                                                                cik  \\\n",
       "adsh                 dyrqt  clean_tag                                                 \n",
       "0001428205-19-000214 201902 CommonStockDividendsPerShareDeclared                  1   \n",
       "0001628280-19-010519 201902 GainsLossesOnExtinguishmentOfDebt                     1   \n",
       "0001564590-19-030190 201902 CommonStockDividendsPerShareDeclared                  1   \n",
       "0001748773-19-000004 201902 NetIncomeLoss                                         1   \n",
       "0001564590-19-030407 201902 CommonStockDividendsPerShareDeclared                  1   \n",
       "0001691303-19-000036 201902 CommonStockDividendsPerShareDeclared                  1   \n",
       "0001376139-19-000053 201902 CommonStockDividendsPerShareDeclared                  1   \n",
       "0000896841-19-000165 201902 AdjustmentsToAdditionalPaidInCapitalStockIssued...    1   \n",
       "0001564590-19-031538 201902 AllocatedShareBasedCompensationExpense                1   \n",
       "0001697500-19-000050 201902 AllocatedShareBasedCompensationExpense                1   \n",
       "\n",
       "                                                                                sic  \\\n",
       "adsh                 dyrqt  clean_tag                                                 \n",
       "0001428205-19-000214 201902 CommonStockDividendsPerShareDeclared                  1   \n",
       "0001628280-19-010519 201902 GainsLossesOnExtinguishmentOfDebt                     1   \n",
       "0001564590-19-030190 201902 CommonStockDividendsPerShareDeclared                  1   \n",
       "0001748773-19-000004 201902 NetIncomeLoss                                         1   \n",
       "0001564590-19-030407 201902 CommonStockDividendsPerShareDeclared                  1   \n",
       "0001691303-19-000036 201902 CommonStockDividendsPerShareDeclared                  1   \n",
       "0001376139-19-000053 201902 CommonStockDividendsPerShareDeclared                  1   \n",
       "0000896841-19-000165 201902 AdjustmentsToAdditionalPaidInCapitalStockIssued...    1   \n",
       "0001564590-19-031538 201902 AllocatedShareBasedCompensationExpense                1   \n",
       "0001697500-19-000050 201902 AllocatedShareBasedCompensationExpense                1   \n",
       "\n",
       "                                                                                country  \\\n",
       "adsh                 dyrqt  clean_tag                                                     \n",
       "0001428205-19-000214 201902 CommonStockDividendsPerShareDeclared                      1   \n",
       "0001628280-19-010519 201902 GainsLossesOnExtinguishmentOfDebt                         1   \n",
       "0001564590-19-030190 201902 CommonStockDividendsPerShareDeclared                      1   \n",
       "0001748773-19-000004 201902 NetIncomeLoss                                             1   \n",
       "0001564590-19-030407 201902 CommonStockDividendsPerShareDeclared                      1   \n",
       "0001691303-19-000036 201902 CommonStockDividendsPerShareDeclared                      1   \n",
       "0001376139-19-000053 201902 CommonStockDividendsPerShareDeclared                      1   \n",
       "0000896841-19-000165 201902 AdjustmentsToAdditionalPaidInCapitalStockIssued...        1   \n",
       "0001564590-19-031538 201902 AllocatedShareBasedCompensationExpense                    1   \n",
       "0001697500-19-000050 201902 AllocatedShareBasedCompensationExpense                    1   \n",
       "\n",
       "                                                                                period  \\\n",
       "adsh                 dyrqt  clean_tag                                                    \n",
       "0001428205-19-000214 201902 CommonStockDividendsPerShareDeclared                     1   \n",
       "0001628280-19-010519 201902 GainsLossesOnExtinguishmentOfDebt                        1   \n",
       "0001564590-19-030190 201902 CommonStockDividendsPerShareDeclared                     1   \n",
       "0001748773-19-000004 201902 NetIncomeLoss                                            1   \n",
       "0001564590-19-030407 201902 CommonStockDividendsPerShareDeclared                     1   \n",
       "0001691303-19-000036 201902 CommonStockDividendsPerShareDeclared                     1   \n",
       "0001376139-19-000053 201902 CommonStockDividendsPerShareDeclared                     1   \n",
       "0000896841-19-000165 201902 AdjustmentsToAdditionalPaidInCapitalStockIssued...       1   \n",
       "0001564590-19-031538 201902 AllocatedShareBasedCompensationExpense                   1   \n",
       "0001697500-19-000050 201902 AllocatedShareBasedCompensationExpense                   1   \n",
       "\n",
       "                                                                                form  \\\n",
       "adsh                 dyrqt  clean_tag                                                  \n",
       "0001428205-19-000214 201902 CommonStockDividendsPerShareDeclared                   1   \n",
       "0001628280-19-010519 201902 GainsLossesOnExtinguishmentOfDebt                      1   \n",
       "0001564590-19-030190 201902 CommonStockDividendsPerShareDeclared                   1   \n",
       "0001748773-19-000004 201902 NetIncomeLoss                                          1   \n",
       "0001564590-19-030407 201902 CommonStockDividendsPerShareDeclared                   1   \n",
       "0001691303-19-000036 201902 CommonStockDividendsPerShareDeclared                   1   \n",
       "0001376139-19-000053 201902 CommonStockDividendsPerShareDeclared                   1   \n",
       "0000896841-19-000165 201902 AdjustmentsToAdditionalPaidInCapitalStockIssued...     1   \n",
       "0001564590-19-031538 201902 AllocatedShareBasedCompensationExpense                 1   \n",
       "0001697500-19-000050 201902 AllocatedShareBasedCompensationExpense                 1   \n",
       "\n",
       "                                                                                value  \n",
       "adsh                 dyrqt  clean_tag                                                  \n",
       "0001428205-19-000214 201902 CommonStockDividendsPerShareDeclared                    2  \n",
       "0001628280-19-010519 201902 GainsLossesOnExtinguishmentOfDebt                       2  \n",
       "0001564590-19-030190 201902 CommonStockDividendsPerShareDeclared                    2  \n",
       "0001748773-19-000004 201902 NetIncomeLoss                                           2  \n",
       "0001564590-19-030407 201902 CommonStockDividendsPerShareDeclared                    2  \n",
       "0001691303-19-000036 201902 CommonStockDividendsPerShareDeclared                    2  \n",
       "0001376139-19-000053 201902 CommonStockDividendsPerShareDeclared                    2  \n",
       "0000896841-19-000165 201902 AdjustmentsToAdditionalPaidInCapitalStockIssued...      2  \n",
       "0001564590-19-031538 201902 AllocatedShareBasedCompensationExpense                  2  \n",
       "0001697500-19-000050 201902 AllocatedShareBasedCompensationExpense                  2  "
      ]
     },
     "execution_count": 45,
     "metadata": {},
     "output_type": "execute_result"
    }
   ],
   "source": [
    "sec_data.groupby(['adsh', 'dyrqt', 'clean_tag'])\\\n",
    "    .nunique()\\\n",
    "    .sort_values('value', ascending = False)\\\n",
    "    .query(\"value > 1\")"
   ]
  },
  {
   "cell_type": "code",
   "execution_count": 48,
   "metadata": {},
   "outputs": [],
   "source": [
    "sec_data = sec_data.drop_duplicates(['adsh', 'clean_tag', 'dyrqt'], keep = 'first')"
   ]
  },
  {
   "cell_type": "code",
   "execution_count": 49,
   "metadata": {},
   "outputs": [
    {
     "data": {
      "text/html": [
       "<div>\n",
       "<style scoped>\n",
       "    .dataframe tbody tr th:only-of-type {\n",
       "        vertical-align: middle;\n",
       "    }\n",
       "\n",
       "    .dataframe tbody tr th {\n",
       "        vertical-align: top;\n",
       "    }\n",
       "\n",
       "    .dataframe thead th {\n",
       "        text-align: right;\n",
       "    }\n",
       "</style>\n",
       "<table border=\"1\" class=\"dataframe\">\n",
       "  <thead>\n",
       "    <tr style=\"text-align: right;\">\n",
       "      <th></th>\n",
       "      <th></th>\n",
       "      <th></th>\n",
       "      <th>adsh</th>\n",
       "      <th>qtrs</th>\n",
       "      <th>uom</th>\n",
       "      <th>clean_tag</th>\n",
       "      <th>dyrqt</th>\n",
       "      <th>company_name</th>\n",
       "      <th>ticker</th>\n",
       "      <th>cik</th>\n",
       "      <th>sic</th>\n",
       "      <th>country</th>\n",
       "      <th>period</th>\n",
       "      <th>form</th>\n",
       "      <th>value</th>\n",
       "    </tr>\n",
       "    <tr>\n",
       "      <th>adsh</th>\n",
       "      <th>dyrqt</th>\n",
       "      <th>clean_tag</th>\n",
       "      <th></th>\n",
       "      <th></th>\n",
       "      <th></th>\n",
       "      <th></th>\n",
       "      <th></th>\n",
       "      <th></th>\n",
       "      <th></th>\n",
       "      <th></th>\n",
       "      <th></th>\n",
       "      <th></th>\n",
       "      <th></th>\n",
       "      <th></th>\n",
       "      <th></th>\n",
       "    </tr>\n",
       "  </thead>\n",
       "  <tbody>\n",
       "  </tbody>\n",
       "</table>\n",
       "</div>"
      ],
      "text/plain": [
       "Empty DataFrame\n",
       "Columns: [adsh, qtrs, uom, clean_tag, dyrqt, company_name, ticker, cik, sic, country, period, form, value]\n",
       "Index: []"
      ]
     },
     "execution_count": 49,
     "metadata": {},
     "output_type": "execute_result"
    }
   ],
   "source": [
    "sec_data.groupby(['adsh', 'dyrqt', 'clean_tag'])\\\n",
    "    .nunique()\\\n",
    "    .sort_values('value', ascending = False)\\\n",
    "    .query(\"value > 1\")"
   ]
  },
  {
   "cell_type": "markdown",
   "metadata": {},
   "source": [
    "## Reshape <a name=\"Reshape\"></a>"
   ]
  },
  {
   "cell_type": "code",
   "execution_count": 56,
   "metadata": {},
   "outputs": [],
   "source": [
    "sec_data_wide = sec_data.pivot_table(values = 'value',\n",
    "                                     index = ['adsh', 'company_name', 'dyrqt', \n",
    "                                              'cik', 'sic', 'ticker', 'country', 'period'],\n",
    "                                    columns = 'clean_tag')\\\n",
    "    .reset_index()"
   ]
  },
  {
   "cell_type": "code",
   "execution_count": 57,
   "metadata": {},
   "outputs": [],
   "source": [
    "percent_missing = sec_data_wide.isnull().sum() * 100 / len(sec_data_wide)\n",
    "missing_value_df = pd.DataFrame({'column_name': sec_data_wide.columns,\n",
    "                                 'percent_missing': percent_missing}).sort_values('percent_missing', ascending = True)"
   ]
  },
  {
   "cell_type": "code",
   "execution_count": 58,
   "metadata": {},
   "outputs": [],
   "source": [
    "percent_missing_by_company = sec_data_wide.groupby('adsh').apply(lambda x: x.notnull().mean())"
   ]
  },
  {
   "cell_type": "code",
   "execution_count": 65,
   "metadata": {},
   "outputs": [
    {
     "data": {
      "text/plain": [
       "clean_tag\n",
       "adsh                                             0.000000\n",
       "company_name                                     0.000000\n",
       "dyrqt                                            0.000000\n",
       "cik                                              0.000000\n",
       "sic                                              0.000000\n",
       "ticker                                           0.000000\n",
       "country                                          0.000000\n",
       "period                                           0.000000\n",
       "AdditionalPaidInCapital                          8.965696\n",
       "Assets                                           0.285863\n",
       "CashAndCashEquivalentsAtCarryingValue            6.652807\n",
       "EarningsPerShareBasic                            8.757796\n",
       "Liabilities                                      0.311850\n",
       "LiabilitiesAndStockholdersEquity                 0.233888\n",
       "NetIncomeLoss                                    4.391892\n",
       "PropertyPlantAndEquipmentNet                     9.615385\n",
       "RetainedEarningsAccumulatedDeficit               4.729730\n",
       "WeightedAverageNumberOfSharesOutstandingBasic    8.238046\n",
       "dtype: float64"
      ]
     },
     "execution_count": 65,
     "metadata": {},
     "output_type": "execute_result"
    }
   ],
   "source": [
    "percent_missing.loc[percent_missing < 10]"
   ]
  },
  {
   "cell_type": "markdown",
   "metadata": {},
   "source": [
    "## Save <a name=\"Save\"></a>\n",
    "Create CSV versions in build/raw"
   ]
  },
  {
   "cell_type": "code",
   "execution_count": 25,
   "metadata": {},
   "outputs": [],
   "source": [
    "sec_data_wide.to_csv(data_root+'02-build/clean/2019q3/sec_data_wide.csv')"
   ]
  }
 ],
 "metadata": {
  "kernelspec": {
   "display_name": "Python 3",
   "language": "python",
   "name": "python3"
  },
  "language_info": {
   "codemirror_mode": {
    "name": "ipython",
    "version": 3
   },
   "file_extension": ".py",
   "mimetype": "text/x-python",
   "name": "python",
   "nbconvert_exporter": "python",
   "pygments_lexer": "ipython3",
   "version": "3.7.3"
  }
 },
 "nbformat": 4,
 "nbformat_minor": 4
}
