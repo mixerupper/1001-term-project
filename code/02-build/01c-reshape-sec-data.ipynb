{
 "cells": [
  {
   "cell_type": "markdown",
   "metadata": {},
   "source": [
    "# Program Header"
   ]
  },
  {
   "cell_type": "code",
   "execution_count": 26,
   "metadata": {},
   "outputs": [],
   "source": [
    "import pandas as pd\n",
    "import numpy as np\n",
    "import autoreload\n",
    "import os\n",
    "import sys\n",
    "import jellyfish\n",
    "from IPython.core.interactiveshell import InteractiveShell\n",
    "InteractiveShell.ast_node_interactivity = \"all\"\n",
    "nb_dir = os.path.split(os.getcwd())[0]\n",
    "if nb_dir not in sys.path:\n",
    "    sys.path.append(nb_dir)\n",
    "from header import *"
   ]
  },
  {
   "cell_type": "code",
   "execution_count": 27,
   "metadata": {},
   "outputs": [],
   "source": [
    "data_root = initialize_data_root(\"AY\")"
   ]
  },
  {
   "cell_type": "markdown",
   "metadata": {},
   "source": [
    "# Table of contents\n",
    "1. [Import](#Import)\n",
    "2. [Merge](#Merge)\n",
    "3. [Clean](#Clean)\n",
    "4. [Reshape](#Reshape)\n",
    "5. [Save](#Save)"
   ]
  },
  {
   "cell_type": "markdown",
   "metadata": {},
   "source": [
    "## Import <a name=\"Import\"></a>"
   ]
  },
  {
   "cell_type": "code",
   "execution_count": 28,
   "metadata": {},
   "outputs": [],
   "source": [
    "raw_sec_data = pd.read_csv(data_root+'02-build/clean/2019q3/sec_data_long.csv')\n",
    "raw_tag_map = pd.read_csv(data_root+'02-build/clean/2019q3/tag_map.csv')\n",
    "raw_cik_ticker_map = pd.read_csv(data_root+'02-build/clean/cik_ticker_map.csv')"
   ]
  },
  {
   "cell_type": "code",
   "execution_count": 29,
   "metadata": {},
   "outputs": [
    {
     "data": {
      "text/plain": [
       "Index(['adsh', 'tag', 'version', 'coreg', 'ddate', 'qtrs', 'uom', 'value',\n",
       "       'no_coreg', 'no_value', 'cik', 'company_name', 'sic', 'country',\n",
       "       'period', 'form', 'fye', 'filed', 'accepted', 'instance', 'doc',\n",
       "       'dyrqt'],\n",
       "      dtype='object')"
      ]
     },
     "execution_count": 29,
     "metadata": {},
     "output_type": "execute_result"
    }
   ],
   "source": [
    "raw_sec_data.columns"
   ]
  },
  {
   "cell_type": "code",
   "execution_count": 30,
   "metadata": {},
   "outputs": [
    {
     "data": {
      "text/plain": [
       "Index(['clean_tag', 'tag', 'uom', 'qtrs'], dtype='object')"
      ]
     },
     "execution_count": 30,
     "metadata": {},
     "output_type": "execute_result"
    }
   ],
   "source": [
    "raw_tag_map.columns"
   ]
  },
  {
   "cell_type": "code",
   "execution_count": 31,
   "metadata": {},
   "outputs": [
    {
     "data": {
      "text/plain": [
       "Index(['cik', 'ticker'], dtype='object')"
      ]
     },
     "execution_count": 31,
     "metadata": {},
     "output_type": "execute_result"
    }
   ],
   "source": [
    "raw_cik_ticker_map.columns"
   ]
  },
  {
   "cell_type": "markdown",
   "metadata": {},
   "source": [
    "## Merge <a name=\"Merge\"></a>"
   ]
  },
  {
   "cell_type": "code",
   "execution_count": 32,
   "metadata": {},
   "outputs": [],
   "source": [
    "sec_data = raw_sec_data.merge(raw_tag_map, on = ['qtrs', 'uom', 'tag'])\\\n",
    "    .merge(raw_cik_ticker_map, on = ['cik'])"
   ]
  },
  {
   "cell_type": "markdown",
   "metadata": {},
   "source": [
    "The goal is to get our data to the `adsh`, `dyrqt` level and use the `clean_tag`'s as columns, so we can't have duplicate values for the same `adsh-clean_tag-dyrqt`. In case of duplicates, let's keep the maximum value. The idea behind keeping the max is that smaller versions may be older (over 3 months instead of over 4 months) or the smaller groups may be categories of the larger one."
   ]
  },
  {
   "cell_type": "code",
   "execution_count": 33,
   "metadata": {},
   "outputs": [],
   "source": [
    "sec_data = sec_data.groupby(['adsh', 'qtrs', 'uom', 'clean_tag', \n",
    "                             'dyrqt', 'company_name', 'ticker',\n",
    "                             'cik', 'sic', 'country', 'period', 'form'], as_index = False)['value']\\\n",
    "    .max()"
   ]
  },
  {
   "cell_type": "markdown",
   "metadata": {},
   "source": [
    "## Clean <a name=\"Clean\"></a>"
   ]
  },
  {
   "cell_type": "markdown",
   "metadata": {},
   "source": [
    "Check that we're unique on the `adsh-dyrqt-cleantag` level"
   ]
  },
  {
   "cell_type": "code",
   "execution_count": 34,
   "metadata": {},
   "outputs": [
    {
     "data": {
      "text/html": [
       "<div>\n",
       "<style scoped>\n",
       "    .dataframe tbody tr th:only-of-type {\n",
       "        vertical-align: middle;\n",
       "    }\n",
       "\n",
       "    .dataframe tbody tr th {\n",
       "        vertical-align: top;\n",
       "    }\n",
       "\n",
       "    .dataframe thead th {\n",
       "        text-align: right;\n",
       "    }\n",
       "</style>\n",
       "<table border=\"1\" class=\"dataframe\">\n",
       "  <thead>\n",
       "    <tr style=\"text-align: right;\">\n",
       "      <th></th>\n",
       "      <th></th>\n",
       "      <th></th>\n",
       "      <th>adsh</th>\n",
       "      <th>qtrs</th>\n",
       "      <th>uom</th>\n",
       "      <th>clean_tag</th>\n",
       "      <th>dyrqt</th>\n",
       "      <th>company_name</th>\n",
       "      <th>ticker</th>\n",
       "      <th>cik</th>\n",
       "      <th>sic</th>\n",
       "      <th>country</th>\n",
       "      <th>period</th>\n",
       "      <th>form</th>\n",
       "      <th>value</th>\n",
       "    </tr>\n",
       "    <tr>\n",
       "      <th>adsh</th>\n",
       "      <th>dyrqt</th>\n",
       "      <th>clean_tag</th>\n",
       "      <th></th>\n",
       "      <th></th>\n",
       "      <th></th>\n",
       "      <th></th>\n",
       "      <th></th>\n",
       "      <th></th>\n",
       "      <th></th>\n",
       "      <th></th>\n",
       "      <th></th>\n",
       "      <th></th>\n",
       "      <th></th>\n",
       "      <th></th>\n",
       "      <th></th>\n",
       "    </tr>\n",
       "  </thead>\n",
       "  <tbody>\n",
       "    <tr>\n",
       "      <th>0000896841-19-000165</th>\n",
       "      <th>201902</th>\n",
       "      <th>AdjustmentsToAdditionalPaidInCapitalStockIssuedIssuanceCosts</th>\n",
       "      <td>1</td>\n",
       "      <td>2</td>\n",
       "      <td>1</td>\n",
       "      <td>1</td>\n",
       "      <td>1</td>\n",
       "      <td>1</td>\n",
       "      <td>1</td>\n",
       "      <td>1</td>\n",
       "      <td>1</td>\n",
       "      <td>1</td>\n",
       "      <td>1</td>\n",
       "      <td>1</td>\n",
       "      <td>2</td>\n",
       "    </tr>\n",
       "    <tr>\n",
       "      <th>0001428205-19-000214</th>\n",
       "      <th>201902</th>\n",
       "      <th>CommonStockDividendsPerShareDeclared</th>\n",
       "      <td>1</td>\n",
       "      <td>2</td>\n",
       "      <td>1</td>\n",
       "      <td>1</td>\n",
       "      <td>1</td>\n",
       "      <td>1</td>\n",
       "      <td>1</td>\n",
       "      <td>1</td>\n",
       "      <td>1</td>\n",
       "      <td>1</td>\n",
       "      <td>1</td>\n",
       "      <td>1</td>\n",
       "      <td>2</td>\n",
       "    </tr>\n",
       "    <tr>\n",
       "      <th>0001628280-19-010519</th>\n",
       "      <th>201902</th>\n",
       "      <th>GainsLossesOnExtinguishmentOfDebt</th>\n",
       "      <td>1</td>\n",
       "      <td>2</td>\n",
       "      <td>1</td>\n",
       "      <td>1</td>\n",
       "      <td>1</td>\n",
       "      <td>1</td>\n",
       "      <td>1</td>\n",
       "      <td>1</td>\n",
       "      <td>1</td>\n",
       "      <td>1</td>\n",
       "      <td>1</td>\n",
       "      <td>1</td>\n",
       "      <td>2</td>\n",
       "    </tr>\n",
       "    <tr>\n",
       "      <th>0001691303-19-000036</th>\n",
       "      <th>201902</th>\n",
       "      <th>CommonStockDividendsPerShareDeclared</th>\n",
       "      <td>1</td>\n",
       "      <td>2</td>\n",
       "      <td>1</td>\n",
       "      <td>1</td>\n",
       "      <td>1</td>\n",
       "      <td>1</td>\n",
       "      <td>1</td>\n",
       "      <td>1</td>\n",
       "      <td>1</td>\n",
       "      <td>1</td>\n",
       "      <td>1</td>\n",
       "      <td>1</td>\n",
       "      <td>2</td>\n",
       "    </tr>\n",
       "    <tr>\n",
       "      <th>0001376139-19-000053</th>\n",
       "      <th>201902</th>\n",
       "      <th>CommonStockDividendsPerShareDeclared</th>\n",
       "      <td>1</td>\n",
       "      <td>2</td>\n",
       "      <td>1</td>\n",
       "      <td>1</td>\n",
       "      <td>1</td>\n",
       "      <td>1</td>\n",
       "      <td>1</td>\n",
       "      <td>1</td>\n",
       "      <td>1</td>\n",
       "      <td>1</td>\n",
       "      <td>1</td>\n",
       "      <td>1</td>\n",
       "      <td>2</td>\n",
       "    </tr>\n",
       "    <tr>\n",
       "      <th>0001564590-19-030407</th>\n",
       "      <th>201902</th>\n",
       "      <th>CommonStockDividendsPerShareDeclared</th>\n",
       "      <td>1</td>\n",
       "      <td>2</td>\n",
       "      <td>1</td>\n",
       "      <td>1</td>\n",
       "      <td>1</td>\n",
       "      <td>1</td>\n",
       "      <td>1</td>\n",
       "      <td>1</td>\n",
       "      <td>1</td>\n",
       "      <td>1</td>\n",
       "      <td>1</td>\n",
       "      <td>1</td>\n",
       "      <td>2</td>\n",
       "    </tr>\n",
       "    <tr>\n",
       "      <th>0001564590-19-031538</th>\n",
       "      <th>201902</th>\n",
       "      <th>AllocatedShareBasedCompensationExpense</th>\n",
       "      <td>1</td>\n",
       "      <td>2</td>\n",
       "      <td>1</td>\n",
       "      <td>1</td>\n",
       "      <td>1</td>\n",
       "      <td>1</td>\n",
       "      <td>1</td>\n",
       "      <td>1</td>\n",
       "      <td>1</td>\n",
       "      <td>1</td>\n",
       "      <td>1</td>\n",
       "      <td>1</td>\n",
       "      <td>2</td>\n",
       "    </tr>\n",
       "    <tr>\n",
       "      <th>0001564590-19-030190</th>\n",
       "      <th>201902</th>\n",
       "      <th>CommonStockDividendsPerShareDeclared</th>\n",
       "      <td>1</td>\n",
       "      <td>2</td>\n",
       "      <td>1</td>\n",
       "      <td>1</td>\n",
       "      <td>1</td>\n",
       "      <td>1</td>\n",
       "      <td>1</td>\n",
       "      <td>1</td>\n",
       "      <td>1</td>\n",
       "      <td>1</td>\n",
       "      <td>1</td>\n",
       "      <td>1</td>\n",
       "      <td>2</td>\n",
       "    </tr>\n",
       "    <tr>\n",
       "      <th>0001748773-19-000004</th>\n",
       "      <th>201902</th>\n",
       "      <th>NetIncomeLoss</th>\n",
       "      <td>1</td>\n",
       "      <td>2</td>\n",
       "      <td>1</td>\n",
       "      <td>1</td>\n",
       "      <td>1</td>\n",
       "      <td>1</td>\n",
       "      <td>1</td>\n",
       "      <td>1</td>\n",
       "      <td>1</td>\n",
       "      <td>1</td>\n",
       "      <td>1</td>\n",
       "      <td>1</td>\n",
       "      <td>2</td>\n",
       "    </tr>\n",
       "    <tr>\n",
       "      <th>0001697500-19-000050</th>\n",
       "      <th>201902</th>\n",
       "      <th>AllocatedShareBasedCompensationExpense</th>\n",
       "      <td>1</td>\n",
       "      <td>2</td>\n",
       "      <td>1</td>\n",
       "      <td>1</td>\n",
       "      <td>1</td>\n",
       "      <td>1</td>\n",
       "      <td>1</td>\n",
       "      <td>1</td>\n",
       "      <td>1</td>\n",
       "      <td>1</td>\n",
       "      <td>1</td>\n",
       "      <td>1</td>\n",
       "      <td>2</td>\n",
       "    </tr>\n",
       "    <tr>\n",
       "      <th>0000912061-19-000063</th>\n",
       "      <th>201901</th>\n",
       "      <th>CommonStockDividendsPerShareDeclared</th>\n",
       "      <td>1</td>\n",
       "      <td>2</td>\n",
       "      <td>1</td>\n",
       "      <td>1</td>\n",
       "      <td>1</td>\n",
       "      <td>1</td>\n",
       "      <td>1</td>\n",
       "      <td>1</td>\n",
       "      <td>1</td>\n",
       "      <td>1</td>\n",
       "      <td>1</td>\n",
       "      <td>1</td>\n",
       "      <td>2</td>\n",
       "    </tr>\n",
       "  </tbody>\n",
       "</table>\n",
       "</div>"
      ],
      "text/plain": [
       "                                                                                adsh  \\\n",
       "adsh                 dyrqt  clean_tag                                                  \n",
       "0000896841-19-000165 201902 AdjustmentsToAdditionalPaidInCapitalStockIssued...     1   \n",
       "0001428205-19-000214 201902 CommonStockDividendsPerShareDeclared                   1   \n",
       "0001628280-19-010519 201902 GainsLossesOnExtinguishmentOfDebt                      1   \n",
       "0001691303-19-000036 201902 CommonStockDividendsPerShareDeclared                   1   \n",
       "0001376139-19-000053 201902 CommonStockDividendsPerShareDeclared                   1   \n",
       "0001564590-19-030407 201902 CommonStockDividendsPerShareDeclared                   1   \n",
       "0001564590-19-031538 201902 AllocatedShareBasedCompensationExpense                 1   \n",
       "0001564590-19-030190 201902 CommonStockDividendsPerShareDeclared                   1   \n",
       "0001748773-19-000004 201902 NetIncomeLoss                                          1   \n",
       "0001697500-19-000050 201902 AllocatedShareBasedCompensationExpense                 1   \n",
       "0000912061-19-000063 201901 CommonStockDividendsPerShareDeclared                   1   \n",
       "\n",
       "                                                                                qtrs  \\\n",
       "adsh                 dyrqt  clean_tag                                                  \n",
       "0000896841-19-000165 201902 AdjustmentsToAdditionalPaidInCapitalStockIssued...     2   \n",
       "0001428205-19-000214 201902 CommonStockDividendsPerShareDeclared                   2   \n",
       "0001628280-19-010519 201902 GainsLossesOnExtinguishmentOfDebt                      2   \n",
       "0001691303-19-000036 201902 CommonStockDividendsPerShareDeclared                   2   \n",
       "0001376139-19-000053 201902 CommonStockDividendsPerShareDeclared                   2   \n",
       "0001564590-19-030407 201902 CommonStockDividendsPerShareDeclared                   2   \n",
       "0001564590-19-031538 201902 AllocatedShareBasedCompensationExpense                 2   \n",
       "0001564590-19-030190 201902 CommonStockDividendsPerShareDeclared                   2   \n",
       "0001748773-19-000004 201902 NetIncomeLoss                                          2   \n",
       "0001697500-19-000050 201902 AllocatedShareBasedCompensationExpense                 2   \n",
       "0000912061-19-000063 201901 CommonStockDividendsPerShareDeclared                   2   \n",
       "\n",
       "                                                                                uom  \\\n",
       "adsh                 dyrqt  clean_tag                                                 \n",
       "0000896841-19-000165 201902 AdjustmentsToAdditionalPaidInCapitalStockIssued...    1   \n",
       "0001428205-19-000214 201902 CommonStockDividendsPerShareDeclared                  1   \n",
       "0001628280-19-010519 201902 GainsLossesOnExtinguishmentOfDebt                     1   \n",
       "0001691303-19-000036 201902 CommonStockDividendsPerShareDeclared                  1   \n",
       "0001376139-19-000053 201902 CommonStockDividendsPerShareDeclared                  1   \n",
       "0001564590-19-030407 201902 CommonStockDividendsPerShareDeclared                  1   \n",
       "0001564590-19-031538 201902 AllocatedShareBasedCompensationExpense                1   \n",
       "0001564590-19-030190 201902 CommonStockDividendsPerShareDeclared                  1   \n",
       "0001748773-19-000004 201902 NetIncomeLoss                                         1   \n",
       "0001697500-19-000050 201902 AllocatedShareBasedCompensationExpense                1   \n",
       "0000912061-19-000063 201901 CommonStockDividendsPerShareDeclared                  1   \n",
       "\n",
       "                                                                                clean_tag  \\\n",
       "adsh                 dyrqt  clean_tag                                                       \n",
       "0000896841-19-000165 201902 AdjustmentsToAdditionalPaidInCapitalStockIssued...          1   \n",
       "0001428205-19-000214 201902 CommonStockDividendsPerShareDeclared                        1   \n",
       "0001628280-19-010519 201902 GainsLossesOnExtinguishmentOfDebt                           1   \n",
       "0001691303-19-000036 201902 CommonStockDividendsPerShareDeclared                        1   \n",
       "0001376139-19-000053 201902 CommonStockDividendsPerShareDeclared                        1   \n",
       "0001564590-19-030407 201902 CommonStockDividendsPerShareDeclared                        1   \n",
       "0001564590-19-031538 201902 AllocatedShareBasedCompensationExpense                      1   \n",
       "0001564590-19-030190 201902 CommonStockDividendsPerShareDeclared                        1   \n",
       "0001748773-19-000004 201902 NetIncomeLoss                                               1   \n",
       "0001697500-19-000050 201902 AllocatedShareBasedCompensationExpense                      1   \n",
       "0000912061-19-000063 201901 CommonStockDividendsPerShareDeclared                        1   \n",
       "\n",
       "                                                                                dyrqt  \\\n",
       "adsh                 dyrqt  clean_tag                                                   \n",
       "0000896841-19-000165 201902 AdjustmentsToAdditionalPaidInCapitalStockIssued...      1   \n",
       "0001428205-19-000214 201902 CommonStockDividendsPerShareDeclared                    1   \n",
       "0001628280-19-010519 201902 GainsLossesOnExtinguishmentOfDebt                       1   \n",
       "0001691303-19-000036 201902 CommonStockDividendsPerShareDeclared                    1   \n",
       "0001376139-19-000053 201902 CommonStockDividendsPerShareDeclared                    1   \n",
       "0001564590-19-030407 201902 CommonStockDividendsPerShareDeclared                    1   \n",
       "0001564590-19-031538 201902 AllocatedShareBasedCompensationExpense                  1   \n",
       "0001564590-19-030190 201902 CommonStockDividendsPerShareDeclared                    1   \n",
       "0001748773-19-000004 201902 NetIncomeLoss                                           1   \n",
       "0001697500-19-000050 201902 AllocatedShareBasedCompensationExpense                  1   \n",
       "0000912061-19-000063 201901 CommonStockDividendsPerShareDeclared                    1   \n",
       "\n",
       "                                                                                company_name  \\\n",
       "adsh                 dyrqt  clean_tag                                                          \n",
       "0000896841-19-000165 201902 AdjustmentsToAdditionalPaidInCapitalStockIssued...             1   \n",
       "0001428205-19-000214 201902 CommonStockDividendsPerShareDeclared                           1   \n",
       "0001628280-19-010519 201902 GainsLossesOnExtinguishmentOfDebt                              1   \n",
       "0001691303-19-000036 201902 CommonStockDividendsPerShareDeclared                           1   \n",
       "0001376139-19-000053 201902 CommonStockDividendsPerShareDeclared                           1   \n",
       "0001564590-19-030407 201902 CommonStockDividendsPerShareDeclared                           1   \n",
       "0001564590-19-031538 201902 AllocatedShareBasedCompensationExpense                         1   \n",
       "0001564590-19-030190 201902 CommonStockDividendsPerShareDeclared                           1   \n",
       "0001748773-19-000004 201902 NetIncomeLoss                                                  1   \n",
       "0001697500-19-000050 201902 AllocatedShareBasedCompensationExpense                         1   \n",
       "0000912061-19-000063 201901 CommonStockDividendsPerShareDeclared                           1   \n",
       "\n",
       "                                                                                ticker  \\\n",
       "adsh                 dyrqt  clean_tag                                                    \n",
       "0000896841-19-000165 201902 AdjustmentsToAdditionalPaidInCapitalStockIssued...       1   \n",
       "0001428205-19-000214 201902 CommonStockDividendsPerShareDeclared                     1   \n",
       "0001628280-19-010519 201902 GainsLossesOnExtinguishmentOfDebt                        1   \n",
       "0001691303-19-000036 201902 CommonStockDividendsPerShareDeclared                     1   \n",
       "0001376139-19-000053 201902 CommonStockDividendsPerShareDeclared                     1   \n",
       "0001564590-19-030407 201902 CommonStockDividendsPerShareDeclared                     1   \n",
       "0001564590-19-031538 201902 AllocatedShareBasedCompensationExpense                   1   \n",
       "0001564590-19-030190 201902 CommonStockDividendsPerShareDeclared                     1   \n",
       "0001748773-19-000004 201902 NetIncomeLoss                                            1   \n",
       "0001697500-19-000050 201902 AllocatedShareBasedCompensationExpense                   1   \n",
       "0000912061-19-000063 201901 CommonStockDividendsPerShareDeclared                     1   \n",
       "\n",
       "                                                                                cik  \\\n",
       "adsh                 dyrqt  clean_tag                                                 \n",
       "0000896841-19-000165 201902 AdjustmentsToAdditionalPaidInCapitalStockIssued...    1   \n",
       "0001428205-19-000214 201902 CommonStockDividendsPerShareDeclared                  1   \n",
       "0001628280-19-010519 201902 GainsLossesOnExtinguishmentOfDebt                     1   \n",
       "0001691303-19-000036 201902 CommonStockDividendsPerShareDeclared                  1   \n",
       "0001376139-19-000053 201902 CommonStockDividendsPerShareDeclared                  1   \n",
       "0001564590-19-030407 201902 CommonStockDividendsPerShareDeclared                  1   \n",
       "0001564590-19-031538 201902 AllocatedShareBasedCompensationExpense                1   \n",
       "0001564590-19-030190 201902 CommonStockDividendsPerShareDeclared                  1   \n",
       "0001748773-19-000004 201902 NetIncomeLoss                                         1   \n",
       "0001697500-19-000050 201902 AllocatedShareBasedCompensationExpense                1   \n",
       "0000912061-19-000063 201901 CommonStockDividendsPerShareDeclared                  1   \n",
       "\n",
       "                                                                                sic  \\\n",
       "adsh                 dyrqt  clean_tag                                                 \n",
       "0000896841-19-000165 201902 AdjustmentsToAdditionalPaidInCapitalStockIssued...    1   \n",
       "0001428205-19-000214 201902 CommonStockDividendsPerShareDeclared                  1   \n",
       "0001628280-19-010519 201902 GainsLossesOnExtinguishmentOfDebt                     1   \n",
       "0001691303-19-000036 201902 CommonStockDividendsPerShareDeclared                  1   \n",
       "0001376139-19-000053 201902 CommonStockDividendsPerShareDeclared                  1   \n",
       "0001564590-19-030407 201902 CommonStockDividendsPerShareDeclared                  1   \n",
       "0001564590-19-031538 201902 AllocatedShareBasedCompensationExpense                1   \n",
       "0001564590-19-030190 201902 CommonStockDividendsPerShareDeclared                  1   \n",
       "0001748773-19-000004 201902 NetIncomeLoss                                         1   \n",
       "0001697500-19-000050 201902 AllocatedShareBasedCompensationExpense                1   \n",
       "0000912061-19-000063 201901 CommonStockDividendsPerShareDeclared                  1   \n",
       "\n",
       "                                                                                country  \\\n",
       "adsh                 dyrqt  clean_tag                                                     \n",
       "0000896841-19-000165 201902 AdjustmentsToAdditionalPaidInCapitalStockIssued...        1   \n",
       "0001428205-19-000214 201902 CommonStockDividendsPerShareDeclared                      1   \n",
       "0001628280-19-010519 201902 GainsLossesOnExtinguishmentOfDebt                         1   \n",
       "0001691303-19-000036 201902 CommonStockDividendsPerShareDeclared                      1   \n",
       "0001376139-19-000053 201902 CommonStockDividendsPerShareDeclared                      1   \n",
       "0001564590-19-030407 201902 CommonStockDividendsPerShareDeclared                      1   \n",
       "0001564590-19-031538 201902 AllocatedShareBasedCompensationExpense                    1   \n",
       "0001564590-19-030190 201902 CommonStockDividendsPerShareDeclared                      1   \n",
       "0001748773-19-000004 201902 NetIncomeLoss                                             1   \n",
       "0001697500-19-000050 201902 AllocatedShareBasedCompensationExpense                    1   \n",
       "0000912061-19-000063 201901 CommonStockDividendsPerShareDeclared                      1   \n",
       "\n",
       "                                                                                period  \\\n",
       "adsh                 dyrqt  clean_tag                                                    \n",
       "0000896841-19-000165 201902 AdjustmentsToAdditionalPaidInCapitalStockIssued...       1   \n",
       "0001428205-19-000214 201902 CommonStockDividendsPerShareDeclared                     1   \n",
       "0001628280-19-010519 201902 GainsLossesOnExtinguishmentOfDebt                        1   \n",
       "0001691303-19-000036 201902 CommonStockDividendsPerShareDeclared                     1   \n",
       "0001376139-19-000053 201902 CommonStockDividendsPerShareDeclared                     1   \n",
       "0001564590-19-030407 201902 CommonStockDividendsPerShareDeclared                     1   \n",
       "0001564590-19-031538 201902 AllocatedShareBasedCompensationExpense                   1   \n",
       "0001564590-19-030190 201902 CommonStockDividendsPerShareDeclared                     1   \n",
       "0001748773-19-000004 201902 NetIncomeLoss                                            1   \n",
       "0001697500-19-000050 201902 AllocatedShareBasedCompensationExpense                   1   \n",
       "0000912061-19-000063 201901 CommonStockDividendsPerShareDeclared                     1   \n",
       "\n",
       "                                                                                form  \\\n",
       "adsh                 dyrqt  clean_tag                                                  \n",
       "0000896841-19-000165 201902 AdjustmentsToAdditionalPaidInCapitalStockIssued...     1   \n",
       "0001428205-19-000214 201902 CommonStockDividendsPerShareDeclared                   1   \n",
       "0001628280-19-010519 201902 GainsLossesOnExtinguishmentOfDebt                      1   \n",
       "0001691303-19-000036 201902 CommonStockDividendsPerShareDeclared                   1   \n",
       "0001376139-19-000053 201902 CommonStockDividendsPerShareDeclared                   1   \n",
       "0001564590-19-030407 201902 CommonStockDividendsPerShareDeclared                   1   \n",
       "0001564590-19-031538 201902 AllocatedShareBasedCompensationExpense                 1   \n",
       "0001564590-19-030190 201902 CommonStockDividendsPerShareDeclared                   1   \n",
       "0001748773-19-000004 201902 NetIncomeLoss                                          1   \n",
       "0001697500-19-000050 201902 AllocatedShareBasedCompensationExpense                 1   \n",
       "0000912061-19-000063 201901 CommonStockDividendsPerShareDeclared                   1   \n",
       "\n",
       "                                                                                value  \n",
       "adsh                 dyrqt  clean_tag                                                  \n",
       "0000896841-19-000165 201902 AdjustmentsToAdditionalPaidInCapitalStockIssued...      2  \n",
       "0001428205-19-000214 201902 CommonStockDividendsPerShareDeclared                    2  \n",
       "0001628280-19-010519 201902 GainsLossesOnExtinguishmentOfDebt                       2  \n",
       "0001691303-19-000036 201902 CommonStockDividendsPerShareDeclared                    2  \n",
       "0001376139-19-000053 201902 CommonStockDividendsPerShareDeclared                    2  \n",
       "0001564590-19-030407 201902 CommonStockDividendsPerShareDeclared                    2  \n",
       "0001564590-19-031538 201902 AllocatedShareBasedCompensationExpense                  2  \n",
       "0001564590-19-030190 201902 CommonStockDividendsPerShareDeclared                    2  \n",
       "0001748773-19-000004 201902 NetIncomeLoss                                           2  \n",
       "0001697500-19-000050 201902 AllocatedShareBasedCompensationExpense                  2  \n",
       "0000912061-19-000063 201901 CommonStockDividendsPerShareDeclared                    2  "
      ]
     },
     "execution_count": 34,
     "metadata": {},
     "output_type": "execute_result"
    }
   ],
   "source": [
    "sec_data.groupby(['adsh', 'dyrqt', 'clean_tag'])\\\n",
    "    .nunique()\\\n",
    "    .sort_values('value', ascending = False)\\\n",
    "    .query(\"value > 1\")"
   ]
  },
  {
   "cell_type": "code",
   "execution_count": 9,
   "metadata": {},
   "outputs": [],
   "source": [
    "sec_data = sec_data.sort_values(['period', 'ddate']).drop_duplicates(['adsh', 'clean_tag', 'period'], keep = 'first')"
   ]
  },
  {
   "cell_type": "code",
   "execution_count": 10,
   "metadata": {},
   "outputs": [
    {
     "data": {
      "text/html": [
       "<div>\n",
       "<style scoped>\n",
       "    .dataframe tbody tr th:only-of-type {\n",
       "        vertical-align: middle;\n",
       "    }\n",
       "\n",
       "    .dataframe tbody tr th {\n",
       "        vertical-align: top;\n",
       "    }\n",
       "\n",
       "    .dataframe thead th {\n",
       "        text-align: right;\n",
       "    }\n",
       "</style>\n",
       "<table border=\"1\" class=\"dataframe\">\n",
       "  <thead>\n",
       "    <tr style=\"text-align: right;\">\n",
       "      <th></th>\n",
       "      <th></th>\n",
       "      <th></th>\n",
       "      <th>adsh</th>\n",
       "      <th>qtrs</th>\n",
       "      <th>uom</th>\n",
       "      <th>clean_tag</th>\n",
       "      <th>ddate</th>\n",
       "      <th>company_name</th>\n",
       "      <th>cik</th>\n",
       "      <th>sic</th>\n",
       "      <th>country</th>\n",
       "      <th>period</th>\n",
       "      <th>form</th>\n",
       "      <th>value</th>\n",
       "    </tr>\n",
       "    <tr>\n",
       "      <th>adsh</th>\n",
       "      <th>period</th>\n",
       "      <th>clean_tag</th>\n",
       "      <th></th>\n",
       "      <th></th>\n",
       "      <th></th>\n",
       "      <th></th>\n",
       "      <th></th>\n",
       "      <th></th>\n",
       "      <th></th>\n",
       "      <th></th>\n",
       "      <th></th>\n",
       "      <th></th>\n",
       "      <th></th>\n",
       "      <th></th>\n",
       "    </tr>\n",
       "  </thead>\n",
       "  <tbody>\n",
       "  </tbody>\n",
       "</table>\n",
       "</div>"
      ],
      "text/plain": [
       "Empty DataFrame\n",
       "Columns: [adsh, qtrs, uom, clean_tag, ddate, company_name, cik, sic, country, period, form, value]\n",
       "Index: []"
      ]
     },
     "execution_count": 10,
     "metadata": {},
     "output_type": "execute_result"
    }
   ],
   "source": [
    "sec_data.groupby(['adsh', 'period', 'clean_tag'])\\\n",
    "    .nunique()\\\n",
    "    .sort_values('value', ascending = False)\\\n",
    "    .query(\"value > 1\")"
   ]
  },
  {
   "cell_type": "markdown",
   "metadata": {},
   "source": [
    "## Reshape <a name=\"Reshape\"></a>"
   ]
  },
  {
   "cell_type": "code",
   "execution_count": 12,
   "metadata": {},
   "outputs": [],
   "source": [
    "sec_data_wide = sec_data.pivot_table(values = 'value',\n",
    "                                     index = ['adsh', 'company_name', 'ddate', \n",
    "                                              'cik', 'sic', 'country', 'period'],\n",
    "                                    columns = 'clean_tag')\\\n",
    "    .reset_index()"
   ]
  },
  {
   "cell_type": "code",
   "execution_count": 13,
   "metadata": {},
   "outputs": [],
   "source": [
    "percent_missing = sec_data_wide.isnull().sum() * 100 / len(sec_data_wide)\n",
    "missing_value_df = pd.DataFrame({'column_name': sec_data_wide.columns,\n",
    "                                 'percent_missing': percent_missing}).sort_values('percent_missing', ascending = True)"
   ]
  },
  {
   "cell_type": "code",
   "execution_count": 14,
   "metadata": {},
   "outputs": [],
   "source": [
    "percent_missing_by_company = sec_data_wide.groupby('adsh').apply(lambda x: x.notnull().mean())"
   ]
  },
  {
   "cell_type": "code",
   "execution_count": 15,
   "metadata": {},
   "outputs": [],
   "source": [
    "string = 'Ignore punctuation, please :)'\n",
    "letter_occurences = pd.Series([i for i in string.lower()]).value_counts()"
   ]
  },
  {
   "cell_type": "code",
   "execution_count": 16,
   "metadata": {},
   "outputs": [
    {
     "data": {
      "text/plain": [
       "17"
      ]
     },
     "execution_count": 16,
     "metadata": {},
     "output_type": "execute_result"
    }
   ],
   "source": [
    "len(letter_occurences)"
   ]
  },
  {
   "cell_type": "code",
   "execution_count": 17,
   "metadata": {},
   "outputs": [
    {
     "data": {
      "text/plain": [
       "[26, 25, 24, 23, 22, 21, 20, 19, 18, 17, 16, 15, 14, 13, 12, 11, 10]"
      ]
     },
     "execution_count": 17,
     "metadata": {},
     "output_type": "execute_result"
    }
   ],
   "source": [
    "[j for j in range(26,26-len(letter_occurences),-1)]"
   ]
  },
  {
   "cell_type": "code",
   "execution_count": 18,
   "metadata": {},
   "outputs": [],
   "source": [
    "from collections import Counter"
   ]
  },
  {
   "cell_type": "code",
   "execution_count": 19,
   "metadata": {},
   "outputs": [],
   "source": [
    "clean_string = ''.join(x for x in string if x.isalpha()).lower()"
   ]
  },
  {
   "cell_type": "code",
   "execution_count": 20,
   "metadata": {},
   "outputs": [],
   "source": [
    "counter = Counter(clean_string)"
   ]
  },
  {
   "cell_type": "code",
   "execution_count": 21,
   "metadata": {},
   "outputs": [
    {
     "data": {
      "text/plain": [
       "13"
      ]
     },
     "execution_count": 21,
     "metadata": {},
     "output_type": "execute_result"
    }
   ],
   "source": [
    "len(counter)"
   ]
  },
  {
   "cell_type": "code",
   "execution_count": 22,
   "metadata": {},
   "outputs": [],
   "source": [
    "from itertools import accumulate\n",
    "\n",
    "def get_max_contiguous_sum(sequence):\n",
    "    int_sequence = [int(i) for i in sequence.split(\",\")]\n",
    "    \n",
    "    all_maxes = [-100]*len(int_sequence)\n",
    "    for i in range(0, len(int_sequence)):\n",
    "        max_sum = max(list(accumulate(int_sequence[i:])))\n",
    "        all_maxes[i] = max_sum\n",
    "    \n",
    "    return(max(all_maxes))"
   ]
  },
  {
   "cell_type": "code",
   "execution_count": 23,
   "metadata": {},
   "outputs": [
    {
     "data": {
      "text/plain": [
       "12"
      ]
     },
     "execution_count": 23,
     "metadata": {},
     "output_type": "execute_result"
    }
   ],
   "source": [
    "get_max_contiguous_sum(\"2,3,-2,-1,10\")"
   ]
  },
  {
   "cell_type": "code",
   "execution_count": 24,
   "metadata": {},
   "outputs": [
    {
     "data": {
      "text/plain": [
       "clean_tag\n",
       "adsh                                                                                                                            0.000000\n",
       "company_name                                                                                                                    0.000000\n",
       "ddate                                                                                                                           0.000000\n",
       "cik                                                                                                                             0.000000\n",
       "sic                                                                                                                             0.000000\n",
       "country                                                                                                                         0.000000\n",
       "period                                                                                                                          0.000000\n",
       "LiabilitiesAndStockholdersEquity                                                                                               36.102290\n",
       "Assets                                                                                                                         36.135718\n",
       "Liabilities                                                                                                                    36.152432\n",
       "NetIncomeLoss                                                                                                                  38.609393\n",
       "RetainedEarningsAccumulatedDeficit                                                                                             38.993816\n",
       "EntityCommonStockSharesOutstanding                                                                                             40.096941\n",
       "CashAndCashEquivalentsAtCarryingValue                                                                                          40.113655\n",
       "WeightedAverageNumberOfSharesOutstandingBasic                                                                                  41.049641\n",
       "EarningsPerShareBasic                                                                                                          41.383921\n",
       "AdditionalPaidInCapital                                                                                                        41.701488\n",
       "PropertyPlantAndEquipmentNet                                                                                                   42.136052\n",
       "CommonStockValue                                                                                                               42.687615\n",
       "InterestExpense                                                                                                                44.643156\n",
       "AccountsPayableCurrent                                                                                                         45.579141\n",
       "IncomeLossFromContinuingOperationsBeforeIncomeTaxesExtraordinaryItemsNoncontrollingInterest                                    48.888517\n",
       "GeneralAndAdministrativeExpense                                                                                                49.222798\n",
       "IncomeTaxExpenseBenefit                                                                                                        49.623934\n",
       "OtherAssetsNoncurrent                                                                                                          49.690791\n",
       "OperatingLeaseRightOfUseAsset                                                                                                  51.763329\n",
       "AccumulatedOtherComprehensiveIncomeLossNetOfTax                                                                                53.000167\n",
       "OperatingLeaseLiabilityNoncurrent                                                                                              53.484874\n",
       "ComprehensiveIncomeNetOfTax                                                                                                    54.420859\n",
       "CashCashEquivalentsRestrictedCashAndRestrictedCashEquivalents                                                                  56.426542\n",
       "                                                                                                                                 ...    \n",
       "LessorDirectFinancingLeaseAssumptionsAndJudgmentsValueOfUnderlyingAssetAmount                                                  99.983286\n",
       "LegalSettlementsAndLossContingencies                                                                                           99.983286\n",
       "LegalAndEnvironmentalReserves                                                                                                  99.983286\n",
       "LegalAccountingAndOtherProfessionalFees                                                                                        99.983286\n",
       "LeaseTenancyOfTerminalsAndOperatingFacilitiesExpense                                                                           99.983286\n",
       "LeaseObligationsObtainedOnAdoptionOfNewLeaseStandard                                                                           99.983286\n",
       "LeaseEquipmentDepreciation                                                                                                     99.983286\n",
       "LeaseCost                                                                                                                      99.983286\n",
       "LeaseAndRentalExpenseEquipment                                                                                                 99.983286\n",
       "LeaseAndRentalExpense                                                                                                          99.983286\n",
       "LapseOfRepurchaseRightsRelatedToCommonStockIssuedPursuantToEarlyExercises                                                      99.983286\n",
       "LandfillClosureSettlementChargeNet                                                                                             99.983286\n",
       "LandRightsandGroundLeaseExpense                                                                                                99.983286\n",
       "LandDevelopmentConstructionCosts                                                                                               99.983286\n",
       "LandAndLeasehold                                                                                                               99.983286\n",
       "LTIPAwardNetOfForfeitures                                                                                                      99.983286\n",
       "LPUnitsPurchasedOrConvertedIntoClassCommonStockValue                                                                           99.983286\n",
       "JointVentureDistributionsinExcessofLoanProceeds                                                                                99.983286\n",
       "JointVentureConsolidation                                                                                                      99.983286\n",
       "IssuerServicing                                                                                                                99.983286\n",
       "IssueOfSharesOfCommonStockOfMajorityownedSubsidiary                                                                            99.983286\n",
       "IssuanceofClassACommonStockforAcquisitionConsideration                                                                         99.983286\n",
       "IssuanceWithholdingOfCommonStockUponExerciseOfOptionsVestingOfRestrictedStockUnitsAndVestingOfEarlyExercisedOptionsNetValue    99.983286\n",
       "IssuanceOfLocalityAcquisitionShares                                                                                            99.983286\n",
       "IssuanceOfFinancingReceivablesInNoncashFinancingActivity                                                                       99.983286\n",
       "IssuanceOfCommonStocksPursuantToRegisteredDirectOfferingNetOfTransactionCostValue                                              99.983286\n",
       "IssuanceOfCommonStockValueInPublicOfferingExcludingToRelatedPartiesNet                                                         99.983286\n",
       "IssuanceOfCommonStockPurchaseWarrantsInConnectionWithSalesOfJupiterGoldCommonStock                                             99.983286\n",
       "LiabilitiesAttributableToConsolidatedOptionAgreements                                                                          99.983286\n",
       "WriteoffOfFullyDepreciatedAsset                                                                                                99.983286\n",
       "Length: 3557, dtype: float64"
      ]
     },
     "execution_count": 24,
     "metadata": {},
     "output_type": "execute_result"
    }
   ],
   "source": [
    "percent_missing.sort_values()"
   ]
  },
  {
   "cell_type": "markdown",
   "metadata": {},
   "source": [
    "## Save <a name=\"Save\"></a>\n",
    "Create CSV versions in build/raw"
   ]
  },
  {
   "cell_type": "code",
   "execution_count": 25,
   "metadata": {},
   "outputs": [],
   "source": [
    "sec_data_wide.to_csv(data_root+'02-build/clean/2019q3/sec_data_wide.csv')"
   ]
  }
 ],
 "metadata": {
  "kernelspec": {
   "display_name": "Python 3",
   "language": "python",
   "name": "python3"
  },
  "language_info": {
   "codemirror_mode": {
    "name": "ipython",
    "version": 3
   },
   "file_extension": ".py",
   "mimetype": "text/x-python",
   "name": "python",
   "nbconvert_exporter": "python",
   "pygments_lexer": "ipython3",
   "version": "3.7.3"
  }
 },
 "nbformat": 4,
 "nbformat_minor": 4
}
