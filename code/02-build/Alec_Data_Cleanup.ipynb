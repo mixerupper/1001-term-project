{
 "cells": [
  {
   "cell_type": "code",
   "execution_count": null,
   "metadata": {},
   "outputs": [],
   "source": [
    "tag_filter = pd.DataFrame(df_merge_column.groupby('tag').count()['adsh'].sort_values(ascending = False))\n",
    "    wanted_tags =  list(tag_filter.index.values)[0:100]\n",
    "    df_merge_data_cleaned = df_merge_column[df_merge_column['tag'].isin(wanted_tags)]\n",
    "    df_merge_data_cleaned = df_merge_data_cleaned[['adsh', 'name', 'fp', 'filed', 'tag', 'ddate', 'uom', 'value']].sort_values('name')"
   ]
  }
 ],
 "metadata": {
  "kernelspec": {
   "display_name": "Python 3",
   "language": "python",
   "name": "python3"
  },
  "language_info": {
   "codemirror_mode": {
    "name": "ipython",
    "version": 3
   },
   "file_extension": ".py",
   "mimetype": "text/x-python",
   "name": "python",
   "nbconvert_exporter": "python",
   "pygments_lexer": "ipython3",
   "version": "3.7.3"
  }
 },
 "nbformat": 4,
 "nbformat_minor": 4
}
