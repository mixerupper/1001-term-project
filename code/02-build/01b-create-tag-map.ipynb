{
 "cells": [
  {
   "cell_type": "markdown",
   "metadata": {},
   "source": [
    "# Program Header"
   ]
  },
  {
   "cell_type": "code",
   "execution_count": 5,
   "metadata": {},
   "outputs": [
    {
     "data": {
      "text/plain": [
       "'Initialized data root'"
      ]
     },
     "execution_count": 5,
     "metadata": {},
     "output_type": "execute_result"
    }
   ],
   "source": [
    "import pandas as pd\n",
    "import numpy as np\n",
    "import os\n",
    "import sys\n",
    "nb_dir = os.path.split(os.getcwd())[0]\n",
    "if nb_dir not in sys.path:\n",
    "    sys.path.append(nb_dir)\n",
    "from header import *\n",
    "initialize_data_root(\"AY\")"
   ]
  },
  {
   "cell_type": "code",
   "execution_count": 16,
   "metadata": {
    "scrolled": true
   },
   "outputs": [
    {
     "data": {
      "text/plain": [
       "'C:/Users/Andrew/1001-term-project/data/'"
      ]
     },
     "execution_count": 16,
     "metadata": {},
     "output_type": "execute_result"
    }
   ],
   "source": [
    "data_root"
   ]
  },
  {
   "cell_type": "markdown",
   "metadata": {},
   "source": [
    "# Table of contents\n",
    "1. [Import](#Import)\n",
    "2. [Data Understanding](#DataUnderstanding)\n",
    "2. [Clean](#Clean)\n",
    "3. [Merge](#Merge)\n",
    "4. [Create Features](#CreateFeatures)\n",
    "5. [Save](#Save)"
   ]
  },
  {
   "cell_type": "markdown",
   "metadata": {},
   "source": [
    "## Import <a name=\"Import\"></a>"
   ]
  },
  {
   "cell_type": "code",
   "execution_count": 17,
   "metadata": {},
   "outputs": [],
   "source": [
    "raw_num_data = pd.read_csv(data_root+'02-build/raw/2019q3/num.csv')\n",
    "raw_tag_data = pd.read_csv(data_root+'02-build/raw/2019q3/tag.csv')"
   ]
  },
  {
   "cell_type": "markdown",
   "metadata": {},
   "source": [
    "## Clean <a name=\"Clean\"></a>"
   ]
  },
  {
   "cell_type": "code",
   "execution_count": 14,
   "metadata": {},
   "outputs": [],
   "source": [
    "tag_data = raw_tag_data\\\n",
    "    .filter(['tag', 'version', 'doc'])\\\n",
    "    .drop_duplicates()"
   ]
  },
  {
   "cell_type": "code",
   "execution_count": 15,
   "metadata": {},
   "outputs": [
    {
     "data": {
      "text/html": [
       "<div>\n",
       "<style scoped>\n",
       "    .dataframe tbody tr th:only-of-type {\n",
       "        vertical-align: middle;\n",
       "    }\n",
       "\n",
       "    .dataframe tbody tr th {\n",
       "        vertical-align: top;\n",
       "    }\n",
       "\n",
       "    .dataframe thead th {\n",
       "        text-align: right;\n",
       "    }\n",
       "</style>\n",
       "<table border=\"1\" class=\"dataframe\">\n",
       "  <thead>\n",
       "    <tr style=\"text-align: right;\">\n",
       "      <th></th>\n",
       "    </tr>\n",
       "  </thead>\n",
       "  <tbody>\n",
       "    <tr>\n",
       "      <th>0</th>\n",
       "    </tr>\n",
       "    <tr>\n",
       "      <th>1</th>\n",
       "    </tr>\n",
       "  </tbody>\n",
       "</table>\n",
       "</div>"
      ],
      "text/plain": [
       "Empty DataFrame\n",
       "Columns: []\n",
       "Index: [0, 1]"
      ]
     },
     "execution_count": 15,
     "metadata": {},
     "output_type": "execute_result"
    }
   ],
   "source": [
    "tag_data"
   ]
  },
  {
   "cell_type": "code",
   "execution_count": 11,
   "metadata": {},
   "outputs": [
    {
     "ename": "KeyError",
     "evalue": "'doc'",
     "output_type": "error",
     "traceback": [
      "\u001b[1;31m---------------------------------------------------------------------------\u001b[0m",
      "\u001b[1;31mKeyError\u001b[0m                                  Traceback (most recent call last)",
      "\u001b[1;32m~\\Anaconda3\\lib\\site-packages\\pandas\\core\\indexes\\base.py\u001b[0m in \u001b[0;36mget_loc\u001b[1;34m(self, key, method, tolerance)\u001b[0m\n\u001b[0;32m   2656\u001b[0m             \u001b[1;32mtry\u001b[0m\u001b[1;33m:\u001b[0m\u001b[1;33m\u001b[0m\u001b[1;33m\u001b[0m\u001b[0m\n\u001b[1;32m-> 2657\u001b[1;33m                 \u001b[1;32mreturn\u001b[0m \u001b[0mself\u001b[0m\u001b[1;33m.\u001b[0m\u001b[0m_engine\u001b[0m\u001b[1;33m.\u001b[0m\u001b[0mget_loc\u001b[0m\u001b[1;33m(\u001b[0m\u001b[0mkey\u001b[0m\u001b[1;33m)\u001b[0m\u001b[1;33m\u001b[0m\u001b[1;33m\u001b[0m\u001b[0m\n\u001b[0m\u001b[0;32m   2658\u001b[0m             \u001b[1;32mexcept\u001b[0m \u001b[0mKeyError\u001b[0m\u001b[1;33m:\u001b[0m\u001b[1;33m\u001b[0m\u001b[1;33m\u001b[0m\u001b[0m\n",
      "\u001b[1;32mpandas/_libs/index.pyx\u001b[0m in \u001b[0;36mpandas._libs.index.IndexEngine.get_loc\u001b[1;34m()\u001b[0m\n",
      "\u001b[1;32mpandas/_libs/index.pyx\u001b[0m in \u001b[0;36mpandas._libs.index.IndexEngine.get_loc\u001b[1;34m()\u001b[0m\n",
      "\u001b[1;32mpandas/_libs/hashtable_class_helper.pxi\u001b[0m in \u001b[0;36mpandas._libs.hashtable.PyObjectHashTable.get_item\u001b[1;34m()\u001b[0m\n",
      "\u001b[1;32mpandas/_libs/hashtable_class_helper.pxi\u001b[0m in \u001b[0;36mpandas._libs.hashtable.PyObjectHashTable.get_item\u001b[1;34m()\u001b[0m\n",
      "\u001b[1;31mKeyError\u001b[0m: 'doc'",
      "\nDuring handling of the above exception, another exception occurred:\n",
      "\u001b[1;31mKeyError\u001b[0m                                  Traceback (most recent call last)",
      "\u001b[1;32m<ipython-input-11-1fdf25ecd817>\u001b[0m in \u001b[0;36m<module>\u001b[1;34m\u001b[0m\n\u001b[1;32m----> 1\u001b[1;33m \u001b[0mtag_data\u001b[0m\u001b[1;33m[\u001b[0m\u001b[1;34m'doc'\u001b[0m\u001b[1;33m]\u001b[0m\u001b[1;33m[\u001b[0m\u001b[1;36m0\u001b[0m\u001b[1;33m]\u001b[0m\u001b[1;33m\u001b[0m\u001b[1;33m\u001b[0m\u001b[0m\n\u001b[0m",
      "\u001b[1;32m~\\Anaconda3\\lib\\site-packages\\pandas\\core\\frame.py\u001b[0m in \u001b[0;36m__getitem__\u001b[1;34m(self, key)\u001b[0m\n\u001b[0;32m   2925\u001b[0m             \u001b[1;32mif\u001b[0m \u001b[0mself\u001b[0m\u001b[1;33m.\u001b[0m\u001b[0mcolumns\u001b[0m\u001b[1;33m.\u001b[0m\u001b[0mnlevels\u001b[0m \u001b[1;33m>\u001b[0m \u001b[1;36m1\u001b[0m\u001b[1;33m:\u001b[0m\u001b[1;33m\u001b[0m\u001b[1;33m\u001b[0m\u001b[0m\n\u001b[0;32m   2926\u001b[0m                 \u001b[1;32mreturn\u001b[0m \u001b[0mself\u001b[0m\u001b[1;33m.\u001b[0m\u001b[0m_getitem_multilevel\u001b[0m\u001b[1;33m(\u001b[0m\u001b[0mkey\u001b[0m\u001b[1;33m)\u001b[0m\u001b[1;33m\u001b[0m\u001b[1;33m\u001b[0m\u001b[0m\n\u001b[1;32m-> 2927\u001b[1;33m             \u001b[0mindexer\u001b[0m \u001b[1;33m=\u001b[0m \u001b[0mself\u001b[0m\u001b[1;33m.\u001b[0m\u001b[0mcolumns\u001b[0m\u001b[1;33m.\u001b[0m\u001b[0mget_loc\u001b[0m\u001b[1;33m(\u001b[0m\u001b[0mkey\u001b[0m\u001b[1;33m)\u001b[0m\u001b[1;33m\u001b[0m\u001b[1;33m\u001b[0m\u001b[0m\n\u001b[0m\u001b[0;32m   2928\u001b[0m             \u001b[1;32mif\u001b[0m \u001b[0mis_integer\u001b[0m\u001b[1;33m(\u001b[0m\u001b[0mindexer\u001b[0m\u001b[1;33m)\u001b[0m\u001b[1;33m:\u001b[0m\u001b[1;33m\u001b[0m\u001b[1;33m\u001b[0m\u001b[0m\n\u001b[0;32m   2929\u001b[0m                 \u001b[0mindexer\u001b[0m \u001b[1;33m=\u001b[0m \u001b[1;33m[\u001b[0m\u001b[0mindexer\u001b[0m\u001b[1;33m]\u001b[0m\u001b[1;33m\u001b[0m\u001b[1;33m\u001b[0m\u001b[0m\n",
      "\u001b[1;32m~\\Anaconda3\\lib\\site-packages\\pandas\\core\\indexes\\base.py\u001b[0m in \u001b[0;36mget_loc\u001b[1;34m(self, key, method, tolerance)\u001b[0m\n\u001b[0;32m   2657\u001b[0m                 \u001b[1;32mreturn\u001b[0m \u001b[0mself\u001b[0m\u001b[1;33m.\u001b[0m\u001b[0m_engine\u001b[0m\u001b[1;33m.\u001b[0m\u001b[0mget_loc\u001b[0m\u001b[1;33m(\u001b[0m\u001b[0mkey\u001b[0m\u001b[1;33m)\u001b[0m\u001b[1;33m\u001b[0m\u001b[1;33m\u001b[0m\u001b[0m\n\u001b[0;32m   2658\u001b[0m             \u001b[1;32mexcept\u001b[0m \u001b[0mKeyError\u001b[0m\u001b[1;33m:\u001b[0m\u001b[1;33m\u001b[0m\u001b[1;33m\u001b[0m\u001b[0m\n\u001b[1;32m-> 2659\u001b[1;33m                 \u001b[1;32mreturn\u001b[0m \u001b[0mself\u001b[0m\u001b[1;33m.\u001b[0m\u001b[0m_engine\u001b[0m\u001b[1;33m.\u001b[0m\u001b[0mget_loc\u001b[0m\u001b[1;33m(\u001b[0m\u001b[0mself\u001b[0m\u001b[1;33m.\u001b[0m\u001b[0m_maybe_cast_indexer\u001b[0m\u001b[1;33m(\u001b[0m\u001b[0mkey\u001b[0m\u001b[1;33m)\u001b[0m\u001b[1;33m)\u001b[0m\u001b[1;33m\u001b[0m\u001b[1;33m\u001b[0m\u001b[0m\n\u001b[0m\u001b[0;32m   2660\u001b[0m         \u001b[0mindexer\u001b[0m \u001b[1;33m=\u001b[0m \u001b[0mself\u001b[0m\u001b[1;33m.\u001b[0m\u001b[0mget_indexer\u001b[0m\u001b[1;33m(\u001b[0m\u001b[1;33m[\u001b[0m\u001b[0mkey\u001b[0m\u001b[1;33m]\u001b[0m\u001b[1;33m,\u001b[0m \u001b[0mmethod\u001b[0m\u001b[1;33m=\u001b[0m\u001b[0mmethod\u001b[0m\u001b[1;33m,\u001b[0m \u001b[0mtolerance\u001b[0m\u001b[1;33m=\u001b[0m\u001b[0mtolerance\u001b[0m\u001b[1;33m)\u001b[0m\u001b[1;33m\u001b[0m\u001b[1;33m\u001b[0m\u001b[0m\n\u001b[0;32m   2661\u001b[0m         \u001b[1;32mif\u001b[0m \u001b[0mindexer\u001b[0m\u001b[1;33m.\u001b[0m\u001b[0mndim\u001b[0m \u001b[1;33m>\u001b[0m \u001b[1;36m1\u001b[0m \u001b[1;32mor\u001b[0m \u001b[0mindexer\u001b[0m\u001b[1;33m.\u001b[0m\u001b[0msize\u001b[0m \u001b[1;33m>\u001b[0m \u001b[1;36m1\u001b[0m\u001b[1;33m:\u001b[0m\u001b[1;33m\u001b[0m\u001b[1;33m\u001b[0m\u001b[0m\n",
      "\u001b[1;32mpandas/_libs/index.pyx\u001b[0m in \u001b[0;36mpandas._libs.index.IndexEngine.get_loc\u001b[1;34m()\u001b[0m\n",
      "\u001b[1;32mpandas/_libs/index.pyx\u001b[0m in \u001b[0;36mpandas._libs.index.IndexEngine.get_loc\u001b[1;34m()\u001b[0m\n",
      "\u001b[1;32mpandas/_libs/hashtable_class_helper.pxi\u001b[0m in \u001b[0;36mpandas._libs.hashtable.PyObjectHashTable.get_item\u001b[1;34m()\u001b[0m\n",
      "\u001b[1;32mpandas/_libs/hashtable_class_helper.pxi\u001b[0m in \u001b[0;36mpandas._libs.hashtable.PyObjectHashTable.get_item\u001b[1;34m()\u001b[0m\n",
      "\u001b[1;31mKeyError\u001b[0m: 'doc'"
     ]
    }
   ],
   "source": [
    "tag_data['doc'][0]"
   ]
  },
  {
   "cell_type": "code",
   "execution_count": null,
   "metadata": {},
   "outputs": [],
   "source": [
    "# Get rid of coregister/parent company\n",
    "# Keep only the balance sheet and single quarter flows\n",
    "\n",
    "num_data = raw_num_data\\\n",
    "    .drop('footnote', axis = 'columns')\\\n",
    "    .assign(no_coreg = pd.isna(raw_num_data['coreg']))\\\n",
    "    .assign(no_value = pd.isna(raw_num_data['value']))\\\n",
    "    .assign(ddate = pd.to_datetime(raw_num_data['ddate'], format='%Y%m%d', errors = 'coerce'))\\\n",
    "    .query(\"(no_coreg == True) & (no_value == False) & (qtrs in (0,1)) & (uom in ['pur'])\")"
   ]
  },
  {
   "cell_type": "code",
   "execution_count": null,
   "metadata": {},
   "outputs": [],
   "source": [
    "num_data.shape"
   ]
  },
  {
   "cell_type": "markdown",
   "metadata": {},
   "source": [
    "See if we have **num_data** observations at the `adsh, tag, ddate` level"
   ]
  },
  {
   "cell_type": "code",
   "execution_count": null,
   "metadata": {},
   "outputs": [],
   "source": [
    "multiple_matches = num_data.groupby(['adsh', 'tag', 'ddate'], as_index = False)\\\n",
    "    .count()\\\n",
    "    .sort_values('value', ascending = False)\\\n",
    "    .query(\"value > 1\")\n",
    "duplicate_causing_tags = multiple_matches.tag.unique()\n",
    "duplicate_causing_tags"
   ]
  },
  {
   "cell_type": "code",
   "execution_count": null,
   "metadata": {},
   "outputs": [],
   "source": [
    "print(\"%.2f%% tags create duplicates\"% round(len(duplicate_causing_tags)/len(num_data.tag.unique())*100,2))"
   ]
  },
  {
   "cell_type": "markdown",
   "metadata": {},
   "source": [
    "Since only a small percent of tags are trouble, we'll just remove them for now."
   ]
  },
  {
   "cell_type": "code",
   "execution_count": null,
   "metadata": {},
   "outputs": [],
   "source": [
    "num_data = num_data.query(\"tag not in @duplicate_causing_tags\")"
   ]
  },
  {
   "cell_type": "markdown",
   "metadata": {},
   "source": [
    "Note for checking: These tags may just be variations of other important tags. Investigate if we're dropping anything important. Needs further investigation during checking process."
   ]
  },
  {
   "cell_type": "markdown",
   "metadata": {},
   "source": [
    "Now, we have unique rows for each `adsh, tag, ddate`."
   ]
  },
  {
   "cell_type": "code",
   "execution_count": null,
   "metadata": {},
   "outputs": [],
   "source": [
    "multiple_matches = num_data.groupby(['adsh', 'tag', 'ddate'], as_index = False)\\\n",
    "    .count()\\\n",
    "    .sort_values('value', ascending = False)\\\n",
    "    .query(\"value > 1\")\n",
    "multiple_matches"
   ]
  },
  {
   "cell_type": "markdown",
   "metadata": {},
   "source": [
    "## Merge <a name=\"Merge\"></a>"
   ]
  },
  {
   "cell_type": "code",
   "execution_count": null,
   "metadata": {},
   "outputs": [],
   "source": [
    "num_data.columns"
   ]
  },
  {
   "cell_type": "code",
   "execution_count": 81,
   "metadata": {},
   "outputs": [],
   "source": [
    "sec_data = num_data.merge(pre_data, on = ['adsh', 'tag', 'version'])\\\n",
    "    .merge(sub_data, on = ['adsh'])\\\n",
    "    .merge(tag_data, on = ['tag', 'version'])"
   ]
  },
  {
   "cell_type": "markdown",
   "metadata": {},
   "source": [
    "## Create Features <a name=\"CreateFeatures\"></a>\n",
    "Create `ticker` and `clean_tag` based on financial statement line items."
   ]
  },
  {
   "cell_type": "code",
   "execution_count": 140,
   "metadata": {
    "collapsed": true
   },
   "outputs": [
    {
     "data": {
      "text/plain": [
       "(5776, 3)"
      ]
     },
     "execution_count": 140,
     "metadata": {},
     "output_type": "execute_result"
    }
   ],
   "source": [
    "sec_data[['cik','company_name','instance']].drop_duplicates().shape"
   ]
  },
  {
   "cell_type": "code",
   "execution_count": 323,
   "metadata": {},
   "outputs": [],
   "source": [
    "pd.DataFrame(sec_data.tag.unique()).to_csv(data_root+\"tags.csv\")"
   ]
  },
  {
   "cell_type": "code",
   "execution_count": 325,
   "metadata": {
    "scrolled": true
   },
   "outputs": [
    {
     "data": {
      "text/html": [
       "<div>\n",
       "<style scoped>\n",
       "    .dataframe tbody tr th:only-of-type {\n",
       "        vertical-align: middle;\n",
       "    }\n",
       "\n",
       "    .dataframe tbody tr th {\n",
       "        vertical-align: top;\n",
       "    }\n",
       "\n",
       "    .dataframe thead th {\n",
       "        text-align: right;\n",
       "    }\n",
       "</style>\n",
       "<table border=\"1\" class=\"dataframe\">\n",
       "  <thead>\n",
       "    <tr style=\"text-align: right;\">\n",
       "      <th></th>\n",
       "      <th>adsh</th>\n",
       "      <th>tag</th>\n",
       "      <th>version</th>\n",
       "      <th>coreg</th>\n",
       "      <th>ddate</th>\n",
       "      <th>qtrs</th>\n",
       "      <th>uom</th>\n",
       "      <th>value</th>\n",
       "      <th>no_coreg</th>\n",
       "      <th>no_value</th>\n",
       "      <th>cik</th>\n",
       "      <th>company_name</th>\n",
       "      <th>sic</th>\n",
       "      <th>country</th>\n",
       "      <th>period</th>\n",
       "      <th>form</th>\n",
       "      <th>fye</th>\n",
       "      <th>accepted</th>\n",
       "      <th>instance</th>\n",
       "      <th>doc</th>\n",
       "    </tr>\n",
       "  </thead>\n",
       "  <tbody>\n",
       "    <tr>\n",
       "      <th>0</th>\n",
       "      <td>0001766016-19-000005</td>\n",
       "      <td>EntityCommonStockSharesOutstanding</td>\n",
       "      <td>dei/2014</td>\n",
       "      <td>NaN</td>\n",
       "      <td>20190630</td>\n",
       "      <td>0</td>\n",
       "      <td>shares</td>\n",
       "      <td>2071002.0</td>\n",
       "      <td>True</td>\n",
       "      <td>False</td>\n",
       "      <td>1766016</td>\n",
       "      <td>CRUCIAL INNOVATIONS, CORP.</td>\n",
       "      <td>8200.0</td>\n",
       "      <td>CN</td>\n",
       "      <td>20190630</td>\n",
       "      <td>10-Q</td>\n",
       "      <td>1231.0</td>\n",
       "      <td>2019-07-19 18:35:00.0</td>\n",
       "      <td>none-20190630.xml</td>\n",
       "      <td>Indicate number of shares or other units outst...</td>\n",
       "    </tr>\n",
       "  </tbody>\n",
       "</table>\n",
       "</div>"
      ],
      "text/plain": [
       "                   adsh                                 tag   version coreg  \\\n",
       "0  0001766016-19-000005  EntityCommonStockSharesOutstanding  dei/2014   NaN   \n",
       "\n",
       "      ddate  qtrs     uom      value  no_coreg  no_value      cik  \\\n",
       "0  20190630     0  shares  2071002.0      True     False  1766016   \n",
       "\n",
       "                 company_name     sic country    period  form     fye  \\\n",
       "0  CRUCIAL INNOVATIONS, CORP.  8200.0      CN  20190630  10-Q  1231.0   \n",
       "\n",
       "                accepted           instance  \\\n",
       "0  2019-07-19 18:35:00.0  none-20190630.xml   \n",
       "\n",
       "                                                 doc  \n",
       "0  Indicate number of shares or other units outst...  "
      ]
     },
     "execution_count": 325,
     "metadata": {},
     "output_type": "execute_result"
    }
   ],
   "source": [
    "test = sec_data.copy().sample(1000)\n",
    "test.iloc[0:1,]"
   ]
  },
  {
   "cell_type": "code",
   "execution_count": null,
   "metadata": {},
   "outputs": [],
   "source": [
    "test = sec_data.copy()\n",
    "test['clean_tag'] = np.where((test['tag'].str.match('revenue', case = False))&\n",
    "                             (test['qtrs'] == 1)&\n",
    "                             (test['uom'] == 'USD'), \n",
    "                             'Revenue', test['tag'])"
   ]
  },
  {
   "cell_type": "code",
   "execution_count": null,
   "metadata": {},
   "outputs": [],
   "source": [
    "test"
   ]
  },
  {
   "cell_type": "code",
   "execution_count": 327,
   "metadata": {},
   "outputs": [
    {
     "ename": "AttributeError",
     "evalue": "Cannot access callable attribute 'query' of 'DataFrameGroupBy' objects, try using the 'apply' method",
     "output_type": "error",
     "traceback": [
      "\u001b[1;31m---------------------------------------------------------------------------\u001b[0m",
      "\u001b[1;31mAttributeError\u001b[0m                            Traceback (most recent call last)",
      "\u001b[1;32m<ipython-input-327-6809fe79f4f1>\u001b[0m in \u001b[0;36m<module>\u001b[1;34m\u001b[0m\n\u001b[0;32m      8\u001b[0m     \u001b[1;32mreturn\u001b[0m\u001b[1;33m(\u001b[0m\u001b[0mproblems\u001b[0m\u001b[1;33m)\u001b[0m\u001b[1;33m\u001b[0m\u001b[1;33m\u001b[0m\u001b[0m\n\u001b[0;32m      9\u001b[0m \u001b[1;33m\u001b[0m\u001b[0m\n\u001b[1;32m---> 10\u001b[1;33m \u001b[0mtag_tracker\u001b[0m \u001b[1;33m=\u001b[0m \u001b[0mcheck_for_problems\u001b[0m\u001b[1;33m(\u001b[0m\u001b[1;34m\"Revenue\"\u001b[0m\u001b[1;33m)\u001b[0m\u001b[1;33m\u001b[0m\u001b[1;33m\u001b[0m\u001b[0m\n\u001b[0m",
      "\u001b[1;32m<ipython-input-327-6809fe79f4f1>\u001b[0m in \u001b[0;36mcheck_for_problems\u001b[1;34m(tag)\u001b[0m\n\u001b[0;32m      1\u001b[0m \u001b[1;32mdef\u001b[0m \u001b[0mcheck_for_problems\u001b[0m\u001b[1;33m(\u001b[0m\u001b[0mtag\u001b[0m\u001b[1;33m)\u001b[0m\u001b[1;33m:\u001b[0m\u001b[1;33m\u001b[0m\u001b[1;33m\u001b[0m\u001b[0m\n\u001b[1;32m----> 2\u001b[1;33m     \u001b[0mproblems\u001b[0m \u001b[1;33m=\u001b[0m \u001b[0mtest\u001b[0m\u001b[1;33m.\u001b[0m\u001b[0mquery\u001b[0m\u001b[1;33m(\u001b[0m\u001b[1;34m'clean_tag == @tag'\u001b[0m\u001b[1;33m)\u001b[0m\u001b[0;31m\\\u001b[0m\u001b[1;33m\u001b[0m\u001b[1;33m\u001b[0m\u001b[0m\n\u001b[0m\u001b[0;32m      3\u001b[0m         \u001b[1;33m.\u001b[0m\u001b[0mgroupby\u001b[0m\u001b[1;33m(\u001b[0m\u001b[1;33m[\u001b[0m\u001b[1;34m'adsh'\u001b[0m\u001b[1;33m,\u001b[0m \u001b[1;34m'ddate'\u001b[0m\u001b[1;33m]\u001b[0m\u001b[1;33m,\u001b[0m \u001b[0mas_index\u001b[0m \u001b[1;33m=\u001b[0m \u001b[1;32mFalse\u001b[0m\u001b[1;33m)\u001b[0m\u001b[0;31m\\\u001b[0m\u001b[1;33m\u001b[0m\u001b[1;33m\u001b[0m\u001b[0m\n\u001b[0;32m      4\u001b[0m         \u001b[1;33m.\u001b[0m\u001b[0msize\u001b[0m\u001b[1;33m(\u001b[0m\u001b[1;33m)\u001b[0m\u001b[1;33m\u001b[0m\u001b[1;33m\u001b[0m\u001b[0m\n\u001b[0;32m      5\u001b[0m \u001b[1;33m\u001b[0m\u001b[0m\n",
      "\u001b[1;32m~\\Anaconda3\\lib\\site-packages\\pandas\\core\\groupby\\groupby.py\u001b[0m in \u001b[0;36m__getattr__\u001b[1;34m(self, attr)\u001b[0m\n\u001b[0;32m    531\u001b[0m             \u001b[1;32mreturn\u001b[0m \u001b[0mself\u001b[0m\u001b[1;33m[\u001b[0m\u001b[0mattr\u001b[0m\u001b[1;33m]\u001b[0m\u001b[1;33m\u001b[0m\u001b[1;33m\u001b[0m\u001b[0m\n\u001b[0;32m    532\u001b[0m         \u001b[1;32mif\u001b[0m \u001b[0mhasattr\u001b[0m\u001b[1;33m(\u001b[0m\u001b[0mself\u001b[0m\u001b[1;33m.\u001b[0m\u001b[0mobj\u001b[0m\u001b[1;33m,\u001b[0m \u001b[0mattr\u001b[0m\u001b[1;33m)\u001b[0m\u001b[1;33m:\u001b[0m\u001b[1;33m\u001b[0m\u001b[1;33m\u001b[0m\u001b[0m\n\u001b[1;32m--> 533\u001b[1;33m             \u001b[1;32mreturn\u001b[0m \u001b[0mself\u001b[0m\u001b[1;33m.\u001b[0m\u001b[0m_make_wrapper\u001b[0m\u001b[1;33m(\u001b[0m\u001b[0mattr\u001b[0m\u001b[1;33m)\u001b[0m\u001b[1;33m\u001b[0m\u001b[1;33m\u001b[0m\u001b[0m\n\u001b[0m\u001b[0;32m    534\u001b[0m \u001b[1;33m\u001b[0m\u001b[0m\n\u001b[0;32m    535\u001b[0m         raise AttributeError(\"%r object has no attribute %r\" %\n",
      "\u001b[1;32m~\\Anaconda3\\lib\\site-packages\\pandas\\core\\groupby\\groupby.py\u001b[0m in \u001b[0;36m_make_wrapper\u001b[1;34m(self, name)\u001b[0m\n\u001b[0;32m    568\u001b[0m                    \"using the 'apply' method\".format(kind, name,\n\u001b[0;32m    569\u001b[0m                                                      type(self).__name__))\n\u001b[1;32m--> 570\u001b[1;33m             \u001b[1;32mraise\u001b[0m \u001b[0mAttributeError\u001b[0m\u001b[1;33m(\u001b[0m\u001b[0mmsg\u001b[0m\u001b[1;33m)\u001b[0m\u001b[1;33m\u001b[0m\u001b[1;33m\u001b[0m\u001b[0m\n\u001b[0m\u001b[0;32m    571\u001b[0m \u001b[1;33m\u001b[0m\u001b[0m\n\u001b[0;32m    572\u001b[0m         \u001b[0mself\u001b[0m\u001b[1;33m.\u001b[0m\u001b[0m_set_group_selection\u001b[0m\u001b[1;33m(\u001b[0m\u001b[1;33m)\u001b[0m\u001b[1;33m\u001b[0m\u001b[1;33m\u001b[0m\u001b[0m\n",
      "\u001b[1;31mAttributeError\u001b[0m: Cannot access callable attribute 'query' of 'DataFrameGroupBy' objects, try using the 'apply' method"
     ]
    }
   ],
   "source": [
    "def check_for_problems(tag):\n",
    "    problems = test.query('clean_tag == @tag')\\\n",
    "        .groupby(['adsh', 'ddate'], as_index = False)\\\n",
    "        .size()\n",
    "    \n",
    "    problems = problems[problems != 1].reset_index(name = 'count')\n",
    "    \n",
    "    return(problems)\n",
    "\n",
    "tag_tracker = check_for_problems(\"Revenue\")"
   ]
  },
  {
   "cell_type": "code",
   "execution_count": 320,
   "metadata": {
    "scrolled": true
   },
   "outputs": [
    {
     "data": {
      "text/plain": [
       "2    232\n",
       "3     19\n",
       "4      2\n",
       "Name: count, dtype: int64"
      ]
     },
     "execution_count": 320,
     "metadata": {},
     "output_type": "execute_result"
    }
   ],
   "source": [
    "tag_tracker['count'].value_counts()"
   ]
  },
  {
   "cell_type": "code",
   "execution_count": 321,
   "metadata": {},
   "outputs": [
    {
     "data": {
      "text/html": [
       "<div>\n",
       "<style scoped>\n",
       "    .dataframe tbody tr th:only-of-type {\n",
       "        vertical-align: middle;\n",
       "    }\n",
       "\n",
       "    .dataframe tbody tr th {\n",
       "        vertical-align: top;\n",
       "    }\n",
       "\n",
       "    .dataframe thead th {\n",
       "        text-align: right;\n",
       "    }\n",
       "</style>\n",
       "<table border=\"1\" class=\"dataframe\">\n",
       "  <thead>\n",
       "    <tr style=\"text-align: right;\">\n",
       "      <th></th>\n",
       "      <th>adsh</th>\n",
       "      <th>tag</th>\n",
       "      <th>version</th>\n",
       "      <th>coreg</th>\n",
       "      <th>ddate</th>\n",
       "      <th>qtrs</th>\n",
       "      <th>uom</th>\n",
       "      <th>value</th>\n",
       "      <th>no_coreg</th>\n",
       "      <th>no_value</th>\n",
       "      <th>...</th>\n",
       "      <th>company_name</th>\n",
       "      <th>sic</th>\n",
       "      <th>country</th>\n",
       "      <th>period</th>\n",
       "      <th>form</th>\n",
       "      <th>fye</th>\n",
       "      <th>accepted</th>\n",
       "      <th>instance</th>\n",
       "      <th>doc</th>\n",
       "      <th>clean_tag</th>\n",
       "    </tr>\n",
       "  </thead>\n",
       "  <tbody>\n",
       "    <tr>\n",
       "      <th>333091</th>\n",
       "      <td>0000004962-19-000051</td>\n",
       "      <td>RevenuesNetOfInterestExpense</td>\n",
       "      <td>us-gaap/2019</td>\n",
       "      <td>NaN</td>\n",
       "      <td>20190630</td>\n",
       "      <td>1</td>\n",
       "      <td>USD</td>\n",
       "      <td>1.083800e+10</td>\n",
       "      <td>True</td>\n",
       "      <td>False</td>\n",
       "      <td>...</td>\n",
       "      <td>AMERICAN EXPRESS CO</td>\n",
       "      <td>6199.0</td>\n",
       "      <td>US</td>\n",
       "      <td>20190630</td>\n",
       "      <td>10-Q</td>\n",
       "      <td>1231.0</td>\n",
       "      <td>2019-07-23 15:55:00.0</td>\n",
       "      <td>axpq21910q_htm.xml</td>\n",
       "      <td>Amount of revenue recognized from goods sold, ...</td>\n",
       "      <td>Revenue</td>\n",
       "    </tr>\n",
       "    <tr>\n",
       "      <th>338462</th>\n",
       "      <td>0000004962-19-000051</td>\n",
       "      <td>RevenueFromContractWithCustomerExcludingAssess...</td>\n",
       "      <td>us-gaap/2019</td>\n",
       "      <td>NaN</td>\n",
       "      <td>20190630</td>\n",
       "      <td>1</td>\n",
       "      <td>USD</td>\n",
       "      <td>7.080000e+09</td>\n",
       "      <td>True</td>\n",
       "      <td>False</td>\n",
       "      <td>...</td>\n",
       "      <td>AMERICAN EXPRESS CO</td>\n",
       "      <td>6199.0</td>\n",
       "      <td>US</td>\n",
       "      <td>20190630</td>\n",
       "      <td>10-Q</td>\n",
       "      <td>1231.0</td>\n",
       "      <td>2019-07-23 15:55:00.0</td>\n",
       "      <td>axpq21910q_htm.xml</td>\n",
       "      <td>Amount, excluding tax collected from customer,...</td>\n",
       "      <td>Revenue</td>\n",
       "    </tr>\n",
       "  </tbody>\n",
       "</table>\n",
       "<p>2 rows × 21 columns</p>\n",
       "</div>"
      ],
      "text/plain": [
       "                        adsh  \\\n",
       "333091  0000004962-19-000051   \n",
       "338462  0000004962-19-000051   \n",
       "\n",
       "                                                      tag       version coreg  \\\n",
       "333091                       RevenuesNetOfInterestExpense  us-gaap/2019   NaN   \n",
       "338462  RevenueFromContractWithCustomerExcludingAssess...  us-gaap/2019   NaN   \n",
       "\n",
       "           ddate  qtrs  uom         value  no_coreg  no_value  ...  \\\n",
       "333091  20190630     1  USD  1.083800e+10      True     False  ...   \n",
       "338462  20190630     1  USD  7.080000e+09      True     False  ...   \n",
       "\n",
       "               company_name     sic  country    period  form     fye  \\\n",
       "333091  AMERICAN EXPRESS CO  6199.0       US  20190630  10-Q  1231.0   \n",
       "338462  AMERICAN EXPRESS CO  6199.0       US  20190630  10-Q  1231.0   \n",
       "\n",
       "                     accepted            instance  \\\n",
       "333091  2019-07-23 15:55:00.0  axpq21910q_htm.xml   \n",
       "338462  2019-07-23 15:55:00.0  axpq21910q_htm.xml   \n",
       "\n",
       "                                                      doc clean_tag  \n",
       "333091  Amount of revenue recognized from goods sold, ...   Revenue  \n",
       "338462  Amount, excluding tax collected from customer,...   Revenue  \n",
       "\n",
       "[2 rows x 21 columns]"
      ]
     },
     "execution_count": 321,
     "metadata": {},
     "output_type": "execute_result"
    }
   ],
   "source": [
    "issue = 1\n",
    "test.query('(clean_tag == @tag)&(adsh == @tag_tracker.adsh[@issue])&(ddate == @tag_tracker.ddate[@issue])')"
   ]
  },
  {
   "cell_type": "code",
   "execution_count": 262,
   "metadata": {},
   "outputs": [
    {
     "data": {
      "text/plain": [
       "array(['USD', 'CAD', 'pure'], dtype=object)"
      ]
     },
     "execution_count": 262,
     "metadata": {},
     "output_type": "execute_result"
    }
   ],
   "source": [
    "test.query('(clean_tag == @tag)&(adsh in @tag_tracker.adsh)&(ddate in @tag_tracker.ddate)').uom.unique()"
   ]
  },
  {
   "cell_type": "code",
   "execution_count": 206,
   "metadata": {},
   "outputs": [
    {
     "data": {
      "text/plain": [
       "'0000002488-19-000104'"
      ]
     },
     "execution_count": 206,
     "metadata": {},
     "output_type": "execute_result"
    }
   ],
   "source": [
    "tag_tracker.index[0][0]"
   ]
  },
  {
   "cell_type": "code",
   "execution_count": 194,
   "metadata": {},
   "outputs": [],
   "source": [
    "tag = 'Revenue'\n",
    "problems = test.query('clean_tag == @tag')\\\n",
    "        .groupby(['adsh', 'ddate'])\\\n",
    "        .size()\\\n",
    "        .value_counts()"
   ]
  },
  {
   "cell_type": "code",
   "execution_count": 195,
   "metadata": {},
   "outputs": [
    {
     "data": {
      "text/plain": [
       "1    4637\n",
       "2     423\n",
       "3      25\n",
       "4       3\n",
       "dtype: int64"
      ]
     },
     "execution_count": 195,
     "metadata": {},
     "output_type": "execute_result"
    }
   ],
   "source": []
  },
  {
   "cell_type": "code",
   "execution_count": 160,
   "metadata": {},
   "outputs": [
    {
     "data": {
      "text/plain": [
       "0     True\n",
       "1    False\n",
       "2    False\n",
       "3    False\n",
       "4    False\n",
       "dtype: bool"
      ]
     },
     "execution_count": 160,
     "metadata": {},
     "output_type": "execute_result"
    }
   ],
   "source": [
    "test_series = pd.Series(['revenue', 'rev', 'rev12', '4324324', 'reven'])\n",
    "\n",
    "test_series.str.match('revenue', case = False)"
   ]
  },
  {
   "cell_type": "markdown",
   "metadata": {},
   "source": [
    "## Reshape <a name=\"Reshape\"></a>"
   ]
  },
  {
   "cell_type": "markdown",
   "metadata": {},
   "source": [
    "Check again that we're unique on the `adsh-ddate-tag` level"
   ]
  },
  {
   "cell_type": "code",
   "execution_count": 128,
   "metadata": {},
   "outputs": [
    {
     "data": {
      "text/html": [
       "<div>\n",
       "<style scoped>\n",
       "    .dataframe tbody tr th:only-of-type {\n",
       "        vertical-align: middle;\n",
       "    }\n",
       "\n",
       "    .dataframe tbody tr th {\n",
       "        vertical-align: top;\n",
       "    }\n",
       "\n",
       "    .dataframe thead th {\n",
       "        text-align: right;\n",
       "    }\n",
       "</style>\n",
       "<table border=\"1\" class=\"dataframe\">\n",
       "  <thead>\n",
       "    <tr style=\"text-align: right;\">\n",
       "      <th></th>\n",
       "      <th>adsh</th>\n",
       "      <th>tag</th>\n",
       "      <th>ddate</th>\n",
       "      <th>version</th>\n",
       "      <th>coreg</th>\n",
       "      <th>qtrs</th>\n",
       "      <th>uom</th>\n",
       "      <th>value</th>\n",
       "      <th>no_coreg</th>\n",
       "      <th>no_value</th>\n",
       "      <th>cik</th>\n",
       "      <th>company_name</th>\n",
       "      <th>sic</th>\n",
       "      <th>country</th>\n",
       "      <th>period</th>\n",
       "      <th>form</th>\n",
       "      <th>fye</th>\n",
       "      <th>accepted</th>\n",
       "      <th>instance</th>\n",
       "      <th>doc</th>\n",
       "    </tr>\n",
       "  </thead>\n",
       "  <tbody>\n",
       "  </tbody>\n",
       "</table>\n",
       "</div>"
      ],
      "text/plain": [
       "Empty DataFrame\n",
       "Columns: [adsh, tag, ddate, version, coreg, qtrs, uom, value, no_coreg, no_value, cik, company_name, sic, country, period, form, fye, accepted, instance, doc]\n",
       "Index: []"
      ]
     },
     "execution_count": 128,
     "metadata": {},
     "output_type": "execute_result"
    }
   ],
   "source": [
    "sec_data.groupby(['adsh', 'tag', 'ddate'], as_index = False)\\\n",
    "    .count()\\\n",
    "    .sort_values('value', ascending = False)\\\n",
    "    .query(\"value > 1\")"
   ]
  },
  {
   "cell_type": "code",
   "execution_count": 85,
   "metadata": {},
   "outputs": [],
   "source": [
    "sec_data_wide = sec_data.pivot_table(values = 'value',\n",
    "                                     index = ['adsh', 'company_name', 'ddate', 'qtrs', \n",
    "                                                        'uom', 'cik', 'sic', 'country', 'period'],\n",
    "                                    columns = 'tag')"
   ]
  },
  {
   "cell_type": "code",
   "execution_count": null,
   "metadata": {},
   "outputs": [],
   "source": [
    "sec_data_wide.reset_index()"
   ]
  },
  {
   "cell_type": "code",
   "execution_count": 129,
   "metadata": {},
   "outputs": [
    {
     "data": {
      "text/html": [
       "<div>\n",
       "<style scoped>\n",
       "    .dataframe tbody tr th:only-of-type {\n",
       "        vertical-align: middle;\n",
       "    }\n",
       "\n",
       "    .dataframe tbody tr th {\n",
       "        vertical-align: top;\n",
       "    }\n",
       "\n",
       "    .dataframe thead th {\n",
       "        text-align: right;\n",
       "    }\n",
       "</style>\n",
       "<table border=\"1\" class=\"dataframe\">\n",
       "  <thead>\n",
       "    <tr style=\"text-align: right;\">\n",
       "      <th></th>\n",
       "      <th></th>\n",
       "      <th></th>\n",
       "      <th></th>\n",
       "      <th></th>\n",
       "      <th></th>\n",
       "      <th></th>\n",
       "      <th></th>\n",
       "      <th>tag</th>\n",
       "      <th>ACAIndustryFeeExpense</th>\n",
       "      <th>AMPSImpactonStockholdersEquity</th>\n",
       "      <th>AOCIImpactofNEPDeconsolidation</th>\n",
       "      <th>AOCIreclassedtoRetainedEarningsincometax</th>\n",
       "      <th>APICEquityBasedPaymentArrangementIncreaseForCostRecognition</th>\n",
       "      <th>APICSharebasedPaymentArrangementESOPIncreaseforCostRecognition</th>\n",
       "      <th>APICSharebasedPaymentArrangementIncreaseforCostRecognitionServicesRendered</th>\n",
       "      <th>APICSharebasedPaymentArrangementReclassificationfromLiabilitytoEquity</th>\n",
       "      <th>APICSharebasedPaymentArrangementReversalOfCostRecognition</th>\n",
       "      <th>ATMAndCheckCardExpense</th>\n",
       "      <th>...</th>\n",
       "      <th>WriteoffOfCreditFacilityAmendmentFees</th>\n",
       "      <th>WriteoffOfDeferredOfferingCosts</th>\n",
       "      <th>WriteoffOfFullyDepreciatedAsset</th>\n",
       "      <th>WriteoffOfInsuranceReceivable</th>\n",
       "      <th>WriteoffofNetDiscountandDebtIssuanceCosts</th>\n",
       "      <th>WrittenOptionsAtFairValue</th>\n",
       "      <th>WrittendownValue</th>\n",
       "      <th>WrittendownValueFixedAssets</th>\n",
       "      <th>WrittendownValueOtherAssets</th>\n",
       "      <th>property</th>\n",
       "    </tr>\n",
       "    <tr>\n",
       "      <th>adsh</th>\n",
       "      <th>company_name</th>\n",
       "      <th>ddate</th>\n",
       "      <th>qtrs</th>\n",
       "      <th>uom</th>\n",
       "      <th>cik</th>\n",
       "      <th>sic</th>\n",
       "      <th>country</th>\n",
       "      <th>period</th>\n",
       "      <th></th>\n",
       "      <th></th>\n",
       "      <th></th>\n",
       "      <th></th>\n",
       "      <th></th>\n",
       "      <th></th>\n",
       "      <th></th>\n",
       "      <th></th>\n",
       "      <th></th>\n",
       "      <th></th>\n",
       "      <th></th>\n",
       "      <th></th>\n",
       "      <th></th>\n",
       "      <th></th>\n",
       "      <th></th>\n",
       "      <th></th>\n",
       "      <th></th>\n",
       "      <th></th>\n",
       "      <th></th>\n",
       "      <th></th>\n",
       "      <th></th>\n",
       "    </tr>\n",
       "  </thead>\n",
       "  <tbody>\n",
       "    <tr>\n",
       "      <th rowspan=\"5\" valign=\"top\">0000002178-19-000086</th>\n",
       "      <th rowspan=\"5\" valign=\"top\">ADAMS RESOURCES &amp; ENERGY, INC.</th>\n",
       "      <th>20180630</th>\n",
       "      <th>1</th>\n",
       "      <th>USD</th>\n",
       "      <th>2178</th>\n",
       "      <th>5172.0</th>\n",
       "      <th>US</th>\n",
       "      <th>20190630</th>\n",
       "      <td>NaN</td>\n",
       "      <td>NaN</td>\n",
       "      <td>NaN</td>\n",
       "      <td>NaN</td>\n",
       "      <td>NaN</td>\n",
       "      <td>NaN</td>\n",
       "      <td>NaN</td>\n",
       "      <td>NaN</td>\n",
       "      <td>NaN</td>\n",
       "      <td>NaN</td>\n",
       "      <td>...</td>\n",
       "      <td>NaN</td>\n",
       "      <td>NaN</td>\n",
       "      <td>NaN</td>\n",
       "      <td>NaN</td>\n",
       "      <td>NaN</td>\n",
       "      <td>NaN</td>\n",
       "      <td>NaN</td>\n",
       "      <td>NaN</td>\n",
       "      <td>NaN</td>\n",
       "      <td>NaN</td>\n",
       "    </tr>\n",
       "    <tr>\n",
       "      <th rowspan=\"2\" valign=\"top\">20181231</th>\n",
       "      <th rowspan=\"2\" valign=\"top\">0</th>\n",
       "      <th>USD</th>\n",
       "      <th>2178</th>\n",
       "      <th>5172.0</th>\n",
       "      <th>US</th>\n",
       "      <th>20190630</th>\n",
       "      <td>NaN</td>\n",
       "      <td>NaN</td>\n",
       "      <td>NaN</td>\n",
       "      <td>NaN</td>\n",
       "      <td>NaN</td>\n",
       "      <td>NaN</td>\n",
       "      <td>NaN</td>\n",
       "      <td>NaN</td>\n",
       "      <td>NaN</td>\n",
       "      <td>NaN</td>\n",
       "      <td>...</td>\n",
       "      <td>NaN</td>\n",
       "      <td>NaN</td>\n",
       "      <td>NaN</td>\n",
       "      <td>NaN</td>\n",
       "      <td>NaN</td>\n",
       "      <td>NaN</td>\n",
       "      <td>NaN</td>\n",
       "      <td>NaN</td>\n",
       "      <td>NaN</td>\n",
       "      <td>NaN</td>\n",
       "    </tr>\n",
       "    <tr>\n",
       "      <th>shares</th>\n",
       "      <th>2178</th>\n",
       "      <th>5172.0</th>\n",
       "      <th>US</th>\n",
       "      <th>20190630</th>\n",
       "      <td>NaN</td>\n",
       "      <td>NaN</td>\n",
       "      <td>NaN</td>\n",
       "      <td>NaN</td>\n",
       "      <td>NaN</td>\n",
       "      <td>NaN</td>\n",
       "      <td>NaN</td>\n",
       "      <td>NaN</td>\n",
       "      <td>NaN</td>\n",
       "      <td>NaN</td>\n",
       "      <td>...</td>\n",
       "      <td>NaN</td>\n",
       "      <td>NaN</td>\n",
       "      <td>NaN</td>\n",
       "      <td>NaN</td>\n",
       "      <td>NaN</td>\n",
       "      <td>NaN</td>\n",
       "      <td>NaN</td>\n",
       "      <td>NaN</td>\n",
       "      <td>NaN</td>\n",
       "      <td>NaN</td>\n",
       "    </tr>\n",
       "    <tr>\n",
       "      <th rowspan=\"2\" valign=\"top\">20190331</th>\n",
       "      <th>0</th>\n",
       "      <th>shares</th>\n",
       "      <th>2178</th>\n",
       "      <th>5172.0</th>\n",
       "      <th>US</th>\n",
       "      <th>20190630</th>\n",
       "      <td>NaN</td>\n",
       "      <td>NaN</td>\n",
       "      <td>NaN</td>\n",
       "      <td>NaN</td>\n",
       "      <td>NaN</td>\n",
       "      <td>NaN</td>\n",
       "      <td>NaN</td>\n",
       "      <td>NaN</td>\n",
       "      <td>NaN</td>\n",
       "      <td>NaN</td>\n",
       "      <td>...</td>\n",
       "      <td>NaN</td>\n",
       "      <td>NaN</td>\n",
       "      <td>NaN</td>\n",
       "      <td>NaN</td>\n",
       "      <td>NaN</td>\n",
       "      <td>NaN</td>\n",
       "      <td>NaN</td>\n",
       "      <td>NaN</td>\n",
       "      <td>NaN</td>\n",
       "      <td>NaN</td>\n",
       "    </tr>\n",
       "    <tr>\n",
       "      <th>1</th>\n",
       "      <th>USD</th>\n",
       "      <th>2178</th>\n",
       "      <th>5172.0</th>\n",
       "      <th>US</th>\n",
       "      <th>20190630</th>\n",
       "      <td>NaN</td>\n",
       "      <td>NaN</td>\n",
       "      <td>NaN</td>\n",
       "      <td>NaN</td>\n",
       "      <td>NaN</td>\n",
       "      <td>NaN</td>\n",
       "      <td>NaN</td>\n",
       "      <td>NaN</td>\n",
       "      <td>NaN</td>\n",
       "      <td>NaN</td>\n",
       "      <td>...</td>\n",
       "      <td>NaN</td>\n",
       "      <td>NaN</td>\n",
       "      <td>NaN</td>\n",
       "      <td>NaN</td>\n",
       "      <td>NaN</td>\n",
       "      <td>NaN</td>\n",
       "      <td>NaN</td>\n",
       "      <td>NaN</td>\n",
       "      <td>NaN</td>\n",
       "      <td>NaN</td>\n",
       "    </tr>\n",
       "  </tbody>\n",
       "</table>\n",
       "<p>5 rows × 21068 columns</p>\n",
       "</div>"
      ],
      "text/plain": [
       "tag                                                                                                    ACAIndustryFeeExpense  \\\n",
       "adsh                 company_name                   ddate    qtrs uom    cik  sic    country period                            \n",
       "0000002178-19-000086 ADAMS RESOURCES & ENERGY, INC. 20180630 1    USD    2178 5172.0 US      20190630                    NaN   \n",
       "                                                    20181231 0    USD    2178 5172.0 US      20190630                    NaN   \n",
       "                                                                  shares 2178 5172.0 US      20190630                    NaN   \n",
       "                                                    20190331 0    shares 2178 5172.0 US      20190630                    NaN   \n",
       "                                                             1    USD    2178 5172.0 US      20190630                    NaN   \n",
       "\n",
       "tag                                                                                                    AMPSImpactonStockholdersEquity  \\\n",
       "adsh                 company_name                   ddate    qtrs uom    cik  sic    country period                                     \n",
       "0000002178-19-000086 ADAMS RESOURCES & ENERGY, INC. 20180630 1    USD    2178 5172.0 US      20190630                             NaN   \n",
       "                                                    20181231 0    USD    2178 5172.0 US      20190630                             NaN   \n",
       "                                                                  shares 2178 5172.0 US      20190630                             NaN   \n",
       "                                                    20190331 0    shares 2178 5172.0 US      20190630                             NaN   \n",
       "                                                             1    USD    2178 5172.0 US      20190630                             NaN   \n",
       "\n",
       "tag                                                                                                    AOCIImpactofNEPDeconsolidation  \\\n",
       "adsh                 company_name                   ddate    qtrs uom    cik  sic    country period                                     \n",
       "0000002178-19-000086 ADAMS RESOURCES & ENERGY, INC. 20180630 1    USD    2178 5172.0 US      20190630                             NaN   \n",
       "                                                    20181231 0    USD    2178 5172.0 US      20190630                             NaN   \n",
       "                                                                  shares 2178 5172.0 US      20190630                             NaN   \n",
       "                                                    20190331 0    shares 2178 5172.0 US      20190630                             NaN   \n",
       "                                                             1    USD    2178 5172.0 US      20190630                             NaN   \n",
       "\n",
       "tag                                                                                                    AOCIreclassedtoRetainedEarningsincometax  \\\n",
       "adsh                 company_name                   ddate    qtrs uom    cik  sic    country period                                               \n",
       "0000002178-19-000086 ADAMS RESOURCES & ENERGY, INC. 20180630 1    USD    2178 5172.0 US      20190630                                       NaN   \n",
       "                                                    20181231 0    USD    2178 5172.0 US      20190630                                       NaN   \n",
       "                                                                  shares 2178 5172.0 US      20190630                                       NaN   \n",
       "                                                    20190331 0    shares 2178 5172.0 US      20190630                                       NaN   \n",
       "                                                             1    USD    2178 5172.0 US      20190630                                       NaN   \n",
       "\n",
       "tag                                                                                                    APICEquityBasedPaymentArrangementIncreaseForCostRecognition  \\\n",
       "adsh                 company_name                   ddate    qtrs uom    cik  sic    country period                                                                  \n",
       "0000002178-19-000086 ADAMS RESOURCES & ENERGY, INC. 20180630 1    USD    2178 5172.0 US      20190630                                                NaN             \n",
       "                                                    20181231 0    USD    2178 5172.0 US      20190630                                                NaN             \n",
       "                                                                  shares 2178 5172.0 US      20190630                                                NaN             \n",
       "                                                    20190331 0    shares 2178 5172.0 US      20190630                                                NaN             \n",
       "                                                             1    USD    2178 5172.0 US      20190630                                                NaN             \n",
       "\n",
       "tag                                                                                                    APICSharebasedPaymentArrangementESOPIncreaseforCostRecognition  \\\n",
       "adsh                 company_name                   ddate    qtrs uom    cik  sic    country period                                                                     \n",
       "0000002178-19-000086 ADAMS RESOURCES & ENERGY, INC. 20180630 1    USD    2178 5172.0 US      20190630                                                NaN                \n",
       "                                                    20181231 0    USD    2178 5172.0 US      20190630                                                NaN                \n",
       "                                                                  shares 2178 5172.0 US      20190630                                                NaN                \n",
       "                                                    20190331 0    shares 2178 5172.0 US      20190630                                                NaN                \n",
       "                                                             1    USD    2178 5172.0 US      20190630                                                NaN                \n",
       "\n",
       "tag                                                                                                    APICSharebasedPaymentArrangementIncreaseforCostRecognitionServicesRendered  \\\n",
       "adsh                 company_name                   ddate    qtrs uom    cik  sic    country period                                                                                 \n",
       "0000002178-19-000086 ADAMS RESOURCES & ENERGY, INC. 20180630 1    USD    2178 5172.0 US      20190630                                                NaN                            \n",
       "                                                    20181231 0    USD    2178 5172.0 US      20190630                                                NaN                            \n",
       "                                                                  shares 2178 5172.0 US      20190630                                                NaN                            \n",
       "                                                    20190331 0    shares 2178 5172.0 US      20190630                                                NaN                            \n",
       "                                                             1    USD    2178 5172.0 US      20190630                                                NaN                            \n",
       "\n",
       "tag                                                                                                    APICSharebasedPaymentArrangementReclassificationfromLiabilitytoEquity  \\\n",
       "adsh                 company_name                   ddate    qtrs uom    cik  sic    country period                                                                            \n",
       "0000002178-19-000086 ADAMS RESOURCES & ENERGY, INC. 20180630 1    USD    2178 5172.0 US      20190630                                                NaN                       \n",
       "                                                    20181231 0    USD    2178 5172.0 US      20190630                                                NaN                       \n",
       "                                                                  shares 2178 5172.0 US      20190630                                                NaN                       \n",
       "                                                    20190331 0    shares 2178 5172.0 US      20190630                                                NaN                       \n",
       "                                                             1    USD    2178 5172.0 US      20190630                                                NaN                       \n",
       "\n",
       "tag                                                                                                    APICSharebasedPaymentArrangementReversalOfCostRecognition  \\\n",
       "adsh                 company_name                   ddate    qtrs uom    cik  sic    country period                                                                \n",
       "0000002178-19-000086 ADAMS RESOURCES & ENERGY, INC. 20180630 1    USD    2178 5172.0 US      20190630                                                NaN           \n",
       "                                                    20181231 0    USD    2178 5172.0 US      20190630                                                NaN           \n",
       "                                                                  shares 2178 5172.0 US      20190630                                                NaN           \n",
       "                                                    20190331 0    shares 2178 5172.0 US      20190630                                                NaN           \n",
       "                                                             1    USD    2178 5172.0 US      20190630                                                NaN           \n",
       "\n",
       "tag                                                                                                    ATMAndCheckCardExpense  \\\n",
       "adsh                 company_name                   ddate    qtrs uom    cik  sic    country period                             \n",
       "0000002178-19-000086 ADAMS RESOURCES & ENERGY, INC. 20180630 1    USD    2178 5172.0 US      20190630                     NaN   \n",
       "                                                    20181231 0    USD    2178 5172.0 US      20190630                     NaN   \n",
       "                                                                  shares 2178 5172.0 US      20190630                     NaN   \n",
       "                                                    20190331 0    shares 2178 5172.0 US      20190630                     NaN   \n",
       "                                                             1    USD    2178 5172.0 US      20190630                     NaN   \n",
       "\n",
       "tag                                                                                                    ...  \\\n",
       "adsh                 company_name                   ddate    qtrs uom    cik  sic    country period    ...   \n",
       "0000002178-19-000086 ADAMS RESOURCES & ENERGY, INC. 20180630 1    USD    2178 5172.0 US      20190630  ...   \n",
       "                                                    20181231 0    USD    2178 5172.0 US      20190630  ...   \n",
       "                                                                  shares 2178 5172.0 US      20190630  ...   \n",
       "                                                    20190331 0    shares 2178 5172.0 US      20190630  ...   \n",
       "                                                             1    USD    2178 5172.0 US      20190630  ...   \n",
       "\n",
       "tag                                                                                                    WriteoffOfCreditFacilityAmendmentFees  \\\n",
       "adsh                 company_name                   ddate    qtrs uom    cik  sic    country period                                            \n",
       "0000002178-19-000086 ADAMS RESOURCES & ENERGY, INC. 20180630 1    USD    2178 5172.0 US      20190630                                    NaN   \n",
       "                                                    20181231 0    USD    2178 5172.0 US      20190630                                    NaN   \n",
       "                                                                  shares 2178 5172.0 US      20190630                                    NaN   \n",
       "                                                    20190331 0    shares 2178 5172.0 US      20190630                                    NaN   \n",
       "                                                             1    USD    2178 5172.0 US      20190630                                    NaN   \n",
       "\n",
       "tag                                                                                                    WriteoffOfDeferredOfferingCosts  \\\n",
       "adsh                 company_name                   ddate    qtrs uom    cik  sic    country period                                      \n",
       "0000002178-19-000086 ADAMS RESOURCES & ENERGY, INC. 20180630 1    USD    2178 5172.0 US      20190630                              NaN   \n",
       "                                                    20181231 0    USD    2178 5172.0 US      20190630                              NaN   \n",
       "                                                                  shares 2178 5172.0 US      20190630                              NaN   \n",
       "                                                    20190331 0    shares 2178 5172.0 US      20190630                              NaN   \n",
       "                                                             1    USD    2178 5172.0 US      20190630                              NaN   \n",
       "\n",
       "tag                                                                                                    WriteoffOfFullyDepreciatedAsset  \\\n",
       "adsh                 company_name                   ddate    qtrs uom    cik  sic    country period                                      \n",
       "0000002178-19-000086 ADAMS RESOURCES & ENERGY, INC. 20180630 1    USD    2178 5172.0 US      20190630                              NaN   \n",
       "                                                    20181231 0    USD    2178 5172.0 US      20190630                              NaN   \n",
       "                                                                  shares 2178 5172.0 US      20190630                              NaN   \n",
       "                                                    20190331 0    shares 2178 5172.0 US      20190630                              NaN   \n",
       "                                                             1    USD    2178 5172.0 US      20190630                              NaN   \n",
       "\n",
       "tag                                                                                                    WriteoffOfInsuranceReceivable  \\\n",
       "adsh                 company_name                   ddate    qtrs uom    cik  sic    country period                                    \n",
       "0000002178-19-000086 ADAMS RESOURCES & ENERGY, INC. 20180630 1    USD    2178 5172.0 US      20190630                            NaN   \n",
       "                                                    20181231 0    USD    2178 5172.0 US      20190630                            NaN   \n",
       "                                                                  shares 2178 5172.0 US      20190630                            NaN   \n",
       "                                                    20190331 0    shares 2178 5172.0 US      20190630                            NaN   \n",
       "                                                             1    USD    2178 5172.0 US      20190630                            NaN   \n",
       "\n",
       "tag                                                                                                    WriteoffofNetDiscountandDebtIssuanceCosts  \\\n",
       "adsh                 company_name                   ddate    qtrs uom    cik  sic    country period                                                \n",
       "0000002178-19-000086 ADAMS RESOURCES & ENERGY, INC. 20180630 1    USD    2178 5172.0 US      20190630                                        NaN   \n",
       "                                                    20181231 0    USD    2178 5172.0 US      20190630                                        NaN   \n",
       "                                                                  shares 2178 5172.0 US      20190630                                        NaN   \n",
       "                                                    20190331 0    shares 2178 5172.0 US      20190630                                        NaN   \n",
       "                                                             1    USD    2178 5172.0 US      20190630                                        NaN   \n",
       "\n",
       "tag                                                                                                    WrittenOptionsAtFairValue  \\\n",
       "adsh                 company_name                   ddate    qtrs uom    cik  sic    country period                                \n",
       "0000002178-19-000086 ADAMS RESOURCES & ENERGY, INC. 20180630 1    USD    2178 5172.0 US      20190630                        NaN   \n",
       "                                                    20181231 0    USD    2178 5172.0 US      20190630                        NaN   \n",
       "                                                                  shares 2178 5172.0 US      20190630                        NaN   \n",
       "                                                    20190331 0    shares 2178 5172.0 US      20190630                        NaN   \n",
       "                                                             1    USD    2178 5172.0 US      20190630                        NaN   \n",
       "\n",
       "tag                                                                                                    WrittendownValue  \\\n",
       "adsh                 company_name                   ddate    qtrs uom    cik  sic    country period                       \n",
       "0000002178-19-000086 ADAMS RESOURCES & ENERGY, INC. 20180630 1    USD    2178 5172.0 US      20190630               NaN   \n",
       "                                                    20181231 0    USD    2178 5172.0 US      20190630               NaN   \n",
       "                                                                  shares 2178 5172.0 US      20190630               NaN   \n",
       "                                                    20190331 0    shares 2178 5172.0 US      20190630               NaN   \n",
       "                                                             1    USD    2178 5172.0 US      20190630               NaN   \n",
       "\n",
       "tag                                                                                                    WrittendownValueFixedAssets  \\\n",
       "adsh                 company_name                   ddate    qtrs uom    cik  sic    country period                                  \n",
       "0000002178-19-000086 ADAMS RESOURCES & ENERGY, INC. 20180630 1    USD    2178 5172.0 US      20190630                          NaN   \n",
       "                                                    20181231 0    USD    2178 5172.0 US      20190630                          NaN   \n",
       "                                                                  shares 2178 5172.0 US      20190630                          NaN   \n",
       "                                                    20190331 0    shares 2178 5172.0 US      20190630                          NaN   \n",
       "                                                             1    USD    2178 5172.0 US      20190630                          NaN   \n",
       "\n",
       "tag                                                                                                    WrittendownValueOtherAssets  \\\n",
       "adsh                 company_name                   ddate    qtrs uom    cik  sic    country period                                  \n",
       "0000002178-19-000086 ADAMS RESOURCES & ENERGY, INC. 20180630 1    USD    2178 5172.0 US      20190630                          NaN   \n",
       "                                                    20181231 0    USD    2178 5172.0 US      20190630                          NaN   \n",
       "                                                                  shares 2178 5172.0 US      20190630                          NaN   \n",
       "                                                    20190331 0    shares 2178 5172.0 US      20190630                          NaN   \n",
       "                                                             1    USD    2178 5172.0 US      20190630                          NaN   \n",
       "\n",
       "tag                                                                                                    property  \n",
       "adsh                 company_name                   ddate    qtrs uom    cik  sic    country period              \n",
       "0000002178-19-000086 ADAMS RESOURCES & ENERGY, INC. 20180630 1    USD    2178 5172.0 US      20190630       NaN  \n",
       "                                                    20181231 0    USD    2178 5172.0 US      20190630       NaN  \n",
       "                                                                  shares 2178 5172.0 US      20190630       NaN  \n",
       "                                                    20190331 0    shares 2178 5172.0 US      20190630       NaN  \n",
       "                                                             1    USD    2178 5172.0 US      20190630       NaN  \n",
       "\n",
       "[5 rows x 21068 columns]"
      ]
     },
     "execution_count": 129,
     "metadata": {},
     "output_type": "execute_result"
    }
   ],
   "source": [
    "sec_data_wide.head()"
   ]
  },
  {
   "cell_type": "code",
   "execution_count": 93,
   "metadata": {},
   "outputs": [],
   "source": [
    "percent_missing = sec_data_wide.isnull().sum() * 100 / len(sec_data_wide)\n",
    "missing_value_df = pd.DataFrame({'column_name': sec_data_wide.columns,\n",
    "                                 'percent_missing': percent_missing}).sort_values('percent_missing', ascending = True)"
   ]
  },
  {
   "cell_type": "code",
   "execution_count": 130,
   "metadata": {},
   "outputs": [
    {
     "data": {
      "text/html": [
       "<div>\n",
       "<style scoped>\n",
       "    .dataframe tbody tr th:only-of-type {\n",
       "        vertical-align: middle;\n",
       "    }\n",
       "\n",
       "    .dataframe tbody tr th {\n",
       "        vertical-align: top;\n",
       "    }\n",
       "\n",
       "    .dataframe thead th {\n",
       "        text-align: right;\n",
       "    }\n",
       "</style>\n",
       "<table border=\"1\" class=\"dataframe\">\n",
       "  <thead>\n",
       "    <tr style=\"text-align: right;\">\n",
       "      <th></th>\n",
       "      <th>column_name</th>\n",
       "      <th>percent_missing</th>\n",
       "    </tr>\n",
       "    <tr>\n",
       "      <th>tag</th>\n",
       "      <th></th>\n",
       "      <th></th>\n",
       "    </tr>\n",
       "  </thead>\n",
       "  <tbody>\n",
       "    <tr>\n",
       "      <th>CommonStockSharesAuthorized</th>\n",
       "      <td>CommonStockSharesAuthorized</td>\n",
       "      <td>83.811840</td>\n",
       "    </tr>\n",
       "    <tr>\n",
       "      <th>CommonStockSharesIssued</th>\n",
       "      <td>CommonStockSharesIssued</td>\n",
       "      <td>84.298172</td>\n",
       "    </tr>\n",
       "    <tr>\n",
       "      <th>CommonStockSharesOutstanding</th>\n",
       "      <td>CommonStockSharesOutstanding</td>\n",
       "      <td>85.140030</td>\n",
       "    </tr>\n",
       "    <tr>\n",
       "      <th>PreferredStockSharesAuthorized</th>\n",
       "      <td>PreferredStockSharesAuthorized</td>\n",
       "      <td>89.458326</td>\n",
       "    </tr>\n",
       "    <tr>\n",
       "      <th>InterestExpense</th>\n",
       "      <td>InterestExpense</td>\n",
       "      <td>89.560624</td>\n",
       "    </tr>\n",
       "  </tbody>\n",
       "</table>\n",
       "</div>"
      ],
      "text/plain": [
       "                                                   column_name  \\\n",
       "tag                                                              \n",
       "CommonStockSharesAuthorized        CommonStockSharesAuthorized   \n",
       "CommonStockSharesIssued                CommonStockSharesIssued   \n",
       "CommonStockSharesOutstanding      CommonStockSharesOutstanding   \n",
       "PreferredStockSharesAuthorized  PreferredStockSharesAuthorized   \n",
       "InterestExpense                                InterestExpense   \n",
       "\n",
       "                                percent_missing  \n",
       "tag                                              \n",
       "CommonStockSharesAuthorized           83.811840  \n",
       "CommonStockSharesIssued               84.298172  \n",
       "CommonStockSharesOutstanding          85.140030  \n",
       "PreferredStockSharesAuthorized        89.458326  \n",
       "InterestExpense                       89.560624  "
      ]
     },
     "execution_count": 130,
     "metadata": {},
     "output_type": "execute_result"
    }
   ],
   "source": [
    "missing_value_df.head()"
   ]
  },
  {
   "cell_type": "markdown",
   "metadata": {},
   "source": [
    "## Save <a name=\"Save\"></a>\n",
    "Create CSV versions in build/raw"
   ]
  },
  {
   "cell_type": "code",
   "execution_count": 88,
   "metadata": {},
   "outputs": [],
   "source": [
    "sec_data.to_csv(data_root+'02-build/clean/2019q3/sec_data_long.csv')"
   ]
  },
  {
   "cell_type": "code",
   "execution_count": 89,
   "metadata": {},
   "outputs": [],
   "source": [
    "sec_data_wide.to_csv(data_root+'02-build/clean/2019q3/sec_data_wide.csv')"
   ]
  }
 ],
 "metadata": {
  "kernelspec": {
   "display_name": "Python 3",
   "language": "python",
   "name": "python3"
  },
  "language_info": {
   "codemirror_mode": {
    "name": "ipython",
    "version": 3
   },
   "file_extension": ".py",
   "mimetype": "text/x-python",
   "name": "python",
   "nbconvert_exporter": "python",
   "pygments_lexer": "ipython3",
   "version": "3.7.3"
  }
 },
 "nbformat": 4,
 "nbformat_minor": 4
}
