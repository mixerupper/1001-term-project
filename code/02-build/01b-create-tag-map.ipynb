{
 "cells": [
  {
   "cell_type": "markdown",
   "metadata": {},
   "source": [
    "# Program Header"
   ]
  },
  {
   "cell_type": "code",
   "execution_count": 171,
   "metadata": {},
   "outputs": [],
   "source": [
    "import pandas as pd\n",
    "import numpy as np\n",
    "import os\n",
    "import sys\n",
    "nb_dir = os.path.split(os.getcwd())[0]\n",
    "if nb_dir not in sys.path:\n",
    "    sys.path.append(nb_dir)\n",
    "from header import *"
   ]
  },
  {
   "cell_type": "code",
   "execution_count": 172,
   "metadata": {
    "scrolled": false
   },
   "outputs": [],
   "source": [
    "data_root = initialize_data_root(\"AY\")"
   ]
  },
  {
   "cell_type": "code",
   "execution_count": 173,
   "metadata": {},
   "outputs": [],
   "source": [
    "import difflib\n",
    "import jellyfish\n",
    "import fuzzywuzzy\n",
    "from fuzzywuzzy import process"
   ]
  },
  {
   "cell_type": "markdown",
   "metadata": {},
   "source": [
    "# Table of contents\n",
    "1. [Import](#Import)\n",
    "2. [Create Tag Map](#CreateTagMap)\n",
    "5. [Save](#Save)"
   ]
  },
  {
   "cell_type": "markdown",
   "metadata": {},
   "source": [
    "## Import <a name=\"Import\"></a>"
   ]
  },
  {
   "cell_type": "code",
   "execution_count": 302,
   "metadata": {},
   "outputs": [],
   "source": [
    "raw_sec_data = pd.read_csv(data_root+'02-build/clean/2019q3/sec_data_long.csv')\n",
    "raw_custom_tag_map = pd.read_csv(data_root+'02-build/clean/2019q3/custom_tag_map.csv')"
   ]
  },
  {
   "cell_type": "code",
   "execution_count": 175,
   "metadata": {},
   "outputs": [],
   "source": [
    "sec_data = raw_sec_data.copy()"
   ]
  },
  {
   "cell_type": "code",
   "execution_count": 307,
   "metadata": {},
   "outputs": [],
   "source": [
    "custom_tag_map = raw_custom_tag_map.rename({'raw_tag':'tag'}, axis = 'columns')"
   ]
  },
  {
   "cell_type": "markdown",
   "metadata": {},
   "source": [
    "## Create Tag Map <a name=\"CreateTagMap\"></a>"
   ]
  },
  {
   "cell_type": "markdown",
   "metadata": {},
   "source": [
    "Let's define a tag's reach as the percent of companies seen that include the tag. The goal of creating a tag map and consolidating raw tags is to improve the average reach."
   ]
  },
  {
   "cell_type": "code",
   "execution_count": 208,
   "metadata": {},
   "outputs": [],
   "source": [
    "def get_tag_reach(tag):\n",
    "    total = sec_data.['tag'].isin([tag])\n",
    "    return(sum(total)/len(sec_data.adsh.unique()))"
   ]
  },
  {
   "cell_type": "code",
   "execution_count": 284,
   "metadata": {},
   "outputs": [],
   "source": [
    "all_tags = sec_data.tag.unique()"
   ]
  },
  {
   "cell_type": "code",
   "execution_count": 291,
   "metadata": {},
   "outputs": [],
   "source": [
    "tag_view = sec_data.groupby('tag').nunique()['adsh'].sort_values()/len(sec_data.adsh.unique())"
   ]
  },
  {
   "cell_type": "code",
   "execution_count": 319,
   "metadata": {},
   "outputs": [
    {
     "data": {
      "text/plain": [
       "count    18905.000000\n",
       "mean         0.004235\n",
       "std          0.035676\n",
       "min          0.000173\n",
       "25%          0.000173\n",
       "50%          0.000173\n",
       "75%          0.000346\n",
       "max          0.986147\n",
       "Name: adsh, dtype: float64"
      ]
     },
     "execution_count": 319,
     "metadata": {},
     "output_type": "execute_result"
    }
   ],
   "source": [
    "tag_view.describe()"
   ]
  },
  {
   "cell_type": "code",
   "execution_count": 293,
   "metadata": {},
   "outputs": [
    {
     "data": {
      "text/plain": [
       "<matplotlib.axes._subplots.AxesSubplot at 0x1d88c17d160>"
      ]
     },
     "execution_count": 293,
     "metadata": {},
     "output_type": "execute_result"
    },
    {
     "data": {
      "image/png": "[encoded data removed]",
      "text/plain": [
       "<Figure size 432x288 with 1 Axes>"
      ]
     },
     "metadata": {
      "needs_background": "light"
     },
     "output_type": "display_data"
    }
   ],
   "source": [
    "tag_view.hist()"
   ]
  },
  {
   "cell_type": "markdown",
   "metadata": {},
   "source": [
    "Let's define a `common tag` as a tag with reach of at least 10%. We've already gone through all 149 common tags and consolidated them."
   ]
  },
  {
   "cell_type": "code",
   "execution_count": 294,
   "metadata": {},
   "outputs": [],
   "source": [
    "common_tags = tag_view.loc[tag_view >= 0.1]"
   ]
  },
  {
   "cell_type": "code",
   "execution_count": 295,
   "metadata": {},
   "outputs": [
    {
     "data": {
      "text/plain": [
       "<matplotlib.axes._subplots.AxesSubplot at 0x1d881fca320>"
      ]
     },
     "execution_count": 295,
     "metadata": {},
     "output_type": "execute_result"
    },
    {
     "data": {
      "image/png": "[encoded data removed]",
      "text/plain": [
       "<Figure size 432x288 with 1 Axes>"
      ]
     },
     "metadata": {
      "needs_background": "light"
     },
     "output_type": "display_data"
    }
   ],
   "source": [
    "common_tags.hist()"
   ]
  },
  {
   "cell_type": "markdown",
   "metadata": {},
   "source": [
    "Using the `common tags` list, let's find all fuzzy matches between the less common tags and the more common tags and store it in a dictionary:"
   ]
  },
  {
   "cell_type": "code",
   "execution_count": 340,
   "metadata": {},
   "outputs": [],
   "source": [
    "def find_fuzzy_matches(parent_tag, children_tags):\n",
    "    fuzzy_matches = process.extract(parent_tag, list(children_tags))\n",
    "    matches = [i[0] for i in fuzzy_matches]\n",
    "    return(matches)"
   ]
  },
  {
   "cell_type": "code",
   "execution_count": 330,
   "metadata": {},
   "outputs": [],
   "source": [
    "less_common_tags = tag_view.loc[tag_view < 0.1].index\n",
    "tag_map = {}"
   ]
  },
  {
   "cell_type": "code",
   "execution_count": 335,
   "metadata": {
    "collapsed": true
   },
   "outputs": [
    {
     "name": "stdout",
     "output_type": "stream",
     "text": [
      "SubleaseIncome\n",
      "DeferredFinanceCostsNet\n",
      "InventoryWorkInProcessNetOfReserves\n",
      "ContractWithCustomerLiabilityNoncurrent\n",
      "OtherLiabilities\n",
      "DeferredIncomeTaxAssetsNet\n",
      "VariableLeaseCost\n",
      "SellingAndMarketingExpense\n",
      "InventoryFinishedGoods\n",
      "DueToRelatedPartiesCurrent\n",
      "DeferredTaxAssetsValuationAllowance\n",
      "StockIssuedDuringPeriodValueNewIssues\n",
      "LiabilitiesNoncurrent\n",
      "RevenueFromContractWithCustomerIncludingAssessedTax\n",
      "UnrecognizedTaxBenefits\n",
      "OtherComprehensiveIncomeUnrealizedHoldingGainLossOnSecuritiesArisingDuringPeriodNetOfTax\n",
      "AccruedIncomeTaxesCurrent\n",
      "LaborAndRelatedExpense\n",
      "WeightedAverageNumberDilutedSharesOutstandingAdjustment\n",
      "EffectiveIncomeTaxRateContinuingOperations\n",
      "InventoryFinishedGoodsNetOfReserves\n",
      "ShareBasedCompensation\n",
      "ProfessionalFees\n",
      "DividendsCommonStockCash\n",
      "IncomeLossFromEquityMethodInvestments\n",
      "CashCashEquivalentsRestrictedCashAndRestrictedCashEquivalentsIncludingDisposalGroupAndDiscontinuedOperations\n",
      "DeferredIncomeTaxLiabilitiesNet\n",
      "DebtInstrumentCarryingAmount\n",
      "Cash\n",
      "EntityCommonStockSharesOutstanding\n",
      "InterestPayableCurrent\n",
      "ComprehensiveIncomeNetOfTaxAttributableToNoncontrollingInterest\n",
      "FinanceLeaseInterestExpense\n",
      "FinanceLeaseRightOfUseAsset\n",
      "StockIssuedDuringPeriodValueShareBasedCompensation\n",
      "FinanceLeaseLiabilityNoncurrent\n",
      "FinanceLeaseRightOfUseAssetAmortization\n",
      "FinanceLeaseLiabilityCurrent\n",
      "AvailableForSaleDebtSecuritiesAmortizedCostBasis\n",
      "DeferredTaxLiabilitiesNoncurrent\n",
      "StockIssuedDuringPeriodValueStockOptionsExercised\n",
      "DepreciationDepletionAndAmortization\n",
      "InvestmentIncomeInterest\n",
      "ContractWithCustomerLiability\n",
      "Depreciation\n",
      "DepreciationAndAmortization\n",
      "AvailableForSaleSecuritiesDebtSecurities\n",
      "CostOfRevenue\n",
      "InterestIncomeExpenseNet\n",
      "AccountsPayableAndAccruedLiabilitiesCurrent\n",
      "OtherAssets\n",
      "CommonStockDividendsPerShareDeclared\n",
      "OtherComprehensiveIncomeLossNetOfTaxPortionAttributableToParent\n",
      "OperatingLeasePayments\n",
      "CostsAndExpenses\n",
      "PrepaidExpenseCurrent\n",
      "FinanceLeaseLiability\n",
      "ComprehensiveIncomeNetOfTaxIncludingPortionAttributableToNoncontrollingInterest\n",
      "OtherLiabilitiesCurrent\n",
      "IncrementalCommonSharesAttributableToShareBasedPaymentArrangements\n",
      "NetIncomeLossAttributableToNoncontrollingInterest\n",
      "OtherComprehensiveIncomeLossForeignCurrencyTransactionAndTranslationAdjustmentNetOfTax\n",
      "LongTermDebtCurrent\n",
      "FiniteLivedIntangibleAssetsGross\n",
      "ContractWithCustomerLiabilityCurrent\n",
      "MinorityInterest\n",
      "TreasuryStockShares\n",
      "OtherAssetsCurrent\n",
      "OtherAccruedLiabilitiesCurrent\n",
      "NetIncomeLossAvailableToCommonStockholdersBasic\n",
      "AntidilutiveSecuritiesExcludedFromComputationOfEarningsPerShareAmount\n",
      "IncomeLossFromContinuingOperationsBeforeIncomeTaxesMinorityInterestAndIncomeLossFromEquityMethodInvestments\n",
      "AmortizationOfIntangibleAssets\n",
      "AllocatedShareBasedCompensationExpense\n",
      "ResearchAndDevelopmentExpense\n",
      "LongTermDebt\n",
      "TreasuryStockValue\n",
      "AllowanceForDoubtfulAccountsReceivableCurrent\n",
      "LongTermDebtNoncurrent\n",
      "OtherComprehensiveIncomeLossNetOfTax\n",
      "CostOfGoodsAndServicesSold\n",
      "PreferredStockValue\n",
      "LeaseCost\n",
      "EmployeeRelatedLiabilitiesCurrent\n",
      "SellingGeneralAndAdministrativeExpense\n",
      "FiniteLivedIntangibleAssetsNet\n",
      "LesseeOperatingLeaseLiabilityPaymentsDue\n",
      "FiniteLivedIntangibleAssetsAccumulatedAmortization\n",
      "ProfitLoss\n",
      "NonoperatingIncomeExpense\n",
      "StockholdersEquityIncludingPortionAttributableToNoncontrollingInterest\n",
      "WeightedAverageNumberOfShareOutstandingBasicAndDiluted\n",
      "IntangibleAssetsNetExcludingGoodwill\n",
      "PropertyPlantAndEquipmentGross\n",
      "EarningsPerShareBasicAndDiluted\n",
      "GrossProfit\n",
      "PreferredStockSharesOutstanding\n",
      "OperatingLeaseCost\n",
      "RevenueFromContractWithCustomerExcludingAssessedTax\n",
      "AdjustmentsToAdditionalPaidInCapitalSharebasedCompensationRequisiteServicePeriodRecognitionValue\n",
      "AccruedLiabilitiesCurrent\n",
      "OtherNonoperatingIncomeExpense\n",
      "AdditionalPaidInCapitalCommonStock\n",
      "Revenues\n",
      "PrepaidExpenseAndOtherAssetsCurrent\n",
      "PreferredStockSharesIssued\n",
      "OtherLiabilitiesNoncurrent\n",
      "InventoryNet\n",
      "GeneralAndAdministrativeExpense\n",
      "AccumulatedDepreciationDepletionAndAmortizationPropertyPlantAndEquipment\n",
      "OperatingExpenses\n",
      "IncomeLossFromContinuingOperationsBeforeIncomeTaxesExtraordinaryItemsNoncontrollingInterest\n",
      "OperatingLeaseLiabilityNoncurrent\n",
      "OperatingLeaseLiabilityCurrent\n",
      "CashCashEquivalentsRestrictedCashAndRestrictedCashEquivalents\n",
      "Goodwill\n",
      "PreferredStockParOrStatedValuePerShare\n",
      "AdditionalPaidInCapital\n",
      "AccountsReceivableNetCurrent\n",
      "OtherAssetsNoncurrent\n",
      "EarningsPerShareDiluted\n",
      "EarningsPerShareBasic\n",
      "WeightedAverageNumberOfDilutedSharesOutstanding\n",
      "InterestExpense\n",
      "PreferredStockSharesAuthorized\n",
      "WeightedAverageNumberOfSharesOutstandingBasic\n",
      "ComprehensiveIncomeNetOfTax\n",
      "AccountsPayableCurrent\n",
      "OperatingLeaseLiability\n",
      "OperatingLeaseRightOfUseAsset\n",
      "AccumulatedOtherComprehensiveIncomeLossNetOfTax\n",
      "IncomeTaxExpenseBenefit\n",
      "OperatingIncomeLoss\n",
      "CommonStockSharesOutstanding\n",
      "CommonStockParOrStatedValuePerShare\n",
      "AssetsCurrent\n",
      "LiabilitiesCurrent\n",
      "PropertyPlantAndEquipmentNet\n",
      "CommonStockSharesIssued\n",
      "CommonStockSharesAuthorized\n",
      "CommonStockValue\n",
      "Liabilities\n",
      "CashAndCashEquivalentsAtCarryingValue\n",
      "NetIncomeLoss\n",
      "StockholdersEquity\n",
      "RetainedEarningsAccumulatedDeficit\n",
      "LiabilitiesAndStockholdersEquity\n",
      "Assets\n"
     ]
    }
   ],
   "source": [
    "for i in common_tags.oindex:\n",
    "    print(i)"
   ]
  },
  {
   "cell_type": "code",
   "execution_count": 341,
   "metadata": {
    "collapsed": true
   },
   "outputs": [
    {
     "name": "stdout",
     "output_type": "stream",
     "text": [
      "Found matches for SubleaseIncome\n",
      "Found matches for DeferredFinanceCostsNet\n",
      "Found matches for InventoryWorkInProcessNetOfReserves\n",
      "Found matches for ContractWithCustomerLiabilityNoncurrent\n",
      "Found matches for OtherLiabilities\n",
      "Found matches for DeferredIncomeTaxAssetsNet\n",
      "Found matches for VariableLeaseCost\n",
      "Found matches for SellingAndMarketingExpense\n",
      "Found matches for InventoryFinishedGoods\n",
      "Found matches for DueToRelatedPartiesCurrent\n",
      "Found matches for DeferredTaxAssetsValuationAllowance\n",
      "Found matches for StockIssuedDuringPeriodValueNewIssues\n",
      "Found matches for LiabilitiesNoncurrent\n",
      "Found matches for RevenueFromContractWithCustomerIncludingAssessedTax\n",
      "Found matches for UnrecognizedTaxBenefits\n",
      "Found matches for OtherComprehensiveIncomeUnrealizedHoldingGainLossOnSecuritiesArisingDuringPeriodNetOfTax\n",
      "Found matches for AccruedIncomeTaxesCurrent\n",
      "Found matches for LaborAndRelatedExpense\n",
      "Found matches for WeightedAverageNumberDilutedSharesOutstandingAdjustment\n",
      "Found matches for EffectiveIncomeTaxRateContinuingOperations\n",
      "Found matches for InventoryFinishedGoodsNetOfReserves\n",
      "Found matches for ShareBasedCompensation\n",
      "Found matches for ProfessionalFees\n",
      "Found matches for DividendsCommonStockCash\n",
      "Found matches for IncomeLossFromEquityMethodInvestments\n",
      "Found matches for CashCashEquivalentsRestrictedCashAndRestrictedCashEquivalentsIncludingDisposalGroupAndDiscontinuedOperations\n",
      "Found matches for DeferredIncomeTaxLiabilitiesNet\n",
      "Found matches for DebtInstrumentCarryingAmount\n",
      "Found matches for Cash\n",
      "Found matches for EntityCommonStockSharesOutstanding\n",
      "Found matches for InterestPayableCurrent\n",
      "Found matches for ComprehensiveIncomeNetOfTaxAttributableToNoncontrollingInterest\n",
      "Found matches for FinanceLeaseInterestExpense\n",
      "Found matches for FinanceLeaseRightOfUseAsset\n",
      "Found matches for StockIssuedDuringPeriodValueShareBasedCompensation\n",
      "Found matches for FinanceLeaseLiabilityNoncurrent\n",
      "Found matches for FinanceLeaseRightOfUseAssetAmortization\n",
      "Found matches for FinanceLeaseLiabilityCurrent\n",
      "Found matches for AvailableForSaleDebtSecuritiesAmortizedCostBasis\n",
      "Found matches for DeferredTaxLiabilitiesNoncurrent\n",
      "Found matches for StockIssuedDuringPeriodValueStockOptionsExercised\n",
      "Found matches for DepreciationDepletionAndAmortization\n",
      "Found matches for InvestmentIncomeInterest\n",
      "Found matches for ContractWithCustomerLiability\n",
      "Found matches for Depreciation\n",
      "Found matches for DepreciationAndAmortization\n",
      "Found matches for AvailableForSaleSecuritiesDebtSecurities\n",
      "Found matches for CostOfRevenue\n",
      "Found matches for InterestIncomeExpenseNet\n",
      "Found matches for AccountsPayableAndAccruedLiabilitiesCurrent\n",
      "Found matches for OtherAssets\n",
      "Found matches for CommonStockDividendsPerShareDeclared\n",
      "Found matches for OtherComprehensiveIncomeLossNetOfTaxPortionAttributableToParent\n",
      "Found matches for OperatingLeasePayments\n",
      "Found matches for CostsAndExpenses\n",
      "Found matches for PrepaidExpenseCurrent\n",
      "Found matches for FinanceLeaseLiability\n",
      "Found matches for ComprehensiveIncomeNetOfTaxIncludingPortionAttributableToNoncontrollingInterest\n",
      "Found matches for OtherLiabilitiesCurrent\n",
      "Found matches for IncrementalCommonSharesAttributableToShareBasedPaymentArrangements\n",
      "Found matches for NetIncomeLossAttributableToNoncontrollingInterest\n",
      "Found matches for OtherComprehensiveIncomeLossForeignCurrencyTransactionAndTranslationAdjustmentNetOfTax\n",
      "Found matches for LongTermDebtCurrent\n",
      "Found matches for FiniteLivedIntangibleAssetsGross\n",
      "Found matches for ContractWithCustomerLiabilityCurrent\n",
      "Found matches for MinorityInterest\n",
      "Found matches for TreasuryStockShares\n",
      "Found matches for OtherAssetsCurrent\n",
      "Found matches for OtherAccruedLiabilitiesCurrent\n",
      "Found matches for NetIncomeLossAvailableToCommonStockholdersBasic\n",
      "Found matches for AntidilutiveSecuritiesExcludedFromComputationOfEarningsPerShareAmount\n",
      "Found matches for IncomeLossFromContinuingOperationsBeforeIncomeTaxesMinorityInterestAndIncomeLossFromEquityMethodInvestments\n",
      "Found matches for AmortizationOfIntangibleAssets\n",
      "Found matches for AllocatedShareBasedCompensationExpense\n",
      "Found matches for ResearchAndDevelopmentExpense\n",
      "Found matches for LongTermDebt\n",
      "Found matches for TreasuryStockValue\n",
      "Found matches for AllowanceForDoubtfulAccountsReceivableCurrent\n",
      "Found matches for LongTermDebtNoncurrent\n",
      "Found matches for OtherComprehensiveIncomeLossNetOfTax\n",
      "Found matches for CostOfGoodsAndServicesSold\n",
      "Found matches for PreferredStockValue\n",
      "Found matches for LeaseCost\n",
      "Found matches for EmployeeRelatedLiabilitiesCurrent\n",
      "Found matches for SellingGeneralAndAdministrativeExpense\n",
      "Found matches for FiniteLivedIntangibleAssetsNet\n",
      "Found matches for LesseeOperatingLeaseLiabilityPaymentsDue\n",
      "Found matches for FiniteLivedIntangibleAssetsAccumulatedAmortization\n",
      "Found matches for ProfitLoss\n",
      "Found matches for NonoperatingIncomeExpense\n",
      "Found matches for StockholdersEquityIncludingPortionAttributableToNoncontrollingInterest\n",
      "Found matches for WeightedAverageNumberOfShareOutstandingBasicAndDiluted\n",
      "Found matches for IntangibleAssetsNetExcludingGoodwill\n",
      "Found matches for PropertyPlantAndEquipmentGross\n",
      "Found matches for EarningsPerShareBasicAndDiluted\n",
      "Found matches for GrossProfit\n",
      "Found matches for PreferredStockSharesOutstanding\n",
      "Found matches for OperatingLeaseCost\n",
      "Found matches for RevenueFromContractWithCustomerExcludingAssessedTax\n",
      "Found matches for AdjustmentsToAdditionalPaidInCapitalSharebasedCompensationRequisiteServicePeriodRecognitionValue\n",
      "Found matches for AccruedLiabilitiesCurrent\n",
      "Found matches for OtherNonoperatingIncomeExpense\n",
      "Found matches for AdditionalPaidInCapitalCommonStock\n",
      "Found matches for Revenues\n",
      "Found matches for PrepaidExpenseAndOtherAssetsCurrent\n",
      "Found matches for PreferredStockSharesIssued\n",
      "Found matches for OtherLiabilitiesNoncurrent\n",
      "Found matches for InventoryNet\n",
      "Found matches for GeneralAndAdministrativeExpense\n",
      "Found matches for AccumulatedDepreciationDepletionAndAmortizationPropertyPlantAndEquipment\n",
      "Found matches for OperatingExpenses\n",
      "Found matches for IncomeLossFromContinuingOperationsBeforeIncomeTaxesExtraordinaryItemsNoncontrollingInterest\n",
      "Found matches for OperatingLeaseLiabilityNoncurrent\n",
      "Found matches for OperatingLeaseLiabilityCurrent\n",
      "Found matches for CashCashEquivalentsRestrictedCashAndRestrictedCashEquivalents\n",
      "Found matches for Goodwill\n",
      "Found matches for PreferredStockParOrStatedValuePerShare\n",
      "Found matches for AdditionalPaidInCapital\n",
      "Found matches for AccountsReceivableNetCurrent\n",
      "Found matches for OtherAssetsNoncurrent\n",
      "Found matches for EarningsPerShareDiluted\n",
      "Found matches for EarningsPerShareBasic\n",
      "Found matches for WeightedAverageNumberOfDilutedSharesOutstanding\n",
      "Found matches for InterestExpense\n",
      "Found matches for PreferredStockSharesAuthorized\n",
      "Found matches for WeightedAverageNumberOfSharesOutstandingBasic\n",
      "Found matches for ComprehensiveIncomeNetOfTax\n",
      "Found matches for AccountsPayableCurrent\n",
      "Found matches for OperatingLeaseLiability\n",
      "Found matches for OperatingLeaseRightOfUseAsset\n",
      "Found matches for AccumulatedOtherComprehensiveIncomeLossNetOfTax\n",
      "Found matches for IncomeTaxExpenseBenefit\n",
      "Found matches for OperatingIncomeLoss\n",
      "Found matches for CommonStockSharesOutstanding\n",
      "Found matches for CommonStockParOrStatedValuePerShare\n",
      "Found matches for AssetsCurrent\n",
      "Found matches for LiabilitiesCurrent\n",
      "Found matches for PropertyPlantAndEquipmentNet\n",
      "Found matches for CommonStockSharesIssued\n",
      "Found matches for CommonStockSharesAuthorized\n",
      "Found matches for CommonStockValue\n",
      "Found matches for Liabilities\n",
      "Found matches for CashAndCashEquivalentsAtCarryingValue\n",
      "Found matches for NetIncomeLoss\n",
      "Found matches for StockholdersEquity\n",
      "Found matches for RetainedEarningsAccumulatedDeficit\n",
      "Found matches for LiabilitiesAndStockholdersEquity\n",
      "Found matches for Assets\n"
     ]
    }
   ],
   "source": [
    "for i in common_tags.index:\n",
    "    matches = find_fuzzy_matches(i, less_common_tags)\n",
    "    tag_map[i] = matches"
   ]
  },
  {
   "cell_type": "markdown",
   "metadata": {},
   "source": [
    "We'll convert these dictionary tag maps to a data-frame to easily use SQL-style joins."
   ]
  },
  {
   "cell_type": "code",
   "execution_count": 351,
   "metadata": {},
   "outputs": [
    {
     "data": {
      "text/html": [
       "<div>\n",
       "<style scoped>\n",
       "    .dataframe tbody tr th:only-of-type {\n",
       "        vertical-align: middle;\n",
       "    }\n",
       "\n",
       "    .dataframe tbody tr th {\n",
       "        vertical-align: top;\n",
       "    }\n",
       "\n",
       "    .dataframe thead th {\n",
       "        text-align: right;\n",
       "    }\n",
       "</style>\n",
       "<table border=\"1\" class=\"dataframe\">\n",
       "  <thead>\n",
       "    <tr style=\"text-align: right;\">\n",
       "      <th></th>\n",
       "      <th>clean_tag_pt1</th>\n",
       "      <th>tag</th>\n",
       "    </tr>\n",
       "  </thead>\n",
       "  <tbody>\n",
       "  </tbody>\n",
       "</table>\n",
       "</div>"
      ],
      "text/plain": [
       "Empty DataFrame\n",
       "Columns: [clean_tag_pt1, tag]\n",
       "Index: []"
      ]
     },
     "execution_count": 351,
     "metadata": {},
     "output_type": "execute_result"
    }
   ],
   "source": [
    "tag_map_df = pd.DataFrame(columns = ['clean_tag_pt1', 'tag'])\n",
    "tag_map_df"
   ]
  },
  {
   "cell_type": "code",
   "execution_count": 372,
   "metadata": {},
   "outputs": [],
   "source": [
    "map_df_intermediate = pd.DataFrame(dict([(k,pd.Series(v)) for k,v in tag_map.items()]))\\\n",
    "            .melt()\\\n",
    "            .dropna()\\\n",
    "            .rename({'variable':'tag', 'value':'raw_tag'}, axis = 'columns')\\\n",
    "            .drop_duplicates('raw_tag', keep = False)"
   ]
  },
  {
   "cell_type": "code",
   "execution_count": 373,
   "metadata": {
    "scrolled": true
   },
   "outputs": [
    {
     "data": {
      "text/plain": [
       "(557, 2)"
      ]
     },
     "execution_count": 373,
     "metadata": {},
     "output_type": "execute_result"
    }
   ],
   "source": [
    "map_df_intermediate.shape"
   ]
  },
  {
   "cell_type": "markdown",
   "metadata": {},
   "source": [
    "Now, we will use the custom tag map that consolidates the `common tags`. This was created using accounting and financial statement handbook resources and also required human judgment."
   ]
  },
  {
   "cell_type": "code",
   "execution_count": 389,
   "metadata": {},
   "outputs": [],
   "source": [
    "map_df = map_df_intermediate.merge(custom_tag_map, on = ['tag'])\\\n",
    "    .drop('tag', axis = 'columns')\\\n",
    "    .rename({'raw_tag':'tag'}, axis = 'columns')"
   ]
  },
  {
   "cell_type": "code",
   "execution_count": 390,
   "metadata": {},
   "outputs": [
    {
     "data": {
      "text/html": [
       "<div>\n",
       "<style scoped>\n",
       "    .dataframe tbody tr th:only-of-type {\n",
       "        vertical-align: middle;\n",
       "    }\n",
       "\n",
       "    .dataframe tbody tr th {\n",
       "        vertical-align: top;\n",
       "    }\n",
       "\n",
       "    .dataframe thead th {\n",
       "        text-align: right;\n",
       "    }\n",
       "</style>\n",
       "<table border=\"1\" class=\"dataframe\">\n",
       "  <thead>\n",
       "    <tr style=\"text-align: right;\">\n",
       "      <th></th>\n",
       "      <th>tag</th>\n",
       "      <th>clean_tag</th>\n",
       "    </tr>\n",
       "  </thead>\n",
       "  <tbody>\n",
       "    <tr>\n",
       "      <th>0</th>\n",
       "      <td>OperatingLeaseExpenseNetOfSubleaseIncome</td>\n",
       "      <td>SubleaseIncome</td>\n",
       "    </tr>\n",
       "    <tr>\n",
       "      <th>1</th>\n",
       "      <td>RentExpenseClosedStoresNetOfSubleaseIncome</td>\n",
       "      <td>SubleaseIncome</td>\n",
       "    </tr>\n",
       "    <tr>\n",
       "      <th>2</th>\n",
       "      <td>LeaseIncome</td>\n",
       "      <td>SubleaseIncome</td>\n",
       "    </tr>\n",
       "    <tr>\n",
       "      <th>3</th>\n",
       "      <td>SbaIncome</td>\n",
       "      <td>SubleaseIncome</td>\n",
       "    </tr>\n",
       "    <tr>\n",
       "      <th>4</th>\n",
       "      <td>OperatingLeaseLeaseIncomeTenantReimbursements</td>\n",
       "      <td>SubleaseIncome</td>\n",
       "    </tr>\n",
       "  </tbody>\n",
       "</table>\n",
       "</div>"
      ],
      "text/plain": [
       "                                             tag       clean_tag\n",
       "0       OperatingLeaseExpenseNetOfSubleaseIncome  SubleaseIncome\n",
       "1     RentExpenseClosedStoresNetOfSubleaseIncome  SubleaseIncome\n",
       "2                                    LeaseIncome  SubleaseIncome\n",
       "3                                      SbaIncome  SubleaseIncome\n",
       "4  OperatingLeaseLeaseIncomeTenantReimbursements  SubleaseIncome"
      ]
     },
     "execution_count": 390,
     "metadata": {},
     "output_type": "execute_result"
    }
   ],
   "source": [
    "map_df.head()"
   ]
  },
  {
   "cell_type": "markdown",
   "metadata": {},
   "source": [
    "We've mapped the less common tags to their proper clean tag counterpart. Now, we will add on the clean tags of the `common tags` to the map as well."
   ]
  },
  {
   "cell_type": "code",
   "execution_count": 391,
   "metadata": {},
   "outputs": [],
   "source": [
    "common_tags_cleaned = pd.DataFrame(common_tags.index).merge(custom_tag_map, on = ['tag'])"
   ]
  },
  {
   "cell_type": "code",
   "execution_count": 394,
   "metadata": {},
   "outputs": [],
   "source": [
    "tag_map = pd.concat([map_df, common_tags_cleaned])"
   ]
  },
  {
   "cell_type": "markdown",
   "metadata": {},
   "source": [
    "Let's see the results of our cleaning:"
   ]
  },
  {
   "cell_type": "code",
   "execution_count": 397,
   "metadata": {},
   "outputs": [],
   "source": [
    "cleaned_sec = sec_data.merge(tag_map, on = ['tag'])\n",
    "clean_tag_view = cleaned_sec.groupby('clean_tag').nunique()['adsh'].sort_values()/len(cleaned_sec.adsh.unique())"
   ]
  },
  {
   "cell_type": "code",
   "execution_count": 398,
   "metadata": {},
   "outputs": [
    {
     "data": {
      "text/plain": [
       "count    89.000000\n",
       "mean      0.453132\n",
       "std       0.264031\n",
       "min       0.106357\n",
       "25%       0.219816\n",
       "50%       0.411398\n",
       "75%       0.627230\n",
       "max       0.986489\n",
       "Name: adsh, dtype: float64"
      ]
     },
     "execution_count": 398,
     "metadata": {},
     "output_type": "execute_result"
    }
   ],
   "source": [
    "clean_tag_view.describe()"
   ]
  },
  {
   "cell_type": "code",
   "execution_count": 399,
   "metadata": {},
   "outputs": [
    {
     "data": {
      "text/plain": [
       "<matplotlib.axes._subplots.AxesSubplot at 0x1d888d6a8d0>"
      ]
     },
     "execution_count": 399,
     "metadata": {},
     "output_type": "execute_result"
    },
    {
     "data": {
      "image/png": "[encoded data removed]",
      "text/plain": [
       "<Figure size 432x288 with 1 Axes>"
      ]
     },
     "metadata": {
      "needs_background": "light"
     },
     "output_type": "display_data"
    }
   ],
   "source": [
    "clean_tag_view.hist()"
   ]
  },
  {
   "cell_type": "markdown",
   "metadata": {},
   "source": [
    "Much better!"
   ]
  },
  {
   "cell_type": "markdown",
   "metadata": {},
   "source": [
    "So we see that our manual matching process has dramatically improved coverage among the common tags. Now, let's use fuzzywuzzy to classify less column tags as part of the common tags:"
   ]
  },
  {
   "cell_type": "code",
   "execution_count": 17,
   "metadata": {
    "scrolled": true
   },
   "outputs": [
    {
     "name": "stdout",
     "output_type": "stream",
     "text": [
      "Consolidated 78.11% of tags\n"
     ]
    }
   ],
   "source": [
    "print(\"Consolidated \",round((1-len(tag_map_df.clean_tag.unique())/len(tag_map_df.tag.unique()))*100,2),\"% of tags\", sep = \"\")"
   ]
  },
  {
   "cell_type": "markdown",
   "metadata": {},
   "source": [
    "## Save <a name=\"Save\"></a>\n",
    "Save tag map to build/clean"
   ]
  },
  {
   "cell_type": "code",
   "execution_count": 20,
   "metadata": {},
   "outputs": [],
   "source": [
    "# Save\n",
    "tag_map_df.to_csv(data_root+'02-build/clean/2019q3/tag_map.csv', index = False)"
   ]
  }
 ],
 "metadata": {
  "kernelspec": {
   "display_name": "Python 3",
   "language": "python",
   "name": "python3"
  },
  "language_info": {
   "codemirror_mode": {
    "name": "ipython",
    "version": 3
   },
   "file_extension": ".py",
   "mimetype": "text/x-python",
   "name": "python",
   "nbconvert_exporter": "python",
   "pygments_lexer": "ipython3",
   "version": "3.7.3"
  }
 },
 "nbformat": 4,
 "nbformat_minor": 4
}
