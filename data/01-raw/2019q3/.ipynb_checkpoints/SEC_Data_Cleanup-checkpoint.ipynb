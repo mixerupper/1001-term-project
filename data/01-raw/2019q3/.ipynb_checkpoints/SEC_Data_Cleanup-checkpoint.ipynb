{
 "cells": [
  {
   "cell_type": "code",
   "execution_count": 1,
   "metadata": {},
   "outputs": [],
   "source": [
    "import pandas as pd"
   ]
  },
  {
   "cell_type": "code",
   "execution_count": 42,
   "metadata": {},
   "outputs": [],
   "source": [
    "def clean_sec_data(num_data_name, sub_data_name):\n",
    "    num_data = pd.read_csv(num_data_name, '\\t')\n",
    "    sub_data = pd.read_csv(sub_data_name, '\\t')\n",
    "    \n",
    "    df_merge_column  = pd.merge(num_data[['adsh', 'tag', 'ddate', 'uom', 'value']], sub_data[['adsh','name', 'fp', 'filed']], on = 'adsh')\n",
    "    tag_filter = pd.DataFrame(df_merge_column.groupby('tag').count()['adsh'].sort_values(ascending = False))\n",
    "    wanted_tags =  list(tag_filter.index.values)[0:100]\n",
    "    df_merge_data_cleaned = df_merge_column[df_merge_column['tag'].isin(wanted_tags)]\n",
    "    df_merge_data_cleaned = df_merge_data_cleaned[['adsh', 'name', 'fp', 'filed', 'tag', 'ddate', 'uom', 'value']].sort_values('name')\n",
    "    \n",
    "    return df_merge_data_cleaned\n",
    "    "
   ]
  },
  {
   "cell_type": "code",
   "execution_count": 45,
   "metadata": {},
   "outputs": [],
   "source": [
    "merged_data = clean_sec_data('num.txt', 'sub.txt')"
   ]
  },
  {
   "cell_type": "code",
   "execution_count": 46,
   "metadata": {},
   "outputs": [],
   "source": [
    "merged_data.to_csv('2019q3mergeddata.csv')"
   ]
  },
  {
   "cell_type": "code",
   "execution_count": null,
   "metadata": {},
   "outputs": [],
   "source": []
  }
 ],
 "metadata": {
  "kernelspec": {
   "display_name": "Python 3",
   "language": "python",
   "name": "python3"
  },
  "language_info": {
   "codemirror_mode": {
    "name": "ipython",
    "version": 3
   },
   "file_extension": ".py",
   "mimetype": "text/x-python",
   "name": "python",
   "nbconvert_exporter": "python",
   "pygments_lexer": "ipython3",
   "version": "3.7.3"
  }
 },
 "nbformat": 4,
 "nbformat_minor": 4
}
